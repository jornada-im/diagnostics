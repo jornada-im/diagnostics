{
 "cells": [
  {
   "cell_type": "code",
   "execution_count": 2,
   "metadata": {},
   "outputs": [],
   "source": [
    "import requests\n",
    "import edi_pyagnostics as dia\n",
    "import pandas as pd\n",
    "import numpy as np"
   ]
  },
  {
   "cell_type": "markdown",
   "metadata": {},
   "source": [
    "## Test the API (get latest version of an NPP package)"
   ]
  },
  {
   "cell_type": "code",
   "execution_count": 3,
   "metadata": {},
   "outputs": [],
   "source": [
    "# Get the version number of the newest revision on EDI\n",
    "params = (\n",
    "    ('filter', 'newest'),\n",
    "#    ('environment', 'staging')\n",
    ")\n",
    "\n",
    "response = requests.get('https://pasta.lternet.edu/package/eml/knb-lter-jrn/210011004', params=params)"
   ]
  },
  {
   "cell_type": "code",
   "execution_count": 4,
   "metadata": {},
   "outputs": [
    {
     "data": {
      "text/plain": [
       "{'Server': 'nginx/1.14.0 (Ubuntu)', 'Date': 'Mon, 05 Oct 2020 19:23:13 GMT', 'Content-Type': 'text/plain', 'Content-Length': '2', 'Connection': 'keep-alive', 'Web-Service': 'DataPackageManager-1.0'}"
      ]
     },
     "execution_count": 4,
     "metadata": {},
     "output_type": "execute_result"
    }
   ],
   "source": [
    "response.headers"
   ]
  },
  {
   "cell_type": "code",
   "execution_count": 5,
   "metadata": {},
   "outputs": [
    {
     "name": "stdout",
     "output_type": "stream",
     "text": [
      "b'82'\n"
     ]
    },
    {
     "data": {
      "text/plain": [
       "'82'"
      ]
     },
     "execution_count": 5,
     "metadata": {},
     "output_type": "execute_result"
    }
   ],
   "source": [
    "print(response.content) #This gives server response in bytes - useful for binary data\n",
    "response.text # Server response as text (more useful for xml)"
   ]
  },
  {
   "cell_type": "markdown",
   "metadata": {},
   "source": [
    "## Get more recent changes"
   ]
  },
  {
   "cell_type": "code",
   "execution_count": 6,
   "metadata": {},
   "outputs": [],
   "source": [
    "#curl -i -X GET \"https://pasta.lternet.edu/package/changes/eml?fromDate=2017-02-01T12:00:00&toDate=2020-01-28&scope=knb-lter-jrn\"\n",
    "# This is the \"List recent changes\" call  https://pastaplus-core.readthedocs.io/en/latest/doc_tree/pasta_api/data_package_manager_api.html#list-recent-changes\n",
    "params = (\n",
    "    ('fromDate', '2020-05-02'),\n",
    "    #('toDate', '2020-05-01'),\n",
    "    ('scope', 'knb-lter-jrn'))#,\n",
    "#    ('environment', 'production'))\n",
    "\n",
    "response = requests.get('https://pasta.lternet.edu/package/changes/eml', params=params)"
   ]
  },
  {
   "cell_type": "code",
   "execution_count": 7,
   "metadata": {},
   "outputs": [
    {
     "data": {
      "text/plain": [
       "'<dataPackageChanges>\\n  <dataPackage>\\n    <packageId>knb-lter-jrn.210385003.12</packageId>\\n    <scope>knb-lter-jrn</scope>\\n    <identifier>210385003</identifier>\\n    <revision>12</revision>\\n    <principal>uid=JRN,o=EDI,dc=edirepository,dc=org</principal>\\n    <doi>doi:10.6073/pasta/d267dbfcacf70475ec1'"
      ]
     },
     "execution_count": 7,
     "metadata": {},
     "output_type": "execute_result"
    }
   ],
   "source": [
    "# Response = long XML string that can be parsed with elementtree, beautifulsoup, etc\n",
    "response.text[0:300] # now parse this with "
   ]
  },
  {
   "cell_type": "code",
   "execution_count": 8,
   "metadata": {},
   "outputs": [],
   "source": [
    "# Parse the xml into an \"ElementTree\" object called root\n",
    "import xml.etree.ElementTree as ET\n",
    "\n",
    "tree_1 = ET.parse('edi_requests/knb-lter-jrn_20190101-20191231.xml')\n",
    "root_1 = tree_1.getroot()\n",
    "\n",
    "tree_2 = ET.parse('edi_requests/knb-lter-jrn_20200101-20200501.xml')\n",
    "root_2 = tree_2.getroot()\n",
    "\n",
    "root = ET.fromstring(response.text)"
   ]
  },
  {
   "cell_type": "code",
   "execution_count": 9,
   "metadata": {},
   "outputs": [
    {
     "name": "stdout",
     "output_type": "stream",
     "text": [
      "815\n",
      "676\n"
     ]
    },
    {
     "data": {
      "text/plain": [
       "704"
      ]
     },
     "execution_count": 9,
     "metadata": {},
     "output_type": "execute_result"
    }
   ],
   "source": [
    "# Number of elements (EDI changes) in root\n",
    "print(len(root_1))\n",
    "print(len(root_2))\n",
    "len(root)"
   ]
  },
  {
   "cell_type": "code",
   "execution_count": 34,
   "metadata": {},
   "outputs": [
    {
     "name": "stdout",
     "output_type": "stream",
     "text": [
      "updateDataPackage\n",
      "updateDataPackage\n",
      "updateDataPackage\n",
      "updateDataPackage\n",
      "updateDataPackage\n"
     ]
    }
   ],
   "source": [
    "# You can iterate by tag (may depend on nesting)\n",
    "# first 5 \"serviceMethods\"\n",
    "i=0\n",
    "for sm in root.iter('serviceMethod'):\n",
    "    if i < 5: print(sm.text)\n",
    "    i=i+1"
   ]
  },
  {
   "cell_type": "code",
   "execution_count": 35,
   "metadata": {},
   "outputs": [
    {
     "name": "stdout",
     "output_type": "stream",
     "text": [
      "210385003\n",
      "210385007\n",
      "210338005\n",
      "210001003\n",
      "210548016\n"
     ]
    }
   ],
   "source": [
    "# First 5 package IDs\n",
    "i=0\n",
    "for ID in root.iter('identifier'):\n",
    "    if i < 5: print(ID.text)\n",
    "    i=i+1"
   ]
  },
  {
   "cell_type": "markdown",
   "metadata": {},
   "source": [
    "## Parse the data sent from EDI"
   ]
  },
  {
   "cell_type": "code",
   "execution_count": 38,
   "metadata": {},
   "outputs": [
    {
     "name": "stdout",
     "output_type": "stream",
     "text": [
      "2195\n",
      "                      date      pkgid             action\n",
      "0  2019-03-01T12:53:17.423  210437040  createDataPackage\n",
      "1  2019-04-02T14:07:37.967  210351003  createDataPackage\n",
      "2  2019-04-02T17:18:54.615  210351003  updateDataPackage\n",
      "3  2019-04-05T14:47:35.236  210328003  createDataPackage\n",
      "4  2019-04-08T14:03:09.964  210328003  updateDataPackage\n"
     ]
    },
    {
     "data": {
      "text/html": [
       "<div>\n",
       "<style scoped>\n",
       "    .dataframe tbody tr th:only-of-type {\n",
       "        vertical-align: middle;\n",
       "    }\n",
       "\n",
       "    .dataframe tbody tr th {\n",
       "        vertical-align: top;\n",
       "    }\n",
       "\n",
       "    .dataframe thead th {\n",
       "        text-align: right;\n",
       "    }\n",
       "</style>\n",
       "<table border=\"1\" class=\"dataframe\">\n",
       "  <thead>\n",
       "    <tr style=\"text-align: right;\">\n",
       "      <th></th>\n",
       "      <th>date</th>\n",
       "      <th>pkgid</th>\n",
       "      <th>action</th>\n",
       "    </tr>\n",
       "  </thead>\n",
       "  <tbody>\n",
       "    <tr>\n",
       "      <th>699</th>\n",
       "      <td>2020-09-09T13:20:55.369</td>\n",
       "      <td>210548058</td>\n",
       "      <td>updateDataPackage</td>\n",
       "    </tr>\n",
       "    <tr>\n",
       "      <th>700</th>\n",
       "      <td>2020-09-09T13:21:06.411</td>\n",
       "      <td>210548101</td>\n",
       "      <td>updateDataPackage</td>\n",
       "    </tr>\n",
       "    <tr>\n",
       "      <th>701</th>\n",
       "      <td>2020-09-09T13:21:15.491</td>\n",
       "      <td>210548073</td>\n",
       "      <td>updateDataPackage</td>\n",
       "    </tr>\n",
       "    <tr>\n",
       "      <th>702</th>\n",
       "      <td>2020-09-09T15:03:17.738</td>\n",
       "      <td>210548073</td>\n",
       "      <td>updateDataPackage</td>\n",
       "    </tr>\n",
       "    <tr>\n",
       "      <th>703</th>\n",
       "      <td>2020-10-01T08:46:41.775</td>\n",
       "      <td>210409002</td>\n",
       "      <td>updateDataPackage</td>\n",
       "    </tr>\n",
       "  </tbody>\n",
       "</table>\n",
       "</div>"
      ],
      "text/plain": [
       "                        date      pkgid             action\n",
       "699  2020-09-09T13:20:55.369  210548058  updateDataPackage\n",
       "700  2020-09-09T13:21:06.411  210548101  updateDataPackage\n",
       "701  2020-09-09T13:21:15.491  210548073  updateDataPackage\n",
       "702  2020-09-09T15:03:17.738  210548073  updateDataPackage\n",
       "703  2020-10-01T08:46:41.775  210409002  updateDataPackage"
      ]
     },
     "execution_count": 38,
     "metadata": {},
     "output_type": "execute_result"
    }
   ],
   "source": [
    "# Create a dataframe from the entire record in root\n",
    "df_1 = pd.DataFrame({'date':[date.text for date in root_1.iter('date')],\n",
    "                   'pkgid':[int(ID.text) for ID in root_1.iter('identifier')],\n",
    "                   'action':[sm.text for sm in root_1.iter('serviceMethod')]}\n",
    "                   )\n",
    "df_2 = pd.DataFrame({'date':[date.text for date in root_2.iter('date')],\n",
    "                   'pkgid':[int(ID.text) for ID in root_2.iter('identifier')],\n",
    "                   'action':[sm.text for sm in root_2.iter('serviceMethod')]}\n",
    "                   )\n",
    "\n",
    "\n",
    "df_old = pd.concat([df_1, df_2])\n",
    "\n",
    "# Create a dataframe from the entire record in root\n",
    "df = pd.DataFrame({'date':[date.text for date in root.iter('date')],\n",
    "                   'pkgid':[int(ID.text) for ID in root.iter('identifier')],\n",
    "                   'action':[sm.text for sm in root.iter('serviceMethod')]}\n",
    "                   )\n",
    "df = pd.concat([df_old,df])\n",
    "\n",
    "print(len(df))\n",
    "\n",
    "print(df_1.head())\n",
    "\n",
    "df.tail()"
   ]
  },
  {
   "cell_type": "code",
   "execution_count": 39,
   "metadata": {},
   "outputs": [
    {
     "data": {
      "text/plain": [
       "(2195, 3)"
      ]
     },
     "execution_count": 39,
     "metadata": {},
     "output_type": "execute_result"
    }
   ],
   "source": [
    "df.shape"
   ]
  },
  {
   "cell_type": "code",
   "execution_count": 40,
   "metadata": {},
   "outputs": [],
   "source": [
    "# Make the index the date\n",
    "df.index = pd.to_datetime(df['date'])#, format='%Y-%b-%dT%H:%M:%S.%f')"
   ]
  },
  {
   "cell_type": "code",
   "execution_count": 41,
   "metadata": {},
   "outputs": [],
   "source": [
    "# Add columns - number of updates and creates, + extracted study id\n",
    "df['n_update'] = 0\n",
    "df['n_create'] = 0\n",
    "df['n_delete'] = 0\n",
    "df['n_tot'] = 0\n",
    "df['studyid'] = df.pkgid.astype(str).str[-6:-3] #convert to str, studyid excludes mistaken 0"
   ]
  },
  {
   "cell_type": "code",
   "execution_count": 42,
   "metadata": {},
   "outputs": [
    {
     "data": {
      "text/html": [
       "<div>\n",
       "<style scoped>\n",
       "    .dataframe tbody tr th:only-of-type {\n",
       "        vertical-align: middle;\n",
       "    }\n",
       "\n",
       "    .dataframe tbody tr th {\n",
       "        vertical-align: top;\n",
       "    }\n",
       "\n",
       "    .dataframe thead th {\n",
       "        text-align: right;\n",
       "    }\n",
       "</style>\n",
       "<table border=\"1\" class=\"dataframe\">\n",
       "  <thead>\n",
       "    <tr style=\"text-align: right;\">\n",
       "      <th></th>\n",
       "      <th>date</th>\n",
       "      <th>pkgid</th>\n",
       "      <th>action</th>\n",
       "      <th>n_update</th>\n",
       "      <th>n_create</th>\n",
       "      <th>n_delete</th>\n",
       "      <th>n_tot</th>\n",
       "      <th>studyid</th>\n",
       "    </tr>\n",
       "    <tr>\n",
       "      <th>date</th>\n",
       "      <th></th>\n",
       "      <th></th>\n",
       "      <th></th>\n",
       "      <th></th>\n",
       "      <th></th>\n",
       "      <th></th>\n",
       "      <th></th>\n",
       "      <th></th>\n",
       "    </tr>\n",
       "  </thead>\n",
       "  <tbody>\n",
       "    <tr>\n",
       "      <th>2019-03-01 12:53:17.423</th>\n",
       "      <td>2019-03-01T12:53:17.423</td>\n",
       "      <td>210437040</td>\n",
       "      <td>createDataPackage</td>\n",
       "      <td>0</td>\n",
       "      <td>1</td>\n",
       "      <td>0</td>\n",
       "      <td>1</td>\n",
       "      <td>437</td>\n",
       "    </tr>\n",
       "    <tr>\n",
       "      <th>2019-04-02 14:07:37.967</th>\n",
       "      <td>2019-04-02T14:07:37.967</td>\n",
       "      <td>210351003</td>\n",
       "      <td>createDataPackage</td>\n",
       "      <td>0</td>\n",
       "      <td>1</td>\n",
       "      <td>0</td>\n",
       "      <td>1</td>\n",
       "      <td>351</td>\n",
       "    </tr>\n",
       "    <tr>\n",
       "      <th>2019-04-02 17:18:54.615</th>\n",
       "      <td>2019-04-02T17:18:54.615</td>\n",
       "      <td>210351003</td>\n",
       "      <td>updateDataPackage</td>\n",
       "      <td>1</td>\n",
       "      <td>0</td>\n",
       "      <td>0</td>\n",
       "      <td>0</td>\n",
       "      <td>351</td>\n",
       "    </tr>\n",
       "    <tr>\n",
       "      <th>2019-04-05 14:47:35.236</th>\n",
       "      <td>2019-04-05T14:47:35.236</td>\n",
       "      <td>210328003</td>\n",
       "      <td>createDataPackage</td>\n",
       "      <td>0</td>\n",
       "      <td>1</td>\n",
       "      <td>0</td>\n",
       "      <td>1</td>\n",
       "      <td>328</td>\n",
       "    </tr>\n",
       "    <tr>\n",
       "      <th>2019-04-08 14:03:09.964</th>\n",
       "      <td>2019-04-08T14:03:09.964</td>\n",
       "      <td>210328003</td>\n",
       "      <td>updateDataPackage</td>\n",
       "      <td>1</td>\n",
       "      <td>0</td>\n",
       "      <td>0</td>\n",
       "      <td>0</td>\n",
       "      <td>328</td>\n",
       "    </tr>\n",
       "  </tbody>\n",
       "</table>\n",
       "</div>"
      ],
      "text/plain": [
       "                                            date      pkgid  \\\n",
       "date                                                          \n",
       "2019-03-01 12:53:17.423  2019-03-01T12:53:17.423  210437040   \n",
       "2019-04-02 14:07:37.967  2019-04-02T14:07:37.967  210351003   \n",
       "2019-04-02 17:18:54.615  2019-04-02T17:18:54.615  210351003   \n",
       "2019-04-05 14:47:35.236  2019-04-05T14:47:35.236  210328003   \n",
       "2019-04-08 14:03:09.964  2019-04-08T14:03:09.964  210328003   \n",
       "\n",
       "                                    action  n_update  n_create  n_delete  \\\n",
       "date                                                                       \n",
       "2019-03-01 12:53:17.423  createDataPackage         0         1         0   \n",
       "2019-04-02 14:07:37.967  createDataPackage         0         1         0   \n",
       "2019-04-02 17:18:54.615  updateDataPackage         1         0         0   \n",
       "2019-04-05 14:47:35.236  createDataPackage         0         1         0   \n",
       "2019-04-08 14:03:09.964  updateDataPackage         1         0         0   \n",
       "\n",
       "                         n_tot studyid  \n",
       "date                                    \n",
       "2019-03-01 12:53:17.423      1     437  \n",
       "2019-04-02 14:07:37.967      1     351  \n",
       "2019-04-02 17:18:54.615      0     351  \n",
       "2019-04-05 14:47:35.236      1     328  \n",
       "2019-04-08 14:03:09.964      0     328  "
      ]
     },
     "execution_count": 42,
     "metadata": {},
     "output_type": "execute_result"
    }
   ],
   "source": [
    "# Fill in number of updates or create for each record\n",
    "df.loc[df.action=='updateDataPackage','n_update'] = 1\n",
    "df.loc[df.action=='createDataPackage','n_create'] = 1\n",
    "df.loc[df.action=='deleteDataPackage','n_delete'] = 1\n",
    "# for totals, create = +1, delete = -1\n",
    "df.loc[df.action=='createDataPackage','n_tot'] = 1\n",
    "df.loc[df.action=='deleteDataPackage','n_tot'] = -1\n",
    "df.head()"
   ]
  },
  {
   "cell_type": "code",
   "execution_count": 43,
   "metadata": {},
   "outputs": [
    {
     "name": "stdout",
     "output_type": "stream",
     "text": [
      "(2195, 8)\n"
     ]
    },
    {
     "data": {
      "text/plain": [
       "date\n",
       "2019-06-04 11:54:10.258     21038001\n",
       "2019-09-12 09:34:13.603    210860002\n",
       "Name: pkgid, dtype: int64"
      ]
     },
     "execution_count": 43,
     "metadata": {},
     "output_type": "execute_result"
    }
   ],
   "source": [
    "# There are duplicate deletions (9 at last count)\n",
    "df_dd = df.drop_duplicates()\n",
    "n_dupdeletes = df.shape[0] - df_dd.shape[0]\n",
    "df = df_dd\n",
    "# Count deleted packages\n",
    "deleted_pkgs = df.loc[df.action=='deleteDataPackage','pkgid']\n",
    "print(df.shape)\n",
    "deleted_pkgs"
   ]
  },
  {
   "cell_type": "markdown",
   "metadata": {},
   "source": [
    "## Create daily data file"
   ]
  },
  {
   "cell_type": "code",
   "execution_count": 44,
   "metadata": {},
   "outputs": [],
   "source": [
    "startdt = \"2019-11-01\"\n",
    "\n",
    "dfs = df.loc[df.index > startdt,['n_update', 'n_create', 'n_tot']].resample('D').sum()"
   ]
  },
  {
   "cell_type": "markdown",
   "metadata": {},
   "source": [
    "## Plot activity since last report (2019-10-31)\n"
   ]
  },
  {
   "cell_type": "code",
   "execution_count": 45,
   "metadata": {},
   "outputs": [],
   "source": [
    "import matplotlib\n",
    "import matplotlib.pyplot as plt\n",
    "# Figure config\n",
    "font = {'family' : 'normal',\n",
    "        'weight' : 'normal',\n",
    "        'size'   : 14}\n",
    "\n",
    "matplotlib.rc('font', **font)"
   ]
  },
  {
   "cell_type": "code",
   "execution_count": 46,
   "metadata": {},
   "outputs": [],
   "source": [
    "# Get a datestamp for saving figures\n",
    "import datetime\n",
    "now = datetime.datetime.now().strftime(\"%Y%m%d\")"
   ]
  },
  {
   "cell_type": "code",
   "execution_count": 47,
   "metadata": {},
   "outputs": [
    {
     "data": {
      "image/png": "[encoded data removed]",
      "text/plain": [
       "<Figure size 504x504 with 2 Axes>"
      ]
     },
     "metadata": {
      "needs_background": "light"
     },
     "output_type": "display_data"
    }
   ],
   "source": [
    "# All time plot:\n",
    "fig, ax = plt.subplots(nrows=2, ncols=1, figsize=(7, 7), sharex=True)\n",
    "\n",
    "ax[0].plot(dfs.index, dfs.n_update, label='Update pkg')\n",
    "ax[0].plot(dfs.index, dfs.n_create, label='Create pkg')\n",
    "ax[0].set_ylabel('JRN events')\n",
    "\n",
    "ax[1].plot(dfs.index, dfs.n_update.cumsum(), label='Update pkg')\n",
    "ax[1].plot(dfs.index, dfs.n_create.cumsum(), label='Create pkg')\n",
    "ax[1].plot(dfs.index, dfs.n_tot.cumsum(), label='Total')\n",
    "\n",
    "plt.ylabel('JRN Cumulative')\n",
    "fig.autofmt_xdate()\n",
    "plt.suptitle('JRN activity on EDI (2020 ann rpt)')\n",
    "plt.legend()\n",
    "\n",
    "import os\n",
    "fig.savefig(os.path.expanduser(\"/Users/gmaurer/GD_gmaurer.jrn.lter/IM/figures/JRN_EDI_annual_{0}.png\".format(now)),\n",
    "            dpi=150)"
   ]
  },
  {
   "cell_type": "markdown",
   "metadata": {},
   "source": [
    "### Total number of packages"
   ]
  },
  {
   "cell_type": "code",
   "execution_count": 50,
   "metadata": {},
   "outputs": [
    {
     "data": {
      "text/plain": [
       "120"
      ]
     },
     "execution_count": 50,
     "metadata": {},
     "output_type": "execute_result"
    }
   ],
   "source": [
    "dfs.n_create.sum()"
   ]
  },
  {
   "cell_type": "code",
   "execution_count": 49,
   "metadata": {},
   "outputs": [
    {
     "data": {
      "text/plain": [
       "1485"
      ]
     },
     "execution_count": 49,
     "metadata": {},
     "output_type": "execute_result"
    }
   ],
   "source": [
    "dfs.n_update.sum()"
   ]
  },
  {
   "cell_type": "markdown",
   "metadata": {},
   "source": [
    "## Plot activity since last report (excluding Met)"
   ]
  },
  {
   "cell_type": "code",
   "execution_count": 23,
   "metadata": {},
   "outputs": [
    {
     "data": {
      "text/html": [
       "<div>\n",
       "<style scoped>\n",
       "    .dataframe tbody tr th:only-of-type {\n",
       "        vertical-align: middle;\n",
       "    }\n",
       "\n",
       "    .dataframe tbody tr th {\n",
       "        vertical-align: top;\n",
       "    }\n",
       "\n",
       "    .dataframe thead th {\n",
       "        text-align: right;\n",
       "    }\n",
       "</style>\n",
       "<table border=\"1\" class=\"dataframe\">\n",
       "  <thead>\n",
       "    <tr style=\"text-align: right;\">\n",
       "      <th></th>\n",
       "      <th>n_update</th>\n",
       "      <th>n_create</th>\n",
       "      <th>n_tot</th>\n",
       "    </tr>\n",
       "    <tr>\n",
       "      <th>date</th>\n",
       "      <th></th>\n",
       "      <th></th>\n",
       "      <th></th>\n",
       "    </tr>\n",
       "  </thead>\n",
       "  <tbody>\n",
       "    <tr>\n",
       "      <th>2019-11-07</th>\n",
       "      <td>1</td>\n",
       "      <td>0</td>\n",
       "      <td>0</td>\n",
       "    </tr>\n",
       "    <tr>\n",
       "      <th>2019-11-08</th>\n",
       "      <td>2</td>\n",
       "      <td>0</td>\n",
       "      <td>0</td>\n",
       "    </tr>\n",
       "    <tr>\n",
       "      <th>2019-11-09</th>\n",
       "      <td>0</td>\n",
       "      <td>0</td>\n",
       "      <td>0</td>\n",
       "    </tr>\n",
       "    <tr>\n",
       "      <th>2019-11-10</th>\n",
       "      <td>0</td>\n",
       "      <td>0</td>\n",
       "      <td>0</td>\n",
       "    </tr>\n",
       "    <tr>\n",
       "      <th>2019-11-11</th>\n",
       "      <td>0</td>\n",
       "      <td>0</td>\n",
       "      <td>0</td>\n",
       "    </tr>\n",
       "  </tbody>\n",
       "</table>\n",
       "</div>"
      ],
      "text/plain": [
       "            n_update  n_create  n_tot\n",
       "date                                 \n",
       "2019-11-07         1         0      0\n",
       "2019-11-08         2         0      0\n",
       "2019-11-09         0         0      0\n",
       "2019-11-10         0         0      0\n",
       "2019-11-11         0         0      0"
      ]
     },
     "execution_count": 23,
     "metadata": {},
     "output_type": "execute_result"
    }
   ],
   "source": [
    "nomet = np.logical_and(df.studyid!='437', df.studyid!='548')\n",
    "dfs_nomet = df.loc[np.logical_and(nomet, df.index > startdt),\n",
    "                         ['n_update', 'n_create', 'n_tot']].resample('D').sum()\n",
    "dfs_nomet.head()"
   ]
  },
  {
   "cell_type": "code",
   "execution_count": 24,
   "metadata": {},
   "outputs": [
    {
     "data": {
      "image/png": "[encoded data removed]",
      "text/plain": [
       "<Figure size 504x504 with 2 Axes>"
      ]
     },
     "metadata": {
      "needs_background": "light"
     },
     "output_type": "display_data"
    }
   ],
   "source": [
    "# Recent plot:\n",
    "fig, ax = plt.subplots(nrows=2, ncols=1, figsize=(7, 7), sharex=True)\n",
    "\n",
    "ax[0].plot(dfs_nomet.index, dfs_nomet.n_update, label='Update pkg')\n",
    "ax[0].plot(dfs_nomet.index, dfs_nomet.n_create, label='Create pkg')\n",
    "ax[0].set_ylabel('JRN events')\n",
    "\n",
    "ax[1].plot(dfs_nomet.index, dfs_nomet.n_update.cumsum(), label='Update pkg')\n",
    "ax[1].plot(dfs_nomet.index, dfs_nomet.n_create.cumsum(), label='Create pkg')\n",
    "ax[1].plot(dfs_nomet.index, dfs_nomet.n_tot.cumsum(), label='$\\Delta$ Total')\n",
    "ax[1].axhline(y=63, xmin=0, xmax=1, ls=':', lw=1.5, color='k',\n",
    "             label='Proposal goal')\n",
    "\n",
    "plt.ylabel('JRN Cumulative')\n",
    "fig.autofmt_xdate()\n",
    "plt.suptitle('JRN activity on EDI (recent, excl. met)')\n",
    "plt.legend()\n",
    "\n",
    "fig.savefig(os.path.expanduser(\n",
    "    \"/Users/gmaurer/GD_gmaurer.jrn.lter/IM/figures/JRN_EDI_AnnNoMet_{0}.png\".format(now)),\n",
    "            dpi=150)"
   ]
  },
  {
   "cell_type": "markdown",
   "metadata": {},
   "source": [
    "## Summary since last Annual Report"
   ]
  },
  {
   "cell_type": "code",
   "execution_count": 50,
   "metadata": {},
   "outputs": [
    {
     "name": "stdout",
     "output_type": "stream",
     "text": [
      "1439\n",
      "[210437031 210437016 210437046 210437061 210437001 210437091 210437076\n",
      " 210437032 210437017 210437047 210437062 210437002 210437092 210437077\n",
      " 210437033 210437018 210437048 210437063 210437003 210437093 210437078\n",
      " 210437034 210437019 210437049 210437064 210437004 210437094 210437079\n",
      " 210437106 210437035 210437020 210437050 210437065 210437005 210437095\n",
      " 210437080 210437036 210437021 210437051 210437066 210437006 210437096\n",
      " 210437081 210437037 210437022 210437052 210437067 210437007 210437097\n",
      " 210437082 210437038 210437023 210437053 210437068 210437008 210437098\n",
      " 210437083 210437039 210437024 210437054 210437069 210437009 210437099\n",
      " 210437084 210437040 210437025 210437055 210437070 210437010 210437100\n",
      " 210437085 210437041 210437011 210437026 210437056 210437071 210437086\n",
      " 210437101 210437042 210437027 210437057 210437072 210437012 210437087\n",
      " 210437102 210437043 210437028 210437058 210437073 210437013 210437103\n",
      " 210437088 210437044 210437029 210437059 210437074 210437014 210437104\n",
      " 210437089 210437045 210437030 210437060 210437075 210437015 210437105\n",
      " 210437090 210412001 210012001 210012002 210010001 210086002 210086001\n",
      " 210122001 210380001 210328001 210328002 210328003 210308001 210308002\n",
      " 210308003 210308005 210126003 210262001 210262004 210262005 210128001\n",
      " 210128002 210262008 210392001 210379001 210379002 210379003 210287001\n",
      " 210278002 210278001 210338006 210338004 210338002 210351002 210351001\n",
      " 210011003 210425001 210262010 210365001 210548016 210548031 210548076\n",
      " 210548046 210548025 210548061 210548001 210548040 210548085 210548055\n",
      " 210548099 210548026 210548070 210548010 210548041 210548086 210548056\n",
      " 210548100 210548027 210548071 210548011 210548042 210548087 210548057\n",
      " 210548028 210548072 210548012 210548043 210548088 210548058 210548101\n",
      " 210548029 210548073 210548013 210548044 210548089 210548059 210548102\n",
      " 210548030 210548074 210548014 210548045 210548090 210548060 210548103\n",
      " 210548017 210548015 210548075 210548032 210548077 210548047 210548091\n",
      " 210548018 210548062 210548002 210548033 210548078 210548048 210548092\n",
      " 210548019 210548063 210548003 210548034 210548079 210548049 210548093\n",
      " 210548004 210548020 210548064 210548035 210548080 210548050 210548094\n",
      " 210548021 210548005 210548065 210548036 210548081 210548051 210548095\n",
      " 210548022 210548066 210548006 210548037 210548082 210548052 210548096\n",
      " 210548023 210548067 210548007 210548038 210548083 210548053 210548097\n",
      " 210548024 210548068 210548008 210548039 210548084 210548054 210548098\n",
      " 210548069 210548009 210385001 210385004 210351003 210385005 210385006\n",
      " 210385008 210385002 210385003 210385007 210338005 210001003       100\n",
      " 210001001 210437107 210437108 210437109 210437110 210437111 210437112\n",
      " 210437113 210437114 210437115 210437116 210437117 210437118 210437119]\n"
     ]
    },
    {
     "data": {
      "text/plain": [
       "273"
      ]
     },
     "execution_count": 50,
     "metadata": {},
     "output_type": "execute_result"
    }
   ],
   "source": [
    "# Unique packages updated (excluding met)\n",
    "rEDI = df.loc[df.index > startdt,]\n",
    "rEDI_nomet = np.logical_and(rEDI.studyid!='437', rEDI.studyid!='548')\n",
    "print(len(rEDI.loc[rEDI.action=='updateDataPackage',]))\n",
    "uniqueUp = rEDI.loc[rEDI.action=='updateDataPackage',].pkgid.unique()\n",
    "#rEDI.loc[rEDI.action=='updateDataPackage',].pkgid.unique()\n",
    "print(uniqueUp)\n",
    "len(uniqueUp)"
   ]
  },
  {
   "cell_type": "code",
   "execution_count": 55,
   "metadata": {},
   "outputs": [
    {
     "data": {
      "text/plain": [
       "['https://portal.edirepository.org/nis/mapbrowse?scope=knb-lter-jrn&identifier=210437031',\n",
       " 'https://portal.edirepository.org/nis/mapbrowse?scope=knb-lter-jrn&identifier=210437016',\n",
       " 'https://portal.edirepository.org/nis/mapbrowse?scope=knb-lter-jrn&identifier=210437046',\n",
       " 'https://portal.edirepository.org/nis/mapbrowse?scope=knb-lter-jrn&identifier=210437061',\n",
       " 'https://portal.edirepository.org/nis/mapbrowse?scope=knb-lter-jrn&identifier=210437001',\n",
       " 'https://portal.edirepository.org/nis/mapbrowse?scope=knb-lter-jrn&identifier=210437091',\n",
       " 'https://portal.edirepository.org/nis/mapbrowse?scope=knb-lter-jrn&identifier=210437076',\n",
       " 'https://portal.edirepository.org/nis/mapbrowse?scope=knb-lter-jrn&identifier=210437032',\n",
       " 'https://portal.edirepository.org/nis/mapbrowse?scope=knb-lter-jrn&identifier=210437017',\n",
       " 'https://portal.edirepository.org/nis/mapbrowse?scope=knb-lter-jrn&identifier=210437047',\n",
       " 'https://portal.edirepository.org/nis/mapbrowse?scope=knb-lter-jrn&identifier=210437062',\n",
       " 'https://portal.edirepository.org/nis/mapbrowse?scope=knb-lter-jrn&identifier=210437002',\n",
       " 'https://portal.edirepository.org/nis/mapbrowse?scope=knb-lter-jrn&identifier=210437092',\n",
       " 'https://portal.edirepository.org/nis/mapbrowse?scope=knb-lter-jrn&identifier=210437077',\n",
       " 'https://portal.edirepository.org/nis/mapbrowse?scope=knb-lter-jrn&identifier=210437033',\n",
       " 'https://portal.edirepository.org/nis/mapbrowse?scope=knb-lter-jrn&identifier=210437018',\n",
       " 'https://portal.edirepository.org/nis/mapbrowse?scope=knb-lter-jrn&identifier=210437048',\n",
       " 'https://portal.edirepository.org/nis/mapbrowse?scope=knb-lter-jrn&identifier=210437063',\n",
       " 'https://portal.edirepository.org/nis/mapbrowse?scope=knb-lter-jrn&identifier=210437003',\n",
       " 'https://portal.edirepository.org/nis/mapbrowse?scope=knb-lter-jrn&identifier=210437093',\n",
       " 'https://portal.edirepository.org/nis/mapbrowse?scope=knb-lter-jrn&identifier=210437078',\n",
       " 'https://portal.edirepository.org/nis/mapbrowse?scope=knb-lter-jrn&identifier=210437034',\n",
       " 'https://portal.edirepository.org/nis/mapbrowse?scope=knb-lter-jrn&identifier=210437019',\n",
       " 'https://portal.edirepository.org/nis/mapbrowse?scope=knb-lter-jrn&identifier=210437049',\n",
       " 'https://portal.edirepository.org/nis/mapbrowse?scope=knb-lter-jrn&identifier=210437064',\n",
       " 'https://portal.edirepository.org/nis/mapbrowse?scope=knb-lter-jrn&identifier=210437004',\n",
       " 'https://portal.edirepository.org/nis/mapbrowse?scope=knb-lter-jrn&identifier=210437094',\n",
       " 'https://portal.edirepository.org/nis/mapbrowse?scope=knb-lter-jrn&identifier=210437079',\n",
       " 'https://portal.edirepository.org/nis/mapbrowse?scope=knb-lter-jrn&identifier=210437106',\n",
       " 'https://portal.edirepository.org/nis/mapbrowse?scope=knb-lter-jrn&identifier=210437035',\n",
       " 'https://portal.edirepository.org/nis/mapbrowse?scope=knb-lter-jrn&identifier=210437020',\n",
       " 'https://portal.edirepository.org/nis/mapbrowse?scope=knb-lter-jrn&identifier=210437050',\n",
       " 'https://portal.edirepository.org/nis/mapbrowse?scope=knb-lter-jrn&identifier=210437065',\n",
       " 'https://portal.edirepository.org/nis/mapbrowse?scope=knb-lter-jrn&identifier=210437005',\n",
       " 'https://portal.edirepository.org/nis/mapbrowse?scope=knb-lter-jrn&identifier=210437095',\n",
       " 'https://portal.edirepository.org/nis/mapbrowse?scope=knb-lter-jrn&identifier=210437080',\n",
       " 'https://portal.edirepository.org/nis/mapbrowse?scope=knb-lter-jrn&identifier=210437036',\n",
       " 'https://portal.edirepository.org/nis/mapbrowse?scope=knb-lter-jrn&identifier=210437021',\n",
       " 'https://portal.edirepository.org/nis/mapbrowse?scope=knb-lter-jrn&identifier=210437051',\n",
       " 'https://portal.edirepository.org/nis/mapbrowse?scope=knb-lter-jrn&identifier=210437066',\n",
       " 'https://portal.edirepository.org/nis/mapbrowse?scope=knb-lter-jrn&identifier=210437006',\n",
       " 'https://portal.edirepository.org/nis/mapbrowse?scope=knb-lter-jrn&identifier=210437096',\n",
       " 'https://portal.edirepository.org/nis/mapbrowse?scope=knb-lter-jrn&identifier=210437081',\n",
       " 'https://portal.edirepository.org/nis/mapbrowse?scope=knb-lter-jrn&identifier=210437037',\n",
       " 'https://portal.edirepository.org/nis/mapbrowse?scope=knb-lter-jrn&identifier=210437022',\n",
       " 'https://portal.edirepository.org/nis/mapbrowse?scope=knb-lter-jrn&identifier=210437052',\n",
       " 'https://portal.edirepository.org/nis/mapbrowse?scope=knb-lter-jrn&identifier=210437067',\n",
       " 'https://portal.edirepository.org/nis/mapbrowse?scope=knb-lter-jrn&identifier=210437007',\n",
       " 'https://portal.edirepository.org/nis/mapbrowse?scope=knb-lter-jrn&identifier=210437097',\n",
       " 'https://portal.edirepository.org/nis/mapbrowse?scope=knb-lter-jrn&identifier=210437082',\n",
       " 'https://portal.edirepository.org/nis/mapbrowse?scope=knb-lter-jrn&identifier=210437038',\n",
       " 'https://portal.edirepository.org/nis/mapbrowse?scope=knb-lter-jrn&identifier=210437023',\n",
       " 'https://portal.edirepository.org/nis/mapbrowse?scope=knb-lter-jrn&identifier=210437053',\n",
       " 'https://portal.edirepository.org/nis/mapbrowse?scope=knb-lter-jrn&identifier=210437068',\n",
       " 'https://portal.edirepository.org/nis/mapbrowse?scope=knb-lter-jrn&identifier=210437008',\n",
       " 'https://portal.edirepository.org/nis/mapbrowse?scope=knb-lter-jrn&identifier=210437098',\n",
       " 'https://portal.edirepository.org/nis/mapbrowse?scope=knb-lter-jrn&identifier=210437083',\n",
       " 'https://portal.edirepository.org/nis/mapbrowse?scope=knb-lter-jrn&identifier=210437039',\n",
       " 'https://portal.edirepository.org/nis/mapbrowse?scope=knb-lter-jrn&identifier=210437024',\n",
       " 'https://portal.edirepository.org/nis/mapbrowse?scope=knb-lter-jrn&identifier=210437054',\n",
       " 'https://portal.edirepository.org/nis/mapbrowse?scope=knb-lter-jrn&identifier=210437069',\n",
       " 'https://portal.edirepository.org/nis/mapbrowse?scope=knb-lter-jrn&identifier=210437009',\n",
       " 'https://portal.edirepository.org/nis/mapbrowse?scope=knb-lter-jrn&identifier=210437099',\n",
       " 'https://portal.edirepository.org/nis/mapbrowse?scope=knb-lter-jrn&identifier=210437084',\n",
       " 'https://portal.edirepository.org/nis/mapbrowse?scope=knb-lter-jrn&identifier=210437040',\n",
       " 'https://portal.edirepository.org/nis/mapbrowse?scope=knb-lter-jrn&identifier=210437025',\n",
       " 'https://portal.edirepository.org/nis/mapbrowse?scope=knb-lter-jrn&identifier=210437055',\n",
       " 'https://portal.edirepository.org/nis/mapbrowse?scope=knb-lter-jrn&identifier=210437070',\n",
       " 'https://portal.edirepository.org/nis/mapbrowse?scope=knb-lter-jrn&identifier=210437010',\n",
       " 'https://portal.edirepository.org/nis/mapbrowse?scope=knb-lter-jrn&identifier=210437100',\n",
       " 'https://portal.edirepository.org/nis/mapbrowse?scope=knb-lter-jrn&identifier=210437085',\n",
       " 'https://portal.edirepository.org/nis/mapbrowse?scope=knb-lter-jrn&identifier=210437041',\n",
       " 'https://portal.edirepository.org/nis/mapbrowse?scope=knb-lter-jrn&identifier=210437011',\n",
       " 'https://portal.edirepository.org/nis/mapbrowse?scope=knb-lter-jrn&identifier=210437026',\n",
       " 'https://portal.edirepository.org/nis/mapbrowse?scope=knb-lter-jrn&identifier=210437056',\n",
       " 'https://portal.edirepository.org/nis/mapbrowse?scope=knb-lter-jrn&identifier=210437071',\n",
       " 'https://portal.edirepository.org/nis/mapbrowse?scope=knb-lter-jrn&identifier=210437086',\n",
       " 'https://portal.edirepository.org/nis/mapbrowse?scope=knb-lter-jrn&identifier=210437101',\n",
       " 'https://portal.edirepository.org/nis/mapbrowse?scope=knb-lter-jrn&identifier=210437042',\n",
       " 'https://portal.edirepository.org/nis/mapbrowse?scope=knb-lter-jrn&identifier=210437027',\n",
       " 'https://portal.edirepository.org/nis/mapbrowse?scope=knb-lter-jrn&identifier=210437057',\n",
       " 'https://portal.edirepository.org/nis/mapbrowse?scope=knb-lter-jrn&identifier=210437072',\n",
       " 'https://portal.edirepository.org/nis/mapbrowse?scope=knb-lter-jrn&identifier=210437012',\n",
       " 'https://portal.edirepository.org/nis/mapbrowse?scope=knb-lter-jrn&identifier=210437087',\n",
       " 'https://portal.edirepository.org/nis/mapbrowse?scope=knb-lter-jrn&identifier=210437102',\n",
       " 'https://portal.edirepository.org/nis/mapbrowse?scope=knb-lter-jrn&identifier=210437043',\n",
       " 'https://portal.edirepository.org/nis/mapbrowse?scope=knb-lter-jrn&identifier=210437028',\n",
       " 'https://portal.edirepository.org/nis/mapbrowse?scope=knb-lter-jrn&identifier=210437058',\n",
       " 'https://portal.edirepository.org/nis/mapbrowse?scope=knb-lter-jrn&identifier=210437073',\n",
       " 'https://portal.edirepository.org/nis/mapbrowse?scope=knb-lter-jrn&identifier=210437013',\n",
       " 'https://portal.edirepository.org/nis/mapbrowse?scope=knb-lter-jrn&identifier=210437103',\n",
       " 'https://portal.edirepository.org/nis/mapbrowse?scope=knb-lter-jrn&identifier=210437088',\n",
       " 'https://portal.edirepository.org/nis/mapbrowse?scope=knb-lter-jrn&identifier=210437044',\n",
       " 'https://portal.edirepository.org/nis/mapbrowse?scope=knb-lter-jrn&identifier=210437029',\n",
       " 'https://portal.edirepository.org/nis/mapbrowse?scope=knb-lter-jrn&identifier=210437059',\n",
       " 'https://portal.edirepository.org/nis/mapbrowse?scope=knb-lter-jrn&identifier=210437074',\n",
       " 'https://portal.edirepository.org/nis/mapbrowse?scope=knb-lter-jrn&identifier=210437014',\n",
       " 'https://portal.edirepository.org/nis/mapbrowse?scope=knb-lter-jrn&identifier=210437104',\n",
       " 'https://portal.edirepository.org/nis/mapbrowse?scope=knb-lter-jrn&identifier=210437089',\n",
       " 'https://portal.edirepository.org/nis/mapbrowse?scope=knb-lter-jrn&identifier=210437045',\n",
       " 'https://portal.edirepository.org/nis/mapbrowse?scope=knb-lter-jrn&identifier=210437030',\n",
       " 'https://portal.edirepository.org/nis/mapbrowse?scope=knb-lter-jrn&identifier=210437060',\n",
       " 'https://portal.edirepository.org/nis/mapbrowse?scope=knb-lter-jrn&identifier=210437075',\n",
       " 'https://portal.edirepository.org/nis/mapbrowse?scope=knb-lter-jrn&identifier=210437015',\n",
       " 'https://portal.edirepository.org/nis/mapbrowse?scope=knb-lter-jrn&identifier=210437105',\n",
       " 'https://portal.edirepository.org/nis/mapbrowse?scope=knb-lter-jrn&identifier=210437090',\n",
       " 'https://portal.edirepository.org/nis/mapbrowse?scope=knb-lter-jrn&identifier=210412001',\n",
       " 'https://portal.edirepository.org/nis/mapbrowse?scope=knb-lter-jrn&identifier=210012001',\n",
       " 'https://portal.edirepository.org/nis/mapbrowse?scope=knb-lter-jrn&identifier=210012002',\n",
       " 'https://portal.edirepository.org/nis/mapbrowse?scope=knb-lter-jrn&identifier=210010001',\n",
       " 'https://portal.edirepository.org/nis/mapbrowse?scope=knb-lter-jrn&identifier=210086002',\n",
       " 'https://portal.edirepository.org/nis/mapbrowse?scope=knb-lter-jrn&identifier=210086001',\n",
       " 'https://portal.edirepository.org/nis/mapbrowse?scope=knb-lter-jrn&identifier=210122001',\n",
       " 'https://portal.edirepository.org/nis/mapbrowse?scope=knb-lter-jrn&identifier=210380001',\n",
       " 'https://portal.edirepository.org/nis/mapbrowse?scope=knb-lter-jrn&identifier=210328001',\n",
       " 'https://portal.edirepository.org/nis/mapbrowse?scope=knb-lter-jrn&identifier=210328002',\n",
       " 'https://portal.edirepository.org/nis/mapbrowse?scope=knb-lter-jrn&identifier=210328003',\n",
       " 'https://portal.edirepository.org/nis/mapbrowse?scope=knb-lter-jrn&identifier=210308001',\n",
       " 'https://portal.edirepository.org/nis/mapbrowse?scope=knb-lter-jrn&identifier=210308002',\n",
       " 'https://portal.edirepository.org/nis/mapbrowse?scope=knb-lter-jrn&identifier=210308003',\n",
       " 'https://portal.edirepository.org/nis/mapbrowse?scope=knb-lter-jrn&identifier=210308005',\n",
       " 'https://portal.edirepository.org/nis/mapbrowse?scope=knb-lter-jrn&identifier=210126003',\n",
       " 'https://portal.edirepository.org/nis/mapbrowse?scope=knb-lter-jrn&identifier=210262001',\n",
       " 'https://portal.edirepository.org/nis/mapbrowse?scope=knb-lter-jrn&identifier=210262004',\n",
       " 'https://portal.edirepository.org/nis/mapbrowse?scope=knb-lter-jrn&identifier=210262005',\n",
       " 'https://portal.edirepository.org/nis/mapbrowse?scope=knb-lter-jrn&identifier=210128001',\n",
       " 'https://portal.edirepository.org/nis/mapbrowse?scope=knb-lter-jrn&identifier=210128002',\n",
       " 'https://portal.edirepository.org/nis/mapbrowse?scope=knb-lter-jrn&identifier=210262008',\n",
       " 'https://portal.edirepository.org/nis/mapbrowse?scope=knb-lter-jrn&identifier=210392001',\n",
       " 'https://portal.edirepository.org/nis/mapbrowse?scope=knb-lter-jrn&identifier=210379001',\n",
       " 'https://portal.edirepository.org/nis/mapbrowse?scope=knb-lter-jrn&identifier=210379002',\n",
       " 'https://portal.edirepository.org/nis/mapbrowse?scope=knb-lter-jrn&identifier=210379003',\n",
       " 'https://portal.edirepository.org/nis/mapbrowse?scope=knb-lter-jrn&identifier=210287001',\n",
       " 'https://portal.edirepository.org/nis/mapbrowse?scope=knb-lter-jrn&identifier=210278002',\n",
       " 'https://portal.edirepository.org/nis/mapbrowse?scope=knb-lter-jrn&identifier=210278001',\n",
       " 'https://portal.edirepository.org/nis/mapbrowse?scope=knb-lter-jrn&identifier=210338006',\n",
       " 'https://portal.edirepository.org/nis/mapbrowse?scope=knb-lter-jrn&identifier=210338004',\n",
       " 'https://portal.edirepository.org/nis/mapbrowse?scope=knb-lter-jrn&identifier=210338002',\n",
       " 'https://portal.edirepository.org/nis/mapbrowse?scope=knb-lter-jrn&identifier=210351002',\n",
       " 'https://portal.edirepository.org/nis/mapbrowse?scope=knb-lter-jrn&identifier=210351001',\n",
       " 'https://portal.edirepository.org/nis/mapbrowse?scope=knb-lter-jrn&identifier=210011003',\n",
       " 'https://portal.edirepository.org/nis/mapbrowse?scope=knb-lter-jrn&identifier=210425001',\n",
       " 'https://portal.edirepository.org/nis/mapbrowse?scope=knb-lter-jrn&identifier=210262010',\n",
       " 'https://portal.edirepository.org/nis/mapbrowse?scope=knb-lter-jrn&identifier=210365001',\n",
       " 'https://portal.edirepository.org/nis/mapbrowse?scope=knb-lter-jrn&identifier=210548016',\n",
       " 'https://portal.edirepository.org/nis/mapbrowse?scope=knb-lter-jrn&identifier=210548031',\n",
       " 'https://portal.edirepository.org/nis/mapbrowse?scope=knb-lter-jrn&identifier=210548076',\n",
       " 'https://portal.edirepository.org/nis/mapbrowse?scope=knb-lter-jrn&identifier=210548046',\n",
       " 'https://portal.edirepository.org/nis/mapbrowse?scope=knb-lter-jrn&identifier=210548025',\n",
       " 'https://portal.edirepository.org/nis/mapbrowse?scope=knb-lter-jrn&identifier=210548061',\n",
       " 'https://portal.edirepository.org/nis/mapbrowse?scope=knb-lter-jrn&identifier=210548001',\n",
       " 'https://portal.edirepository.org/nis/mapbrowse?scope=knb-lter-jrn&identifier=210548040',\n",
       " 'https://portal.edirepository.org/nis/mapbrowse?scope=knb-lter-jrn&identifier=210548085',\n",
       " 'https://portal.edirepository.org/nis/mapbrowse?scope=knb-lter-jrn&identifier=210548055',\n",
       " 'https://portal.edirepository.org/nis/mapbrowse?scope=knb-lter-jrn&identifier=210548099',\n",
       " 'https://portal.edirepository.org/nis/mapbrowse?scope=knb-lter-jrn&identifier=210548026',\n",
       " 'https://portal.edirepository.org/nis/mapbrowse?scope=knb-lter-jrn&identifier=210548070',\n",
       " 'https://portal.edirepository.org/nis/mapbrowse?scope=knb-lter-jrn&identifier=210548010',\n",
       " 'https://portal.edirepository.org/nis/mapbrowse?scope=knb-lter-jrn&identifier=210548041',\n",
       " 'https://portal.edirepository.org/nis/mapbrowse?scope=knb-lter-jrn&identifier=210548086',\n",
       " 'https://portal.edirepository.org/nis/mapbrowse?scope=knb-lter-jrn&identifier=210548056',\n",
       " 'https://portal.edirepository.org/nis/mapbrowse?scope=knb-lter-jrn&identifier=210548100',\n",
       " 'https://portal.edirepository.org/nis/mapbrowse?scope=knb-lter-jrn&identifier=210548027',\n",
       " 'https://portal.edirepository.org/nis/mapbrowse?scope=knb-lter-jrn&identifier=210548071',\n",
       " 'https://portal.edirepository.org/nis/mapbrowse?scope=knb-lter-jrn&identifier=210548011',\n",
       " 'https://portal.edirepository.org/nis/mapbrowse?scope=knb-lter-jrn&identifier=210548042',\n",
       " 'https://portal.edirepository.org/nis/mapbrowse?scope=knb-lter-jrn&identifier=210548087',\n",
       " 'https://portal.edirepository.org/nis/mapbrowse?scope=knb-lter-jrn&identifier=210548057',\n",
       " 'https://portal.edirepository.org/nis/mapbrowse?scope=knb-lter-jrn&identifier=210548028',\n",
       " 'https://portal.edirepository.org/nis/mapbrowse?scope=knb-lter-jrn&identifier=210548072',\n",
       " 'https://portal.edirepository.org/nis/mapbrowse?scope=knb-lter-jrn&identifier=210548012',\n",
       " 'https://portal.edirepository.org/nis/mapbrowse?scope=knb-lter-jrn&identifier=210548043',\n",
       " 'https://portal.edirepository.org/nis/mapbrowse?scope=knb-lter-jrn&identifier=210548088',\n",
       " 'https://portal.edirepository.org/nis/mapbrowse?scope=knb-lter-jrn&identifier=210548058',\n",
       " 'https://portal.edirepository.org/nis/mapbrowse?scope=knb-lter-jrn&identifier=210548101',\n",
       " 'https://portal.edirepository.org/nis/mapbrowse?scope=knb-lter-jrn&identifier=210548029',\n",
       " 'https://portal.edirepository.org/nis/mapbrowse?scope=knb-lter-jrn&identifier=210548073',\n",
       " 'https://portal.edirepository.org/nis/mapbrowse?scope=knb-lter-jrn&identifier=210548013',\n",
       " 'https://portal.edirepository.org/nis/mapbrowse?scope=knb-lter-jrn&identifier=210548044',\n",
       " 'https://portal.edirepository.org/nis/mapbrowse?scope=knb-lter-jrn&identifier=210548089',\n",
       " 'https://portal.edirepository.org/nis/mapbrowse?scope=knb-lter-jrn&identifier=210548059',\n",
       " 'https://portal.edirepository.org/nis/mapbrowse?scope=knb-lter-jrn&identifier=210548102',\n",
       " 'https://portal.edirepository.org/nis/mapbrowse?scope=knb-lter-jrn&identifier=210548030',\n",
       " 'https://portal.edirepository.org/nis/mapbrowse?scope=knb-lter-jrn&identifier=210548074',\n",
       " 'https://portal.edirepository.org/nis/mapbrowse?scope=knb-lter-jrn&identifier=210548014',\n",
       " 'https://portal.edirepository.org/nis/mapbrowse?scope=knb-lter-jrn&identifier=210548045',\n",
       " 'https://portal.edirepository.org/nis/mapbrowse?scope=knb-lter-jrn&identifier=210548090',\n",
       " 'https://portal.edirepository.org/nis/mapbrowse?scope=knb-lter-jrn&identifier=210548060',\n",
       " 'https://portal.edirepository.org/nis/mapbrowse?scope=knb-lter-jrn&identifier=210548103',\n",
       " 'https://portal.edirepository.org/nis/mapbrowse?scope=knb-lter-jrn&identifier=210548017',\n",
       " 'https://portal.edirepository.org/nis/mapbrowse?scope=knb-lter-jrn&identifier=210548015',\n",
       " 'https://portal.edirepository.org/nis/mapbrowse?scope=knb-lter-jrn&identifier=210548075',\n",
       " 'https://portal.edirepository.org/nis/mapbrowse?scope=knb-lter-jrn&identifier=210548032',\n",
       " 'https://portal.edirepository.org/nis/mapbrowse?scope=knb-lter-jrn&identifier=210548077',\n",
       " 'https://portal.edirepository.org/nis/mapbrowse?scope=knb-lter-jrn&identifier=210548047',\n",
       " 'https://portal.edirepository.org/nis/mapbrowse?scope=knb-lter-jrn&identifier=210548091',\n",
       " 'https://portal.edirepository.org/nis/mapbrowse?scope=knb-lter-jrn&identifier=210548018',\n",
       " 'https://portal.edirepository.org/nis/mapbrowse?scope=knb-lter-jrn&identifier=210548062',\n",
       " 'https://portal.edirepository.org/nis/mapbrowse?scope=knb-lter-jrn&identifier=210548002',\n",
       " 'https://portal.edirepository.org/nis/mapbrowse?scope=knb-lter-jrn&identifier=210548033',\n",
       " 'https://portal.edirepository.org/nis/mapbrowse?scope=knb-lter-jrn&identifier=210548078',\n",
       " 'https://portal.edirepository.org/nis/mapbrowse?scope=knb-lter-jrn&identifier=210548048',\n",
       " 'https://portal.edirepository.org/nis/mapbrowse?scope=knb-lter-jrn&identifier=210548092',\n",
       " 'https://portal.edirepository.org/nis/mapbrowse?scope=knb-lter-jrn&identifier=210548019',\n",
       " 'https://portal.edirepository.org/nis/mapbrowse?scope=knb-lter-jrn&identifier=210548063',\n",
       " 'https://portal.edirepository.org/nis/mapbrowse?scope=knb-lter-jrn&identifier=210548003',\n",
       " 'https://portal.edirepository.org/nis/mapbrowse?scope=knb-lter-jrn&identifier=210548034',\n",
       " 'https://portal.edirepository.org/nis/mapbrowse?scope=knb-lter-jrn&identifier=210548079',\n",
       " 'https://portal.edirepository.org/nis/mapbrowse?scope=knb-lter-jrn&identifier=210548049',\n",
       " 'https://portal.edirepository.org/nis/mapbrowse?scope=knb-lter-jrn&identifier=210548093',\n",
       " 'https://portal.edirepository.org/nis/mapbrowse?scope=knb-lter-jrn&identifier=210548004',\n",
       " 'https://portal.edirepository.org/nis/mapbrowse?scope=knb-lter-jrn&identifier=210548020',\n",
       " 'https://portal.edirepository.org/nis/mapbrowse?scope=knb-lter-jrn&identifier=210548064',\n",
       " 'https://portal.edirepository.org/nis/mapbrowse?scope=knb-lter-jrn&identifier=210548035',\n",
       " 'https://portal.edirepository.org/nis/mapbrowse?scope=knb-lter-jrn&identifier=210548080',\n",
       " 'https://portal.edirepository.org/nis/mapbrowse?scope=knb-lter-jrn&identifier=210548050',\n",
       " 'https://portal.edirepository.org/nis/mapbrowse?scope=knb-lter-jrn&identifier=210548094',\n",
       " 'https://portal.edirepository.org/nis/mapbrowse?scope=knb-lter-jrn&identifier=210548021',\n",
       " 'https://portal.edirepository.org/nis/mapbrowse?scope=knb-lter-jrn&identifier=210548005',\n",
       " 'https://portal.edirepository.org/nis/mapbrowse?scope=knb-lter-jrn&identifier=210548065',\n",
       " 'https://portal.edirepository.org/nis/mapbrowse?scope=knb-lter-jrn&identifier=210548036',\n",
       " 'https://portal.edirepository.org/nis/mapbrowse?scope=knb-lter-jrn&identifier=210548081',\n",
       " 'https://portal.edirepository.org/nis/mapbrowse?scope=knb-lter-jrn&identifier=210548051',\n",
       " 'https://portal.edirepository.org/nis/mapbrowse?scope=knb-lter-jrn&identifier=210548095',\n",
       " 'https://portal.edirepository.org/nis/mapbrowse?scope=knb-lter-jrn&identifier=210548022',\n",
       " 'https://portal.edirepository.org/nis/mapbrowse?scope=knb-lter-jrn&identifier=210548066',\n",
       " 'https://portal.edirepository.org/nis/mapbrowse?scope=knb-lter-jrn&identifier=210548006',\n",
       " 'https://portal.edirepository.org/nis/mapbrowse?scope=knb-lter-jrn&identifier=210548037',\n",
       " 'https://portal.edirepository.org/nis/mapbrowse?scope=knb-lter-jrn&identifier=210548082',\n",
       " 'https://portal.edirepository.org/nis/mapbrowse?scope=knb-lter-jrn&identifier=210548052',\n",
       " 'https://portal.edirepository.org/nis/mapbrowse?scope=knb-lter-jrn&identifier=210548096',\n",
       " 'https://portal.edirepository.org/nis/mapbrowse?scope=knb-lter-jrn&identifier=210548023',\n",
       " 'https://portal.edirepository.org/nis/mapbrowse?scope=knb-lter-jrn&identifier=210548067',\n",
       " 'https://portal.edirepository.org/nis/mapbrowse?scope=knb-lter-jrn&identifier=210548007',\n",
       " 'https://portal.edirepository.org/nis/mapbrowse?scope=knb-lter-jrn&identifier=210548038',\n",
       " 'https://portal.edirepository.org/nis/mapbrowse?scope=knb-lter-jrn&identifier=210548083',\n",
       " 'https://portal.edirepository.org/nis/mapbrowse?scope=knb-lter-jrn&identifier=210548053',\n",
       " 'https://portal.edirepository.org/nis/mapbrowse?scope=knb-lter-jrn&identifier=210548097',\n",
       " 'https://portal.edirepository.org/nis/mapbrowse?scope=knb-lter-jrn&identifier=210548024',\n",
       " 'https://portal.edirepository.org/nis/mapbrowse?scope=knb-lter-jrn&identifier=210548068',\n",
       " 'https://portal.edirepository.org/nis/mapbrowse?scope=knb-lter-jrn&identifier=210548008',\n",
       " 'https://portal.edirepository.org/nis/mapbrowse?scope=knb-lter-jrn&identifier=210548039',\n",
       " 'https://portal.edirepository.org/nis/mapbrowse?scope=knb-lter-jrn&identifier=210548084',\n",
       " 'https://portal.edirepository.org/nis/mapbrowse?scope=knb-lter-jrn&identifier=210548054',\n",
       " 'https://portal.edirepository.org/nis/mapbrowse?scope=knb-lter-jrn&identifier=210548098',\n",
       " 'https://portal.edirepository.org/nis/mapbrowse?scope=knb-lter-jrn&identifier=210548069',\n",
       " 'https://portal.edirepository.org/nis/mapbrowse?scope=knb-lter-jrn&identifier=210548009',\n",
       " 'https://portal.edirepository.org/nis/mapbrowse?scope=knb-lter-jrn&identifier=210385001',\n",
       " 'https://portal.edirepository.org/nis/mapbrowse?scope=knb-lter-jrn&identifier=210385004',\n",
       " 'https://portal.edirepository.org/nis/mapbrowse?scope=knb-lter-jrn&identifier=210351003',\n",
       " 'https://portal.edirepository.org/nis/mapbrowse?scope=knb-lter-jrn&identifier=210385005',\n",
       " 'https://portal.edirepository.org/nis/mapbrowse?scope=knb-lter-jrn&identifier=210385006',\n",
       " 'https://portal.edirepository.org/nis/mapbrowse?scope=knb-lter-jrn&identifier=210385008',\n",
       " 'https://portal.edirepository.org/nis/mapbrowse?scope=knb-lter-jrn&identifier=210385002',\n",
       " 'https://portal.edirepository.org/nis/mapbrowse?scope=knb-lter-jrn&identifier=210385003',\n",
       " 'https://portal.edirepository.org/nis/mapbrowse?scope=knb-lter-jrn&identifier=210385007',\n",
       " 'https://portal.edirepository.org/nis/mapbrowse?scope=knb-lter-jrn&identifier=210338005',\n",
       " 'https://portal.edirepository.org/nis/mapbrowse?scope=knb-lter-jrn&identifier=210001003',\n",
       " 'https://portal.edirepository.org/nis/mapbrowse?scope=knb-lter-jrn&identifier=100',\n",
       " 'https://portal.edirepository.org/nis/mapbrowse?scope=knb-lter-jrn&identifier=210001001',\n",
       " 'https://portal.edirepository.org/nis/mapbrowse?scope=knb-lter-jrn&identifier=210437107',\n",
       " 'https://portal.edirepository.org/nis/mapbrowse?scope=knb-lter-jrn&identifier=210437108',\n",
       " 'https://portal.edirepository.org/nis/mapbrowse?scope=knb-lter-jrn&identifier=210437109',\n",
       " 'https://portal.edirepository.org/nis/mapbrowse?scope=knb-lter-jrn&identifier=210437110',\n",
       " 'https://portal.edirepository.org/nis/mapbrowse?scope=knb-lter-jrn&identifier=210437111',\n",
       " 'https://portal.edirepository.org/nis/mapbrowse?scope=knb-lter-jrn&identifier=210437112',\n",
       " 'https://portal.edirepository.org/nis/mapbrowse?scope=knb-lter-jrn&identifier=210437113',\n",
       " 'https://portal.edirepository.org/nis/mapbrowse?scope=knb-lter-jrn&identifier=210437114',\n",
       " 'https://portal.edirepository.org/nis/mapbrowse?scope=knb-lter-jrn&identifier=210437115',\n",
       " 'https://portal.edirepository.org/nis/mapbrowse?scope=knb-lter-jrn&identifier=210437116',\n",
       " 'https://portal.edirepository.org/nis/mapbrowse?scope=knb-lter-jrn&identifier=210437117',\n",
       " 'https://portal.edirepository.org/nis/mapbrowse?scope=knb-lter-jrn&identifier=210437118',\n",
       " 'https://portal.edirepository.org/nis/mapbrowse?scope=knb-lter-jrn&identifier=210437119']"
      ]
     },
     "execution_count": 55,
     "metadata": {},
     "output_type": "execute_result"
    }
   ],
   "source": [
    "uniqueUp2 = ['https://portal.edirepository.org/nis/mapbrowse?scope=knb-lter-jrn&identifier=' + str(s)\n",
    "             for s in uniqueUp]\n",
    "with open('2020AR_unique_EDI_updates.txt', 'w') as f:\n",
    "    for item in uniqueUp2:\n",
    "        f.write(\"%s\\n\" % item)\n",
    "        \n",
    "uniqueUp2\n"
   ]
  },
  {
   "cell_type": "code",
   "execution_count": 41,
   "metadata": {},
   "outputs": [
    {
     "name": "stdout",
     "output_type": "stream",
     "text": [
      "[210412001 210012001 210012002 210010001 210086002 210086001 210122001\n",
      " 210380001 210328001 210328002 210328003 210308001 210308002 210308003\n",
      " 210308005 210126003 210262001 210262004 210262005 210128001 210128002\n",
      " 210262008 210392001 210379001 210379002 210379003 210287001 210278002\n",
      " 210278001 210338006 210338004 210338002 210351002 210351001 210011003\n",
      " 210425001 210262010 210365001 210385001 210385004 210351003 210385005\n",
      " 210385006 210385008 210385002 210385003 210385007 210338005 210001003\n",
      "       100 210001001]\n",
      "[]\n"
     ]
    }
   ],
   "source": [
    "# Unique updates since last meeting\n",
    "last_meeting = '2019-11-01'\n",
    "\n",
    "vrEDI = df.loc[df.index >= last_meeting]\n",
    "vrEDI_nomet = np.logical_and(vrEDI.studyid!='437', vrEDI.studyid!='548')\n",
    "uR = vrEDI.loc[np.logical_and(vrEDI_nomet, vrEDI.action=='updateDataPackage'),].pkgid.unique()\n",
    "# Unique updates before last meeting (to startdt)\n",
    "oEDI = df.loc[np.logical_and(df.index > startdt, df.index < last_meeting),]\n",
    "uO = oEDI.loc[np.logical_and(oEDI.studyid!='437', oEDI.action=='updateDataPackage'),].pkgid.unique()\n",
    "print(uR)\n",
    "print(uO)"
   ]
  },
  {
   "cell_type": "code",
   "execution_count": 42,
   "metadata": {},
   "outputs": [
    {
     "data": {
      "text/plain": [
       "array([210412001, 210012001, 210012002, 210010001, 210086002, 210086001,\n",
       "       210122001, 210380001, 210328001, 210328002, 210328003, 210308001,\n",
       "       210308002, 210308003, 210308005, 210126003, 210262001, 210262004,\n",
       "       210262005, 210128001, 210128002, 210262008, 210392001, 210379001,\n",
       "       210379002, 210379003, 210287001, 210278002, 210278001, 210338006,\n",
       "       210338004, 210338002, 210351002, 210351001, 210011003, 210425001,\n",
       "       210262010, 210365001, 210385001, 210385004, 210351003, 210385005,\n",
       "       210385006, 210385008, 210385002, 210385003, 210385007, 210338005,\n",
       "       210001003,       100, 210001001])"
      ]
     },
     "execution_count": 42,
     "metadata": {},
     "output_type": "execute_result"
    }
   ],
   "source": [
    "uR[~np.in1d(uR, uO)]"
   ]
  },
  {
   "cell_type": "code",
   "execution_count": 43,
   "metadata": {},
   "outputs": [
    {
     "data": {
      "text/plain": [
       "array([], dtype=int64)"
      ]
     },
     "execution_count": 43,
     "metadata": {},
     "output_type": "execute_result"
    }
   ],
   "source": [
    "# Unique packages deleted\n",
    "uniqueDel = rEDI.loc[np.logical_and(rEDI_nomet, rEDI.action=='deleteDataPackage'),].pkgid.unique()\n",
    "uniqueDel"
   ]
  },
  {
   "cell_type": "code",
   "execution_count": 46,
   "metadata": {},
   "outputs": [
    {
     "name": "stdout",
     "output_type": "stream",
     "text": [
      "[      100 210548016 210548031 210548076 210548046 210548025 210548061\n",
      " 210548001 210548040 210548085 210548055 210548099 210548026 210548070\n",
      " 210548010 210548041 210548086 210548056 210548100 210548027 210548071\n",
      " 210548011 210548042 210548087 210548057 210548028 210548072 210548012\n",
      " 210548043 210548088 210548058 210548101 210548029 210548073 210548013\n",
      " 210548044 210548089 210548059 210548102 210548030 210548074 210548014\n",
      " 210548045 210548090 210548060 210548103 210548017 210548015 210548075\n",
      " 210548032 210548077 210548047 210548091 210548018 210548062 210548002\n",
      " 210548033 210548078 210548048 210548092 210548019 210548063 210548003\n",
      " 210548034 210548004 210548079 210548049 210548093 210548020 210548064\n",
      " 210548035 210548080 210548005 210548050 210548094 210548021 210548065\n",
      " 210548036 210548081 210548051 210548095 210548022 210548066 210548006\n",
      " 210548037 210548082 210548052 210548096 210548023 210548067 210548007\n",
      " 210548038 210548083 210548053 210548097 210548024 210548068 210548008\n",
      " 210548039 210548084 210548054 210548098 210548069 210548009 210437107\n",
      " 210437108 210437109 210437110 210437111 210437112 210437113 210437114\n",
      " 210437115 210437116 210437117 210437118 210437119 210437120]\n"
     ]
    },
    {
     "data": {
      "text/plain": [
       "118"
      ]
     },
     "execution_count": 46,
     "metadata": {},
     "output_type": "execute_result"
    }
   ],
   "source": [
    "# Unique packages created (See above)\n",
    "uniqueCreate = rEDI.loc[rEDI.action=='createDataPackage',].pkgid.unique()\n",
    "print(uniqueCreate)\n",
    "len(uniqueCreate)"
   ]
  }
 ],
 "metadata": {
  "kernelspec": {
   "display_name": "Python 3",
   "language": "python",
   "name": "python3"
  },
  "language_info": {
   "codemirror_mode": {
    "name": "ipython",
    "version": 3
   },
   "file_extension": ".py",
   "mimetype": "text/x-python",
   "name": "python",
   "nbconvert_exporter": "python",
   "pygments_lexer": "ipython3",
   "version": "3.7.7"
  }
 },
 "nbformat": 4,
 "nbformat_minor": 4
}
