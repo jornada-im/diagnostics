{
 "cells": [
  {
   "cell_type": "code",
   "execution_count": 1,
   "metadata": {},
   "outputs": [],
   "source": [
    "import edi_pyagnostics.edirequest as dia\n",
    "import pandas as pd\n",
    "import numpy as np"
   ]
  },
  {
   "cell_type": "code",
   "execution_count": 2,
   "metadata": {},
   "outputs": [],
   "source": [
    "new = dia.load_new_request('2020-12-02', '2020-12-31')"
   ]
  },
  {
   "cell_type": "code",
   "execution_count": 3,
   "metadata": {},
   "outputs": [],
   "source": [
    "old = dia.load_archived()"
   ]
  },
  {
   "cell_type": "code",
   "execution_count": 4,
   "metadata": {},
   "outputs": [
    {
     "data": {
      "text/plain": [
       "'2020-11-25T07:46:58.688'"
      ]
     },
     "execution_count": 4,
     "metadata": {},
     "output_type": "execute_result"
    }
   ],
   "source": [
    "max(old.date)"
   ]
  },
  {
   "cell_type": "code",
   "execution_count": 5,
   "metadata": {},
   "outputs": [
    {
     "data": {
      "text/html": [
       "<div>\n",
       "<style scoped>\n",
       "    .dataframe tbody tr th:only-of-type {\n",
       "        vertical-align: middle;\n",
       "    }\n",
       "\n",
       "    .dataframe tbody tr th {\n",
       "        vertical-align: top;\n",
       "    }\n",
       "\n",
       "    .dataframe thead th {\n",
       "        text-align: right;\n",
       "    }\n",
       "</style>\n",
       "<table border=\"1\" class=\"dataframe\">\n",
       "  <thead>\n",
       "    <tr style=\"text-align: right;\">\n",
       "      <th></th>\n",
       "      <th>date</th>\n",
       "      <th>pkgid</th>\n",
       "      <th>action</th>\n",
       "    </tr>\n",
       "  </thead>\n",
       "  <tbody>\n",
       "    <tr>\n",
       "      <th>0</th>\n",
       "      <td>2015-04-17T14:42:05.936</td>\n",
       "      <td>2100011003</td>\n",
       "      <td>createDataPackage</td>\n",
       "    </tr>\n",
       "    <tr>\n",
       "      <th>1</th>\n",
       "      <td>2015-04-17T15:43:26.172</td>\n",
       "      <td>210120002</td>\n",
       "      <td>createDataPackage</td>\n",
       "    </tr>\n",
       "    <tr>\n",
       "      <th>2</th>\n",
       "      <td>2015-04-17T15:43:26.771</td>\n",
       "      <td>2100392001</td>\n",
       "      <td>createDataPackage</td>\n",
       "    </tr>\n",
       "    <tr>\n",
       "      <th>3</th>\n",
       "      <td>2015-04-17T15:43:41.508</td>\n",
       "      <td>2100169002</td>\n",
       "      <td>createDataPackage</td>\n",
       "    </tr>\n",
       "    <tr>\n",
       "      <th>4</th>\n",
       "      <td>2015-04-17T15:43:45.55</td>\n",
       "      <td>2100010001</td>\n",
       "      <td>createDataPackage</td>\n",
       "    </tr>\n",
       "    <tr>\n",
       "      <th>...</th>\n",
       "      <td>...</td>\n",
       "      <td>...</td>\n",
       "      <td>...</td>\n",
       "    </tr>\n",
       "    <tr>\n",
       "      <th>293</th>\n",
       "      <td>2020-12-17T17:22:47.672</td>\n",
       "      <td>210548009</td>\n",
       "      <td>updateDataPackage</td>\n",
       "    </tr>\n",
       "    <tr>\n",
       "      <th>294</th>\n",
       "      <td>2020-12-17T17:23:45.75</td>\n",
       "      <td>210548039</td>\n",
       "      <td>updateDataPackage</td>\n",
       "    </tr>\n",
       "    <tr>\n",
       "      <th>295</th>\n",
       "      <td>2020-12-17T17:29:05.003</td>\n",
       "      <td>210548069</td>\n",
       "      <td>updateDataPackage</td>\n",
       "    </tr>\n",
       "    <tr>\n",
       "      <th>296</th>\n",
       "      <td>2020-12-17T17:29:50.171</td>\n",
       "      <td>210548084</td>\n",
       "      <td>updateDataPackage</td>\n",
       "    </tr>\n",
       "    <tr>\n",
       "      <th>297</th>\n",
       "      <td>2020-12-17T17:30:19.335</td>\n",
       "      <td>210548054</td>\n",
       "      <td>updateDataPackage</td>\n",
       "    </tr>\n",
       "  </tbody>\n",
       "</table>\n",
       "<p>3388 rows × 3 columns</p>\n",
       "</div>"
      ],
      "text/plain": [
       "                        date       pkgid             action\n",
       "0    2015-04-17T14:42:05.936  2100011003  createDataPackage\n",
       "1    2015-04-17T15:43:26.172   210120002  createDataPackage\n",
       "2    2015-04-17T15:43:26.771  2100392001  createDataPackage\n",
       "3    2015-04-17T15:43:41.508  2100169002  createDataPackage\n",
       "4     2015-04-17T15:43:45.55  2100010001  createDataPackage\n",
       "..                       ...         ...                ...\n",
       "293  2020-12-17T17:22:47.672   210548009  updateDataPackage\n",
       "294   2020-12-17T17:23:45.75   210548039  updateDataPackage\n",
       "295  2020-12-17T17:29:05.003   210548069  updateDataPackage\n",
       "296  2020-12-17T17:29:50.171   210548084  updateDataPackage\n",
       "297  2020-12-17T17:30:19.335   210548054  updateDataPackage\n",
       "\n",
       "[3388 rows x 3 columns]"
      ]
     },
     "execution_count": 5,
     "metadata": {},
     "output_type": "execute_result"
    }
   ],
   "source": [
    "df = pd.concat([old, new])\n",
    "df"
   ]
  },
  {
   "cell_type": "code",
   "execution_count": 6,
   "metadata": {},
   "outputs": [],
   "source": [
    "df = dia.get_counts(df)"
   ]
  },
  {
   "cell_type": "code",
   "execution_count": 7,
   "metadata": {},
   "outputs": [
    {
     "data": {
      "text/html": [
       "<div>\n",
       "<style scoped>\n",
       "    .dataframe tbody tr th:only-of-type {\n",
       "        vertical-align: middle;\n",
       "    }\n",
       "\n",
       "    .dataframe tbody tr th {\n",
       "        vertical-align: top;\n",
       "    }\n",
       "\n",
       "    .dataframe thead th {\n",
       "        text-align: right;\n",
       "    }\n",
       "</style>\n",
       "<table border=\"1\" class=\"dataframe\">\n",
       "  <thead>\n",
       "    <tr style=\"text-align: right;\">\n",
       "      <th></th>\n",
       "      <th>n_update</th>\n",
       "      <th>n_create</th>\n",
       "      <th>n_tot</th>\n",
       "    </tr>\n",
       "    <tr>\n",
       "      <th>date</th>\n",
       "      <th></th>\n",
       "      <th></th>\n",
       "      <th></th>\n",
       "    </tr>\n",
       "  </thead>\n",
       "  <tbody>\n",
       "    <tr>\n",
       "      <th>2020-01-07</th>\n",
       "      <td>3</td>\n",
       "      <td>0</td>\n",
       "      <td>0</td>\n",
       "    </tr>\n",
       "    <tr>\n",
       "      <th>2020-01-08</th>\n",
       "      <td>2</td>\n",
       "      <td>0</td>\n",
       "      <td>0</td>\n",
       "    </tr>\n",
       "    <tr>\n",
       "      <th>2020-01-09</th>\n",
       "      <td>0</td>\n",
       "      <td>0</td>\n",
       "      <td>0</td>\n",
       "    </tr>\n",
       "    <tr>\n",
       "      <th>2020-01-10</th>\n",
       "      <td>0</td>\n",
       "      <td>0</td>\n",
       "      <td>0</td>\n",
       "    </tr>\n",
       "    <tr>\n",
       "      <th>2020-01-11</th>\n",
       "      <td>0</td>\n",
       "      <td>0</td>\n",
       "      <td>0</td>\n",
       "    </tr>\n",
       "    <tr>\n",
       "      <th>...</th>\n",
       "      <td>...</td>\n",
       "      <td>...</td>\n",
       "      <td>...</td>\n",
       "    </tr>\n",
       "    <tr>\n",
       "      <th>2020-12-13</th>\n",
       "      <td>0</td>\n",
       "      <td>0</td>\n",
       "      <td>0</td>\n",
       "    </tr>\n",
       "    <tr>\n",
       "      <th>2020-12-14</th>\n",
       "      <td>1</td>\n",
       "      <td>0</td>\n",
       "      <td>0</td>\n",
       "    </tr>\n",
       "    <tr>\n",
       "      <th>2020-12-15</th>\n",
       "      <td>90</td>\n",
       "      <td>0</td>\n",
       "      <td>0</td>\n",
       "    </tr>\n",
       "    <tr>\n",
       "      <th>2020-12-16</th>\n",
       "      <td>0</td>\n",
       "      <td>0</td>\n",
       "      <td>0</td>\n",
       "    </tr>\n",
       "    <tr>\n",
       "      <th>2020-12-17</th>\n",
       "      <td>103</td>\n",
       "      <td>0</td>\n",
       "      <td>0</td>\n",
       "    </tr>\n",
       "  </tbody>\n",
       "</table>\n",
       "<p>346 rows × 3 columns</p>\n",
       "</div>"
      ],
      "text/plain": [
       "            n_update  n_create  n_tot\n",
       "date                                 \n",
       "2020-01-07         3         0      0\n",
       "2020-01-08         2         0      0\n",
       "2020-01-09         0         0      0\n",
       "2020-01-10         0         0      0\n",
       "2020-01-11         0         0      0\n",
       "...              ...       ...    ...\n",
       "2020-12-13         0         0      0\n",
       "2020-12-14         1         0      0\n",
       "2020-12-15        90         0      0\n",
       "2020-12-16         0         0      0\n",
       "2020-12-17       103         0      0\n",
       "\n",
       "[346 rows x 3 columns]"
      ]
     },
     "execution_count": 7,
     "metadata": {},
     "output_type": "execute_result"
    }
   ],
   "source": [
    "daily = dia.counts_to_daily(df, startdt='2020-01-01')\n",
    "daily"
   ]
  },
  {
   "cell_type": "markdown",
   "metadata": {},
   "source": [
    "## Plot activity since last report (2020-01-01)\n"
   ]
  },
  {
   "cell_type": "code",
   "execution_count": 8,
   "metadata": {},
   "outputs": [],
   "source": [
    "import matplotlib\n",
    "import matplotlib.pyplot as plt\n",
    "# Figure config\n",
    "font = {'family' : 'normal',\n",
    "        'weight' : 'normal',\n",
    "        'size'   : 14}\n",
    "\n",
    "matplotlib.rc('font', **font)\n",
    "\n",
    "# Get a datestamp for saving figures\n",
    "import datetime\n",
    "now = datetime.datetime.now().strftime(\"%Y%m%d\")"
   ]
  },
  {
   "cell_type": "code",
   "execution_count": 9,
   "metadata": {},
   "outputs": [
    {
     "name": "stderr",
     "output_type": "stream",
     "text": [
      "findfont: Font family ['normal'] not found. Falling back to DejaVu Sans.\n",
      "findfont: Font family ['normal'] not found. Falling back to DejaVu Sans.\n"
     ]
    },
    {
     "data": {
      "image/png": "[encoded data removed]",
      "text/plain": [
       "<Figure size 504x504 with 2 Axes>"
      ]
     },
     "metadata": {
      "needs_background": "light"
     },
     "output_type": "display_data"
    }
   ],
   "source": [
    "# All time plot:\n",
    "fig, ax = plt.subplots(nrows=2, ncols=1, figsize=(7, 7), sharex=True)\n",
    "\n",
    "ax[0].plot(daily.index, daily.n_update, label='Update pkg')\n",
    "ax[0].plot(daily.index, daily.n_create, label='Create pkg')\n",
    "ax[0].set_ylabel('JRN events')\n",
    "\n",
    "ax[1].plot(daily.index, daily.n_update.cumsum(), label='Update pkg')\n",
    "ax[1].plot(daily.index, daily.n_create.cumsum(), label='Create pkg')\n",
    "#ax[1].plot(daily.index, daily.n_tot.cumsum(), label='Total')\n",
    "\n",
    "plt.ylabel('JRN Cumulative')\n",
    "fig.autofmt_xdate()\n",
    "plt.suptitle('JRN activity on EDI in 2020')\n",
    "plt.legend()\n",
    "\n",
    "import os\n",
    "fig.savefig(os.path.expanduser(\"/Users/gmaurer/GD_gmaurer.jrn.lter/IM/figures/JRN_EDI_2020_ann_rpt_{0}.png\".format(now)),\n",
    "            dpi=150, bbox_inches='tight',facecolor='w')"
   ]
  },
  {
   "cell_type": "markdown",
   "metadata": {},
   "source": [
    "### Total number of packages"
   ]
  },
  {
   "cell_type": "code",
   "execution_count": 10,
   "metadata": {},
   "outputs": [
    {
     "data": {
      "text/plain": [
       "127"
      ]
     },
     "execution_count": 10,
     "metadata": {},
     "output_type": "execute_result"
    }
   ],
   "source": [
    "daily.n_create.sum()"
   ]
  },
  {
   "cell_type": "code",
   "execution_count": 11,
   "metadata": {},
   "outputs": [
    {
     "data": {
      "text/plain": [
       "2159"
      ]
     },
     "execution_count": 11,
     "metadata": {},
     "output_type": "execute_result"
    }
   ],
   "source": [
    "daily.n_update.sum()"
   ]
  },
  {
   "cell_type": "markdown",
   "metadata": {},
   "source": [
    "## Plot 2020 activity excluding Met"
   ]
  },
  {
   "cell_type": "code",
   "execution_count": 12,
   "metadata": {},
   "outputs": [
    {
     "data": {
      "text/html": [
       "<div>\n",
       "<style scoped>\n",
       "    .dataframe tbody tr th:only-of-type {\n",
       "        vertical-align: middle;\n",
       "    }\n",
       "\n",
       "    .dataframe tbody tr th {\n",
       "        vertical-align: top;\n",
       "    }\n",
       "\n",
       "    .dataframe thead th {\n",
       "        text-align: right;\n",
       "    }\n",
       "</style>\n",
       "<table border=\"1\" class=\"dataframe\">\n",
       "  <thead>\n",
       "    <tr style=\"text-align: right;\">\n",
       "      <th></th>\n",
       "      <th>n_update</th>\n",
       "      <th>n_create</th>\n",
       "      <th>n_tot</th>\n",
       "    </tr>\n",
       "    <tr>\n",
       "      <th>date</th>\n",
       "      <th></th>\n",
       "      <th></th>\n",
       "      <th></th>\n",
       "    </tr>\n",
       "  </thead>\n",
       "  <tbody>\n",
       "    <tr>\n",
       "      <th>2020-01-07</th>\n",
       "      <td>3</td>\n",
       "      <td>0</td>\n",
       "      <td>0</td>\n",
       "    </tr>\n",
       "    <tr>\n",
       "      <th>2020-01-08</th>\n",
       "      <td>2</td>\n",
       "      <td>0</td>\n",
       "      <td>0</td>\n",
       "    </tr>\n",
       "    <tr>\n",
       "      <th>2020-01-09</th>\n",
       "      <td>0</td>\n",
       "      <td>0</td>\n",
       "      <td>0</td>\n",
       "    </tr>\n",
       "    <tr>\n",
       "      <th>2020-01-10</th>\n",
       "      <td>0</td>\n",
       "      <td>0</td>\n",
       "      <td>0</td>\n",
       "    </tr>\n",
       "    <tr>\n",
       "      <th>2020-01-11</th>\n",
       "      <td>0</td>\n",
       "      <td>0</td>\n",
       "      <td>0</td>\n",
       "    </tr>\n",
       "  </tbody>\n",
       "</table>\n",
       "</div>"
      ],
      "text/plain": [
       "            n_update  n_create  n_tot\n",
       "date                                 \n",
       "2020-01-07         3         0      0\n",
       "2020-01-08         2         0      0\n",
       "2020-01-09         0         0      0\n",
       "2020-01-10         0         0      0\n",
       "2020-01-11         0         0      0"
      ]
     },
     "execution_count": 12,
     "metadata": {},
     "output_type": "execute_result"
    }
   ],
   "source": [
    "nomet = np.logical_and(df.studyid!='437', df.studyid!='548')\n",
    "daily_nomet = dia.counts_to_daily(df.loc[nomet], startdt='2020-01-01')\n",
    "\n",
    "daily_nomet.head()"
   ]
  },
  {
   "cell_type": "markdown",
   "metadata": {},
   "source": [
    "### Total number of packages"
   ]
  },
  {
   "cell_type": "code",
   "execution_count": 13,
   "metadata": {},
   "outputs": [
    {
     "data": {
      "text/plain": [
       "10"
      ]
     },
     "execution_count": 13,
     "metadata": {},
     "output_type": "execute_result"
    }
   ],
   "source": [
    "daily_nomet.n_create.sum()"
   ]
  },
  {
   "cell_type": "code",
   "execution_count": 14,
   "metadata": {},
   "outputs": [
    {
     "data": {
      "text/plain": [
       "62"
      ]
     },
     "execution_count": 14,
     "metadata": {},
     "output_type": "execute_result"
    }
   ],
   "source": [
    "daily_nomet.n_update.sum()"
   ]
  },
  {
   "cell_type": "code",
   "execution_count": 15,
   "metadata": {},
   "outputs": [
    {
     "data": {
      "image/png": "[encoded data removed]",
      "text/plain": [
       "<Figure size 504x504 with 2 Axes>"
      ]
     },
     "metadata": {
      "needs_background": "light"
     },
     "output_type": "display_data"
    }
   ],
   "source": [
    "# Recent plot:\n",
    "fig, ax = plt.subplots(nrows=2, ncols=1, figsize=(7, 7), sharex=True)\n",
    "\n",
    "ax[0].plot(daily_nomet.index, daily_nomet.n_update, label='Update pkg')\n",
    "ax[0].plot(daily_nomet.index, daily_nomet.n_create, label='Create pkg')\n",
    "ax[0].set_ylabel('JRN events')\n",
    "\n",
    "ax[1].plot(daily_nomet.index, daily_nomet.n_update.cumsum(), label='Update pkg')\n",
    "ax[1].plot(daily_nomet.index, daily_nomet.n_create.cumsum(), label='Create pkg')\n",
    "#ax[1].plot(daily_nomet.index, daily_nomet.n_tot.cumsum(), label='$\\Delta$ Total')\n",
    "#ax[1].axhline(y=63, xmin=0, xmax=1, ls=':', lw=1.5, color='k',\n",
    "#             label='Proposal goal')\n",
    "\n",
    "plt.ylabel('JRN Cumulative')\n",
    "fig.autofmt_xdate()\n",
    "plt.suptitle('JRN activity on EDI (Excluding met)')\n",
    "plt.legend()\n",
    "\n",
    "fig.savefig(os.path.expanduser(\n",
    "    \"/Users/gmaurer/GD_gmaurer.jrn.lter/IM/figures/JRN_EDI_2020_ann_rpt_NoMet_{0}.png\".format(now)),\n",
    "            dpi=150, bbox_inches='tight',facecolor='w')"
   ]
  },
  {
   "cell_type": "markdown",
   "metadata": {},
   "source": [
    "## Summary since last Annual Report"
   ]
  },
  {
   "cell_type": "code",
   "execution_count": 116,
   "metadata": {},
   "outputs": [
    {
     "name": "stdout",
     "output_type": "stream",
     "text": [
      "2159\n",
      "[210308001 210308002 210308003 210308005 210126003 210437031 210437016\n",
      " 210437046 210437061 210437001 210437091 210437076 210437032 210437017\n",
      " 210437047 210437062 210437002 210437092 210437077 210437033 210437018\n",
      " 210437048 210437063 210437003 210437093 210437078 210437034 210437019\n",
      " 210437049 210437064 210437094 210437004 210437079 210437106 210437035\n",
      " 210437020 210437050 210437065 210437005 210437095 210437080 210437036\n",
      " 210437021 210437051 210437066 210437006 210437096 210437081 210437037\n",
      " 210437022 210437052 210437067 210437007 210437097 210437082 210437038\n",
      " 210437023 210437053 210437068 210437008 210437098 210437083 210437039\n",
      " 210437024 210437054 210437069 210437009 210437099 210437084 210437040\n",
      " 210437025 210437055 210437070 210437010 210437100 210437085 210437041\n",
      " 210437026 210437056 210437011 210437071 210437086 210437101 210437042\n",
      " 210437027 210437057 210437072 210437012 210437087 210437102 210437043\n",
      " 210437028 210437058 210437073 210437013 210437103 210437088 210437044\n",
      " 210437029 210437059 210437074 210437104 210437014 210437089 210437045\n",
      " 210437030 210437060 210437075 210437105 210437015 210437090 210262001\n",
      " 210262004 210262005 210128001 210128002 210262008 210392001 210379001\n",
      " 210379002 210379003 210287001 210380001 210328001 210278002 210278001\n",
      " 210338006 210338004 210338002 210351002 210351001 210011003 210425001\n",
      " 210262010 210365001 210548016 210548031 210548076 210548046 210548025\n",
      " 210548061 210548001 210548040 210548085 210548055 210548099 210548026\n",
      " 210548070 210548010 210548041 210548086 210548056 210548100 210548027\n",
      " 210548071 210548011 210548042 210548087 210548057 210548028 210548072\n",
      " 210548012 210548043 210548088 210548058 210548101 210548029 210548073\n",
      " 210548013 210548044 210548089 210548059 210548102 210548030 210548074\n",
      " 210548014 210548045 210548090 210548060 210548103 210548017 210548015\n",
      " 210548075 210548032 210548077 210548047 210548091 210548018 210548062\n",
      " 210548002 210548033 210548078 210548048 210548092 210548019 210548063\n",
      " 210548003 210548034 210548079 210548049 210548093 210548004 210548020\n",
      " 210548064 210548035 210548080 210548050 210548094 210548021 210548005\n",
      " 210548065 210548036 210548081 210548051 210548095 210548022 210548066\n",
      " 210548006 210548037 210548082 210548052 210548096 210548023 210548067\n",
      " 210548007 210548038 210548083 210548053 210548097 210548024 210548068\n",
      " 210548008 210548039 210548084 210548054 210548098 210548069 210548009\n",
      " 210385001 210385004 210351003 210385005 210385006 210385008 210385002\n",
      " 210385003 210385007       100 210001001 210437107 210437108 210437109\n",
      " 210437110 210437111 210437112 210437113 210437114 210437115 210437116\n",
      " 210437117 210437118 210437119 210394009 210395001 210409002 210437120\n",
      " 210008001 210007001 210008002 210015001]\n",
      "[210308001 210308002 210308003 210308005 210126003 210262001 210262004\n",
      " 210262005 210128001 210128002 210262008 210392001 210379001 210379002\n",
      " 210379003 210287001 210380001 210328001 210278002 210278001 210338006\n",
      " 210338004 210338002 210351002 210351001 210011003 210425001 210262010\n",
      " 210365001 210385001 210385004 210351003 210385005 210385006 210385008\n",
      " 210385002 210385003 210385007       100 210001001 210394009 210395001\n",
      " 210409002 210008001 210007001 210008002 210015001]\n",
      "270\n"
     ]
    },
    {
     "data": {
      "text/plain": [
       "47"
      ]
     },
     "execution_count": 116,
     "metadata": {},
     "output_type": "execute_result"
    }
   ],
   "source": [
    "# Unique packages updated (excluding met)\n",
    "rEDI = df.loc[df.index > '2019-12-31',]\n",
    "rEDI_nomet = rEDI.loc[np.logical_and(rEDI.studyid!='437', rEDI.studyid!='548'),:]\n",
    "print(len(rEDI.loc[rEDI.action=='updateDataPackage',]))\n",
    "uniqueUp = rEDI.loc[rEDI.action=='updateDataPackage',].pkgid.unique()\n",
    "uniqueUp_nomet = rEDI_nomet.loc[rEDI_nomet.action=='updateDataPackage',].pkgid.unique()\n",
    "#rEDI.loc[rEDI.action=='updateDataPackage',].pkgid.unique()\n",
    "print(uniqueUp)\n",
    "print(uniqueUp_nomet)\n",
    "print(len(uniqueUp))\n",
    "len(uniqueUp_nomet)"
   ]
  },
  {
   "cell_type": "code",
   "execution_count": 121,
   "metadata": {},
   "outputs": [
    {
     "data": {
      "text/html": [
       "<div>\n",
       "<style scoped>\n",
       "    .dataframe tbody tr th:only-of-type {\n",
       "        vertical-align: middle;\n",
       "    }\n",
       "\n",
       "    .dataframe tbody tr th {\n",
       "        vertical-align: top;\n",
       "    }\n",
       "\n",
       "    .dataframe thead th {\n",
       "        text-align: right;\n",
       "    }\n",
       "</style>\n",
       "<table border=\"1\" class=\"dataframe\">\n",
       "  <thead>\n",
       "    <tr style=\"text-align: right;\">\n",
       "      <th></th>\n",
       "      <th>Total</th>\n",
       "      <th>Non-Met</th>\n",
       "    </tr>\n",
       "  </thead>\n",
       "  <tbody>\n",
       "    <tr>\n",
       "      <th>New packages created</th>\n",
       "      <td>127</td>\n",
       "      <td>10</td>\n",
       "    </tr>\n",
       "    <tr>\n",
       "      <th>Package updates</th>\n",
       "      <td>2159</td>\n",
       "      <td>62</td>\n",
       "    </tr>\n",
       "    <tr>\n",
       "      <th>Unique package updates</th>\n",
       "      <td>270</td>\n",
       "      <td>47</td>\n",
       "    </tr>\n",
       "  </tbody>\n",
       "</table>\n",
       "</div>"
      ],
      "text/plain": [
       "                        Total  Non-Met\n",
       "New packages created      127       10\n",
       "Package updates          2159       62\n",
       "Unique package updates    270       47"
      ]
     },
     "execution_count": 121,
     "metadata": {},
     "output_type": "execute_result"
    }
   ],
   "source": [
    "pkgtbl = pd.DataFrame({'Total':[daily.n_create.sum(), daily.n_update.sum(),len(uniqueUp)],\n",
    "                       'Non-Met':[daily_nomet.n_create.sum(), daily_nomet.n_update.sum(),len(uniqueUp_nomet)]})\n",
    "pkgtbl.index = ['New packages created', 'Package updates', 'Unique package updates']\n",
    "\n",
    "with open('tables_out/2020_annrpt_edi.md', 'w') as f:\n",
    "    f.write(pkgtbl.to_markdown(tablefmt=\"grid\"))\n",
    "\n",
    "pkgtbl"
   ]
  },
  {
   "cell_type": "code",
   "execution_count": 55,
   "metadata": {},
   "outputs": [
    {
     "data": {
      "text/plain": [
       "['https://portal.edirepository.org/nis/mapbrowse?scope=knb-lter-jrn&identifier=210437031',\n",
       " 'https://portal.edirepository.org/nis/mapbrowse?scope=knb-lter-jrn&identifier=210437016',\n",
       " 'https://portal.edirepository.org/nis/mapbrowse?scope=knb-lter-jrn&identifier=210437046',\n",
       " 'https://portal.edirepository.org/nis/mapbrowse?scope=knb-lter-jrn&identifier=210437061',\n",
       " 'https://portal.edirepository.org/nis/mapbrowse?scope=knb-lter-jrn&identifier=210437001',\n",
       " 'https://portal.edirepository.org/nis/mapbrowse?scope=knb-lter-jrn&identifier=210437091',\n",
       " 'https://portal.edirepository.org/nis/mapbrowse?scope=knb-lter-jrn&identifier=210437076',\n",
       " 'https://portal.edirepository.org/nis/mapbrowse?scope=knb-lter-jrn&identifier=210437032',\n",
       " 'https://portal.edirepository.org/nis/mapbrowse?scope=knb-lter-jrn&identifier=210437017',\n",
       " 'https://portal.edirepository.org/nis/mapbrowse?scope=knb-lter-jrn&identifier=210437047',\n",
       " 'https://portal.edirepository.org/nis/mapbrowse?scope=knb-lter-jrn&identifier=210437062',\n",
       " 'https://portal.edirepository.org/nis/mapbrowse?scope=knb-lter-jrn&identifier=210437002',\n",
       " 'https://portal.edirepository.org/nis/mapbrowse?scope=knb-lter-jrn&identifier=210437092',\n",
       " 'https://portal.edirepository.org/nis/mapbrowse?scope=knb-lter-jrn&identifier=210437077',\n",
       " 'https://portal.edirepository.org/nis/mapbrowse?scope=knb-lter-jrn&identifier=210437033',\n",
       " 'https://portal.edirepository.org/nis/mapbrowse?scope=knb-lter-jrn&identifier=210437018',\n",
       " 'https://portal.edirepository.org/nis/mapbrowse?scope=knb-lter-jrn&identifier=210437048',\n",
       " 'https://portal.edirepository.org/nis/mapbrowse?scope=knb-lter-jrn&identifier=210437063',\n",
       " 'https://portal.edirepository.org/nis/mapbrowse?scope=knb-lter-jrn&identifier=210437003',\n",
       " 'https://portal.edirepository.org/nis/mapbrowse?scope=knb-lter-jrn&identifier=210437093',\n",
       " 'https://portal.edirepository.org/nis/mapbrowse?scope=knb-lter-jrn&identifier=210437078',\n",
       " 'https://portal.edirepository.org/nis/mapbrowse?scope=knb-lter-jrn&identifier=210437034',\n",
       " 'https://portal.edirepository.org/nis/mapbrowse?scope=knb-lter-jrn&identifier=210437019',\n",
       " 'https://portal.edirepository.org/nis/mapbrowse?scope=knb-lter-jrn&identifier=210437049',\n",
       " 'https://portal.edirepository.org/nis/mapbrowse?scope=knb-lter-jrn&identifier=210437064',\n",
       " 'https://portal.edirepository.org/nis/mapbrowse?scope=knb-lter-jrn&identifier=210437004',\n",
       " 'https://portal.edirepository.org/nis/mapbrowse?scope=knb-lter-jrn&identifier=210437094',\n",
       " 'https://portal.edirepository.org/nis/mapbrowse?scope=knb-lter-jrn&identifier=210437079',\n",
       " 'https://portal.edirepository.org/nis/mapbrowse?scope=knb-lter-jrn&identifier=210437106',\n",
       " 'https://portal.edirepository.org/nis/mapbrowse?scope=knb-lter-jrn&identifier=210437035',\n",
       " 'https://portal.edirepository.org/nis/mapbrowse?scope=knb-lter-jrn&identifier=210437020',\n",
       " 'https://portal.edirepository.org/nis/mapbrowse?scope=knb-lter-jrn&identifier=210437050',\n",
       " 'https://portal.edirepository.org/nis/mapbrowse?scope=knb-lter-jrn&identifier=210437065',\n",
       " 'https://portal.edirepository.org/nis/mapbrowse?scope=knb-lter-jrn&identifier=210437005',\n",
       " 'https://portal.edirepository.org/nis/mapbrowse?scope=knb-lter-jrn&identifier=210437095',\n",
       " 'https://portal.edirepository.org/nis/mapbrowse?scope=knb-lter-jrn&identifier=210437080',\n",
       " 'https://portal.edirepository.org/nis/mapbrowse?scope=knb-lter-jrn&identifier=210437036',\n",
       " 'https://portal.edirepository.org/nis/mapbrowse?scope=knb-lter-jrn&identifier=210437021',\n",
       " 'https://portal.edirepository.org/nis/mapbrowse?scope=knb-lter-jrn&identifier=210437051',\n",
       " 'https://portal.edirepository.org/nis/mapbrowse?scope=knb-lter-jrn&identifier=210437066',\n",
       " 'https://portal.edirepository.org/nis/mapbrowse?scope=knb-lter-jrn&identifier=210437006',\n",
       " 'https://portal.edirepository.org/nis/mapbrowse?scope=knb-lter-jrn&identifier=210437096',\n",
       " 'https://portal.edirepository.org/nis/mapbrowse?scope=knb-lter-jrn&identifier=210437081',\n",
       " 'https://portal.edirepository.org/nis/mapbrowse?scope=knb-lter-jrn&identifier=210437037',\n",
       " 'https://portal.edirepository.org/nis/mapbrowse?scope=knb-lter-jrn&identifier=210437022',\n",
       " 'https://portal.edirepository.org/nis/mapbrowse?scope=knb-lter-jrn&identifier=210437052',\n",
       " 'https://portal.edirepository.org/nis/mapbrowse?scope=knb-lter-jrn&identifier=210437067',\n",
       " 'https://portal.edirepository.org/nis/mapbrowse?scope=knb-lter-jrn&identifier=210437007',\n",
       " 'https://portal.edirepository.org/nis/mapbrowse?scope=knb-lter-jrn&identifier=210437097',\n",
       " 'https://portal.edirepository.org/nis/mapbrowse?scope=knb-lter-jrn&identifier=210437082',\n",
       " 'https://portal.edirepository.org/nis/mapbrowse?scope=knb-lter-jrn&identifier=210437038',\n",
       " 'https://portal.edirepository.org/nis/mapbrowse?scope=knb-lter-jrn&identifier=210437023',\n",
       " 'https://portal.edirepository.org/nis/mapbrowse?scope=knb-lter-jrn&identifier=210437053',\n",
       " 'https://portal.edirepository.org/nis/mapbrowse?scope=knb-lter-jrn&identifier=210437068',\n",
       " 'https://portal.edirepository.org/nis/mapbrowse?scope=knb-lter-jrn&identifier=210437008',\n",
       " 'https://portal.edirepository.org/nis/mapbrowse?scope=knb-lter-jrn&identifier=210437098',\n",
       " 'https://portal.edirepository.org/nis/mapbrowse?scope=knb-lter-jrn&identifier=210437083',\n",
       " 'https://portal.edirepository.org/nis/mapbrowse?scope=knb-lter-jrn&identifier=210437039',\n",
       " 'https://portal.edirepository.org/nis/mapbrowse?scope=knb-lter-jrn&identifier=210437024',\n",
       " 'https://portal.edirepository.org/nis/mapbrowse?scope=knb-lter-jrn&identifier=210437054',\n",
       " 'https://portal.edirepository.org/nis/mapbrowse?scope=knb-lter-jrn&identifier=210437069',\n",
       " 'https://portal.edirepository.org/nis/mapbrowse?scope=knb-lter-jrn&identifier=210437009',\n",
       " 'https://portal.edirepository.org/nis/mapbrowse?scope=knb-lter-jrn&identifier=210437099',\n",
       " 'https://portal.edirepository.org/nis/mapbrowse?scope=knb-lter-jrn&identifier=210437084',\n",
       " 'https://portal.edirepository.org/nis/mapbrowse?scope=knb-lter-jrn&identifier=210437040',\n",
       " 'https://portal.edirepository.org/nis/mapbrowse?scope=knb-lter-jrn&identifier=210437025',\n",
       " 'https://portal.edirepository.org/nis/mapbrowse?scope=knb-lter-jrn&identifier=210437055',\n",
       " 'https://portal.edirepository.org/nis/mapbrowse?scope=knb-lter-jrn&identifier=210437070',\n",
       " 'https://portal.edirepository.org/nis/mapbrowse?scope=knb-lter-jrn&identifier=210437010',\n",
       " 'https://portal.edirepository.org/nis/mapbrowse?scope=knb-lter-jrn&identifier=210437100',\n",
       " 'https://portal.edirepository.org/nis/mapbrowse?scope=knb-lter-jrn&identifier=210437085',\n",
       " 'https://portal.edirepository.org/nis/mapbrowse?scope=knb-lter-jrn&identifier=210437041',\n",
       " 'https://portal.edirepository.org/nis/mapbrowse?scope=knb-lter-jrn&identifier=210437011',\n",
       " 'https://portal.edirepository.org/nis/mapbrowse?scope=knb-lter-jrn&identifier=210437026',\n",
       " 'https://portal.edirepository.org/nis/mapbrowse?scope=knb-lter-jrn&identifier=210437056',\n",
       " 'https://portal.edirepository.org/nis/mapbrowse?scope=knb-lter-jrn&identifier=210437071',\n",
       " 'https://portal.edirepository.org/nis/mapbrowse?scope=knb-lter-jrn&identifier=210437086',\n",
       " 'https://portal.edirepository.org/nis/mapbrowse?scope=knb-lter-jrn&identifier=210437101',\n",
       " 'https://portal.edirepository.org/nis/mapbrowse?scope=knb-lter-jrn&identifier=210437042',\n",
       " 'https://portal.edirepository.org/nis/mapbrowse?scope=knb-lter-jrn&identifier=210437027',\n",
       " 'https://portal.edirepository.org/nis/mapbrowse?scope=knb-lter-jrn&identifier=210437057',\n",
       " 'https://portal.edirepository.org/nis/mapbrowse?scope=knb-lter-jrn&identifier=210437072',\n",
       " 'https://portal.edirepository.org/nis/mapbrowse?scope=knb-lter-jrn&identifier=210437012',\n",
       " 'https://portal.edirepository.org/nis/mapbrowse?scope=knb-lter-jrn&identifier=210437087',\n",
       " 'https://portal.edirepository.org/nis/mapbrowse?scope=knb-lter-jrn&identifier=210437102',\n",
       " 'https://portal.edirepository.org/nis/mapbrowse?scope=knb-lter-jrn&identifier=210437043',\n",
       " 'https://portal.edirepository.org/nis/mapbrowse?scope=knb-lter-jrn&identifier=210437028',\n",
       " 'https://portal.edirepository.org/nis/mapbrowse?scope=knb-lter-jrn&identifier=210437058',\n",
       " 'https://portal.edirepository.org/nis/mapbrowse?scope=knb-lter-jrn&identifier=210437073',\n",
       " 'https://portal.edirepository.org/nis/mapbrowse?scope=knb-lter-jrn&identifier=210437013',\n",
       " 'https://portal.edirepository.org/nis/mapbrowse?scope=knb-lter-jrn&identifier=210437103',\n",
       " 'https://portal.edirepository.org/nis/mapbrowse?scope=knb-lter-jrn&identifier=210437088',\n",
       " 'https://portal.edirepository.org/nis/mapbrowse?scope=knb-lter-jrn&identifier=210437044',\n",
       " 'https://portal.edirepository.org/nis/mapbrowse?scope=knb-lter-jrn&identifier=210437029',\n",
       " 'https://portal.edirepository.org/nis/mapbrowse?scope=knb-lter-jrn&identifier=210437059',\n",
       " 'https://portal.edirepository.org/nis/mapbrowse?scope=knb-lter-jrn&identifier=210437074',\n",
       " 'https://portal.edirepository.org/nis/mapbrowse?scope=knb-lter-jrn&identifier=210437014',\n",
       " 'https://portal.edirepository.org/nis/mapbrowse?scope=knb-lter-jrn&identifier=210437104',\n",
       " 'https://portal.edirepository.org/nis/mapbrowse?scope=knb-lter-jrn&identifier=210437089',\n",
       " 'https://portal.edirepository.org/nis/mapbrowse?scope=knb-lter-jrn&identifier=210437045',\n",
       " 'https://portal.edirepository.org/nis/mapbrowse?scope=knb-lter-jrn&identifier=210437030',\n",
       " 'https://portal.edirepository.org/nis/mapbrowse?scope=knb-lter-jrn&identifier=210437060',\n",
       " 'https://portal.edirepository.org/nis/mapbrowse?scope=knb-lter-jrn&identifier=210437075',\n",
       " 'https://portal.edirepository.org/nis/mapbrowse?scope=knb-lter-jrn&identifier=210437015',\n",
       " 'https://portal.edirepository.org/nis/mapbrowse?scope=knb-lter-jrn&identifier=210437105',\n",
       " 'https://portal.edirepository.org/nis/mapbrowse?scope=knb-lter-jrn&identifier=210437090',\n",
       " 'https://portal.edirepository.org/nis/mapbrowse?scope=knb-lter-jrn&identifier=210412001',\n",
       " 'https://portal.edirepository.org/nis/mapbrowse?scope=knb-lter-jrn&identifier=210012001',\n",
       " 'https://portal.edirepository.org/nis/mapbrowse?scope=knb-lter-jrn&identifier=210012002',\n",
       " 'https://portal.edirepository.org/nis/mapbrowse?scope=knb-lter-jrn&identifier=210010001',\n",
       " 'https://portal.edirepository.org/nis/mapbrowse?scope=knb-lter-jrn&identifier=210086002',\n",
       " 'https://portal.edirepository.org/nis/mapbrowse?scope=knb-lter-jrn&identifier=210086001',\n",
       " 'https://portal.edirepository.org/nis/mapbrowse?scope=knb-lter-jrn&identifier=210122001',\n",
       " 'https://portal.edirepository.org/nis/mapbrowse?scope=knb-lter-jrn&identifier=210380001',\n",
       " 'https://portal.edirepository.org/nis/mapbrowse?scope=knb-lter-jrn&identifier=210328001',\n",
       " 'https://portal.edirepository.org/nis/mapbrowse?scope=knb-lter-jrn&identifier=210328002',\n",
       " 'https://portal.edirepository.org/nis/mapbrowse?scope=knb-lter-jrn&identifier=210328003',\n",
       " 'https://portal.edirepository.org/nis/mapbrowse?scope=knb-lter-jrn&identifier=210308001',\n",
       " 'https://portal.edirepository.org/nis/mapbrowse?scope=knb-lter-jrn&identifier=210308002',\n",
       " 'https://portal.edirepository.org/nis/mapbrowse?scope=knb-lter-jrn&identifier=210308003',\n",
       " 'https://portal.edirepository.org/nis/mapbrowse?scope=knb-lter-jrn&identifier=210308005',\n",
       " 'https://portal.edirepository.org/nis/mapbrowse?scope=knb-lter-jrn&identifier=210126003',\n",
       " 'https://portal.edirepository.org/nis/mapbrowse?scope=knb-lter-jrn&identifier=210262001',\n",
       " 'https://portal.edirepository.org/nis/mapbrowse?scope=knb-lter-jrn&identifier=210262004',\n",
       " 'https://portal.edirepository.org/nis/mapbrowse?scope=knb-lter-jrn&identifier=210262005',\n",
       " 'https://portal.edirepository.org/nis/mapbrowse?scope=knb-lter-jrn&identifier=210128001',\n",
       " 'https://portal.edirepository.org/nis/mapbrowse?scope=knb-lter-jrn&identifier=210128002',\n",
       " 'https://portal.edirepository.org/nis/mapbrowse?scope=knb-lter-jrn&identifier=210262008',\n",
       " 'https://portal.edirepository.org/nis/mapbrowse?scope=knb-lter-jrn&identifier=210392001',\n",
       " 'https://portal.edirepository.org/nis/mapbrowse?scope=knb-lter-jrn&identifier=210379001',\n",
       " 'https://portal.edirepository.org/nis/mapbrowse?scope=knb-lter-jrn&identifier=210379002',\n",
       " 'https://portal.edirepository.org/nis/mapbrowse?scope=knb-lter-jrn&identifier=210379003',\n",
       " 'https://portal.edirepository.org/nis/mapbrowse?scope=knb-lter-jrn&identifier=210287001',\n",
       " 'https://portal.edirepository.org/nis/mapbrowse?scope=knb-lter-jrn&identifier=210278002',\n",
       " 'https://portal.edirepository.org/nis/mapbrowse?scope=knb-lter-jrn&identifier=210278001',\n",
       " 'https://portal.edirepository.org/nis/mapbrowse?scope=knb-lter-jrn&identifier=210338006',\n",
       " 'https://portal.edirepository.org/nis/mapbrowse?scope=knb-lter-jrn&identifier=210338004',\n",
       " 'https://portal.edirepository.org/nis/mapbrowse?scope=knb-lter-jrn&identifier=210338002',\n",
       " 'https://portal.edirepository.org/nis/mapbrowse?scope=knb-lter-jrn&identifier=210351002',\n",
       " 'https://portal.edirepository.org/nis/mapbrowse?scope=knb-lter-jrn&identifier=210351001',\n",
       " 'https://portal.edirepository.org/nis/mapbrowse?scope=knb-lter-jrn&identifier=210011003',\n",
       " 'https://portal.edirepository.org/nis/mapbrowse?scope=knb-lter-jrn&identifier=210425001',\n",
       " 'https://portal.edirepository.org/nis/mapbrowse?scope=knb-lter-jrn&identifier=210262010',\n",
       " 'https://portal.edirepository.org/nis/mapbrowse?scope=knb-lter-jrn&identifier=210365001',\n",
       " 'https://portal.edirepository.org/nis/mapbrowse?scope=knb-lter-jrn&identifier=210548016',\n",
       " 'https://portal.edirepository.org/nis/mapbrowse?scope=knb-lter-jrn&identifier=210548031',\n",
       " 'https://portal.edirepository.org/nis/mapbrowse?scope=knb-lter-jrn&identifier=210548076',\n",
       " 'https://portal.edirepository.org/nis/mapbrowse?scope=knb-lter-jrn&identifier=210548046',\n",
       " 'https://portal.edirepository.org/nis/mapbrowse?scope=knb-lter-jrn&identifier=210548025',\n",
       " 'https://portal.edirepository.org/nis/mapbrowse?scope=knb-lter-jrn&identifier=210548061',\n",
       " 'https://portal.edirepository.org/nis/mapbrowse?scope=knb-lter-jrn&identifier=210548001',\n",
       " 'https://portal.edirepository.org/nis/mapbrowse?scope=knb-lter-jrn&identifier=210548040',\n",
       " 'https://portal.edirepository.org/nis/mapbrowse?scope=knb-lter-jrn&identifier=210548085',\n",
       " 'https://portal.edirepository.org/nis/mapbrowse?scope=knb-lter-jrn&identifier=210548055',\n",
       " 'https://portal.edirepository.org/nis/mapbrowse?scope=knb-lter-jrn&identifier=210548099',\n",
       " 'https://portal.edirepository.org/nis/mapbrowse?scope=knb-lter-jrn&identifier=210548026',\n",
       " 'https://portal.edirepository.org/nis/mapbrowse?scope=knb-lter-jrn&identifier=210548070',\n",
       " 'https://portal.edirepository.org/nis/mapbrowse?scope=knb-lter-jrn&identifier=210548010',\n",
       " 'https://portal.edirepository.org/nis/mapbrowse?scope=knb-lter-jrn&identifier=210548041',\n",
       " 'https://portal.edirepository.org/nis/mapbrowse?scope=knb-lter-jrn&identifier=210548086',\n",
       " 'https://portal.edirepository.org/nis/mapbrowse?scope=knb-lter-jrn&identifier=210548056',\n",
       " 'https://portal.edirepository.org/nis/mapbrowse?scope=knb-lter-jrn&identifier=210548100',\n",
       " 'https://portal.edirepository.org/nis/mapbrowse?scope=knb-lter-jrn&identifier=210548027',\n",
       " 'https://portal.edirepository.org/nis/mapbrowse?scope=knb-lter-jrn&identifier=210548071',\n",
       " 'https://portal.edirepository.org/nis/mapbrowse?scope=knb-lter-jrn&identifier=210548011',\n",
       " 'https://portal.edirepository.org/nis/mapbrowse?scope=knb-lter-jrn&identifier=210548042',\n",
       " 'https://portal.edirepository.org/nis/mapbrowse?scope=knb-lter-jrn&identifier=210548087',\n",
       " 'https://portal.edirepository.org/nis/mapbrowse?scope=knb-lter-jrn&identifier=210548057',\n",
       " 'https://portal.edirepository.org/nis/mapbrowse?scope=knb-lter-jrn&identifier=210548028',\n",
       " 'https://portal.edirepository.org/nis/mapbrowse?scope=knb-lter-jrn&identifier=210548072',\n",
       " 'https://portal.edirepository.org/nis/mapbrowse?scope=knb-lter-jrn&identifier=210548012',\n",
       " 'https://portal.edirepository.org/nis/mapbrowse?scope=knb-lter-jrn&identifier=210548043',\n",
       " 'https://portal.edirepository.org/nis/mapbrowse?scope=knb-lter-jrn&identifier=210548088',\n",
       " 'https://portal.edirepository.org/nis/mapbrowse?scope=knb-lter-jrn&identifier=210548058',\n",
       " 'https://portal.edirepository.org/nis/mapbrowse?scope=knb-lter-jrn&identifier=210548101',\n",
       " 'https://portal.edirepository.org/nis/mapbrowse?scope=knb-lter-jrn&identifier=210548029',\n",
       " 'https://portal.edirepository.org/nis/mapbrowse?scope=knb-lter-jrn&identifier=210548073',\n",
       " 'https://portal.edirepository.org/nis/mapbrowse?scope=knb-lter-jrn&identifier=210548013',\n",
       " 'https://portal.edirepository.org/nis/mapbrowse?scope=knb-lter-jrn&identifier=210548044',\n",
       " 'https://portal.edirepository.org/nis/mapbrowse?scope=knb-lter-jrn&identifier=210548089',\n",
       " 'https://portal.edirepository.org/nis/mapbrowse?scope=knb-lter-jrn&identifier=210548059',\n",
       " 'https://portal.edirepository.org/nis/mapbrowse?scope=knb-lter-jrn&identifier=210548102',\n",
       " 'https://portal.edirepository.org/nis/mapbrowse?scope=knb-lter-jrn&identifier=210548030',\n",
       " 'https://portal.edirepository.org/nis/mapbrowse?scope=knb-lter-jrn&identifier=210548074',\n",
       " 'https://portal.edirepository.org/nis/mapbrowse?scope=knb-lter-jrn&identifier=210548014',\n",
       " 'https://portal.edirepository.org/nis/mapbrowse?scope=knb-lter-jrn&identifier=210548045',\n",
       " 'https://portal.edirepository.org/nis/mapbrowse?scope=knb-lter-jrn&identifier=210548090',\n",
       " 'https://portal.edirepository.org/nis/mapbrowse?scope=knb-lter-jrn&identifier=210548060',\n",
       " 'https://portal.edirepository.org/nis/mapbrowse?scope=knb-lter-jrn&identifier=210548103',\n",
       " 'https://portal.edirepository.org/nis/mapbrowse?scope=knb-lter-jrn&identifier=210548017',\n",
       " 'https://portal.edirepository.org/nis/mapbrowse?scope=knb-lter-jrn&identifier=210548015',\n",
       " 'https://portal.edirepository.org/nis/mapbrowse?scope=knb-lter-jrn&identifier=210548075',\n",
       " 'https://portal.edirepository.org/nis/mapbrowse?scope=knb-lter-jrn&identifier=210548032',\n",
       " 'https://portal.edirepository.org/nis/mapbrowse?scope=knb-lter-jrn&identifier=210548077',\n",
       " 'https://portal.edirepository.org/nis/mapbrowse?scope=knb-lter-jrn&identifier=210548047',\n",
       " 'https://portal.edirepository.org/nis/mapbrowse?scope=knb-lter-jrn&identifier=210548091',\n",
       " 'https://portal.edirepository.org/nis/mapbrowse?scope=knb-lter-jrn&identifier=210548018',\n",
       " 'https://portal.edirepository.org/nis/mapbrowse?scope=knb-lter-jrn&identifier=210548062',\n",
       " 'https://portal.edirepository.org/nis/mapbrowse?scope=knb-lter-jrn&identifier=210548002',\n",
       " 'https://portal.edirepository.org/nis/mapbrowse?scope=knb-lter-jrn&identifier=210548033',\n",
       " 'https://portal.edirepository.org/nis/mapbrowse?scope=knb-lter-jrn&identifier=210548078',\n",
       " 'https://portal.edirepository.org/nis/mapbrowse?scope=knb-lter-jrn&identifier=210548048',\n",
       " 'https://portal.edirepository.org/nis/mapbrowse?scope=knb-lter-jrn&identifier=210548092',\n",
       " 'https://portal.edirepository.org/nis/mapbrowse?scope=knb-lter-jrn&identifier=210548019',\n",
       " 'https://portal.edirepository.org/nis/mapbrowse?scope=knb-lter-jrn&identifier=210548063',\n",
       " 'https://portal.edirepository.org/nis/mapbrowse?scope=knb-lter-jrn&identifier=210548003',\n",
       " 'https://portal.edirepository.org/nis/mapbrowse?scope=knb-lter-jrn&identifier=210548034',\n",
       " 'https://portal.edirepository.org/nis/mapbrowse?scope=knb-lter-jrn&identifier=210548079',\n",
       " 'https://portal.edirepository.org/nis/mapbrowse?scope=knb-lter-jrn&identifier=210548049',\n",
       " 'https://portal.edirepository.org/nis/mapbrowse?scope=knb-lter-jrn&identifier=210548093',\n",
       " 'https://portal.edirepository.org/nis/mapbrowse?scope=knb-lter-jrn&identifier=210548004',\n",
       " 'https://portal.edirepository.org/nis/mapbrowse?scope=knb-lter-jrn&identifier=210548020',\n",
       " 'https://portal.edirepository.org/nis/mapbrowse?scope=knb-lter-jrn&identifier=210548064',\n",
       " 'https://portal.edirepository.org/nis/mapbrowse?scope=knb-lter-jrn&identifier=210548035',\n",
       " 'https://portal.edirepository.org/nis/mapbrowse?scope=knb-lter-jrn&identifier=210548080',\n",
       " 'https://portal.edirepository.org/nis/mapbrowse?scope=knb-lter-jrn&identifier=210548050',\n",
       " 'https://portal.edirepository.org/nis/mapbrowse?scope=knb-lter-jrn&identifier=210548094',\n",
       " 'https://portal.edirepository.org/nis/mapbrowse?scope=knb-lter-jrn&identifier=210548021',\n",
       " 'https://portal.edirepository.org/nis/mapbrowse?scope=knb-lter-jrn&identifier=210548005',\n",
       " 'https://portal.edirepository.org/nis/mapbrowse?scope=knb-lter-jrn&identifier=210548065',\n",
       " 'https://portal.edirepository.org/nis/mapbrowse?scope=knb-lter-jrn&identifier=210548036',\n",
       " 'https://portal.edirepository.org/nis/mapbrowse?scope=knb-lter-jrn&identifier=210548081',\n",
       " 'https://portal.edirepository.org/nis/mapbrowse?scope=knb-lter-jrn&identifier=210548051',\n",
       " 'https://portal.edirepository.org/nis/mapbrowse?scope=knb-lter-jrn&identifier=210548095',\n",
       " 'https://portal.edirepository.org/nis/mapbrowse?scope=knb-lter-jrn&identifier=210548022',\n",
       " 'https://portal.edirepository.org/nis/mapbrowse?scope=knb-lter-jrn&identifier=210548066',\n",
       " 'https://portal.edirepository.org/nis/mapbrowse?scope=knb-lter-jrn&identifier=210548006',\n",
       " 'https://portal.edirepository.org/nis/mapbrowse?scope=knb-lter-jrn&identifier=210548037',\n",
       " 'https://portal.edirepository.org/nis/mapbrowse?scope=knb-lter-jrn&identifier=210548082',\n",
       " 'https://portal.edirepository.org/nis/mapbrowse?scope=knb-lter-jrn&identifier=210548052',\n",
       " 'https://portal.edirepository.org/nis/mapbrowse?scope=knb-lter-jrn&identifier=210548096',\n",
       " 'https://portal.edirepository.org/nis/mapbrowse?scope=knb-lter-jrn&identifier=210548023',\n",
       " 'https://portal.edirepository.org/nis/mapbrowse?scope=knb-lter-jrn&identifier=210548067',\n",
       " 'https://portal.edirepository.org/nis/mapbrowse?scope=knb-lter-jrn&identifier=210548007',\n",
       " 'https://portal.edirepository.org/nis/mapbrowse?scope=knb-lter-jrn&identifier=210548038',\n",
       " 'https://portal.edirepository.org/nis/mapbrowse?scope=knb-lter-jrn&identifier=210548083',\n",
       " 'https://portal.edirepository.org/nis/mapbrowse?scope=knb-lter-jrn&identifier=210548053',\n",
       " 'https://portal.edirepository.org/nis/mapbrowse?scope=knb-lter-jrn&identifier=210548097',\n",
       " 'https://portal.edirepository.org/nis/mapbrowse?scope=knb-lter-jrn&identifier=210548024',\n",
       " 'https://portal.edirepository.org/nis/mapbrowse?scope=knb-lter-jrn&identifier=210548068',\n",
       " 'https://portal.edirepository.org/nis/mapbrowse?scope=knb-lter-jrn&identifier=210548008',\n",
       " 'https://portal.edirepository.org/nis/mapbrowse?scope=knb-lter-jrn&identifier=210548039',\n",
       " 'https://portal.edirepository.org/nis/mapbrowse?scope=knb-lter-jrn&identifier=210548084',\n",
       " 'https://portal.edirepository.org/nis/mapbrowse?scope=knb-lter-jrn&identifier=210548054',\n",
       " 'https://portal.edirepository.org/nis/mapbrowse?scope=knb-lter-jrn&identifier=210548098',\n",
       " 'https://portal.edirepository.org/nis/mapbrowse?scope=knb-lter-jrn&identifier=210548069',\n",
       " 'https://portal.edirepository.org/nis/mapbrowse?scope=knb-lter-jrn&identifier=210548009',\n",
       " 'https://portal.edirepository.org/nis/mapbrowse?scope=knb-lter-jrn&identifier=210385001',\n",
       " 'https://portal.edirepository.org/nis/mapbrowse?scope=knb-lter-jrn&identifier=210385004',\n",
       " 'https://portal.edirepository.org/nis/mapbrowse?scope=knb-lter-jrn&identifier=210351003',\n",
       " 'https://portal.edirepository.org/nis/mapbrowse?scope=knb-lter-jrn&identifier=210385005',\n",
       " 'https://portal.edirepository.org/nis/mapbrowse?scope=knb-lter-jrn&identifier=210385006',\n",
       " 'https://portal.edirepository.org/nis/mapbrowse?scope=knb-lter-jrn&identifier=210385008',\n",
       " 'https://portal.edirepository.org/nis/mapbrowse?scope=knb-lter-jrn&identifier=210385002',\n",
       " 'https://portal.edirepository.org/nis/mapbrowse?scope=knb-lter-jrn&identifier=210385003',\n",
       " 'https://portal.edirepository.org/nis/mapbrowse?scope=knb-lter-jrn&identifier=210385007',\n",
       " 'https://portal.edirepository.org/nis/mapbrowse?scope=knb-lter-jrn&identifier=210338005',\n",
       " 'https://portal.edirepository.org/nis/mapbrowse?scope=knb-lter-jrn&identifier=210001003',\n",
       " 'https://portal.edirepository.org/nis/mapbrowse?scope=knb-lter-jrn&identifier=100',\n",
       " 'https://portal.edirepository.org/nis/mapbrowse?scope=knb-lter-jrn&identifier=210001001',\n",
       " 'https://portal.edirepository.org/nis/mapbrowse?scope=knb-lter-jrn&identifier=210437107',\n",
       " 'https://portal.edirepository.org/nis/mapbrowse?scope=knb-lter-jrn&identifier=210437108',\n",
       " 'https://portal.edirepository.org/nis/mapbrowse?scope=knb-lter-jrn&identifier=210437109',\n",
       " 'https://portal.edirepository.org/nis/mapbrowse?scope=knb-lter-jrn&identifier=210437110',\n",
       " 'https://portal.edirepository.org/nis/mapbrowse?scope=knb-lter-jrn&identifier=210437111',\n",
       " 'https://portal.edirepository.org/nis/mapbrowse?scope=knb-lter-jrn&identifier=210437112',\n",
       " 'https://portal.edirepository.org/nis/mapbrowse?scope=knb-lter-jrn&identifier=210437113',\n",
       " 'https://portal.edirepository.org/nis/mapbrowse?scope=knb-lter-jrn&identifier=210437114',\n",
       " 'https://portal.edirepository.org/nis/mapbrowse?scope=knb-lter-jrn&identifier=210437115',\n",
       " 'https://portal.edirepository.org/nis/mapbrowse?scope=knb-lter-jrn&identifier=210437116',\n",
       " 'https://portal.edirepository.org/nis/mapbrowse?scope=knb-lter-jrn&identifier=210437117',\n",
       " 'https://portal.edirepository.org/nis/mapbrowse?scope=knb-lter-jrn&identifier=210437118',\n",
       " 'https://portal.edirepository.org/nis/mapbrowse?scope=knb-lter-jrn&identifier=210437119']"
      ]
     },
     "execution_count": 55,
     "metadata": {},
     "output_type": "execute_result"
    }
   ],
   "source": [
    "uniqueUp2 = ['https://portal.edirepository.org/nis/mapbrowse?scope=knb-lter-jrn&identifier=' + str(s)\n",
    "             for s in uniqueUp]\n",
    "with open('2020AR_unique_EDI_updates.txt', 'w') as f:\n",
    "    for item in uniqueUp2:\n",
    "        f.write(\"%s\\n\" % item)\n",
    "        \n",
    "uniqueUp2\n"
   ]
  }
 ],
 "metadata": {
  "kernelspec": {
   "display_name": "Python 3",
   "language": "python",
   "name": "python3"
  },
  "language_info": {
   "codemirror_mode": {
    "name": "ipython",
    "version": 3
   },
   "file_extension": ".py",
   "mimetype": "text/x-python",
   "name": "python",
   "nbconvert_exporter": "python",
   "pygments_lexer": "ipython3",
   "version": "3.7.9"
  }
 },
 "nbformat": 4,
 "nbformat_minor": 4
}
