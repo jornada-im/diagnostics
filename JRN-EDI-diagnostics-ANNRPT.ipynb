{
 "cells": [
  {
   "cell_type": "code",
   "execution_count": 1,
   "metadata": {},
   "outputs": [],
   "source": [
    "import sys\n",
    "sys.path.append('/home/greg/GitHub/')\n",
    "import pyEDIutils.changes as edi\n",
    "import pandas as pd\n",
    "import numpy as np"
   ]
  },
  {
   "cell_type": "code",
   "execution_count": 2,
   "metadata": {},
   "outputs": [
    {
     "name": "stdout",
     "output_type": "stream",
     "text": [
      "Requesting PASTA changes for knb-lter-jrn from 2021-06-02 to 2021-11-09\n",
      "https://pasta.lternet.edu/package/changes/eml?fromDate=2021-06-02&toDate=2021-11-09&scope=knb-lter-jrn\n",
      "0 duplicate records were removed.\n"
     ]
    }
   ],
   "source": [
    "# Request changes from Dec 2021 to ...\n",
    "new = edi.request_changes('2021-06-02', '2021-11-09')"
   ]
  },
  {
   "cell_type": "code",
   "execution_count": 3,
   "metadata": {},
   "outputs": [
    {
     "name": "stdout",
     "output_type": "stream",
     "text": [
      "Reading archived PASTA request knb-lter-jrn_20150417-20181231.xml\n",
      "Reading archived PASTA request knb-lter-jrn_20190101-20191231.xml\n",
      "Reading archived PASTA request knb-lter-jrn_20200101-20200601.xml\n",
      "Reading archived PASTA request knb-lter-jrn_20200602-20201201.xml\n",
      "Reading archived PASTA request knb-lter-jrn_20201202-20210601.xml\n",
      "9 duplicate records were removed.\n"
     ]
    }
   ],
   "source": [
    "old = edi.archived_changes()"
   ]
  },
  {
   "cell_type": "code",
   "execution_count": 4,
   "metadata": {},
   "outputs": [
    {
     "data": {
      "text/plain": [
       "'2021-05-05T15:46:06.9'"
      ]
     },
     "execution_count": 4,
     "metadata": {},
     "output_type": "execute_result"
    }
   ],
   "source": [
    "max(old.date)"
   ]
  },
  {
   "cell_type": "code",
   "execution_count": 5,
   "metadata": {},
   "outputs": [
    {
     "data": {
      "text/html": [
       "<div>\n",
       "<style scoped>\n",
       "    .dataframe tbody tr th:only-of-type {\n",
       "        vertical-align: middle;\n",
       "    }\n",
       "\n",
       "    .dataframe tbody tr th {\n",
       "        vertical-align: top;\n",
       "    }\n",
       "\n",
       "    .dataframe thead th {\n",
       "        text-align: right;\n",
       "    }\n",
       "</style>\n",
       "<table border=\"1\" class=\"dataframe\">\n",
       "  <thead>\n",
       "    <tr style=\"text-align: right;\">\n",
       "      <th></th>\n",
       "      <th>date</th>\n",
       "      <th>pkgid</th>\n",
       "      <th>action</th>\n",
       "    </tr>\n",
       "  </thead>\n",
       "  <tbody>\n",
       "    <tr>\n",
       "      <th>0</th>\n",
       "      <td>2015-04-17T14:42:05.936</td>\n",
       "      <td>2100011003</td>\n",
       "      <td>createDataPackage</td>\n",
       "    </tr>\n",
       "    <tr>\n",
       "      <th>1</th>\n",
       "      <td>2015-04-17T15:43:26.172</td>\n",
       "      <td>210120002</td>\n",
       "      <td>createDataPackage</td>\n",
       "    </tr>\n",
       "    <tr>\n",
       "      <th>2</th>\n",
       "      <td>2015-04-17T15:43:26.771</td>\n",
       "      <td>2100392001</td>\n",
       "      <td>createDataPackage</td>\n",
       "    </tr>\n",
       "    <tr>\n",
       "      <th>3</th>\n",
       "      <td>2015-04-17T15:43:41.508</td>\n",
       "      <td>2100169002</td>\n",
       "      <td>createDataPackage</td>\n",
       "    </tr>\n",
       "    <tr>\n",
       "      <th>4</th>\n",
       "      <td>2015-04-17T15:43:45.55</td>\n",
       "      <td>2100010001</td>\n",
       "      <td>createDataPackage</td>\n",
       "    </tr>\n",
       "    <tr>\n",
       "      <th>...</th>\n",
       "      <td>...</td>\n",
       "      <td>...</td>\n",
       "      <td>...</td>\n",
       "    </tr>\n",
       "    <tr>\n",
       "      <th>813</th>\n",
       "      <td>2021-10-13T14:43:34.426</td>\n",
       "      <td>210437015</td>\n",
       "      <td>updateDataPackage</td>\n",
       "    </tr>\n",
       "    <tr>\n",
       "      <th>814</th>\n",
       "      <td>2021-10-13T14:58:41.276</td>\n",
       "      <td>210437109</td>\n",
       "      <td>updateDataPackage</td>\n",
       "    </tr>\n",
       "    <tr>\n",
       "      <th>815</th>\n",
       "      <td>2021-10-20T13:51:15.187</td>\n",
       "      <td>210380001</td>\n",
       "      <td>updateDataPackage</td>\n",
       "    </tr>\n",
       "    <tr>\n",
       "      <th>816</th>\n",
       "      <td>2021-10-25T08:51:11.17</td>\n",
       "      <td>200022001</td>\n",
       "      <td>createDataPackage</td>\n",
       "    </tr>\n",
       "    <tr>\n",
       "      <th>817</th>\n",
       "      <td>2021-11-04T13:17:16.928</td>\n",
       "      <td>200021001</td>\n",
       "      <td>updateDataPackage</td>\n",
       "    </tr>\n",
       "  </tbody>\n",
       "</table>\n",
       "<p>4862 rows × 3 columns</p>\n",
       "</div>"
      ],
      "text/plain": [
       "                        date       pkgid             action\n",
       "0    2015-04-17T14:42:05.936  2100011003  createDataPackage\n",
       "1    2015-04-17T15:43:26.172   210120002  createDataPackage\n",
       "2    2015-04-17T15:43:26.771  2100392001  createDataPackage\n",
       "3    2015-04-17T15:43:41.508  2100169002  createDataPackage\n",
       "4     2015-04-17T15:43:45.55  2100010001  createDataPackage\n",
       "..                       ...         ...                ...\n",
       "813  2021-10-13T14:43:34.426   210437015  updateDataPackage\n",
       "814  2021-10-13T14:58:41.276   210437109  updateDataPackage\n",
       "815  2021-10-20T13:51:15.187   210380001  updateDataPackage\n",
       "816   2021-10-25T08:51:11.17   200022001  createDataPackage\n",
       "817  2021-11-04T13:17:16.928   200021001  updateDataPackage\n",
       "\n",
       "[4862 rows x 3 columns]"
      ]
     },
     "execution_count": 5,
     "metadata": {},
     "output_type": "execute_result"
    }
   ],
   "source": [
    "df = pd.concat([old, new])\n",
    "df"
   ]
  },
  {
   "cell_type": "code",
   "execution_count": 10,
   "metadata": {},
   "outputs": [],
   "source": [
    "df = edi.get_counts(df)"
   ]
  },
  {
   "cell_type": "code",
   "execution_count": 12,
   "metadata": {},
   "outputs": [
    {
     "data": {
      "text/html": [
       "<div>\n",
       "<style scoped>\n",
       "    .dataframe tbody tr th:only-of-type {\n",
       "        vertical-align: middle;\n",
       "    }\n",
       "\n",
       "    .dataframe tbody tr th {\n",
       "        vertical-align: top;\n",
       "    }\n",
       "\n",
       "    .dataframe thead th {\n",
       "        text-align: right;\n",
       "    }\n",
       "</style>\n",
       "<table border=\"1\" class=\"dataframe\">\n",
       "  <thead>\n",
       "    <tr style=\"text-align: right;\">\n",
       "      <th></th>\n",
       "      <th>n_update</th>\n",
       "      <th>n_create</th>\n",
       "      <th>n_tot</th>\n",
       "    </tr>\n",
       "    <tr>\n",
       "      <th>date</th>\n",
       "      <th></th>\n",
       "      <th></th>\n",
       "      <th></th>\n",
       "    </tr>\n",
       "  </thead>\n",
       "  <tbody>\n",
       "    <tr>\n",
       "      <th>2020-11-03</th>\n",
       "      <td>98</td>\n",
       "      <td>0</td>\n",
       "      <td>0</td>\n",
       "    </tr>\n",
       "    <tr>\n",
       "      <th>2020-11-04</th>\n",
       "      <td>4</td>\n",
       "      <td>0</td>\n",
       "      <td>0</td>\n",
       "    </tr>\n",
       "    <tr>\n",
       "      <th>2020-11-05</th>\n",
       "      <td>0</td>\n",
       "      <td>0</td>\n",
       "      <td>0</td>\n",
       "    </tr>\n",
       "    <tr>\n",
       "      <th>2020-11-06</th>\n",
       "      <td>0</td>\n",
       "      <td>0</td>\n",
       "      <td>0</td>\n",
       "    </tr>\n",
       "    <tr>\n",
       "      <th>2020-11-07</th>\n",
       "      <td>0</td>\n",
       "      <td>0</td>\n",
       "      <td>0</td>\n",
       "    </tr>\n",
       "    <tr>\n",
       "      <th>...</th>\n",
       "      <td>...</td>\n",
       "      <td>...</td>\n",
       "      <td>...</td>\n",
       "    </tr>\n",
       "    <tr>\n",
       "      <th>2021-10-31</th>\n",
       "      <td>0</td>\n",
       "      <td>0</td>\n",
       "      <td>0</td>\n",
       "    </tr>\n",
       "    <tr>\n",
       "      <th>2021-11-01</th>\n",
       "      <td>0</td>\n",
       "      <td>0</td>\n",
       "      <td>0</td>\n",
       "    </tr>\n",
       "    <tr>\n",
       "      <th>2021-11-02</th>\n",
       "      <td>0</td>\n",
       "      <td>0</td>\n",
       "      <td>0</td>\n",
       "    </tr>\n",
       "    <tr>\n",
       "      <th>2021-11-03</th>\n",
       "      <td>0</td>\n",
       "      <td>0</td>\n",
       "      <td>0</td>\n",
       "    </tr>\n",
       "    <tr>\n",
       "      <th>2021-11-04</th>\n",
       "      <td>1</td>\n",
       "      <td>0</td>\n",
       "      <td>0</td>\n",
       "    </tr>\n",
       "  </tbody>\n",
       "</table>\n",
       "<p>367 rows × 3 columns</p>\n",
       "</div>"
      ],
      "text/plain": [
       "            n_update  n_create  n_tot\n",
       "date                                 \n",
       "2020-11-03        98         0      0\n",
       "2020-11-04         4         0      0\n",
       "2020-11-05         0         0      0\n",
       "2020-11-06         0         0      0\n",
       "2020-11-07         0         0      0\n",
       "...              ...       ...    ...\n",
       "2021-10-31         0         0      0\n",
       "2021-11-01         0         0      0\n",
       "2021-11-02         0         0      0\n",
       "2021-11-03         0         0      0\n",
       "2021-11-04         1         0      0\n",
       "\n",
       "[367 rows x 3 columns]"
      ]
     },
     "execution_count": 12,
     "metadata": {},
     "output_type": "execute_result"
    }
   ],
   "source": [
    "daily = edi.counts_to_daily(df, startdt='2020-11-01')\n",
    "daily"
   ]
  },
  {
   "cell_type": "markdown",
   "metadata": {},
   "source": [
    "## Plot activity since last report (2020-11-01)\n"
   ]
  },
  {
   "cell_type": "code",
   "execution_count": 13,
   "metadata": {},
   "outputs": [],
   "source": [
    "import matplotlib\n",
    "import matplotlib.pyplot as plt\n",
    "# Figure config\n",
    "font = {'family' : 'normal',\n",
    "        'weight' : 'normal',\n",
    "        'size'   : 14}\n",
    "\n",
    "matplotlib.rc('font', **font)\n",
    "\n",
    "# Get a datestamp for saving figures\n",
    "import datetime\n",
    "now = datetime.datetime.now().strftime(\"%Y%m%d\")"
   ]
  },
  {
   "cell_type": "code",
   "execution_count": 22,
   "metadata": {},
   "outputs": [
    {
     "data": {
      "image/png": "[encoded data removed]",
      "text/plain": [
       "<Figure size 504x504 with 2 Axes>"
      ]
     },
     "metadata": {
      "needs_background": "light"
     },
     "output_type": "display_data"
    }
   ],
   "source": [
    "# All time plot:\n",
    "fig, ax = plt.subplots(nrows=2, ncols=1, figsize=(7, 7), sharex=True)\n",
    "\n",
    "ax[0].plot(daily.index, daily.n_update, label='Update pkg')\n",
    "ax[0].plot(daily.index, daily.n_create, label='Create pkg')\n",
    "ax[0].set_ylabel('JRN events')\n",
    "\n",
    "ax[1].plot(daily.index, daily.n_update.cumsum(), label='Update pkg')\n",
    "ax[1].plot(daily.index, daily.n_create.cumsum(), label='Create pkg')\n",
    "#ax[1].plot(daily.index, daily.n_tot.cumsum(), label='Total')\n",
    "\n",
    "plt.ylabel('JRN Cumulative')\n",
    "fig.autofmt_xdate()\n",
    "plt.suptitle('JRN activity on EDI in 2021')\n",
    "plt.legend()\n",
    "\n",
    "import os\n",
    "fig.savefig(os.path.expanduser(\"~/GD_gmaurer@nmsu/IM/figures/JRN_EDI_2021_ann_rpt_{0}.png\".format(now)),\n",
    "            dpi=150, bbox_inches='tight',facecolor='w')"
   ]
  },
  {
   "cell_type": "markdown",
   "metadata": {},
   "source": [
    "### Total number of packages"
   ]
  },
  {
   "cell_type": "code",
   "execution_count": 23,
   "metadata": {},
   "outputs": [
    {
     "data": {
      "text/plain": [
       "11"
      ]
     },
     "execution_count": 23,
     "metadata": {},
     "output_type": "execute_result"
    }
   ],
   "source": [
    "daily.n_create.sum()"
   ]
  },
  {
   "cell_type": "code",
   "execution_count": 24,
   "metadata": {},
   "outputs": [
    {
     "data": {
      "text/plain": [
       "1994"
      ]
     },
     "execution_count": 24,
     "metadata": {},
     "output_type": "execute_result"
    }
   ],
   "source": [
    "daily.n_update.sum()"
   ]
  },
  {
   "cell_type": "markdown",
   "metadata": {},
   "source": [
    "## Plot 2021 activity excluding Met"
   ]
  },
  {
   "cell_type": "code",
   "execution_count": 25,
   "metadata": {},
   "outputs": [
    {
     "data": {
      "text/html": [
       "<div>\n",
       "<style scoped>\n",
       "    .dataframe tbody tr th:only-of-type {\n",
       "        vertical-align: middle;\n",
       "    }\n",
       "\n",
       "    .dataframe tbody tr th {\n",
       "        vertical-align: top;\n",
       "    }\n",
       "\n",
       "    .dataframe thead th {\n",
       "        text-align: right;\n",
       "    }\n",
       "</style>\n",
       "<table border=\"1\" class=\"dataframe\">\n",
       "  <thead>\n",
       "    <tr style=\"text-align: right;\">\n",
       "      <th></th>\n",
       "      <th>n_update</th>\n",
       "      <th>n_create</th>\n",
       "      <th>n_tot</th>\n",
       "    </tr>\n",
       "    <tr>\n",
       "      <th>date</th>\n",
       "      <th></th>\n",
       "      <th></th>\n",
       "      <th></th>\n",
       "    </tr>\n",
       "  </thead>\n",
       "  <tbody>\n",
       "    <tr>\n",
       "      <th>2020-11-23</th>\n",
       "      <td>0</td>\n",
       "      <td>1</td>\n",
       "      <td>1</td>\n",
       "    </tr>\n",
       "    <tr>\n",
       "      <th>2020-11-24</th>\n",
       "      <td>3</td>\n",
       "      <td>0</td>\n",
       "      <td>0</td>\n",
       "    </tr>\n",
       "    <tr>\n",
       "      <th>2020-11-25</th>\n",
       "      <td>0</td>\n",
       "      <td>1</td>\n",
       "      <td>1</td>\n",
       "    </tr>\n",
       "    <tr>\n",
       "      <th>2020-11-26</th>\n",
       "      <td>0</td>\n",
       "      <td>0</td>\n",
       "      <td>0</td>\n",
       "    </tr>\n",
       "    <tr>\n",
       "      <th>2020-11-27</th>\n",
       "      <td>0</td>\n",
       "      <td>0</td>\n",
       "      <td>0</td>\n",
       "    </tr>\n",
       "  </tbody>\n",
       "</table>\n",
       "</div>"
      ],
      "text/plain": [
       "            n_update  n_create  n_tot\n",
       "date                                 \n",
       "2020-11-23         0         1      1\n",
       "2020-11-24         3         0      0\n",
       "2020-11-25         0         1      1\n",
       "2020-11-26         0         0      0\n",
       "2020-11-27         0         0      0"
      ]
     },
     "execution_count": 25,
     "metadata": {},
     "output_type": "execute_result"
    }
   ],
   "source": [
    "nomet = np.logical_and(df.studyid!='437', df.studyid!='548')\n",
    "daily_nomet = edi.counts_to_daily(df.loc[nomet], startdt='2020-11-01')\n",
    "\n",
    "daily_nomet.head()"
   ]
  },
  {
   "cell_type": "markdown",
   "metadata": {},
   "source": [
    "### Total number of packages"
   ]
  },
  {
   "cell_type": "code",
   "execution_count": 26,
   "metadata": {},
   "outputs": [
    {
     "data": {
      "text/plain": [
       "11"
      ]
     },
     "execution_count": 26,
     "metadata": {},
     "output_type": "execute_result"
    }
   ],
   "source": [
    "daily_nomet.n_create.sum()"
   ]
  },
  {
   "cell_type": "code",
   "execution_count": 27,
   "metadata": {},
   "outputs": [
    {
     "data": {
      "text/plain": [
       "9"
      ]
     },
     "execution_count": 27,
     "metadata": {},
     "output_type": "execute_result"
    }
   ],
   "source": [
    "daily_nomet.n_update.sum()"
   ]
  },
  {
   "cell_type": "code",
   "execution_count": 28,
   "metadata": {},
   "outputs": [
    {
     "data": {
      "text/plain": [
       "<matplotlib.legend.Legend at 0x7f943be84eb0>"
      ]
     },
     "execution_count": 28,
     "metadata": {},
     "output_type": "execute_result"
    },
    {
     "data": {
      "image/png": "[encoded data removed]",
      "text/plain": [
       "<Figure size 504x504 with 2 Axes>"
      ]
     },
     "metadata": {
      "needs_background": "light"
     },
     "output_type": "display_data"
    }
   ],
   "source": [
    "# Recent plot:\n",
    "fig, ax = plt.subplots(nrows=2, ncols=1, figsize=(7, 7), sharex=True)\n",
    "\n",
    "ax[0].plot(daily_nomet.index, daily_nomet.n_update, label='Update pkg')\n",
    "ax[0].plot(daily_nomet.index, daily_nomet.n_create, label='Create pkg')\n",
    "ax[0].set_ylabel('JRN events')\n",
    "\n",
    "ax[1].plot(daily_nomet.index, daily_nomet.n_update.cumsum(), label='Update pkg')\n",
    "ax[1].plot(daily_nomet.index, daily_nomet.n_create.cumsum(), label='Create pkg')\n",
    "#ax[1].plot(daily_nomet.index, daily_nomet.n_tot.cumsum(), label='$\\Delta$ Total')\n",
    "#ax[1].axhline(y=63, xmin=0, xmax=1, ls=':', lw=1.5, color='k',\n",
    "#             label='Proposal goal')\n",
    "\n",
    "plt.ylabel('JRN Cumulative')\n",
    "fig.autofmt_xdate()\n",
    "plt.suptitle('JRN activity on EDI (Excluding met)')\n",
    "plt.legend()\n",
    "\n",
    "#fig.savefig(os.path.expanduser(\n",
    "#    \"/Users/gmaurer/GD_gmaurer.jrn.lter/IM/figures/JRN_EDI_2021_ann_rpt_NoMet_{0}.png\".format(now)),\n",
    "#            dpi=150, bbox_inches='tight',facecolor='w')"
   ]
  },
  {
   "cell_type": "markdown",
   "metadata": {},
   "source": [
    "## Summary since last Annual Report"
   ]
  },
  {
   "cell_type": "code",
   "execution_count": 29,
   "metadata": {},
   "outputs": [
    {
     "ename": "TypeError",
     "evalue": "Invalid comparison between dtype=int64 and str",
     "output_type": "error",
     "traceback": [
      "\u001b[0;31m---------------------------------------------------------------------------\u001b[0m",
      "\u001b[0;31mTypeError\u001b[0m                                 Traceback (most recent call last)",
      "\u001b[0;32m/tmp/ipykernel_266876/3393169864.py\u001b[0m in \u001b[0;36m<module>\u001b[0;34m\u001b[0m\n\u001b[1;32m      1\u001b[0m \u001b[0;31m# Unique packages updated (excluding met)\u001b[0m\u001b[0;34m\u001b[0m\u001b[0;34m\u001b[0m\u001b[0m\n\u001b[0;32m----> 2\u001b[0;31m \u001b[0mrEDI\u001b[0m \u001b[0;34m=\u001b[0m \u001b[0mdf\u001b[0m\u001b[0;34m.\u001b[0m\u001b[0mloc\u001b[0m\u001b[0;34m[\u001b[0m\u001b[0mdf\u001b[0m\u001b[0;34m.\u001b[0m\u001b[0mindex\u001b[0m \u001b[0;34m>\u001b[0m \u001b[0;34m'2019-12-31'\u001b[0m\u001b[0;34m,\u001b[0m\u001b[0;34m]\u001b[0m\u001b[0;34m\u001b[0m\u001b[0;34m\u001b[0m\u001b[0m\n\u001b[0m\u001b[1;32m      3\u001b[0m \u001b[0mrEDI_nomet\u001b[0m \u001b[0;34m=\u001b[0m \u001b[0mrEDI\u001b[0m\u001b[0;34m.\u001b[0m\u001b[0mloc\u001b[0m\u001b[0;34m[\u001b[0m\u001b[0mnp\u001b[0m\u001b[0;34m.\u001b[0m\u001b[0mlogical_and\u001b[0m\u001b[0;34m(\u001b[0m\u001b[0mrEDI\u001b[0m\u001b[0;34m.\u001b[0m\u001b[0mstudyid\u001b[0m\u001b[0;34m!=\u001b[0m\u001b[0;34m'437'\u001b[0m\u001b[0;34m,\u001b[0m \u001b[0mrEDI\u001b[0m\u001b[0;34m.\u001b[0m\u001b[0mstudyid\u001b[0m\u001b[0;34m!=\u001b[0m\u001b[0;34m'548'\u001b[0m\u001b[0;34m)\u001b[0m\u001b[0;34m,\u001b[0m\u001b[0;34m:\u001b[0m\u001b[0;34m]\u001b[0m\u001b[0;34m\u001b[0m\u001b[0;34m\u001b[0m\u001b[0m\n\u001b[1;32m      4\u001b[0m \u001b[0mprint\u001b[0m\u001b[0;34m(\u001b[0m\u001b[0mlen\u001b[0m\u001b[0;34m(\u001b[0m\u001b[0mrEDI\u001b[0m\u001b[0;34m.\u001b[0m\u001b[0mloc\u001b[0m\u001b[0;34m[\u001b[0m\u001b[0mrEDI\u001b[0m\u001b[0;34m.\u001b[0m\u001b[0maction\u001b[0m\u001b[0;34m==\u001b[0m\u001b[0;34m'updateDataPackage'\u001b[0m\u001b[0;34m,\u001b[0m\u001b[0;34m]\u001b[0m\u001b[0;34m)\u001b[0m\u001b[0;34m)\u001b[0m\u001b[0;34m\u001b[0m\u001b[0;34m\u001b[0m\u001b[0m\n\u001b[1;32m      5\u001b[0m \u001b[0muniqueUp\u001b[0m \u001b[0;34m=\u001b[0m \u001b[0mrEDI\u001b[0m\u001b[0;34m.\u001b[0m\u001b[0mloc\u001b[0m\u001b[0;34m[\u001b[0m\u001b[0mrEDI\u001b[0m\u001b[0;34m.\u001b[0m\u001b[0maction\u001b[0m\u001b[0;34m==\u001b[0m\u001b[0;34m'updateDataPackage'\u001b[0m\u001b[0;34m,\u001b[0m\u001b[0;34m]\u001b[0m\u001b[0;34m.\u001b[0m\u001b[0mpkgid\u001b[0m\u001b[0;34m.\u001b[0m\u001b[0munique\u001b[0m\u001b[0;34m(\u001b[0m\u001b[0;34m)\u001b[0m\u001b[0;34m\u001b[0m\u001b[0;34m\u001b[0m\u001b[0m\n",
      "\u001b[0;32m~/data/miniconda3/envs/std_env/lib/python3.9/site-packages/pandas/core/ops/common.py\u001b[0m in \u001b[0;36mnew_method\u001b[0;34m(self, other)\u001b[0m\n\u001b[1;32m     67\u001b[0m         \u001b[0mother\u001b[0m \u001b[0;34m=\u001b[0m \u001b[0mitem_from_zerodim\u001b[0m\u001b[0;34m(\u001b[0m\u001b[0mother\u001b[0m\u001b[0;34m)\u001b[0m\u001b[0;34m\u001b[0m\u001b[0;34m\u001b[0m\u001b[0m\n\u001b[1;32m     68\u001b[0m \u001b[0;34m\u001b[0m\u001b[0m\n\u001b[0;32m---> 69\u001b[0;31m         \u001b[0;32mreturn\u001b[0m \u001b[0mmethod\u001b[0m\u001b[0;34m(\u001b[0m\u001b[0mself\u001b[0m\u001b[0;34m,\u001b[0m \u001b[0mother\u001b[0m\u001b[0;34m)\u001b[0m\u001b[0;34m\u001b[0m\u001b[0;34m\u001b[0m\u001b[0m\n\u001b[0m\u001b[1;32m     70\u001b[0m \u001b[0;34m\u001b[0m\u001b[0m\n\u001b[1;32m     71\u001b[0m     \u001b[0;32mreturn\u001b[0m \u001b[0mnew_method\u001b[0m\u001b[0;34m\u001b[0m\u001b[0;34m\u001b[0m\u001b[0m\n",
      "\u001b[0;32m~/data/miniconda3/envs/std_env/lib/python3.9/site-packages/pandas/core/arraylike.py\u001b[0m in \u001b[0;36m__gt__\u001b[0;34m(self, other)\u001b[0m\n\u001b[1;32m     46\u001b[0m     \u001b[0;34m@\u001b[0m\u001b[0munpack_zerodim_and_defer\u001b[0m\u001b[0;34m(\u001b[0m\u001b[0;34m\"__gt__\"\u001b[0m\u001b[0;34m)\u001b[0m\u001b[0;34m\u001b[0m\u001b[0;34m\u001b[0m\u001b[0m\n\u001b[1;32m     47\u001b[0m     \u001b[0;32mdef\u001b[0m \u001b[0m__gt__\u001b[0m\u001b[0;34m(\u001b[0m\u001b[0mself\u001b[0m\u001b[0;34m,\u001b[0m \u001b[0mother\u001b[0m\u001b[0;34m)\u001b[0m\u001b[0;34m:\u001b[0m\u001b[0;34m\u001b[0m\u001b[0;34m\u001b[0m\u001b[0m\n\u001b[0;32m---> 48\u001b[0;31m         \u001b[0;32mreturn\u001b[0m \u001b[0mself\u001b[0m\u001b[0;34m.\u001b[0m\u001b[0m_cmp_method\u001b[0m\u001b[0;34m(\u001b[0m\u001b[0mother\u001b[0m\u001b[0;34m,\u001b[0m \u001b[0moperator\u001b[0m\u001b[0;34m.\u001b[0m\u001b[0mgt\u001b[0m\u001b[0;34m)\u001b[0m\u001b[0;34m\u001b[0m\u001b[0;34m\u001b[0m\u001b[0m\n\u001b[0m\u001b[1;32m     49\u001b[0m \u001b[0;34m\u001b[0m\u001b[0m\n\u001b[1;32m     50\u001b[0m     \u001b[0;34m@\u001b[0m\u001b[0munpack_zerodim_and_defer\u001b[0m\u001b[0;34m(\u001b[0m\u001b[0;34m\"__ge__\"\u001b[0m\u001b[0;34m)\u001b[0m\u001b[0;34m\u001b[0m\u001b[0;34m\u001b[0m\u001b[0m\n",
      "\u001b[0;32m~/data/miniconda3/envs/std_env/lib/python3.9/site-packages/pandas/core/indexes/base.py\u001b[0m in \u001b[0;36m_cmp_method\u001b[0;34m(self, other, op)\u001b[0m\n\u001b[1;32m   6059\u001b[0m         \u001b[0;32melse\u001b[0m\u001b[0;34m:\u001b[0m\u001b[0;34m\u001b[0m\u001b[0;34m\u001b[0m\u001b[0m\n\u001b[1;32m   6060\u001b[0m             \u001b[0;32mwith\u001b[0m \u001b[0mnp\u001b[0m\u001b[0;34m.\u001b[0m\u001b[0merrstate\u001b[0m\u001b[0;34m(\u001b[0m\u001b[0mall\u001b[0m\u001b[0;34m=\u001b[0m\u001b[0;34m\"ignore\"\u001b[0m\u001b[0;34m)\u001b[0m\u001b[0;34m:\u001b[0m\u001b[0;34m\u001b[0m\u001b[0;34m\u001b[0m\u001b[0m\n\u001b[0;32m-> 6061\u001b[0;31m                 \u001b[0mresult\u001b[0m \u001b[0;34m=\u001b[0m \u001b[0mops\u001b[0m\u001b[0;34m.\u001b[0m\u001b[0mcomparison_op\u001b[0m\u001b[0;34m(\u001b[0m\u001b[0mself\u001b[0m\u001b[0;34m.\u001b[0m\u001b[0m_values\u001b[0m\u001b[0;34m,\u001b[0m \u001b[0mother\u001b[0m\u001b[0;34m,\u001b[0m \u001b[0mop\u001b[0m\u001b[0;34m)\u001b[0m\u001b[0;34m\u001b[0m\u001b[0;34m\u001b[0m\u001b[0m\n\u001b[0m\u001b[1;32m   6062\u001b[0m \u001b[0;34m\u001b[0m\u001b[0m\n\u001b[1;32m   6063\u001b[0m         \u001b[0;32mreturn\u001b[0m \u001b[0mresult\u001b[0m\u001b[0;34m\u001b[0m\u001b[0;34m\u001b[0m\u001b[0m\n",
      "\u001b[0;32m~/data/miniconda3/envs/std_env/lib/python3.9/site-packages/pandas/core/ops/array_ops.py\u001b[0m in \u001b[0;36mcomparison_op\u001b[0;34m(left, right, op)\u001b[0m\n\u001b[1;32m    279\u001b[0m     \u001b[0;32melif\u001b[0m \u001b[0mis_numeric_v_string_like\u001b[0m\u001b[0;34m(\u001b[0m\u001b[0mlvalues\u001b[0m\u001b[0;34m,\u001b[0m \u001b[0mrvalues\u001b[0m\u001b[0;34m)\u001b[0m\u001b[0;34m:\u001b[0m\u001b[0;34m\u001b[0m\u001b[0;34m\u001b[0m\u001b[0m\n\u001b[1;32m    280\u001b[0m         \u001b[0;31m# GH#36377 going through the numexpr path would incorrectly raise\u001b[0m\u001b[0;34m\u001b[0m\u001b[0;34m\u001b[0m\u001b[0m\n\u001b[0;32m--> 281\u001b[0;31m         \u001b[0;32mreturn\u001b[0m \u001b[0minvalid_comparison\u001b[0m\u001b[0;34m(\u001b[0m\u001b[0mlvalues\u001b[0m\u001b[0;34m,\u001b[0m \u001b[0mrvalues\u001b[0m\u001b[0;34m,\u001b[0m \u001b[0mop\u001b[0m\u001b[0;34m)\u001b[0m\u001b[0;34m\u001b[0m\u001b[0;34m\u001b[0m\u001b[0m\n\u001b[0m\u001b[1;32m    282\u001b[0m \u001b[0;34m\u001b[0m\u001b[0m\n\u001b[1;32m    283\u001b[0m     \u001b[0;32melif\u001b[0m \u001b[0mis_object_dtype\u001b[0m\u001b[0;34m(\u001b[0m\u001b[0mlvalues\u001b[0m\u001b[0;34m.\u001b[0m\u001b[0mdtype\u001b[0m\u001b[0;34m)\u001b[0m \u001b[0;32mor\u001b[0m \u001b[0misinstance\u001b[0m\u001b[0;34m(\u001b[0m\u001b[0mrvalues\u001b[0m\u001b[0;34m,\u001b[0m \u001b[0mstr\u001b[0m\u001b[0;34m)\u001b[0m\u001b[0;34m:\u001b[0m\u001b[0;34m\u001b[0m\u001b[0;34m\u001b[0m\u001b[0m\n",
      "\u001b[0;32m~/data/miniconda3/envs/std_env/lib/python3.9/site-packages/pandas/core/ops/invalid.py\u001b[0m in \u001b[0;36minvalid_comparison\u001b[0;34m(left, right, op)\u001b[0m\n\u001b[1;32m     32\u001b[0m     \u001b[0;32melse\u001b[0m\u001b[0;34m:\u001b[0m\u001b[0;34m\u001b[0m\u001b[0;34m\u001b[0m\u001b[0m\n\u001b[1;32m     33\u001b[0m         \u001b[0mtyp\u001b[0m \u001b[0;34m=\u001b[0m \u001b[0mtype\u001b[0m\u001b[0;34m(\u001b[0m\u001b[0mright\u001b[0m\u001b[0;34m)\u001b[0m\u001b[0;34m.\u001b[0m\u001b[0m__name__\u001b[0m\u001b[0;34m\u001b[0m\u001b[0;34m\u001b[0m\u001b[0m\n\u001b[0;32m---> 34\u001b[0;31m         \u001b[0;32mraise\u001b[0m \u001b[0mTypeError\u001b[0m\u001b[0;34m(\u001b[0m\u001b[0;34mf\"Invalid comparison between dtype={left.dtype} and {typ}\"\u001b[0m\u001b[0;34m)\u001b[0m\u001b[0;34m\u001b[0m\u001b[0;34m\u001b[0m\u001b[0m\n\u001b[0m\u001b[1;32m     35\u001b[0m     \u001b[0;32mreturn\u001b[0m \u001b[0mres_values\u001b[0m\u001b[0;34m\u001b[0m\u001b[0;34m\u001b[0m\u001b[0m\n\u001b[1;32m     36\u001b[0m \u001b[0;34m\u001b[0m\u001b[0m\n",
      "\u001b[0;31mTypeError\u001b[0m: Invalid comparison between dtype=int64 and str"
     ]
    }
   ],
   "source": [
    "# Unique packages updated (excluding met)\n",
    "rEDI = df.loc[df.index > '2019-12-31',]\n",
    "rEDI_nomet = rEDI.loc[np.logical_and(rEDI.studyid!='437', rEDI.studyid!='548'),:]\n",
    "print(len(rEDI.loc[rEDI.action=='updateDataPackage',]))\n",
    "uniqueUp = rEDI.loc[rEDI.action=='updateDataPackage',].pkgid.unique()\n",
    "uniqueUp_nomet = rEDI_nomet.loc[rEDI_nomet.action=='updateDataPackage',].pkgid.unique()\n",
    "#rEDI.loc[rEDI.action=='updateDataPackage',].pkgid.unique()\n",
    "print(uniqueUp)\n",
    "print(uniqueUp_nomet)\n",
    "print(len(uniqueUp))\n",
    "len(uniqueUp_nomet)"
   ]
  },
  {
   "cell_type": "code",
   "execution_count": 17,
   "metadata": {},
   "outputs": [
    {
     "ename": "ImportError",
     "evalue": "Missing optional dependency 'tabulate'.  Use pip or conda to install tabulate.",
     "output_type": "error",
     "traceback": [
      "\u001b[0;31m---------------------------------------------------------------------------\u001b[0m",
      "\u001b[0;31mImportError\u001b[0m                               Traceback (most recent call last)",
      "\u001b[0;32m<ipython-input-17-c6faad75e38a>\u001b[0m in \u001b[0;36m<module>\u001b[0;34m\u001b[0m\n\u001b[1;32m      4\u001b[0m \u001b[0;34m\u001b[0m\u001b[0m\n\u001b[1;32m      5\u001b[0m \u001b[0;32mwith\u001b[0m \u001b[0mopen\u001b[0m\u001b[0;34m(\u001b[0m\u001b[0;34m'tables_out/2020_annrpt_edi.md'\u001b[0m\u001b[0;34m,\u001b[0m \u001b[0;34m'w'\u001b[0m\u001b[0;34m)\u001b[0m \u001b[0;32mas\u001b[0m \u001b[0mf\u001b[0m\u001b[0;34m:\u001b[0m\u001b[0;34m\u001b[0m\u001b[0;34m\u001b[0m\u001b[0m\n\u001b[0;32m----> 6\u001b[0;31m     \u001b[0mf\u001b[0m\u001b[0;34m.\u001b[0m\u001b[0mwrite\u001b[0m\u001b[0;34m(\u001b[0m\u001b[0mpkgtbl\u001b[0m\u001b[0;34m.\u001b[0m\u001b[0mto_markdown\u001b[0m\u001b[0;34m(\u001b[0m\u001b[0mtablefmt\u001b[0m\u001b[0;34m=\u001b[0m\u001b[0;34m\"grid\"\u001b[0m\u001b[0;34m)\u001b[0m\u001b[0;34m)\u001b[0m\u001b[0;34m\u001b[0m\u001b[0;34m\u001b[0m\u001b[0m\n\u001b[0m\u001b[1;32m      7\u001b[0m \u001b[0;34m\u001b[0m\u001b[0m\n\u001b[1;32m      8\u001b[0m \u001b[0mpkgtbl\u001b[0m\u001b[0;34m\u001b[0m\u001b[0;34m\u001b[0m\u001b[0m\n",
      "\u001b[0;32m~/miniconda3/lib/python3.7/site-packages/pandas/core/frame.py\u001b[0m in \u001b[0;36mto_markdown\u001b[0;34m(self, buf, mode, index, storage_options, **kwargs)\u001b[0m\n\u001b[1;32m   2337\u001b[0m         \u001b[0mkwargs\u001b[0m\u001b[0;34m.\u001b[0m\u001b[0msetdefault\u001b[0m\u001b[0;34m(\u001b[0m\u001b[0;34m\"tablefmt\"\u001b[0m\u001b[0;34m,\u001b[0m \u001b[0;34m\"pipe\"\u001b[0m\u001b[0;34m)\u001b[0m\u001b[0;34m\u001b[0m\u001b[0;34m\u001b[0m\u001b[0m\n\u001b[1;32m   2338\u001b[0m         \u001b[0mkwargs\u001b[0m\u001b[0;34m.\u001b[0m\u001b[0msetdefault\u001b[0m\u001b[0;34m(\u001b[0m\u001b[0;34m\"showindex\"\u001b[0m\u001b[0;34m,\u001b[0m \u001b[0mindex\u001b[0m\u001b[0;34m)\u001b[0m\u001b[0;34m\u001b[0m\u001b[0;34m\u001b[0m\u001b[0m\n\u001b[0;32m-> 2339\u001b[0;31m         \u001b[0mtabulate\u001b[0m \u001b[0;34m=\u001b[0m \u001b[0mimport_optional_dependency\u001b[0m\u001b[0;34m(\u001b[0m\u001b[0;34m\"tabulate\"\u001b[0m\u001b[0;34m)\u001b[0m\u001b[0;34m\u001b[0m\u001b[0;34m\u001b[0m\u001b[0m\n\u001b[0m\u001b[1;32m   2340\u001b[0m         \u001b[0mresult\u001b[0m \u001b[0;34m=\u001b[0m \u001b[0mtabulate\u001b[0m\u001b[0;34m.\u001b[0m\u001b[0mtabulate\u001b[0m\u001b[0;34m(\u001b[0m\u001b[0mself\u001b[0m\u001b[0;34m,\u001b[0m \u001b[0;34m**\u001b[0m\u001b[0mkwargs\u001b[0m\u001b[0;34m)\u001b[0m\u001b[0;34m\u001b[0m\u001b[0;34m\u001b[0m\u001b[0m\n\u001b[1;32m   2341\u001b[0m         \u001b[0;32mif\u001b[0m \u001b[0mbuf\u001b[0m \u001b[0;32mis\u001b[0m \u001b[0;32mNone\u001b[0m\u001b[0;34m:\u001b[0m\u001b[0;34m\u001b[0m\u001b[0;34m\u001b[0m\u001b[0m\n",
      "\u001b[0;32m~/miniconda3/lib/python3.7/site-packages/pandas/compat/_optional.py\u001b[0m in \u001b[0;36mimport_optional_dependency\u001b[0;34m(name, extra, raise_on_missing, on_version)\u001b[0m\n\u001b[1;32m    107\u001b[0m     \u001b[0;32mexcept\u001b[0m \u001b[0mImportError\u001b[0m\u001b[0;34m:\u001b[0m\u001b[0;34m\u001b[0m\u001b[0;34m\u001b[0m\u001b[0m\n\u001b[1;32m    108\u001b[0m         \u001b[0;32mif\u001b[0m \u001b[0mraise_on_missing\u001b[0m\u001b[0;34m:\u001b[0m\u001b[0;34m\u001b[0m\u001b[0;34m\u001b[0m\u001b[0m\n\u001b[0;32m--> 109\u001b[0;31m             \u001b[0;32mraise\u001b[0m \u001b[0mImportError\u001b[0m\u001b[0;34m(\u001b[0m\u001b[0mmsg\u001b[0m\u001b[0;34m)\u001b[0m \u001b[0;32mfrom\u001b[0m \u001b[0;32mNone\u001b[0m\u001b[0;34m\u001b[0m\u001b[0;34m\u001b[0m\u001b[0m\n\u001b[0m\u001b[1;32m    110\u001b[0m         \u001b[0;32melse\u001b[0m\u001b[0;34m:\u001b[0m\u001b[0;34m\u001b[0m\u001b[0;34m\u001b[0m\u001b[0m\n\u001b[1;32m    111\u001b[0m             \u001b[0;32mreturn\u001b[0m \u001b[0;32mNone\u001b[0m\u001b[0;34m\u001b[0m\u001b[0;34m\u001b[0m\u001b[0m\n",
      "\u001b[0;31mImportError\u001b[0m: Missing optional dependency 'tabulate'.  Use pip or conda to install tabulate."
     ]
    }
   ],
   "source": [
    "pkgtbl = pd.DataFrame({'Total':[daily.n_create.sum(), daily.n_update.sum(),len(uniqueUp)],\n",
    "                       'Non-Met':[daily_nomet.n_create.sum(), daily_nomet.n_update.sum(),len(uniqueUp_nomet)]})\n",
    "pkgtbl.index = ['New packages created', 'Package updates', 'Unique package updates']\n",
    "\n",
    "with open('tables_out/2020_annrpt_edi.md', 'w') as f:\n",
    "    f.write(pkgtbl.to_markdown(tablefmt=\"grid\"))\n",
    "\n",
    "pkgtbl"
   ]
  },
  {
   "cell_type": "code",
   "execution_count": 18,
   "metadata": {},
   "outputs": [
    {
     "data": {
      "text/plain": [
       "['https://portal.edirepository.org/nis/mapbrowse?scope=knb-lter-jrn&identifier=210308001',\n",
       " 'https://portal.edirepository.org/nis/mapbrowse?scope=knb-lter-jrn&identifier=210308002',\n",
       " 'https://portal.edirepository.org/nis/mapbrowse?scope=knb-lter-jrn&identifier=210308003',\n",
       " 'https://portal.edirepository.org/nis/mapbrowse?scope=knb-lter-jrn&identifier=210308005',\n",
       " 'https://portal.edirepository.org/nis/mapbrowse?scope=knb-lter-jrn&identifier=210126003',\n",
       " 'https://portal.edirepository.org/nis/mapbrowse?scope=knb-lter-jrn&identifier=210437031',\n",
       " 'https://portal.edirepository.org/nis/mapbrowse?scope=knb-lter-jrn&identifier=210437016',\n",
       " 'https://portal.edirepository.org/nis/mapbrowse?scope=knb-lter-jrn&identifier=210437046',\n",
       " 'https://portal.edirepository.org/nis/mapbrowse?scope=knb-lter-jrn&identifier=210437061',\n",
       " 'https://portal.edirepository.org/nis/mapbrowse?scope=knb-lter-jrn&identifier=210437001',\n",
       " 'https://portal.edirepository.org/nis/mapbrowse?scope=knb-lter-jrn&identifier=210437091',\n",
       " 'https://portal.edirepository.org/nis/mapbrowse?scope=knb-lter-jrn&identifier=210437076',\n",
       " 'https://portal.edirepository.org/nis/mapbrowse?scope=knb-lter-jrn&identifier=210437032',\n",
       " 'https://portal.edirepository.org/nis/mapbrowse?scope=knb-lter-jrn&identifier=210437017',\n",
       " 'https://portal.edirepository.org/nis/mapbrowse?scope=knb-lter-jrn&identifier=210437047',\n",
       " 'https://portal.edirepository.org/nis/mapbrowse?scope=knb-lter-jrn&identifier=210437062',\n",
       " 'https://portal.edirepository.org/nis/mapbrowse?scope=knb-lter-jrn&identifier=210437002',\n",
       " 'https://portal.edirepository.org/nis/mapbrowse?scope=knb-lter-jrn&identifier=210437092',\n",
       " 'https://portal.edirepository.org/nis/mapbrowse?scope=knb-lter-jrn&identifier=210437077',\n",
       " 'https://portal.edirepository.org/nis/mapbrowse?scope=knb-lter-jrn&identifier=210437033',\n",
       " 'https://portal.edirepository.org/nis/mapbrowse?scope=knb-lter-jrn&identifier=210437018',\n",
       " 'https://portal.edirepository.org/nis/mapbrowse?scope=knb-lter-jrn&identifier=210437048',\n",
       " 'https://portal.edirepository.org/nis/mapbrowse?scope=knb-lter-jrn&identifier=210437063',\n",
       " 'https://portal.edirepository.org/nis/mapbrowse?scope=knb-lter-jrn&identifier=210437003',\n",
       " 'https://portal.edirepository.org/nis/mapbrowse?scope=knb-lter-jrn&identifier=210437093',\n",
       " 'https://portal.edirepository.org/nis/mapbrowse?scope=knb-lter-jrn&identifier=210437078',\n",
       " 'https://portal.edirepository.org/nis/mapbrowse?scope=knb-lter-jrn&identifier=210437034',\n",
       " 'https://portal.edirepository.org/nis/mapbrowse?scope=knb-lter-jrn&identifier=210437019',\n",
       " 'https://portal.edirepository.org/nis/mapbrowse?scope=knb-lter-jrn&identifier=210437049',\n",
       " 'https://portal.edirepository.org/nis/mapbrowse?scope=knb-lter-jrn&identifier=210437064',\n",
       " 'https://portal.edirepository.org/nis/mapbrowse?scope=knb-lter-jrn&identifier=210437094',\n",
       " 'https://portal.edirepository.org/nis/mapbrowse?scope=knb-lter-jrn&identifier=210437004',\n",
       " 'https://portal.edirepository.org/nis/mapbrowse?scope=knb-lter-jrn&identifier=210437079',\n",
       " 'https://portal.edirepository.org/nis/mapbrowse?scope=knb-lter-jrn&identifier=210437106',\n",
       " 'https://portal.edirepository.org/nis/mapbrowse?scope=knb-lter-jrn&identifier=210437035',\n",
       " 'https://portal.edirepository.org/nis/mapbrowse?scope=knb-lter-jrn&identifier=210437020',\n",
       " 'https://portal.edirepository.org/nis/mapbrowse?scope=knb-lter-jrn&identifier=210437050',\n",
       " 'https://portal.edirepository.org/nis/mapbrowse?scope=knb-lter-jrn&identifier=210437065',\n",
       " 'https://portal.edirepository.org/nis/mapbrowse?scope=knb-lter-jrn&identifier=210437005',\n",
       " 'https://portal.edirepository.org/nis/mapbrowse?scope=knb-lter-jrn&identifier=210437095',\n",
       " 'https://portal.edirepository.org/nis/mapbrowse?scope=knb-lter-jrn&identifier=210437080',\n",
       " 'https://portal.edirepository.org/nis/mapbrowse?scope=knb-lter-jrn&identifier=210437036',\n",
       " 'https://portal.edirepository.org/nis/mapbrowse?scope=knb-lter-jrn&identifier=210437021',\n",
       " 'https://portal.edirepository.org/nis/mapbrowse?scope=knb-lter-jrn&identifier=210437051',\n",
       " 'https://portal.edirepository.org/nis/mapbrowse?scope=knb-lter-jrn&identifier=210437066',\n",
       " 'https://portal.edirepository.org/nis/mapbrowse?scope=knb-lter-jrn&identifier=210437006',\n",
       " 'https://portal.edirepository.org/nis/mapbrowse?scope=knb-lter-jrn&identifier=210437096',\n",
       " 'https://portal.edirepository.org/nis/mapbrowse?scope=knb-lter-jrn&identifier=210437081',\n",
       " 'https://portal.edirepository.org/nis/mapbrowse?scope=knb-lter-jrn&identifier=210437037',\n",
       " 'https://portal.edirepository.org/nis/mapbrowse?scope=knb-lter-jrn&identifier=210437022',\n",
       " 'https://portal.edirepository.org/nis/mapbrowse?scope=knb-lter-jrn&identifier=210437052',\n",
       " 'https://portal.edirepository.org/nis/mapbrowse?scope=knb-lter-jrn&identifier=210437067',\n",
       " 'https://portal.edirepository.org/nis/mapbrowse?scope=knb-lter-jrn&identifier=210437007',\n",
       " 'https://portal.edirepository.org/nis/mapbrowse?scope=knb-lter-jrn&identifier=210437097',\n",
       " 'https://portal.edirepository.org/nis/mapbrowse?scope=knb-lter-jrn&identifier=210437082',\n",
       " 'https://portal.edirepository.org/nis/mapbrowse?scope=knb-lter-jrn&identifier=210437038',\n",
       " 'https://portal.edirepository.org/nis/mapbrowse?scope=knb-lter-jrn&identifier=210437023',\n",
       " 'https://portal.edirepository.org/nis/mapbrowse?scope=knb-lter-jrn&identifier=210437053',\n",
       " 'https://portal.edirepository.org/nis/mapbrowse?scope=knb-lter-jrn&identifier=210437068',\n",
       " 'https://portal.edirepository.org/nis/mapbrowse?scope=knb-lter-jrn&identifier=210437008',\n",
       " 'https://portal.edirepository.org/nis/mapbrowse?scope=knb-lter-jrn&identifier=210437098',\n",
       " 'https://portal.edirepository.org/nis/mapbrowse?scope=knb-lter-jrn&identifier=210437083',\n",
       " 'https://portal.edirepository.org/nis/mapbrowse?scope=knb-lter-jrn&identifier=210437039',\n",
       " 'https://portal.edirepository.org/nis/mapbrowse?scope=knb-lter-jrn&identifier=210437024',\n",
       " 'https://portal.edirepository.org/nis/mapbrowse?scope=knb-lter-jrn&identifier=210437054',\n",
       " 'https://portal.edirepository.org/nis/mapbrowse?scope=knb-lter-jrn&identifier=210437069',\n",
       " 'https://portal.edirepository.org/nis/mapbrowse?scope=knb-lter-jrn&identifier=210437009',\n",
       " 'https://portal.edirepository.org/nis/mapbrowse?scope=knb-lter-jrn&identifier=210437099',\n",
       " 'https://portal.edirepository.org/nis/mapbrowse?scope=knb-lter-jrn&identifier=210437084',\n",
       " 'https://portal.edirepository.org/nis/mapbrowse?scope=knb-lter-jrn&identifier=210437040',\n",
       " 'https://portal.edirepository.org/nis/mapbrowse?scope=knb-lter-jrn&identifier=210437025',\n",
       " 'https://portal.edirepository.org/nis/mapbrowse?scope=knb-lter-jrn&identifier=210437055',\n",
       " 'https://portal.edirepository.org/nis/mapbrowse?scope=knb-lter-jrn&identifier=210437070',\n",
       " 'https://portal.edirepository.org/nis/mapbrowse?scope=knb-lter-jrn&identifier=210437010',\n",
       " 'https://portal.edirepository.org/nis/mapbrowse?scope=knb-lter-jrn&identifier=210437100',\n",
       " 'https://portal.edirepository.org/nis/mapbrowse?scope=knb-lter-jrn&identifier=210437085',\n",
       " 'https://portal.edirepository.org/nis/mapbrowse?scope=knb-lter-jrn&identifier=210437041',\n",
       " 'https://portal.edirepository.org/nis/mapbrowse?scope=knb-lter-jrn&identifier=210437026',\n",
       " 'https://portal.edirepository.org/nis/mapbrowse?scope=knb-lter-jrn&identifier=210437056',\n",
       " 'https://portal.edirepository.org/nis/mapbrowse?scope=knb-lter-jrn&identifier=210437011',\n",
       " 'https://portal.edirepository.org/nis/mapbrowse?scope=knb-lter-jrn&identifier=210437071',\n",
       " 'https://portal.edirepository.org/nis/mapbrowse?scope=knb-lter-jrn&identifier=210437086',\n",
       " 'https://portal.edirepository.org/nis/mapbrowse?scope=knb-lter-jrn&identifier=210437101',\n",
       " 'https://portal.edirepository.org/nis/mapbrowse?scope=knb-lter-jrn&identifier=210437042',\n",
       " 'https://portal.edirepository.org/nis/mapbrowse?scope=knb-lter-jrn&identifier=210437027',\n",
       " 'https://portal.edirepository.org/nis/mapbrowse?scope=knb-lter-jrn&identifier=210437057',\n",
       " 'https://portal.edirepository.org/nis/mapbrowse?scope=knb-lter-jrn&identifier=210437072',\n",
       " 'https://portal.edirepository.org/nis/mapbrowse?scope=knb-lter-jrn&identifier=210437012',\n",
       " 'https://portal.edirepository.org/nis/mapbrowse?scope=knb-lter-jrn&identifier=210437087',\n",
       " 'https://portal.edirepository.org/nis/mapbrowse?scope=knb-lter-jrn&identifier=210437102',\n",
       " 'https://portal.edirepository.org/nis/mapbrowse?scope=knb-lter-jrn&identifier=210437043',\n",
       " 'https://portal.edirepository.org/nis/mapbrowse?scope=knb-lter-jrn&identifier=210437028',\n",
       " 'https://portal.edirepository.org/nis/mapbrowse?scope=knb-lter-jrn&identifier=210437058',\n",
       " 'https://portal.edirepository.org/nis/mapbrowse?scope=knb-lter-jrn&identifier=210437073',\n",
       " 'https://portal.edirepository.org/nis/mapbrowse?scope=knb-lter-jrn&identifier=210437013',\n",
       " 'https://portal.edirepository.org/nis/mapbrowse?scope=knb-lter-jrn&identifier=210437103',\n",
       " 'https://portal.edirepository.org/nis/mapbrowse?scope=knb-lter-jrn&identifier=210437088',\n",
       " 'https://portal.edirepository.org/nis/mapbrowse?scope=knb-lter-jrn&identifier=210437044',\n",
       " 'https://portal.edirepository.org/nis/mapbrowse?scope=knb-lter-jrn&identifier=210437029',\n",
       " 'https://portal.edirepository.org/nis/mapbrowse?scope=knb-lter-jrn&identifier=210437059',\n",
       " 'https://portal.edirepository.org/nis/mapbrowse?scope=knb-lter-jrn&identifier=210437074',\n",
       " 'https://portal.edirepository.org/nis/mapbrowse?scope=knb-lter-jrn&identifier=210437104',\n",
       " 'https://portal.edirepository.org/nis/mapbrowse?scope=knb-lter-jrn&identifier=210437014',\n",
       " 'https://portal.edirepository.org/nis/mapbrowse?scope=knb-lter-jrn&identifier=210437089',\n",
       " 'https://portal.edirepository.org/nis/mapbrowse?scope=knb-lter-jrn&identifier=210437045',\n",
       " 'https://portal.edirepository.org/nis/mapbrowse?scope=knb-lter-jrn&identifier=210437030',\n",
       " 'https://portal.edirepository.org/nis/mapbrowse?scope=knb-lter-jrn&identifier=210437060',\n",
       " 'https://portal.edirepository.org/nis/mapbrowse?scope=knb-lter-jrn&identifier=210437075',\n",
       " 'https://portal.edirepository.org/nis/mapbrowse?scope=knb-lter-jrn&identifier=210437105',\n",
       " 'https://portal.edirepository.org/nis/mapbrowse?scope=knb-lter-jrn&identifier=210437015',\n",
       " 'https://portal.edirepository.org/nis/mapbrowse?scope=knb-lter-jrn&identifier=210437090',\n",
       " 'https://portal.edirepository.org/nis/mapbrowse?scope=knb-lter-jrn&identifier=210262001',\n",
       " 'https://portal.edirepository.org/nis/mapbrowse?scope=knb-lter-jrn&identifier=210262004',\n",
       " 'https://portal.edirepository.org/nis/mapbrowse?scope=knb-lter-jrn&identifier=210262005',\n",
       " 'https://portal.edirepository.org/nis/mapbrowse?scope=knb-lter-jrn&identifier=210128001',\n",
       " 'https://portal.edirepository.org/nis/mapbrowse?scope=knb-lter-jrn&identifier=210128002',\n",
       " 'https://portal.edirepository.org/nis/mapbrowse?scope=knb-lter-jrn&identifier=210262008',\n",
       " 'https://portal.edirepository.org/nis/mapbrowse?scope=knb-lter-jrn&identifier=210392001',\n",
       " 'https://portal.edirepository.org/nis/mapbrowse?scope=knb-lter-jrn&identifier=210379001',\n",
       " 'https://portal.edirepository.org/nis/mapbrowse?scope=knb-lter-jrn&identifier=210379002',\n",
       " 'https://portal.edirepository.org/nis/mapbrowse?scope=knb-lter-jrn&identifier=210379003',\n",
       " 'https://portal.edirepository.org/nis/mapbrowse?scope=knb-lter-jrn&identifier=210287001',\n",
       " 'https://portal.edirepository.org/nis/mapbrowse?scope=knb-lter-jrn&identifier=210380001',\n",
       " 'https://portal.edirepository.org/nis/mapbrowse?scope=knb-lter-jrn&identifier=210328001',\n",
       " 'https://portal.edirepository.org/nis/mapbrowse?scope=knb-lter-jrn&identifier=210278002',\n",
       " 'https://portal.edirepository.org/nis/mapbrowse?scope=knb-lter-jrn&identifier=210278001',\n",
       " 'https://portal.edirepository.org/nis/mapbrowse?scope=knb-lter-jrn&identifier=210338006',\n",
       " 'https://portal.edirepository.org/nis/mapbrowse?scope=knb-lter-jrn&identifier=210338004',\n",
       " 'https://portal.edirepository.org/nis/mapbrowse?scope=knb-lter-jrn&identifier=210338002',\n",
       " 'https://portal.edirepository.org/nis/mapbrowse?scope=knb-lter-jrn&identifier=210351002',\n",
       " 'https://portal.edirepository.org/nis/mapbrowse?scope=knb-lter-jrn&identifier=210351001',\n",
       " 'https://portal.edirepository.org/nis/mapbrowse?scope=knb-lter-jrn&identifier=210011003',\n",
       " 'https://portal.edirepository.org/nis/mapbrowse?scope=knb-lter-jrn&identifier=210425001',\n",
       " 'https://portal.edirepository.org/nis/mapbrowse?scope=knb-lter-jrn&identifier=210262010',\n",
       " 'https://portal.edirepository.org/nis/mapbrowse?scope=knb-lter-jrn&identifier=210365001',\n",
       " 'https://portal.edirepository.org/nis/mapbrowse?scope=knb-lter-jrn&identifier=210548016',\n",
       " 'https://portal.edirepository.org/nis/mapbrowse?scope=knb-lter-jrn&identifier=210548031',\n",
       " 'https://portal.edirepository.org/nis/mapbrowse?scope=knb-lter-jrn&identifier=210548076',\n",
       " 'https://portal.edirepository.org/nis/mapbrowse?scope=knb-lter-jrn&identifier=210548046',\n",
       " 'https://portal.edirepository.org/nis/mapbrowse?scope=knb-lter-jrn&identifier=210548025',\n",
       " 'https://portal.edirepository.org/nis/mapbrowse?scope=knb-lter-jrn&identifier=210548061',\n",
       " 'https://portal.edirepository.org/nis/mapbrowse?scope=knb-lter-jrn&identifier=210548001',\n",
       " 'https://portal.edirepository.org/nis/mapbrowse?scope=knb-lter-jrn&identifier=210548040',\n",
       " 'https://portal.edirepository.org/nis/mapbrowse?scope=knb-lter-jrn&identifier=210548085',\n",
       " 'https://portal.edirepository.org/nis/mapbrowse?scope=knb-lter-jrn&identifier=210548055',\n",
       " 'https://portal.edirepository.org/nis/mapbrowse?scope=knb-lter-jrn&identifier=210548099',\n",
       " 'https://portal.edirepository.org/nis/mapbrowse?scope=knb-lter-jrn&identifier=210548026',\n",
       " 'https://portal.edirepository.org/nis/mapbrowse?scope=knb-lter-jrn&identifier=210548070',\n",
       " 'https://portal.edirepository.org/nis/mapbrowse?scope=knb-lter-jrn&identifier=210548010',\n",
       " 'https://portal.edirepository.org/nis/mapbrowse?scope=knb-lter-jrn&identifier=210548041',\n",
       " 'https://portal.edirepository.org/nis/mapbrowse?scope=knb-lter-jrn&identifier=210548086',\n",
       " 'https://portal.edirepository.org/nis/mapbrowse?scope=knb-lter-jrn&identifier=210548056',\n",
       " 'https://portal.edirepository.org/nis/mapbrowse?scope=knb-lter-jrn&identifier=210548100',\n",
       " 'https://portal.edirepository.org/nis/mapbrowse?scope=knb-lter-jrn&identifier=210548027',\n",
       " 'https://portal.edirepository.org/nis/mapbrowse?scope=knb-lter-jrn&identifier=210548071',\n",
       " 'https://portal.edirepository.org/nis/mapbrowse?scope=knb-lter-jrn&identifier=210548011',\n",
       " 'https://portal.edirepository.org/nis/mapbrowse?scope=knb-lter-jrn&identifier=210548042',\n",
       " 'https://portal.edirepository.org/nis/mapbrowse?scope=knb-lter-jrn&identifier=210548087',\n",
       " 'https://portal.edirepository.org/nis/mapbrowse?scope=knb-lter-jrn&identifier=210548057',\n",
       " 'https://portal.edirepository.org/nis/mapbrowse?scope=knb-lter-jrn&identifier=210548028',\n",
       " 'https://portal.edirepository.org/nis/mapbrowse?scope=knb-lter-jrn&identifier=210548072',\n",
       " 'https://portal.edirepository.org/nis/mapbrowse?scope=knb-lter-jrn&identifier=210548012',\n",
       " 'https://portal.edirepository.org/nis/mapbrowse?scope=knb-lter-jrn&identifier=210548043',\n",
       " 'https://portal.edirepository.org/nis/mapbrowse?scope=knb-lter-jrn&identifier=210548088',\n",
       " 'https://portal.edirepository.org/nis/mapbrowse?scope=knb-lter-jrn&identifier=210548058',\n",
       " 'https://portal.edirepository.org/nis/mapbrowse?scope=knb-lter-jrn&identifier=210548101',\n",
       " 'https://portal.edirepository.org/nis/mapbrowse?scope=knb-lter-jrn&identifier=210548029',\n",
       " 'https://portal.edirepository.org/nis/mapbrowse?scope=knb-lter-jrn&identifier=210548073',\n",
       " 'https://portal.edirepository.org/nis/mapbrowse?scope=knb-lter-jrn&identifier=210548013',\n",
       " 'https://portal.edirepository.org/nis/mapbrowse?scope=knb-lter-jrn&identifier=210548044',\n",
       " 'https://portal.edirepository.org/nis/mapbrowse?scope=knb-lter-jrn&identifier=210548089',\n",
       " 'https://portal.edirepository.org/nis/mapbrowse?scope=knb-lter-jrn&identifier=210548059',\n",
       " 'https://portal.edirepository.org/nis/mapbrowse?scope=knb-lter-jrn&identifier=210548102',\n",
       " 'https://portal.edirepository.org/nis/mapbrowse?scope=knb-lter-jrn&identifier=210548030',\n",
       " 'https://portal.edirepository.org/nis/mapbrowse?scope=knb-lter-jrn&identifier=210548074',\n",
       " 'https://portal.edirepository.org/nis/mapbrowse?scope=knb-lter-jrn&identifier=210548014',\n",
       " 'https://portal.edirepository.org/nis/mapbrowse?scope=knb-lter-jrn&identifier=210548045',\n",
       " 'https://portal.edirepository.org/nis/mapbrowse?scope=knb-lter-jrn&identifier=210548090',\n",
       " 'https://portal.edirepository.org/nis/mapbrowse?scope=knb-lter-jrn&identifier=210548060',\n",
       " 'https://portal.edirepository.org/nis/mapbrowse?scope=knb-lter-jrn&identifier=210548103',\n",
       " 'https://portal.edirepository.org/nis/mapbrowse?scope=knb-lter-jrn&identifier=210548017',\n",
       " 'https://portal.edirepository.org/nis/mapbrowse?scope=knb-lter-jrn&identifier=210548015',\n",
       " 'https://portal.edirepository.org/nis/mapbrowse?scope=knb-lter-jrn&identifier=210548075',\n",
       " 'https://portal.edirepository.org/nis/mapbrowse?scope=knb-lter-jrn&identifier=210548032',\n",
       " 'https://portal.edirepository.org/nis/mapbrowse?scope=knb-lter-jrn&identifier=210548077',\n",
       " 'https://portal.edirepository.org/nis/mapbrowse?scope=knb-lter-jrn&identifier=210548047',\n",
       " 'https://portal.edirepository.org/nis/mapbrowse?scope=knb-lter-jrn&identifier=210548091',\n",
       " 'https://portal.edirepository.org/nis/mapbrowse?scope=knb-lter-jrn&identifier=210548018',\n",
       " 'https://portal.edirepository.org/nis/mapbrowse?scope=knb-lter-jrn&identifier=210548062',\n",
       " 'https://portal.edirepository.org/nis/mapbrowse?scope=knb-lter-jrn&identifier=210548002',\n",
       " 'https://portal.edirepository.org/nis/mapbrowse?scope=knb-lter-jrn&identifier=210548033',\n",
       " 'https://portal.edirepository.org/nis/mapbrowse?scope=knb-lter-jrn&identifier=210548078',\n",
       " 'https://portal.edirepository.org/nis/mapbrowse?scope=knb-lter-jrn&identifier=210548048',\n",
       " 'https://portal.edirepository.org/nis/mapbrowse?scope=knb-lter-jrn&identifier=210548092',\n",
       " 'https://portal.edirepository.org/nis/mapbrowse?scope=knb-lter-jrn&identifier=210548019',\n",
       " 'https://portal.edirepository.org/nis/mapbrowse?scope=knb-lter-jrn&identifier=210548063',\n",
       " 'https://portal.edirepository.org/nis/mapbrowse?scope=knb-lter-jrn&identifier=210548003',\n",
       " 'https://portal.edirepository.org/nis/mapbrowse?scope=knb-lter-jrn&identifier=210548034',\n",
       " 'https://portal.edirepository.org/nis/mapbrowse?scope=knb-lter-jrn&identifier=210548079',\n",
       " 'https://portal.edirepository.org/nis/mapbrowse?scope=knb-lter-jrn&identifier=210548049',\n",
       " 'https://portal.edirepository.org/nis/mapbrowse?scope=knb-lter-jrn&identifier=210548093',\n",
       " 'https://portal.edirepository.org/nis/mapbrowse?scope=knb-lter-jrn&identifier=210548004',\n",
       " 'https://portal.edirepository.org/nis/mapbrowse?scope=knb-lter-jrn&identifier=210548020',\n",
       " 'https://portal.edirepository.org/nis/mapbrowse?scope=knb-lter-jrn&identifier=210548064',\n",
       " 'https://portal.edirepository.org/nis/mapbrowse?scope=knb-lter-jrn&identifier=210548035',\n",
       " 'https://portal.edirepository.org/nis/mapbrowse?scope=knb-lter-jrn&identifier=210548080',\n",
       " 'https://portal.edirepository.org/nis/mapbrowse?scope=knb-lter-jrn&identifier=210548050',\n",
       " 'https://portal.edirepository.org/nis/mapbrowse?scope=knb-lter-jrn&identifier=210548094',\n",
       " 'https://portal.edirepository.org/nis/mapbrowse?scope=knb-lter-jrn&identifier=210548021',\n",
       " 'https://portal.edirepository.org/nis/mapbrowse?scope=knb-lter-jrn&identifier=210548005',\n",
       " 'https://portal.edirepository.org/nis/mapbrowse?scope=knb-lter-jrn&identifier=210548065',\n",
       " 'https://portal.edirepository.org/nis/mapbrowse?scope=knb-lter-jrn&identifier=210548036',\n",
       " 'https://portal.edirepository.org/nis/mapbrowse?scope=knb-lter-jrn&identifier=210548081',\n",
       " 'https://portal.edirepository.org/nis/mapbrowse?scope=knb-lter-jrn&identifier=210548051',\n",
       " 'https://portal.edirepository.org/nis/mapbrowse?scope=knb-lter-jrn&identifier=210548095',\n",
       " 'https://portal.edirepository.org/nis/mapbrowse?scope=knb-lter-jrn&identifier=210548022',\n",
       " 'https://portal.edirepository.org/nis/mapbrowse?scope=knb-lter-jrn&identifier=210548066',\n",
       " 'https://portal.edirepository.org/nis/mapbrowse?scope=knb-lter-jrn&identifier=210548006',\n",
       " 'https://portal.edirepository.org/nis/mapbrowse?scope=knb-lter-jrn&identifier=210548037',\n",
       " 'https://portal.edirepository.org/nis/mapbrowse?scope=knb-lter-jrn&identifier=210548082',\n",
       " 'https://portal.edirepository.org/nis/mapbrowse?scope=knb-lter-jrn&identifier=210548052',\n",
       " 'https://portal.edirepository.org/nis/mapbrowse?scope=knb-lter-jrn&identifier=210548096',\n",
       " 'https://portal.edirepository.org/nis/mapbrowse?scope=knb-lter-jrn&identifier=210548023',\n",
       " 'https://portal.edirepository.org/nis/mapbrowse?scope=knb-lter-jrn&identifier=210548067',\n",
       " 'https://portal.edirepository.org/nis/mapbrowse?scope=knb-lter-jrn&identifier=210548007',\n",
       " 'https://portal.edirepository.org/nis/mapbrowse?scope=knb-lter-jrn&identifier=210548038',\n",
       " 'https://portal.edirepository.org/nis/mapbrowse?scope=knb-lter-jrn&identifier=210548083',\n",
       " 'https://portal.edirepository.org/nis/mapbrowse?scope=knb-lter-jrn&identifier=210548053',\n",
       " 'https://portal.edirepository.org/nis/mapbrowse?scope=knb-lter-jrn&identifier=210548097',\n",
       " 'https://portal.edirepository.org/nis/mapbrowse?scope=knb-lter-jrn&identifier=210548024',\n",
       " 'https://portal.edirepository.org/nis/mapbrowse?scope=knb-lter-jrn&identifier=210548068',\n",
       " 'https://portal.edirepository.org/nis/mapbrowse?scope=knb-lter-jrn&identifier=210548008',\n",
       " 'https://portal.edirepository.org/nis/mapbrowse?scope=knb-lter-jrn&identifier=210548039',\n",
       " 'https://portal.edirepository.org/nis/mapbrowse?scope=knb-lter-jrn&identifier=210548084',\n",
       " 'https://portal.edirepository.org/nis/mapbrowse?scope=knb-lter-jrn&identifier=210548054',\n",
       " 'https://portal.edirepository.org/nis/mapbrowse?scope=knb-lter-jrn&identifier=210548098',\n",
       " 'https://portal.edirepository.org/nis/mapbrowse?scope=knb-lter-jrn&identifier=210548069',\n",
       " 'https://portal.edirepository.org/nis/mapbrowse?scope=knb-lter-jrn&identifier=210548009',\n",
       " 'https://portal.edirepository.org/nis/mapbrowse?scope=knb-lter-jrn&identifier=210385001',\n",
       " 'https://portal.edirepository.org/nis/mapbrowse?scope=knb-lter-jrn&identifier=210385004',\n",
       " 'https://portal.edirepository.org/nis/mapbrowse?scope=knb-lter-jrn&identifier=210351003',\n",
       " 'https://portal.edirepository.org/nis/mapbrowse?scope=knb-lter-jrn&identifier=210385005',\n",
       " 'https://portal.edirepository.org/nis/mapbrowse?scope=knb-lter-jrn&identifier=210385006',\n",
       " 'https://portal.edirepository.org/nis/mapbrowse?scope=knb-lter-jrn&identifier=210385008',\n",
       " 'https://portal.edirepository.org/nis/mapbrowse?scope=knb-lter-jrn&identifier=210385002',\n",
       " 'https://portal.edirepository.org/nis/mapbrowse?scope=knb-lter-jrn&identifier=210385003',\n",
       " 'https://portal.edirepository.org/nis/mapbrowse?scope=knb-lter-jrn&identifier=210385007',\n",
       " 'https://portal.edirepository.org/nis/mapbrowse?scope=knb-lter-jrn&identifier=100',\n",
       " 'https://portal.edirepository.org/nis/mapbrowse?scope=knb-lter-jrn&identifier=210001001',\n",
       " 'https://portal.edirepository.org/nis/mapbrowse?scope=knb-lter-jrn&identifier=210437107',\n",
       " 'https://portal.edirepository.org/nis/mapbrowse?scope=knb-lter-jrn&identifier=210437108',\n",
       " 'https://portal.edirepository.org/nis/mapbrowse?scope=knb-lter-jrn&identifier=210437109',\n",
       " 'https://portal.edirepository.org/nis/mapbrowse?scope=knb-lter-jrn&identifier=210437110',\n",
       " 'https://portal.edirepository.org/nis/mapbrowse?scope=knb-lter-jrn&identifier=210437111',\n",
       " 'https://portal.edirepository.org/nis/mapbrowse?scope=knb-lter-jrn&identifier=210437112',\n",
       " 'https://portal.edirepository.org/nis/mapbrowse?scope=knb-lter-jrn&identifier=210437113',\n",
       " 'https://portal.edirepository.org/nis/mapbrowse?scope=knb-lter-jrn&identifier=210437114',\n",
       " 'https://portal.edirepository.org/nis/mapbrowse?scope=knb-lter-jrn&identifier=210437115',\n",
       " 'https://portal.edirepository.org/nis/mapbrowse?scope=knb-lter-jrn&identifier=210437116',\n",
       " 'https://portal.edirepository.org/nis/mapbrowse?scope=knb-lter-jrn&identifier=210437117',\n",
       " 'https://portal.edirepository.org/nis/mapbrowse?scope=knb-lter-jrn&identifier=210437118',\n",
       " 'https://portal.edirepository.org/nis/mapbrowse?scope=knb-lter-jrn&identifier=210437119',\n",
       " 'https://portal.edirepository.org/nis/mapbrowse?scope=knb-lter-jrn&identifier=210394009',\n",
       " 'https://portal.edirepository.org/nis/mapbrowse?scope=knb-lter-jrn&identifier=210395001',\n",
       " 'https://portal.edirepository.org/nis/mapbrowse?scope=knb-lter-jrn&identifier=210409002',\n",
       " 'https://portal.edirepository.org/nis/mapbrowse?scope=knb-lter-jrn&identifier=210437120',\n",
       " 'https://portal.edirepository.org/nis/mapbrowse?scope=knb-lter-jrn&identifier=210008001',\n",
       " 'https://portal.edirepository.org/nis/mapbrowse?scope=knb-lter-jrn&identifier=210007001',\n",
       " 'https://portal.edirepository.org/nis/mapbrowse?scope=knb-lter-jrn&identifier=210008002',\n",
       " 'https://portal.edirepository.org/nis/mapbrowse?scope=knb-lter-jrn&identifier=210015001']"
      ]
     },
     "execution_count": 18,
     "metadata": {},
     "output_type": "execute_result"
    }
   ],
   "source": [
    "uniqueUp2 = ['https://portal.edirepository.org/nis/mapbrowse?scope=knb-lter-jrn&identifier=' + str(s)\n",
    "             for s in uniqueUp]\n",
    "with open('2020AR_unique_EDI_updates.txt', 'w') as f:\n",
    "    for item in uniqueUp2:\n",
    "        f.write(\"%s\\n\" % item)\n",
    "        \n",
    "uniqueUp2\n"
   ]
  }
 ],
 "metadata": {
  "kernelspec": {
   "display_name": "Python 3 (ipykernel)",
   "language": "python",
   "name": "python3"
  },
  "language_info": {
   "codemirror_mode": {
    "name": "ipython",
    "version": 3
   },
   "file_extension": ".py",
   "mimetype": "text/x-python",
   "name": "python",
   "nbconvert_exporter": "python",
   "pygments_lexer": "ipython3",
   "version": "3.9.7"
  }
 },
 "nbformat": 4,
 "nbformat_minor": 4
}
