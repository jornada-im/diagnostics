{
 "cells": [
  {
   "cell_type": "code",
   "execution_count": 1,
   "metadata": {},
   "outputs": [],
   "source": [
    "import sys\n",
    "sys.path.append('/home/greg/GitHub/')\n",
    "import pyEDIutils.changes as edi\n",
    "import pandas as pd\n",
    "import numpy as np"
   ]
  },
  {
   "cell_type": "code",
   "execution_count": 5,
   "metadata": {},
   "outputs": [
    {
     "name": "stdout",
     "output_type": "stream",
     "text": [
      "Requesting PASTA changes for knb-lter-jrn from 2021-06-02 to 2021-11-13\n",
      "https://pasta.lternet.edu/package/changes/eml?fromDate=2021-06-02&toDate=2021-11-13&scope=knb-lter-jrn\n",
      "0 duplicate records were removed.\n"
     ]
    }
   ],
   "source": [
    "# Request changes from Dec 2021 to ...\n",
    "new = edi.request_changes('2021-06-02', '2021-11-13')"
   ]
  },
  {
   "cell_type": "code",
   "execution_count": 6,
   "metadata": {},
   "outputs": [
    {
     "name": "stdout",
     "output_type": "stream",
     "text": [
      "Reading archived PASTA request knb-lter-jrn_20150417-20181231.xml\n",
      "Reading archived PASTA request knb-lter-jrn_20190101-20191231.xml\n",
      "Reading archived PASTA request knb-lter-jrn_20200101-20200601.xml\n",
      "Reading archived PASTA request knb-lter-jrn_20200602-20201201.xml\n",
      "Reading archived PASTA request knb-lter-jrn_20201202-20210601.xml\n",
      "9 duplicate records were removed.\n"
     ]
    }
   ],
   "source": [
    "old = edi.archived_changes()"
   ]
  },
  {
   "cell_type": "code",
   "execution_count": 7,
   "metadata": {},
   "outputs": [
    {
     "data": {
      "text/plain": [
       "'2021-05-05T15:46:06.9'"
      ]
     },
     "execution_count": 7,
     "metadata": {},
     "output_type": "execute_result"
    }
   ],
   "source": [
    "max(old.date)"
   ]
  },
  {
   "cell_type": "code",
   "execution_count": 8,
   "metadata": {},
   "outputs": [
    {
     "data": {
      "text/html": [
       "<div>\n",
       "<style scoped>\n",
       "    .dataframe tbody tr th:only-of-type {\n",
       "        vertical-align: middle;\n",
       "    }\n",
       "\n",
       "    .dataframe tbody tr th {\n",
       "        vertical-align: top;\n",
       "    }\n",
       "\n",
       "    .dataframe thead th {\n",
       "        text-align: right;\n",
       "    }\n",
       "</style>\n",
       "<table border=\"1\" class=\"dataframe\">\n",
       "  <thead>\n",
       "    <tr style=\"text-align: right;\">\n",
       "      <th></th>\n",
       "      <th>date</th>\n",
       "      <th>pkgid</th>\n",
       "      <th>action</th>\n",
       "    </tr>\n",
       "  </thead>\n",
       "  <tbody>\n",
       "    <tr>\n",
       "      <th>0</th>\n",
       "      <td>2015-04-17T14:42:05.936</td>\n",
       "      <td>2100011003</td>\n",
       "      <td>createDataPackage</td>\n",
       "    </tr>\n",
       "    <tr>\n",
       "      <th>1</th>\n",
       "      <td>2015-04-17T15:43:26.172</td>\n",
       "      <td>210120002</td>\n",
       "      <td>createDataPackage</td>\n",
       "    </tr>\n",
       "    <tr>\n",
       "      <th>2</th>\n",
       "      <td>2015-04-17T15:43:26.771</td>\n",
       "      <td>2100392001</td>\n",
       "      <td>createDataPackage</td>\n",
       "    </tr>\n",
       "    <tr>\n",
       "      <th>3</th>\n",
       "      <td>2015-04-17T15:43:41.508</td>\n",
       "      <td>2100169002</td>\n",
       "      <td>createDataPackage</td>\n",
       "    </tr>\n",
       "    <tr>\n",
       "      <th>4</th>\n",
       "      <td>2015-04-17T15:43:45.55</td>\n",
       "      <td>2100010001</td>\n",
       "      <td>createDataPackage</td>\n",
       "    </tr>\n",
       "    <tr>\n",
       "      <th>...</th>\n",
       "      <td>...</td>\n",
       "      <td>...</td>\n",
       "      <td>...</td>\n",
       "    </tr>\n",
       "    <tr>\n",
       "      <th>904</th>\n",
       "      <td>2021-11-12T18:59:15.867</td>\n",
       "      <td>210548009</td>\n",
       "      <td>updateDataPackage</td>\n",
       "    </tr>\n",
       "    <tr>\n",
       "      <th>905</th>\n",
       "      <td>2021-11-12T19:00:36.572</td>\n",
       "      <td>210548039</td>\n",
       "      <td>updateDataPackage</td>\n",
       "    </tr>\n",
       "    <tr>\n",
       "      <th>906</th>\n",
       "      <td>2021-11-12T19:08:48.071</td>\n",
       "      <td>210548069</td>\n",
       "      <td>updateDataPackage</td>\n",
       "    </tr>\n",
       "    <tr>\n",
       "      <th>907</th>\n",
       "      <td>2021-11-12T19:11:25.008</td>\n",
       "      <td>210548084</td>\n",
       "      <td>updateDataPackage</td>\n",
       "    </tr>\n",
       "    <tr>\n",
       "      <th>908</th>\n",
       "      <td>2021-11-12T19:12:20.561</td>\n",
       "      <td>210548054</td>\n",
       "      <td>updateDataPackage</td>\n",
       "    </tr>\n",
       "  </tbody>\n",
       "</table>\n",
       "<p>4953 rows × 3 columns</p>\n",
       "</div>"
      ],
      "text/plain": [
       "                        date       pkgid             action\n",
       "0    2015-04-17T14:42:05.936  2100011003  createDataPackage\n",
       "1    2015-04-17T15:43:26.172   210120002  createDataPackage\n",
       "2    2015-04-17T15:43:26.771  2100392001  createDataPackage\n",
       "3    2015-04-17T15:43:41.508  2100169002  createDataPackage\n",
       "4     2015-04-17T15:43:45.55  2100010001  createDataPackage\n",
       "..                       ...         ...                ...\n",
       "904  2021-11-12T18:59:15.867   210548009  updateDataPackage\n",
       "905  2021-11-12T19:00:36.572   210548039  updateDataPackage\n",
       "906  2021-11-12T19:08:48.071   210548069  updateDataPackage\n",
       "907  2021-11-12T19:11:25.008   210548084  updateDataPackage\n",
       "908  2021-11-12T19:12:20.561   210548054  updateDataPackage\n",
       "\n",
       "[4953 rows x 3 columns]"
      ]
     },
     "execution_count": 8,
     "metadata": {},
     "output_type": "execute_result"
    }
   ],
   "source": [
    "df = pd.concat([old, new])\n",
    "df"
   ]
  },
  {
   "cell_type": "code",
   "execution_count": 9,
   "metadata": {},
   "outputs": [],
   "source": [
    "df = edi.get_counts(df)"
   ]
  },
  {
   "cell_type": "code",
   "execution_count": 10,
   "metadata": {},
   "outputs": [
    {
     "data": {
      "text/html": [
       "<div>\n",
       "<style scoped>\n",
       "    .dataframe tbody tr th:only-of-type {\n",
       "        vertical-align: middle;\n",
       "    }\n",
       "\n",
       "    .dataframe tbody tr th {\n",
       "        vertical-align: top;\n",
       "    }\n",
       "\n",
       "    .dataframe thead th {\n",
       "        text-align: right;\n",
       "    }\n",
       "</style>\n",
       "<table border=\"1\" class=\"dataframe\">\n",
       "  <thead>\n",
       "    <tr style=\"text-align: right;\">\n",
       "      <th></th>\n",
       "      <th>n_update</th>\n",
       "      <th>n_create</th>\n",
       "      <th>n_tot</th>\n",
       "    </tr>\n",
       "    <tr>\n",
       "      <th>date</th>\n",
       "      <th></th>\n",
       "      <th></th>\n",
       "      <th></th>\n",
       "    </tr>\n",
       "  </thead>\n",
       "  <tbody>\n",
       "    <tr>\n",
       "      <th>2020-12-07</th>\n",
       "      <td>0</td>\n",
       "      <td>1</td>\n",
       "      <td>1</td>\n",
       "    </tr>\n",
       "    <tr>\n",
       "      <th>2020-12-08</th>\n",
       "      <td>0</td>\n",
       "      <td>0</td>\n",
       "      <td>0</td>\n",
       "    </tr>\n",
       "    <tr>\n",
       "      <th>2020-12-09</th>\n",
       "      <td>102</td>\n",
       "      <td>0</td>\n",
       "      <td>0</td>\n",
       "    </tr>\n",
       "    <tr>\n",
       "      <th>2020-12-10</th>\n",
       "      <td>1</td>\n",
       "      <td>0</td>\n",
       "      <td>0</td>\n",
       "    </tr>\n",
       "    <tr>\n",
       "      <th>2020-12-11</th>\n",
       "      <td>0</td>\n",
       "      <td>0</td>\n",
       "      <td>0</td>\n",
       "    </tr>\n",
       "    <tr>\n",
       "      <th>...</th>\n",
       "      <td>...</td>\n",
       "      <td>...</td>\n",
       "      <td>...</td>\n",
       "    </tr>\n",
       "    <tr>\n",
       "      <th>2021-11-08</th>\n",
       "      <td>0</td>\n",
       "      <td>0</td>\n",
       "      <td>0</td>\n",
       "    </tr>\n",
       "    <tr>\n",
       "      <th>2021-11-09</th>\n",
       "      <td>0</td>\n",
       "      <td>1</td>\n",
       "      <td>1</td>\n",
       "    </tr>\n",
       "    <tr>\n",
       "      <th>2021-11-10</th>\n",
       "      <td>0</td>\n",
       "      <td>0</td>\n",
       "      <td>0</td>\n",
       "    </tr>\n",
       "    <tr>\n",
       "      <th>2021-11-11</th>\n",
       "      <td>0</td>\n",
       "      <td>0</td>\n",
       "      <td>0</td>\n",
       "    </tr>\n",
       "    <tr>\n",
       "      <th>2021-11-12</th>\n",
       "      <td>90</td>\n",
       "      <td>0</td>\n",
       "      <td>0</td>\n",
       "    </tr>\n",
       "  </tbody>\n",
       "</table>\n",
       "<p>341 rows × 3 columns</p>\n",
       "</div>"
      ],
      "text/plain": [
       "            n_update  n_create  n_tot\n",
       "date                                 \n",
       "2020-12-07         0         1      1\n",
       "2020-12-08         0         0      0\n",
       "2020-12-09       102         0      0\n",
       "2020-12-10         1         0      0\n",
       "2020-12-11         0         0      0\n",
       "...              ...       ...    ...\n",
       "2021-11-08         0         0      0\n",
       "2021-11-09         0         1      1\n",
       "2021-11-10         0         0      0\n",
       "2021-11-11         0         0      0\n",
       "2021-11-12        90         0      0\n",
       "\n",
       "[341 rows x 3 columns]"
      ]
     },
     "execution_count": 10,
     "metadata": {},
     "output_type": "execute_result"
    }
   ],
   "source": [
    "daily = edi.counts_to_daily(df, startdt='2020-12-01')\n",
    "daily"
   ]
  },
  {
   "cell_type": "markdown",
   "metadata": {},
   "source": [
    "## Plot activity since last report (2020-12-01)\n"
   ]
  },
  {
   "cell_type": "code",
   "execution_count": 17,
   "metadata": {},
   "outputs": [],
   "source": [
    "import matplotlib\n",
    "import matplotlib.pyplot as plt\n",
    "# Figure config\n",
    "font = {'family' : 'normal',\n",
    "        'weight' : 'normal',\n",
    "        'size'   : 14}\n",
    "\n",
    "matplotlib.rc('font', **font)\n",
    "\n",
    "# Get a datestamp for saving figures\n",
    "import datetime\n",
    "now = datetime.datetime.now().strftime(\"%Y%m%d\")"
   ]
  },
  {
   "cell_type": "code",
   "execution_count": 18,
   "metadata": {},
   "outputs": [
    {
     "data": {
      "image/png": "[encoded data removed]",
      "text/plain": [
       "<Figure size 504x504 with 2 Axes>"
      ]
     },
     "metadata": {
      "needs_background": "light"
     },
     "output_type": "display_data"
    }
   ],
   "source": [
    "# All time plot:\n",
    "fig, ax = plt.subplots(nrows=2, ncols=1, figsize=(7, 7), sharex=True)\n",
    "\n",
    "ax[0].plot(daily.index, daily.n_update, label='Update pkg')\n",
    "ax[0].plot(daily.index, daily.n_create, label='Create pkg')\n",
    "ax[0].set_ylabel('JRN events')\n",
    "\n",
    "ax[1].plot(daily.index, daily.n_update.cumsum(), label='Update pkg')\n",
    "ax[1].plot(daily.index, daily.n_create.cumsum(), label='Create pkg')\n",
    "#ax[1].plot(daily.index, daily.n_tot.cumsum(), label='Total')\n",
    "\n",
    "plt.ylabel('JRN Cumulative')\n",
    "fig.autofmt_xdate()\n",
    "plt.suptitle('JRN activity on EDI in 2021')\n",
    "plt.legend()\n",
    "\n",
    "import os\n",
    "fig.savefig(os.path.expanduser(\"~/GD_gmaurer@nmsu/IM/figures/JRN_EDI_2021_ann_rpt_{0}.png\".format(now)),\n",
    "            dpi=150, bbox_inches='tight',facecolor='w')"
   ]
  },
  {
   "cell_type": "markdown",
   "metadata": {},
   "source": [
    "### Total number of packages"
   ]
  },
  {
   "cell_type": "code",
   "execution_count": 19,
   "metadata": {},
   "outputs": [
    {
     "data": {
      "text/plain": [
       "10"
      ]
     },
     "execution_count": 19,
     "metadata": {},
     "output_type": "execute_result"
    }
   ],
   "source": [
    "daily.n_create.sum()"
   ]
  },
  {
   "cell_type": "code",
   "execution_count": 20,
   "metadata": {},
   "outputs": [
    {
     "data": {
      "text/plain": [
       "1862"
      ]
     },
     "execution_count": 20,
     "metadata": {},
     "output_type": "execute_result"
    }
   ],
   "source": [
    "daily.n_update.sum()"
   ]
  },
  {
   "cell_type": "markdown",
   "metadata": {},
   "source": [
    "## Plot 2021 activity excluding Met"
   ]
  },
  {
   "cell_type": "code",
   "execution_count": 22,
   "metadata": {},
   "outputs": [
    {
     "data": {
      "text/html": [
       "<div>\n",
       "<style scoped>\n",
       "    .dataframe tbody tr th:only-of-type {\n",
       "        vertical-align: middle;\n",
       "    }\n",
       "\n",
       "    .dataframe tbody tr th {\n",
       "        vertical-align: top;\n",
       "    }\n",
       "\n",
       "    .dataframe thead th {\n",
       "        text-align: right;\n",
       "    }\n",
       "</style>\n",
       "<table border=\"1\" class=\"dataframe\">\n",
       "  <thead>\n",
       "    <tr style=\"text-align: right;\">\n",
       "      <th></th>\n",
       "      <th>n_update</th>\n",
       "      <th>n_create</th>\n",
       "      <th>n_tot</th>\n",
       "    </tr>\n",
       "    <tr>\n",
       "      <th>date</th>\n",
       "      <th></th>\n",
       "      <th></th>\n",
       "      <th></th>\n",
       "    </tr>\n",
       "  </thead>\n",
       "  <tbody>\n",
       "    <tr>\n",
       "      <th>2020-12-07</th>\n",
       "      <td>0</td>\n",
       "      <td>1</td>\n",
       "      <td>1</td>\n",
       "    </tr>\n",
       "    <tr>\n",
       "      <th>2020-12-08</th>\n",
       "      <td>0</td>\n",
       "      <td>0</td>\n",
       "      <td>0</td>\n",
       "    </tr>\n",
       "    <tr>\n",
       "      <th>2020-12-09</th>\n",
       "      <td>0</td>\n",
       "      <td>0</td>\n",
       "      <td>0</td>\n",
       "    </tr>\n",
       "    <tr>\n",
       "      <th>2020-12-10</th>\n",
       "      <td>0</td>\n",
       "      <td>0</td>\n",
       "      <td>0</td>\n",
       "    </tr>\n",
       "    <tr>\n",
       "      <th>2020-12-11</th>\n",
       "      <td>0</td>\n",
       "      <td>0</td>\n",
       "      <td>0</td>\n",
       "    </tr>\n",
       "  </tbody>\n",
       "</table>\n",
       "</div>"
      ],
      "text/plain": [
       "            n_update  n_create  n_tot\n",
       "date                                 \n",
       "2020-12-07         0         1      1\n",
       "2020-12-08         0         0      0\n",
       "2020-12-09         0         0      0\n",
       "2020-12-10         0         0      0\n",
       "2020-12-11         0         0      0"
      ]
     },
     "execution_count": 22,
     "metadata": {},
     "output_type": "execute_result"
    }
   ],
   "source": [
    "nomet = np.logical_and(df.studyid!='437', df.studyid!='548')\n",
    "daily_nomet = edi.counts_to_daily(df.loc[nomet], startdt='2020-12-01')\n",
    "\n",
    "daily_nomet.head()"
   ]
  },
  {
   "cell_type": "markdown",
   "metadata": {},
   "source": [
    "### Total number of packages"
   ]
  },
  {
   "cell_type": "code",
   "execution_count": 23,
   "metadata": {},
   "outputs": [
    {
     "data": {
      "text/plain": [
       "10"
      ]
     },
     "execution_count": 23,
     "metadata": {},
     "output_type": "execute_result"
    }
   ],
   "source": [
    "daily_nomet.n_create.sum()"
   ]
  },
  {
   "cell_type": "code",
   "execution_count": 24,
   "metadata": {},
   "outputs": [
    {
     "data": {
      "text/plain": [
       "6"
      ]
     },
     "execution_count": 24,
     "metadata": {},
     "output_type": "execute_result"
    }
   ],
   "source": [
    "daily_nomet.n_update.sum()"
   ]
  },
  {
   "cell_type": "code",
   "execution_count": 25,
   "metadata": {},
   "outputs": [
    {
     "data": {
      "text/plain": [
       "<matplotlib.legend.Legend at 0x7faa97dd0400>"
      ]
     },
     "execution_count": 25,
     "metadata": {},
     "output_type": "execute_result"
    },
    {
     "data": {
      "image/png": "[encoded data removed]",
      "text/plain": [
       "<Figure size 504x504 with 2 Axes>"
      ]
     },
     "metadata": {
      "needs_background": "light"
     },
     "output_type": "display_data"
    }
   ],
   "source": [
    "# Recent plot:\n",
    "fig, ax = plt.subplots(nrows=2, ncols=1, figsize=(7, 7), sharex=True)\n",
    "\n",
    "ax[0].plot(daily_nomet.index, daily_nomet.n_update, label='Update pkg')\n",
    "ax[0].plot(daily_nomet.index, daily_nomet.n_create, label='Create pkg')\n",
    "ax[0].set_ylabel('JRN events')\n",
    "\n",
    "ax[1].plot(daily_nomet.index, daily_nomet.n_update.cumsum(), label='Update pkg')\n",
    "ax[1].plot(daily_nomet.index, daily_nomet.n_create.cumsum(), label='Create pkg')\n",
    "#ax[1].plot(daily_nomet.index, daily_nomet.n_tot.cumsum(), label='$\\Delta$ Total')\n",
    "#ax[1].axhline(y=63, xmin=0, xmax=1, ls=':', lw=1.5, color='k',\n",
    "#             label='Proposal goal')\n",
    "\n",
    "plt.ylabel('JRN Cumulative')\n",
    "fig.autofmt_xdate()\n",
    "plt.suptitle('JRN activity on EDI (Excluding met)')\n",
    "plt.legend()\n",
    "\n",
    "#fig.savefig(os.path.expanduser(\n",
    "#    \"/Users/gmaurer/GD_gmaurer.jrn.lter/IM/figures/JRN_EDI_2021_ann_rpt_NoMet_{0}.png\".format(now)),\n",
    "#            dpi=150, bbox_inches='tight',facecolor='w')"
   ]
  },
  {
   "cell_type": "markdown",
   "metadata": {},
   "source": [
    "## Summary since last Annual Report"
   ]
  },
  {
   "cell_type": "code",
   "execution_count": 30,
   "metadata": {},
   "outputs": [
    {
     "data": {
      "text/html": [
       "<div>\n",
       "<style scoped>\n",
       "    .dataframe tbody tr th:only-of-type {\n",
       "        vertical-align: middle;\n",
       "    }\n",
       "\n",
       "    .dataframe tbody tr th {\n",
       "        vertical-align: top;\n",
       "    }\n",
       "\n",
       "    .dataframe thead th {\n",
       "        text-align: right;\n",
       "    }\n",
       "</style>\n",
       "<table border=\"1\" class=\"dataframe\">\n",
       "  <thead>\n",
       "    <tr style=\"text-align: right;\">\n",
       "      <th></th>\n",
       "      <th>date</th>\n",
       "      <th>pkgid</th>\n",
       "      <th>action</th>\n",
       "      <th>n_update</th>\n",
       "      <th>n_create</th>\n",
       "      <th>n_delete</th>\n",
       "      <th>n_tot</th>\n",
       "      <th>studyid</th>\n",
       "    </tr>\n",
       "  </thead>\n",
       "  <tbody>\n",
       "    <tr>\n",
       "      <th>0</th>\n",
       "      <td>2015-04-17T14:42:05.936</td>\n",
       "      <td>2100011003</td>\n",
       "      <td>createDataPackage</td>\n",
       "      <td>0</td>\n",
       "      <td>1</td>\n",
       "      <td>0</td>\n",
       "      <td>1</td>\n",
       "      <td>011</td>\n",
       "    </tr>\n",
       "    <tr>\n",
       "      <th>1</th>\n",
       "      <td>2015-04-17T15:43:26.172</td>\n",
       "      <td>210120002</td>\n",
       "      <td>createDataPackage</td>\n",
       "      <td>0</td>\n",
       "      <td>1</td>\n",
       "      <td>0</td>\n",
       "      <td>1</td>\n",
       "      <td>120</td>\n",
       "    </tr>\n",
       "    <tr>\n",
       "      <th>2</th>\n",
       "      <td>2015-04-17T15:43:26.771</td>\n",
       "      <td>2100392001</td>\n",
       "      <td>createDataPackage</td>\n",
       "      <td>0</td>\n",
       "      <td>1</td>\n",
       "      <td>0</td>\n",
       "      <td>1</td>\n",
       "      <td>392</td>\n",
       "    </tr>\n",
       "    <tr>\n",
       "      <th>3</th>\n",
       "      <td>2015-04-17T15:43:41.508</td>\n",
       "      <td>2100169002</td>\n",
       "      <td>createDataPackage</td>\n",
       "      <td>0</td>\n",
       "      <td>1</td>\n",
       "      <td>0</td>\n",
       "      <td>1</td>\n",
       "      <td>169</td>\n",
       "    </tr>\n",
       "    <tr>\n",
       "      <th>4</th>\n",
       "      <td>2015-04-17T15:43:45.55</td>\n",
       "      <td>2100010001</td>\n",
       "      <td>createDataPackage</td>\n",
       "      <td>0</td>\n",
       "      <td>1</td>\n",
       "      <td>0</td>\n",
       "      <td>1</td>\n",
       "      <td>010</td>\n",
       "    </tr>\n",
       "  </tbody>\n",
       "</table>\n",
       "</div>"
      ],
      "text/plain": [
       "                      date       pkgid             action  n_update  n_create  \\\n",
       "0  2015-04-17T14:42:05.936  2100011003  createDataPackage         0         1   \n",
       "1  2015-04-17T15:43:26.172   210120002  createDataPackage         0         1   \n",
       "2  2015-04-17T15:43:26.771  2100392001  createDataPackage         0         1   \n",
       "3  2015-04-17T15:43:41.508  2100169002  createDataPackage         0         1   \n",
       "4   2015-04-17T15:43:45.55  2100010001  createDataPackage         0         1   \n",
       "\n",
       "   n_delete  n_tot studyid  \n",
       "0         0      1     011  \n",
       "1         0      1     120  \n",
       "2         0      1     392  \n",
       "3         0      1     169  \n",
       "4         0      1     010  "
      ]
     },
     "execution_count": 30,
     "metadata": {},
     "output_type": "execute_result"
    }
   ],
   "source": [
    "df.head()"
   ]
  },
  {
   "cell_type": "code",
   "execution_count": 31,
   "metadata": {},
   "outputs": [
    {
     "name": "stdout",
     "output_type": "stream",
     "text": [
      "1862\n",
      "[210437046 210437076 210437033 210437018 210437079 210437094 210437082\n",
      " 210437097 210437083 210437098 210437084 210437099 210437085 210437100\n",
      " 210437011 210437042 210437027 210437088 210437109 210437113 210437114\n",
      " 210437115 210437001 210437031 210437016 210437091 210437002 210437032\n",
      " 210437017 210437047 210437077 210437092 210437003 210437048 210437078\n",
      " 210437093 210437004 210437034 210437019 210437049 210437005 210437020\n",
      " 210437050 210437080 210437095 210437006 210437036 210437021 210437081\n",
      " 210437096 210437007 210437037 210437022 210437052 210437008 210437038\n",
      " 210437023 210437053 210437009 210437039 210437024 210437054 210437010\n",
      " 210437040 210437025 210437055 210437041 210437026 210437056 210437086\n",
      " 210437101 210437012 210437057 210437087 210437102 210437013 210437043\n",
      " 210437028 210437058 210437103 210437014 210437044 210437029 210437059\n",
      " 210437089 210437104 210437015 210437045 210437030 210437060 210437090\n",
      " 210437105 210437107 210437108 210437110 210437111 210437112 210437116\n",
      " 210437117 210437118 210437119 210437120 210437035 210015001 210548025\n",
      " 210548010 210548040 210548070 210548085 210548055 210548026 210548041\n",
      " 210548011 210548071 210548086 210548056 210548027 210548042 210548012\n",
      " 210548072 210548087 210548057 210548028 210548013 210548043 210548073\n",
      " 210548088 210548058 210548029 210548014 210548044 210548074 210548089\n",
      " 210548059 210548030 210548015 210548045 210548075 210548090 210548060\n",
      " 210548016 210548001 210548031 210548061 210548076 210548046 210548017\n",
      " 210548032 210548002 210548062 210548077 210548047 210548018 210548003\n",
      " 210548033 210548063 210548078 210548048 210548019 210548004 210548034\n",
      " 210548064 210548079 210548049 210548020 210548005 210548035 210548065\n",
      " 210548080 210548050 210548021 210548006 210548036 210548066 210548081\n",
      " 210548051 210548022 210548007 210548037 210548067 210548082 210548052\n",
      " 210548023 210548008 210548038 210548068 210548083 210548053 210548024\n",
      " 210548009 210548039 210548069 210548084 210548054 210548099 210548100\n",
      " 210548101 210548102 210548103 210548091 210548092 210548093 210548094\n",
      " 210548095 210548096 210548097 210548098 210380001 210437061 210437062\n",
      " 210437063 210437064 210437065 210437051 210437066 210437067 210437068\n",
      " 210437069 210437070 210437071 210437072 210437073 210437074 210437075\n",
      " 210351004 210437106 210126001 200021001]\n",
      "[210015001 210380001 210351004 210126001 200021001]\n",
      "228\n"
     ]
    },
    {
     "data": {
      "text/plain": [
       "5"
      ]
     },
     "execution_count": 31,
     "metadata": {},
     "output_type": "execute_result"
    }
   ],
   "source": [
    "# Unique packages updated (excluding met)\n",
    "rEDI = df.loc[df.date > '2020-12-01',]\n",
    "rEDI_nomet = rEDI.loc[np.logical_and(rEDI.studyid!='437', rEDI.studyid!='548'),:]\n",
    "print(len(rEDI.loc[rEDI.action=='updateDataPackage',]))\n",
    "uniqueUp = rEDI.loc[rEDI.action=='updateDataPackage',].pkgid.unique()\n",
    "uniqueUp_nomet = rEDI_nomet.loc[rEDI_nomet.action=='updateDataPackage',].pkgid.unique()\n",
    "#rEDI.loc[rEDI.action=='updateDataPackage',].pkgid.unique()\n",
    "print(uniqueUp)\n",
    "print(uniqueUp_nomet)\n",
    "print(len(uniqueUp))\n",
    "len(uniqueUp_nomet)"
   ]
  },
  {
   "cell_type": "code",
   "execution_count": 34,
   "metadata": {},
   "outputs": [
    {
     "data": {
      "text/html": [
       "<div>\n",
       "<style scoped>\n",
       "    .dataframe tbody tr th:only-of-type {\n",
       "        vertical-align: middle;\n",
       "    }\n",
       "\n",
       "    .dataframe tbody tr th {\n",
       "        vertical-align: top;\n",
       "    }\n",
       "\n",
       "    .dataframe thead th {\n",
       "        text-align: right;\n",
       "    }\n",
       "</style>\n",
       "<table border=\"1\" class=\"dataframe\">\n",
       "  <thead>\n",
       "    <tr style=\"text-align: right;\">\n",
       "      <th></th>\n",
       "      <th>Total</th>\n",
       "      <th>Non-Met</th>\n",
       "    </tr>\n",
       "  </thead>\n",
       "  <tbody>\n",
       "    <tr>\n",
       "      <th>New packages created</th>\n",
       "      <td>10</td>\n",
       "      <td>10</td>\n",
       "    </tr>\n",
       "    <tr>\n",
       "      <th>Package updates</th>\n",
       "      <td>1862</td>\n",
       "      <td>6</td>\n",
       "    </tr>\n",
       "    <tr>\n",
       "      <th>Unique package updates</th>\n",
       "      <td>228</td>\n",
       "      <td>5</td>\n",
       "    </tr>\n",
       "  </tbody>\n",
       "</table>\n",
       "</div>"
      ],
      "text/plain": [
       "                        Total  Non-Met\n",
       "New packages created       10       10\n",
       "Package updates          1862        6\n",
       "Unique package updates    228        5"
      ]
     },
     "execution_count": 34,
     "metadata": {},
     "output_type": "execute_result"
    }
   ],
   "source": [
    "pkgtbl = pd.DataFrame({'Total':[daily.n_create.sum(), daily.n_update.sum(),len(uniqueUp)],\n",
    "                       'Non-Met':[daily_nomet.n_create.sum(), daily_nomet.n_update.sum(),len(uniqueUp_nomet)]})\n",
    "pkgtbl.index = ['New packages created', 'Package updates', 'Unique package updates']\n",
    "\n",
    "pkgtbl\n",
    "#with open('tables_out/2021_annrpt_edi.md', 'w') as f:\n",
    "#    f.write(pkgtbl.to_markdown(tablefmt=\"grid\"))"
   ]
  },
  {
   "cell_type": "code",
   "execution_count": 35,
   "metadata": {},
   "outputs": [
    {
     "data": {
      "text/plain": [
       "['https://portal.edirepository.org/nis/mapbrowse?scope=knb-lter-jrn&identifier=210437046',\n",
       " 'https://portal.edirepository.org/nis/mapbrowse?scope=knb-lter-jrn&identifier=210437076',\n",
       " 'https://portal.edirepository.org/nis/mapbrowse?scope=knb-lter-jrn&identifier=210437033',\n",
       " 'https://portal.edirepository.org/nis/mapbrowse?scope=knb-lter-jrn&identifier=210437018',\n",
       " 'https://portal.edirepository.org/nis/mapbrowse?scope=knb-lter-jrn&identifier=210437079',\n",
       " 'https://portal.edirepository.org/nis/mapbrowse?scope=knb-lter-jrn&identifier=210437094',\n",
       " 'https://portal.edirepository.org/nis/mapbrowse?scope=knb-lter-jrn&identifier=210437082',\n",
       " 'https://portal.edirepository.org/nis/mapbrowse?scope=knb-lter-jrn&identifier=210437097',\n",
       " 'https://portal.edirepository.org/nis/mapbrowse?scope=knb-lter-jrn&identifier=210437083',\n",
       " 'https://portal.edirepository.org/nis/mapbrowse?scope=knb-lter-jrn&identifier=210437098',\n",
       " 'https://portal.edirepository.org/nis/mapbrowse?scope=knb-lter-jrn&identifier=210437084',\n",
       " 'https://portal.edirepository.org/nis/mapbrowse?scope=knb-lter-jrn&identifier=210437099',\n",
       " 'https://portal.edirepository.org/nis/mapbrowse?scope=knb-lter-jrn&identifier=210437085',\n",
       " 'https://portal.edirepository.org/nis/mapbrowse?scope=knb-lter-jrn&identifier=210437100',\n",
       " 'https://portal.edirepository.org/nis/mapbrowse?scope=knb-lter-jrn&identifier=210437011',\n",
       " 'https://portal.edirepository.org/nis/mapbrowse?scope=knb-lter-jrn&identifier=210437042',\n",
       " 'https://portal.edirepository.org/nis/mapbrowse?scope=knb-lter-jrn&identifier=210437027',\n",
       " 'https://portal.edirepository.org/nis/mapbrowse?scope=knb-lter-jrn&identifier=210437088',\n",
       " 'https://portal.edirepository.org/nis/mapbrowse?scope=knb-lter-jrn&identifier=210437109',\n",
       " 'https://portal.edirepository.org/nis/mapbrowse?scope=knb-lter-jrn&identifier=210437113',\n",
       " 'https://portal.edirepository.org/nis/mapbrowse?scope=knb-lter-jrn&identifier=210437114',\n",
       " 'https://portal.edirepository.org/nis/mapbrowse?scope=knb-lter-jrn&identifier=210437115',\n",
       " 'https://portal.edirepository.org/nis/mapbrowse?scope=knb-lter-jrn&identifier=210437001',\n",
       " 'https://portal.edirepository.org/nis/mapbrowse?scope=knb-lter-jrn&identifier=210437031',\n",
       " 'https://portal.edirepository.org/nis/mapbrowse?scope=knb-lter-jrn&identifier=210437016',\n",
       " 'https://portal.edirepository.org/nis/mapbrowse?scope=knb-lter-jrn&identifier=210437091',\n",
       " 'https://portal.edirepository.org/nis/mapbrowse?scope=knb-lter-jrn&identifier=210437002',\n",
       " 'https://portal.edirepository.org/nis/mapbrowse?scope=knb-lter-jrn&identifier=210437032',\n",
       " 'https://portal.edirepository.org/nis/mapbrowse?scope=knb-lter-jrn&identifier=210437017',\n",
       " 'https://portal.edirepository.org/nis/mapbrowse?scope=knb-lter-jrn&identifier=210437047',\n",
       " 'https://portal.edirepository.org/nis/mapbrowse?scope=knb-lter-jrn&identifier=210437077',\n",
       " 'https://portal.edirepository.org/nis/mapbrowse?scope=knb-lter-jrn&identifier=210437092',\n",
       " 'https://portal.edirepository.org/nis/mapbrowse?scope=knb-lter-jrn&identifier=210437003',\n",
       " 'https://portal.edirepository.org/nis/mapbrowse?scope=knb-lter-jrn&identifier=210437048',\n",
       " 'https://portal.edirepository.org/nis/mapbrowse?scope=knb-lter-jrn&identifier=210437078',\n",
       " 'https://portal.edirepository.org/nis/mapbrowse?scope=knb-lter-jrn&identifier=210437093',\n",
       " 'https://portal.edirepository.org/nis/mapbrowse?scope=knb-lter-jrn&identifier=210437004',\n",
       " 'https://portal.edirepository.org/nis/mapbrowse?scope=knb-lter-jrn&identifier=210437034',\n",
       " 'https://portal.edirepository.org/nis/mapbrowse?scope=knb-lter-jrn&identifier=210437019',\n",
       " 'https://portal.edirepository.org/nis/mapbrowse?scope=knb-lter-jrn&identifier=210437049',\n",
       " 'https://portal.edirepository.org/nis/mapbrowse?scope=knb-lter-jrn&identifier=210437005',\n",
       " 'https://portal.edirepository.org/nis/mapbrowse?scope=knb-lter-jrn&identifier=210437020',\n",
       " 'https://portal.edirepository.org/nis/mapbrowse?scope=knb-lter-jrn&identifier=210437050',\n",
       " 'https://portal.edirepository.org/nis/mapbrowse?scope=knb-lter-jrn&identifier=210437080',\n",
       " 'https://portal.edirepository.org/nis/mapbrowse?scope=knb-lter-jrn&identifier=210437095',\n",
       " 'https://portal.edirepository.org/nis/mapbrowse?scope=knb-lter-jrn&identifier=210437006',\n",
       " 'https://portal.edirepository.org/nis/mapbrowse?scope=knb-lter-jrn&identifier=210437036',\n",
       " 'https://portal.edirepository.org/nis/mapbrowse?scope=knb-lter-jrn&identifier=210437021',\n",
       " 'https://portal.edirepository.org/nis/mapbrowse?scope=knb-lter-jrn&identifier=210437081',\n",
       " 'https://portal.edirepository.org/nis/mapbrowse?scope=knb-lter-jrn&identifier=210437096',\n",
       " 'https://portal.edirepository.org/nis/mapbrowse?scope=knb-lter-jrn&identifier=210437007',\n",
       " 'https://portal.edirepository.org/nis/mapbrowse?scope=knb-lter-jrn&identifier=210437037',\n",
       " 'https://portal.edirepository.org/nis/mapbrowse?scope=knb-lter-jrn&identifier=210437022',\n",
       " 'https://portal.edirepository.org/nis/mapbrowse?scope=knb-lter-jrn&identifier=210437052',\n",
       " 'https://portal.edirepository.org/nis/mapbrowse?scope=knb-lter-jrn&identifier=210437008',\n",
       " 'https://portal.edirepository.org/nis/mapbrowse?scope=knb-lter-jrn&identifier=210437038',\n",
       " 'https://portal.edirepository.org/nis/mapbrowse?scope=knb-lter-jrn&identifier=210437023',\n",
       " 'https://portal.edirepository.org/nis/mapbrowse?scope=knb-lter-jrn&identifier=210437053',\n",
       " 'https://portal.edirepository.org/nis/mapbrowse?scope=knb-lter-jrn&identifier=210437009',\n",
       " 'https://portal.edirepository.org/nis/mapbrowse?scope=knb-lter-jrn&identifier=210437039',\n",
       " 'https://portal.edirepository.org/nis/mapbrowse?scope=knb-lter-jrn&identifier=210437024',\n",
       " 'https://portal.edirepository.org/nis/mapbrowse?scope=knb-lter-jrn&identifier=210437054',\n",
       " 'https://portal.edirepository.org/nis/mapbrowse?scope=knb-lter-jrn&identifier=210437010',\n",
       " 'https://portal.edirepository.org/nis/mapbrowse?scope=knb-lter-jrn&identifier=210437040',\n",
       " 'https://portal.edirepository.org/nis/mapbrowse?scope=knb-lter-jrn&identifier=210437025',\n",
       " 'https://portal.edirepository.org/nis/mapbrowse?scope=knb-lter-jrn&identifier=210437055',\n",
       " 'https://portal.edirepository.org/nis/mapbrowse?scope=knb-lter-jrn&identifier=210437041',\n",
       " 'https://portal.edirepository.org/nis/mapbrowse?scope=knb-lter-jrn&identifier=210437026',\n",
       " 'https://portal.edirepository.org/nis/mapbrowse?scope=knb-lter-jrn&identifier=210437056',\n",
       " 'https://portal.edirepository.org/nis/mapbrowse?scope=knb-lter-jrn&identifier=210437086',\n",
       " 'https://portal.edirepository.org/nis/mapbrowse?scope=knb-lter-jrn&identifier=210437101',\n",
       " 'https://portal.edirepository.org/nis/mapbrowse?scope=knb-lter-jrn&identifier=210437012',\n",
       " 'https://portal.edirepository.org/nis/mapbrowse?scope=knb-lter-jrn&identifier=210437057',\n",
       " 'https://portal.edirepository.org/nis/mapbrowse?scope=knb-lter-jrn&identifier=210437087',\n",
       " 'https://portal.edirepository.org/nis/mapbrowse?scope=knb-lter-jrn&identifier=210437102',\n",
       " 'https://portal.edirepository.org/nis/mapbrowse?scope=knb-lter-jrn&identifier=210437013',\n",
       " 'https://portal.edirepository.org/nis/mapbrowse?scope=knb-lter-jrn&identifier=210437043',\n",
       " 'https://portal.edirepository.org/nis/mapbrowse?scope=knb-lter-jrn&identifier=210437028',\n",
       " 'https://portal.edirepository.org/nis/mapbrowse?scope=knb-lter-jrn&identifier=210437058',\n",
       " 'https://portal.edirepository.org/nis/mapbrowse?scope=knb-lter-jrn&identifier=210437103',\n",
       " 'https://portal.edirepository.org/nis/mapbrowse?scope=knb-lter-jrn&identifier=210437014',\n",
       " 'https://portal.edirepository.org/nis/mapbrowse?scope=knb-lter-jrn&identifier=210437044',\n",
       " 'https://portal.edirepository.org/nis/mapbrowse?scope=knb-lter-jrn&identifier=210437029',\n",
       " 'https://portal.edirepository.org/nis/mapbrowse?scope=knb-lter-jrn&identifier=210437059',\n",
       " 'https://portal.edirepository.org/nis/mapbrowse?scope=knb-lter-jrn&identifier=210437089',\n",
       " 'https://portal.edirepository.org/nis/mapbrowse?scope=knb-lter-jrn&identifier=210437104',\n",
       " 'https://portal.edirepository.org/nis/mapbrowse?scope=knb-lter-jrn&identifier=210437015',\n",
       " 'https://portal.edirepository.org/nis/mapbrowse?scope=knb-lter-jrn&identifier=210437045',\n",
       " 'https://portal.edirepository.org/nis/mapbrowse?scope=knb-lter-jrn&identifier=210437030',\n",
       " 'https://portal.edirepository.org/nis/mapbrowse?scope=knb-lter-jrn&identifier=210437060',\n",
       " 'https://portal.edirepository.org/nis/mapbrowse?scope=knb-lter-jrn&identifier=210437090',\n",
       " 'https://portal.edirepository.org/nis/mapbrowse?scope=knb-lter-jrn&identifier=210437105',\n",
       " 'https://portal.edirepository.org/nis/mapbrowse?scope=knb-lter-jrn&identifier=210437107',\n",
       " 'https://portal.edirepository.org/nis/mapbrowse?scope=knb-lter-jrn&identifier=210437108',\n",
       " 'https://portal.edirepository.org/nis/mapbrowse?scope=knb-lter-jrn&identifier=210437110',\n",
       " 'https://portal.edirepository.org/nis/mapbrowse?scope=knb-lter-jrn&identifier=210437111',\n",
       " 'https://portal.edirepository.org/nis/mapbrowse?scope=knb-lter-jrn&identifier=210437112',\n",
       " 'https://portal.edirepository.org/nis/mapbrowse?scope=knb-lter-jrn&identifier=210437116',\n",
       " 'https://portal.edirepository.org/nis/mapbrowse?scope=knb-lter-jrn&identifier=210437117',\n",
       " 'https://portal.edirepository.org/nis/mapbrowse?scope=knb-lter-jrn&identifier=210437118',\n",
       " 'https://portal.edirepository.org/nis/mapbrowse?scope=knb-lter-jrn&identifier=210437119',\n",
       " 'https://portal.edirepository.org/nis/mapbrowse?scope=knb-lter-jrn&identifier=210437120',\n",
       " 'https://portal.edirepository.org/nis/mapbrowse?scope=knb-lter-jrn&identifier=210437035',\n",
       " 'https://portal.edirepository.org/nis/mapbrowse?scope=knb-lter-jrn&identifier=210015001',\n",
       " 'https://portal.edirepository.org/nis/mapbrowse?scope=knb-lter-jrn&identifier=210548025',\n",
       " 'https://portal.edirepository.org/nis/mapbrowse?scope=knb-lter-jrn&identifier=210548010',\n",
       " 'https://portal.edirepository.org/nis/mapbrowse?scope=knb-lter-jrn&identifier=210548040',\n",
       " 'https://portal.edirepository.org/nis/mapbrowse?scope=knb-lter-jrn&identifier=210548070',\n",
       " 'https://portal.edirepository.org/nis/mapbrowse?scope=knb-lter-jrn&identifier=210548085',\n",
       " 'https://portal.edirepository.org/nis/mapbrowse?scope=knb-lter-jrn&identifier=210548055',\n",
       " 'https://portal.edirepository.org/nis/mapbrowse?scope=knb-lter-jrn&identifier=210548026',\n",
       " 'https://portal.edirepository.org/nis/mapbrowse?scope=knb-lter-jrn&identifier=210548041',\n",
       " 'https://portal.edirepository.org/nis/mapbrowse?scope=knb-lter-jrn&identifier=210548011',\n",
       " 'https://portal.edirepository.org/nis/mapbrowse?scope=knb-lter-jrn&identifier=210548071',\n",
       " 'https://portal.edirepository.org/nis/mapbrowse?scope=knb-lter-jrn&identifier=210548086',\n",
       " 'https://portal.edirepository.org/nis/mapbrowse?scope=knb-lter-jrn&identifier=210548056',\n",
       " 'https://portal.edirepository.org/nis/mapbrowse?scope=knb-lter-jrn&identifier=210548027',\n",
       " 'https://portal.edirepository.org/nis/mapbrowse?scope=knb-lter-jrn&identifier=210548042',\n",
       " 'https://portal.edirepository.org/nis/mapbrowse?scope=knb-lter-jrn&identifier=210548012',\n",
       " 'https://portal.edirepository.org/nis/mapbrowse?scope=knb-lter-jrn&identifier=210548072',\n",
       " 'https://portal.edirepository.org/nis/mapbrowse?scope=knb-lter-jrn&identifier=210548087',\n",
       " 'https://portal.edirepository.org/nis/mapbrowse?scope=knb-lter-jrn&identifier=210548057',\n",
       " 'https://portal.edirepository.org/nis/mapbrowse?scope=knb-lter-jrn&identifier=210548028',\n",
       " 'https://portal.edirepository.org/nis/mapbrowse?scope=knb-lter-jrn&identifier=210548013',\n",
       " 'https://portal.edirepository.org/nis/mapbrowse?scope=knb-lter-jrn&identifier=210548043',\n",
       " 'https://portal.edirepository.org/nis/mapbrowse?scope=knb-lter-jrn&identifier=210548073',\n",
       " 'https://portal.edirepository.org/nis/mapbrowse?scope=knb-lter-jrn&identifier=210548088',\n",
       " 'https://portal.edirepository.org/nis/mapbrowse?scope=knb-lter-jrn&identifier=210548058',\n",
       " 'https://portal.edirepository.org/nis/mapbrowse?scope=knb-lter-jrn&identifier=210548029',\n",
       " 'https://portal.edirepository.org/nis/mapbrowse?scope=knb-lter-jrn&identifier=210548014',\n",
       " 'https://portal.edirepository.org/nis/mapbrowse?scope=knb-lter-jrn&identifier=210548044',\n",
       " 'https://portal.edirepository.org/nis/mapbrowse?scope=knb-lter-jrn&identifier=210548074',\n",
       " 'https://portal.edirepository.org/nis/mapbrowse?scope=knb-lter-jrn&identifier=210548089',\n",
       " 'https://portal.edirepository.org/nis/mapbrowse?scope=knb-lter-jrn&identifier=210548059',\n",
       " 'https://portal.edirepository.org/nis/mapbrowse?scope=knb-lter-jrn&identifier=210548030',\n",
       " 'https://portal.edirepository.org/nis/mapbrowse?scope=knb-lter-jrn&identifier=210548015',\n",
       " 'https://portal.edirepository.org/nis/mapbrowse?scope=knb-lter-jrn&identifier=210548045',\n",
       " 'https://portal.edirepository.org/nis/mapbrowse?scope=knb-lter-jrn&identifier=210548075',\n",
       " 'https://portal.edirepository.org/nis/mapbrowse?scope=knb-lter-jrn&identifier=210548090',\n",
       " 'https://portal.edirepository.org/nis/mapbrowse?scope=knb-lter-jrn&identifier=210548060',\n",
       " 'https://portal.edirepository.org/nis/mapbrowse?scope=knb-lter-jrn&identifier=210548016',\n",
       " 'https://portal.edirepository.org/nis/mapbrowse?scope=knb-lter-jrn&identifier=210548001',\n",
       " 'https://portal.edirepository.org/nis/mapbrowse?scope=knb-lter-jrn&identifier=210548031',\n",
       " 'https://portal.edirepository.org/nis/mapbrowse?scope=knb-lter-jrn&identifier=210548061',\n",
       " 'https://portal.edirepository.org/nis/mapbrowse?scope=knb-lter-jrn&identifier=210548076',\n",
       " 'https://portal.edirepository.org/nis/mapbrowse?scope=knb-lter-jrn&identifier=210548046',\n",
       " 'https://portal.edirepository.org/nis/mapbrowse?scope=knb-lter-jrn&identifier=210548017',\n",
       " 'https://portal.edirepository.org/nis/mapbrowse?scope=knb-lter-jrn&identifier=210548032',\n",
       " 'https://portal.edirepository.org/nis/mapbrowse?scope=knb-lter-jrn&identifier=210548002',\n",
       " 'https://portal.edirepository.org/nis/mapbrowse?scope=knb-lter-jrn&identifier=210548062',\n",
       " 'https://portal.edirepository.org/nis/mapbrowse?scope=knb-lter-jrn&identifier=210548077',\n",
       " 'https://portal.edirepository.org/nis/mapbrowse?scope=knb-lter-jrn&identifier=210548047',\n",
       " 'https://portal.edirepository.org/nis/mapbrowse?scope=knb-lter-jrn&identifier=210548018',\n",
       " 'https://portal.edirepository.org/nis/mapbrowse?scope=knb-lter-jrn&identifier=210548003',\n",
       " 'https://portal.edirepository.org/nis/mapbrowse?scope=knb-lter-jrn&identifier=210548033',\n",
       " 'https://portal.edirepository.org/nis/mapbrowse?scope=knb-lter-jrn&identifier=210548063',\n",
       " 'https://portal.edirepository.org/nis/mapbrowse?scope=knb-lter-jrn&identifier=210548078',\n",
       " 'https://portal.edirepository.org/nis/mapbrowse?scope=knb-lter-jrn&identifier=210548048',\n",
       " 'https://portal.edirepository.org/nis/mapbrowse?scope=knb-lter-jrn&identifier=210548019',\n",
       " 'https://portal.edirepository.org/nis/mapbrowse?scope=knb-lter-jrn&identifier=210548004',\n",
       " 'https://portal.edirepository.org/nis/mapbrowse?scope=knb-lter-jrn&identifier=210548034',\n",
       " 'https://portal.edirepository.org/nis/mapbrowse?scope=knb-lter-jrn&identifier=210548064',\n",
       " 'https://portal.edirepository.org/nis/mapbrowse?scope=knb-lter-jrn&identifier=210548079',\n",
       " 'https://portal.edirepository.org/nis/mapbrowse?scope=knb-lter-jrn&identifier=210548049',\n",
       " 'https://portal.edirepository.org/nis/mapbrowse?scope=knb-lter-jrn&identifier=210548020',\n",
       " 'https://portal.edirepository.org/nis/mapbrowse?scope=knb-lter-jrn&identifier=210548005',\n",
       " 'https://portal.edirepository.org/nis/mapbrowse?scope=knb-lter-jrn&identifier=210548035',\n",
       " 'https://portal.edirepository.org/nis/mapbrowse?scope=knb-lter-jrn&identifier=210548065',\n",
       " 'https://portal.edirepository.org/nis/mapbrowse?scope=knb-lter-jrn&identifier=210548080',\n",
       " 'https://portal.edirepository.org/nis/mapbrowse?scope=knb-lter-jrn&identifier=210548050',\n",
       " 'https://portal.edirepository.org/nis/mapbrowse?scope=knb-lter-jrn&identifier=210548021',\n",
       " 'https://portal.edirepository.org/nis/mapbrowse?scope=knb-lter-jrn&identifier=210548006',\n",
       " 'https://portal.edirepository.org/nis/mapbrowse?scope=knb-lter-jrn&identifier=210548036',\n",
       " 'https://portal.edirepository.org/nis/mapbrowse?scope=knb-lter-jrn&identifier=210548066',\n",
       " 'https://portal.edirepository.org/nis/mapbrowse?scope=knb-lter-jrn&identifier=210548081',\n",
       " 'https://portal.edirepository.org/nis/mapbrowse?scope=knb-lter-jrn&identifier=210548051',\n",
       " 'https://portal.edirepository.org/nis/mapbrowse?scope=knb-lter-jrn&identifier=210548022',\n",
       " 'https://portal.edirepository.org/nis/mapbrowse?scope=knb-lter-jrn&identifier=210548007',\n",
       " 'https://portal.edirepository.org/nis/mapbrowse?scope=knb-lter-jrn&identifier=210548037',\n",
       " 'https://portal.edirepository.org/nis/mapbrowse?scope=knb-lter-jrn&identifier=210548067',\n",
       " 'https://portal.edirepository.org/nis/mapbrowse?scope=knb-lter-jrn&identifier=210548082',\n",
       " 'https://portal.edirepository.org/nis/mapbrowse?scope=knb-lter-jrn&identifier=210548052',\n",
       " 'https://portal.edirepository.org/nis/mapbrowse?scope=knb-lter-jrn&identifier=210548023',\n",
       " 'https://portal.edirepository.org/nis/mapbrowse?scope=knb-lter-jrn&identifier=210548008',\n",
       " 'https://portal.edirepository.org/nis/mapbrowse?scope=knb-lter-jrn&identifier=210548038',\n",
       " 'https://portal.edirepository.org/nis/mapbrowse?scope=knb-lter-jrn&identifier=210548068',\n",
       " 'https://portal.edirepository.org/nis/mapbrowse?scope=knb-lter-jrn&identifier=210548083',\n",
       " 'https://portal.edirepository.org/nis/mapbrowse?scope=knb-lter-jrn&identifier=210548053',\n",
       " 'https://portal.edirepository.org/nis/mapbrowse?scope=knb-lter-jrn&identifier=210548024',\n",
       " 'https://portal.edirepository.org/nis/mapbrowse?scope=knb-lter-jrn&identifier=210548009',\n",
       " 'https://portal.edirepository.org/nis/mapbrowse?scope=knb-lter-jrn&identifier=210548039',\n",
       " 'https://portal.edirepository.org/nis/mapbrowse?scope=knb-lter-jrn&identifier=210548069',\n",
       " 'https://portal.edirepository.org/nis/mapbrowse?scope=knb-lter-jrn&identifier=210548084',\n",
       " 'https://portal.edirepository.org/nis/mapbrowse?scope=knb-lter-jrn&identifier=210548054',\n",
       " 'https://portal.edirepository.org/nis/mapbrowse?scope=knb-lter-jrn&identifier=210548099',\n",
       " 'https://portal.edirepository.org/nis/mapbrowse?scope=knb-lter-jrn&identifier=210548100',\n",
       " 'https://portal.edirepository.org/nis/mapbrowse?scope=knb-lter-jrn&identifier=210548101',\n",
       " 'https://portal.edirepository.org/nis/mapbrowse?scope=knb-lter-jrn&identifier=210548102',\n",
       " 'https://portal.edirepository.org/nis/mapbrowse?scope=knb-lter-jrn&identifier=210548103',\n",
       " 'https://portal.edirepository.org/nis/mapbrowse?scope=knb-lter-jrn&identifier=210548091',\n",
       " 'https://portal.edirepository.org/nis/mapbrowse?scope=knb-lter-jrn&identifier=210548092',\n",
       " 'https://portal.edirepository.org/nis/mapbrowse?scope=knb-lter-jrn&identifier=210548093',\n",
       " 'https://portal.edirepository.org/nis/mapbrowse?scope=knb-lter-jrn&identifier=210548094',\n",
       " 'https://portal.edirepository.org/nis/mapbrowse?scope=knb-lter-jrn&identifier=210548095',\n",
       " 'https://portal.edirepository.org/nis/mapbrowse?scope=knb-lter-jrn&identifier=210548096',\n",
       " 'https://portal.edirepository.org/nis/mapbrowse?scope=knb-lter-jrn&identifier=210548097',\n",
       " 'https://portal.edirepository.org/nis/mapbrowse?scope=knb-lter-jrn&identifier=210548098',\n",
       " 'https://portal.edirepository.org/nis/mapbrowse?scope=knb-lter-jrn&identifier=210380001',\n",
       " 'https://portal.edirepository.org/nis/mapbrowse?scope=knb-lter-jrn&identifier=210437061',\n",
       " 'https://portal.edirepository.org/nis/mapbrowse?scope=knb-lter-jrn&identifier=210437062',\n",
       " 'https://portal.edirepository.org/nis/mapbrowse?scope=knb-lter-jrn&identifier=210437063',\n",
       " 'https://portal.edirepository.org/nis/mapbrowse?scope=knb-lter-jrn&identifier=210437064',\n",
       " 'https://portal.edirepository.org/nis/mapbrowse?scope=knb-lter-jrn&identifier=210437065',\n",
       " 'https://portal.edirepository.org/nis/mapbrowse?scope=knb-lter-jrn&identifier=210437051',\n",
       " 'https://portal.edirepository.org/nis/mapbrowse?scope=knb-lter-jrn&identifier=210437066',\n",
       " 'https://portal.edirepository.org/nis/mapbrowse?scope=knb-lter-jrn&identifier=210437067',\n",
       " 'https://portal.edirepository.org/nis/mapbrowse?scope=knb-lter-jrn&identifier=210437068',\n",
       " 'https://portal.edirepository.org/nis/mapbrowse?scope=knb-lter-jrn&identifier=210437069',\n",
       " 'https://portal.edirepository.org/nis/mapbrowse?scope=knb-lter-jrn&identifier=210437070',\n",
       " 'https://portal.edirepository.org/nis/mapbrowse?scope=knb-lter-jrn&identifier=210437071',\n",
       " 'https://portal.edirepository.org/nis/mapbrowse?scope=knb-lter-jrn&identifier=210437072',\n",
       " 'https://portal.edirepository.org/nis/mapbrowse?scope=knb-lter-jrn&identifier=210437073',\n",
       " 'https://portal.edirepository.org/nis/mapbrowse?scope=knb-lter-jrn&identifier=210437074',\n",
       " 'https://portal.edirepository.org/nis/mapbrowse?scope=knb-lter-jrn&identifier=210437075',\n",
       " 'https://portal.edirepository.org/nis/mapbrowse?scope=knb-lter-jrn&identifier=210351004',\n",
       " 'https://portal.edirepository.org/nis/mapbrowse?scope=knb-lter-jrn&identifier=210437106',\n",
       " 'https://portal.edirepository.org/nis/mapbrowse?scope=knb-lter-jrn&identifier=210126001',\n",
       " 'https://portal.edirepository.org/nis/mapbrowse?scope=knb-lter-jrn&identifier=200021001']"
      ]
     },
     "execution_count": 35,
     "metadata": {},
     "output_type": "execute_result"
    }
   ],
   "source": [
    "uniqueUp2 = ['https://portal.edirepository.org/nis/mapbrowse?scope=knb-lter-jrn&identifier=' + str(s)\n",
    "             for s in uniqueUp]\n",
    "with open('2021AR_unique_EDI_updates.txt', 'w') as f:\n",
    "    for item in uniqueUp2:\n",
    "        f.write(\"%s\\n\" % item)\n",
    "        \n",
    "uniqueUp2\n"
   ]
  },
  {
   "cell_type": "code",
   "execution_count": null,
   "metadata": {},
   "outputs": [],
   "source": [
    "accessrpt"
   ]
  }
 ],
 "metadata": {
  "kernelspec": {
   "display_name": "Python 3 (ipykernel)",
   "language": "python",
   "name": "python3"
  },
  "language_info": {
   "codemirror_mode": {
    "name": "ipython",
    "version": 3
   },
   "file_extension": ".py",
   "mimetype": "text/x-python",
   "name": "python",
   "nbconvert_exporter": "python",
   "pygments_lexer": "ipython3",
   "version": "3.9.7"
  }
 },
 "nbformat": 4,
 "nbformat_minor": 4
}
