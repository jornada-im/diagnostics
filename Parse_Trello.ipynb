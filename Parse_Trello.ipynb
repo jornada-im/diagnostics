{
 "cells": [
  {
   "cell_type": "markdown",
   "metadata": {},
   "source": [
    "## Trello diagnostics\n",
    "\n",
    "Get API key from database first"
   ]
  },
  {
   "cell_type": "code",
   "execution_count": 1,
   "metadata": {},
   "outputs": [],
   "source": [
    "import pandas as pd\n",
    "import requests\n",
    "import json\n",
    "import os\n",
    "import datetime\n",
    "now = datetime.datetime.now().strftime(\"%Y%m%d\")\n",
    "\n",
    "tkey = ''\n",
    "ttok = ''"
   ]
  },
  {
   "cell_type": "code",
   "execution_count": 2,
   "metadata": {},
   "outputs": [
    {
     "data": {
      "text/plain": [
       "<Response [200]>"
      ]
     },
     "execution_count": 2,
     "metadata": {},
     "output_type": "execute_result"
    }
   ],
   "source": [
    "param = (\n",
    "    ('key', tkey),\n",
    "    ('token', ttok),\n",
    "    ('fields','name,url'),\n",
    ")\n",
    "\n",
    "response = requests.get('https://api.trello.com/1/members/me/boards', params=param)\n",
    "response"
   ]
  },
  {
   "cell_type": "code",
   "execution_count": 3,
   "metadata": {},
   "outputs": [
    {
     "data": {
      "text/html": [
       "<div>\n",
       "<style scoped>\n",
       "    .dataframe tbody tr th:only-of-type {\n",
       "        vertical-align: middle;\n",
       "    }\n",
       "\n",
       "    .dataframe tbody tr th {\n",
       "        vertical-align: top;\n",
       "    }\n",
       "\n",
       "    .dataframe thead th {\n",
       "        text-align: right;\n",
       "    }\n",
       "</style>\n",
       "<table border=\"1\" class=\"dataframe\">\n",
       "  <thead>\n",
       "    <tr style=\"text-align: right;\">\n",
       "      <th></th>\n",
       "      <th>name</th>\n",
       "      <th>id</th>\n",
       "      <th>url</th>\n",
       "    </tr>\n",
       "  </thead>\n",
       "  <tbody>\n",
       "    <tr>\n",
       "      <th>0</th>\n",
       "      <td>Core_packages_to_EDI</td>\n",
       "      <td>5cd3535c4761e02ef43daee6</td>\n",
       "      <td>https://trello.com/b/mCuKbYTO/corepackagestoedi</td>\n",
       "    </tr>\n",
       "    <tr>\n",
       "      <th>7</th>\n",
       "      <td>New_packages_to_EDI</td>\n",
       "      <td>5cdade8ab0b70061e661bd0f</td>\n",
       "      <td>https://trello.com/b/UOL3Tdhg/newpackagestoedi</td>\n",
       "    </tr>\n",
       "    <tr>\n",
       "      <th>8</th>\n",
       "      <td>NonCore_packages_to_EDI</td>\n",
       "      <td>5d1e619c05aa858fd1d68a64</td>\n",
       "      <td>https://trello.com/b/7oxEQcEY/noncorepackagest...</td>\n",
       "    </tr>\n",
       "  </tbody>\n",
       "</table>\n",
       "</div>"
      ],
      "text/plain": [
       "                      name                        id  \\\n",
       "0     Core_packages_to_EDI  5cd3535c4761e02ef43daee6   \n",
       "7      New_packages_to_EDI  5cdade8ab0b70061e661bd0f   \n",
       "8  NonCore_packages_to_EDI  5d1e619c05aa858fd1d68a64   \n",
       "\n",
       "                                                 url  \n",
       "0    https://trello.com/b/mCuKbYTO/corepackagestoedi  \n",
       "7     https://trello.com/b/UOL3Tdhg/newpackagestoedi  \n",
       "8  https://trello.com/b/7oxEQcEY/noncorepackagest...  "
      ]
     },
     "execution_count": 3,
     "metadata": {},
     "output_type": "execute_result"
    }
   ],
   "source": [
    "boardnames = ['Core_packages_to_EDI', 'NonCore_packages_to_EDI', 'New_packages_to_EDI']\n",
    "boards = pd.DataFrame(json.loads(response.text))\n",
    "boards = boards.loc[boards.name.isin(boardnames),:]\n",
    "boards"
   ]
  },
  {
   "cell_type": "code",
   "execution_count": 4,
   "metadata": {},
   "outputs": [
    {
     "data": {
      "text/plain": [
       "'5d1e619c05aa858fd1d68a64'"
      ]
     },
     "execution_count": 4,
     "metadata": {},
     "output_type": "execute_result"
    }
   ],
   "source": [
    "boards[boards.name=='NonCore_packages_to_EDI'].id.values[0]"
   ]
  },
  {
   "cell_type": "code",
   "execution_count": 5,
   "metadata": {},
   "outputs": [],
   "source": [
    "def get_cards(boardname):\n",
    "    boardid = boards[boards.name==boardname].id.values[0]\n",
    "    param = (\n",
    "        ('key', tkey),\n",
    "        ('token', ttok),\n",
    "        ('fields','idList,name,url'),\n",
    "    )\n",
    "    response = requests.get('https://api.trello.com/1/boards/'+str(boardid)+'/cards',\n",
    "                            params=param)\n",
    "    cards = pd.DataFrame(json.loads(response.text))\n",
    "    cards = cards.rename(columns={'id':'idCards', 'name':'nameCards'})\n",
    "    param = (\n",
    "        ('key', tkey),\n",
    "        ('token', ttok),\n",
    "        ('fields','name,url'),\n",
    "    )\n",
    "    response = requests.get('https://api.trello.com/1/boards/'+str(boardid)+'/lists',\n",
    "                            params=param)\n",
    "    lists = pd.DataFrame(json.loads(response.text))\n",
    "    lists = lists.rename(columns={'id':'idList','name':'nameList'})\n",
    "    df = cards.merge(lists, how='left', left_on='idList', right_on='idList')\n",
    "    df['Board'] = boardname.split('_')[0]\n",
    "    return(df)\n"
   ]
  },
  {
   "cell_type": "code",
   "execution_count": 6,
   "metadata": {},
   "outputs": [],
   "source": [
    "df_c = get_cards('Core_packages_to_EDI')\n",
    "df_nc = get_cards('NonCore_packages_to_EDI')\n",
    "df_n = get_cards('New_packages_to_EDI')\n",
    "\n",
    "df = pd.concat([df_c, df_nc, df_n])"
   ]
  },
  {
   "cell_type": "code",
   "execution_count": 7,
   "metadata": {},
   "outputs": [
    {
     "data": {
      "text/html": [
       "<div>\n",
       "<style scoped>\n",
       "    .dataframe tbody tr th:only-of-type {\n",
       "        vertical-align: middle;\n",
       "    }\n",
       "\n",
       "    .dataframe tbody tr th {\n",
       "        vertical-align: top;\n",
       "    }\n",
       "\n",
       "    .dataframe thead th {\n",
       "        text-align: right;\n",
       "    }\n",
       "</style>\n",
       "<table border=\"1\" class=\"dataframe\">\n",
       "  <thead>\n",
       "    <tr style=\"text-align: right;\">\n",
       "      <th></th>\n",
       "      <th>Board</th>\n",
       "      <th>nameList</th>\n",
       "      <th>idCards</th>\n",
       "      <th>idList</th>\n",
       "      <th>nameCards</th>\n",
       "      <th>url</th>\n",
       "    </tr>\n",
       "  </thead>\n",
       "  <tbody>\n",
       "    <tr>\n",
       "      <th>0</th>\n",
       "      <td>Core</td>\n",
       "      <td>Published to EDI</td>\n",
       "      <td>59</td>\n",
       "      <td>59</td>\n",
       "      <td>59</td>\n",
       "      <td>59</td>\n",
       "    </tr>\n",
       "    <tr>\n",
       "      <th>1</th>\n",
       "      <td>Core</td>\n",
       "      <td>To Do</td>\n",
       "      <td>3</td>\n",
       "      <td>3</td>\n",
       "      <td>3</td>\n",
       "      <td>3</td>\n",
       "    </tr>\n",
       "    <tr>\n",
       "      <th>2</th>\n",
       "      <td>New</td>\n",
       "      <td>In Progress/Staged</td>\n",
       "      <td>6</td>\n",
       "      <td>6</td>\n",
       "      <td>6</td>\n",
       "      <td>6</td>\n",
       "    </tr>\n",
       "    <tr>\n",
       "      <th>3</th>\n",
       "      <td>New</td>\n",
       "      <td>Published to EDI</td>\n",
       "      <td>3</td>\n",
       "      <td>3</td>\n",
       "      <td>3</td>\n",
       "      <td>3</td>\n",
       "    </tr>\n",
       "    <tr>\n",
       "      <th>4</th>\n",
       "      <td>New</td>\n",
       "      <td>To Do</td>\n",
       "      <td>108</td>\n",
       "      <td>108</td>\n",
       "      <td>108</td>\n",
       "      <td>108</td>\n",
       "    </tr>\n",
       "    <tr>\n",
       "      <th>5</th>\n",
       "      <td>NonCore</td>\n",
       "      <td>In PI review</td>\n",
       "      <td>4</td>\n",
       "      <td>4</td>\n",
       "      <td>4</td>\n",
       "      <td>4</td>\n",
       "    </tr>\n",
       "    <tr>\n",
       "      <th>6</th>\n",
       "      <td>NonCore</td>\n",
       "      <td>In Progress/Staged</td>\n",
       "      <td>17</td>\n",
       "      <td>17</td>\n",
       "      <td>17</td>\n",
       "      <td>17</td>\n",
       "    </tr>\n",
       "    <tr>\n",
       "      <th>7</th>\n",
       "      <td>NonCore</td>\n",
       "      <td>Published to EDI</td>\n",
       "      <td>22</td>\n",
       "      <td>22</td>\n",
       "      <td>22</td>\n",
       "      <td>22</td>\n",
       "    </tr>\n",
       "    <tr>\n",
       "      <th>8</th>\n",
       "      <td>NonCore</td>\n",
       "      <td>To Do</td>\n",
       "      <td>16</td>\n",
       "      <td>16</td>\n",
       "      <td>16</td>\n",
       "      <td>16</td>\n",
       "    </tr>\n",
       "  </tbody>\n",
       "</table>\n",
       "</div>"
      ],
      "text/plain": [
       "     Board            nameList  idCards  idList  nameCards  url\n",
       "0     Core    Published to EDI       59      59         59   59\n",
       "1     Core               To Do        3       3          3    3\n",
       "2      New  In Progress/Staged        6       6          6    6\n",
       "3      New    Published to EDI        3       3          3    3\n",
       "4      New               To Do      108     108        108  108\n",
       "5  NonCore        In PI review        4       4          4    4\n",
       "6  NonCore  In Progress/Staged       17      17         17   17\n",
       "7  NonCore    Published to EDI       22      22         22   22\n",
       "8  NonCore               To Do       16      16         16   16"
      ]
     },
     "execution_count": 7,
     "metadata": {},
     "output_type": "execute_result"
    }
   ],
   "source": [
    "df_gby = df.groupby(['Board','nameList'])\n",
    "pkgs = df_gby.count().reset_index()\n",
    "pkgs"
   ]
  },
  {
   "cell_type": "code",
   "execution_count": 8,
   "metadata": {},
   "outputs": [
    {
     "data": {
      "image/png": "[encoded data removed]",
      "text/plain": [
       "<Figure size 1080x360 with 3 Axes>"
      ]
     },
     "metadata": {
      "needs_background": "light"
     },
     "output_type": "display_data"
    }
   ],
   "source": [
    "import seaborn as sns\n",
    "catorder = ['To Do','In Progress/Staged','In PI review','Published to EDI']\n",
    "g = sns.catplot(x='nameList', y='idCards', col='Board', data=pkgs, kind='bar',\n",
    "                order=catorder,palette='RdYlGn')\n",
    "g.axes[0,0].set_ylabel('Number')\n",
    "g.axes[0,0].set_xlabel('')\n",
    "g.axes[0,1].set_xlabel('')\n",
    "g.axes[0,2].set_xlabel('')\n",
    "\n",
    "g.savefig(os.path.expanduser(\n",
    "    \"/Users/gmaurer/GD_gmaurer.jrn.lter/IM/figures/JRN_category_progress{0}.png\".format(now)),\n",
    "            dpi=150)"
   ]
  },
  {
   "cell_type": "markdown",
   "metadata": {},
   "source": [
    "## The old fashioned way."
   ]
  },
  {
   "cell_type": "code",
   "execution_count": 9,
   "metadata": {},
   "outputs": [],
   "source": [
    "pkgs = pd.DataFrame({'Core':{'On EDI':59, 'PI Review':0, 'In progress':0, 'To Do':2},\n",
    "                    'Non_core':{'On EDI':22, 'PI Review':4, 'In progress':17, 'To Do':16}})#,\n",
    "#                    'New':{'On EDI':3, 'PI Review':1, 'In progress/Staged':5, 'To Do':107}})\n",
    "pkgs['loc'] = pkgs.index"
   ]
  },
  {
   "cell_type": "code",
   "execution_count": 10,
   "metadata": {},
   "outputs": [
    {
     "data": {
      "text/html": [
       "<div>\n",
       "<style scoped>\n",
       "    .dataframe tbody tr th:only-of-type {\n",
       "        vertical-align: middle;\n",
       "    }\n",
       "\n",
       "    .dataframe tbody tr th {\n",
       "        vertical-align: top;\n",
       "    }\n",
       "\n",
       "    .dataframe thead th {\n",
       "        text-align: right;\n",
       "    }\n",
       "</style>\n",
       "<table border=\"1\" class=\"dataframe\">\n",
       "  <thead>\n",
       "    <tr style=\"text-align: right;\">\n",
       "      <th></th>\n",
       "      <th>loc</th>\n",
       "      <th>variable</th>\n",
       "      <th>value</th>\n",
       "    </tr>\n",
       "  </thead>\n",
       "  <tbody>\n",
       "    <tr>\n",
       "      <th>0</th>\n",
       "      <td>On EDI</td>\n",
       "      <td>Core</td>\n",
       "      <td>59</td>\n",
       "    </tr>\n",
       "    <tr>\n",
       "      <th>1</th>\n",
       "      <td>PI Review</td>\n",
       "      <td>Core</td>\n",
       "      <td>0</td>\n",
       "    </tr>\n",
       "    <tr>\n",
       "      <th>2</th>\n",
       "      <td>In progress</td>\n",
       "      <td>Core</td>\n",
       "      <td>0</td>\n",
       "    </tr>\n",
       "    <tr>\n",
       "      <th>3</th>\n",
       "      <td>To Do</td>\n",
       "      <td>Core</td>\n",
       "      <td>2</td>\n",
       "    </tr>\n",
       "    <tr>\n",
       "      <th>4</th>\n",
       "      <td>On EDI</td>\n",
       "      <td>Non_core</td>\n",
       "      <td>22</td>\n",
       "    </tr>\n",
       "    <tr>\n",
       "      <th>5</th>\n",
       "      <td>PI Review</td>\n",
       "      <td>Non_core</td>\n",
       "      <td>4</td>\n",
       "    </tr>\n",
       "    <tr>\n",
       "      <th>6</th>\n",
       "      <td>In progress</td>\n",
       "      <td>Non_core</td>\n",
       "      <td>17</td>\n",
       "    </tr>\n",
       "    <tr>\n",
       "      <th>7</th>\n",
       "      <td>To Do</td>\n",
       "      <td>Non_core</td>\n",
       "      <td>16</td>\n",
       "    </tr>\n",
       "  </tbody>\n",
       "</table>\n",
       "</div>"
      ],
      "text/plain": [
       "           loc  variable  value\n",
       "0       On EDI      Core     59\n",
       "1    PI Review      Core      0\n",
       "2  In progress      Core      0\n",
       "3        To Do      Core      2\n",
       "4       On EDI  Non_core     22\n",
       "5    PI Review  Non_core      4\n",
       "6  In progress  Non_core     17\n",
       "7        To Do  Non_core     16"
      ]
     },
     "execution_count": 10,
     "metadata": {},
     "output_type": "execute_result"
    }
   ],
   "source": [
    "\n",
    "pkgs_melt = pkgs.melt(id_vars=['loc'], value_vars=['Core','Non_core'])\n",
    "pkgs_melt"
   ]
  },
  {
   "cell_type": "code",
   "execution_count": 11,
   "metadata": {},
   "outputs": [
    {
     "data": {
      "text/plain": [
       "Text(0.5, 6.79999999999999, '')"
      ]
     },
     "execution_count": 11,
     "metadata": {},
     "output_type": "execute_result"
    },
    {
     "data": {
      "image/png": "[encoded data removed]",
      "text/plain": [
       "<Figure size 720x360 with 2 Axes>"
      ]
     },
     "metadata": {
      "needs_background": "light"
     },
     "output_type": "display_data"
    }
   ],
   "source": [
    "g = sns.catplot(x='loc', y='value', col='variable', data=pkgs_melt, kind='bar', palette='RdYlGn_r')\n",
    "g.set_xticklabels(rotation=45)\n",
    "#plt.ylabel('Number')\n",
    "g.axes[0,0].set_ylabel('Number')\n",
    "g.axes[0,1].set_xlabel('')\n",
    "g.axes[0,0].set_xlabel('')\n",
    "\n",
    "#g.savefig(os.path.expanduser(\n",
    "#    \"/Users/gmaurer/GD_gmaurer.jrn.lter/IM/figures/JRN_category_progress_manual.png\"),\n",
    "#            dpi=150)"
   ]
  }
 ],
 "metadata": {
  "kernelspec": {
   "display_name": "Python 3",
   "language": "python",
   "name": "python3"
  },
  "language_info": {
   "codemirror_mode": {
    "name": "ipython",
    "version": 3
   },
   "file_extension": ".py",
   "mimetype": "text/x-python",
   "name": "python",
   "nbconvert_exporter": "python",
   "pygments_lexer": "ipython3",
   "version": "3.7.9"
  }
 },
 "nbformat": 4,
 "nbformat_minor": 4
}
