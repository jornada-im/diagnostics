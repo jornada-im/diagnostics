{
 "cells": [
  {
   "cell_type": "code",
   "execution_count": 2,
   "metadata": {},
   "outputs": [],
   "source": [
    "import requests\n",
    "import sys\n",
    "sys.path.append('/home/greg/GitHub/')\n",
    "#import edi_pyagnostics.edi_changes as dia\n",
    "import pyEDIutils.edi_changes as dia\n",
    "import pandas as pd\n",
    "import numpy as np"
   ]
  },
  {
   "cell_type": "markdown",
   "metadata": {},
   "source": [
    "## Get recent changes"
   ]
  },
  {
   "cell_type": "code",
   "execution_count": 4,
   "metadata": {},
   "outputs": [],
   "source": [
    "#curl -i -X GET \"https://pasta.lternet.edu/package/changes/eml?fromDate=2017-02-01T12:00:00&toDate=2020-01-28&scope=knb-lter-jrn\"\n",
    "# This is the \"List recent changes\" call  https://pastaplus-core.readthedocs.io/en/latest/doc_tree/pasta_api/data_package_manager_api.html#list-recent-changes\n",
    "params = (\n",
    "    ('fromDate', '2019-01-01'),\n",
    "    #('toDate', '2019-01-01'),\n",
    "    ('scope', 'knb-lter-jrn'))#,\n",
    "#    ('environment', 'production'))\n",
    "\n",
    "response = requests.get('https://pasta.lternet.edu/package/changes/eml', params=params)"
   ]
  },
  {
   "cell_type": "code",
   "execution_count": 5,
   "metadata": {},
   "outputs": [
    {
     "data": {
      "text/plain": [
       "'<dataPackageChanges>\\n  <dataPackage>\\n    <packageId>knb-lter-jrn.210385003.12</packageId>\\n    <scope>knb-lter-jrn</scope>\\n    <identifier>210385003</identifier>\\n    <revision>12</revision>\\n    <principal>uid=JRN,o=LTER,dc=ecoinformatics,dc=org</principal>\\n    <doi>doi:10.6073/pasta/d267dbfcacf70475e'"
      ]
     },
     "execution_count": 5,
     "metadata": {},
     "output_type": "execute_result"
    }
   ],
   "source": [
    "# Response = long XML string that can be parsed with elementtree, beautifulsoup, etc\n",
    "response.text[0:300] # now parse this with "
   ]
  },
  {
   "cell_type": "code",
   "execution_count": 5,
   "metadata": {},
   "outputs": [],
   "source": [
    "# Parse the xml into an \"ElementTree\" object called root\n",
    "import xml.etree.ElementTree as ET\n",
    "\n",
    "tree_old = ET.parse('edi_requests/knb-lter-jrn_20150417-20181231.xml')\n",
    "root_old = tree_old.getroot()\n",
    "\n",
    "root = ET.fromstring(response.text)"
   ]
  },
  {
   "cell_type": "code",
   "execution_count": 6,
   "metadata": {},
   "outputs": [
    {
     "name": "stdout",
     "output_type": "stream",
     "text": [
      "287\n"
     ]
    },
    {
     "data": {
      "text/plain": [
       "947"
      ]
     },
     "execution_count": 6,
     "metadata": {},
     "output_type": "execute_result"
    }
   ],
   "source": [
    "# Number of elements (EDI changes) in root\n",
    "print(len(root_old))\n",
    "len(root)"
   ]
  },
  {
   "cell_type": "markdown",
   "metadata": {},
   "source": [
    "## Parse the data sent from EDI"
   ]
  },
  {
   "cell_type": "code",
   "execution_count": 8,
   "metadata": {},
   "outputs": [
    {
     "name": "stdout",
     "output_type": "stream",
     "text": [
      "1234\n",
      "                      date       pkgid             action\n",
      "0  2015-04-17T14:42:05.936  2100011003  createDataPackage\n",
      "1  2015-04-17T15:43:26.172   210120002  createDataPackage\n",
      "2  2015-04-17T15:43:26.771  2100392001  createDataPackage\n",
      "3  2015-04-17T15:43:41.508  2100169002  createDataPackage\n",
      "4   2015-04-17T15:43:45.55  2100010001  createDataPackage\n"
     ]
    },
    {
     "data": {
      "text/html": [
       "<div>\n",
       "<style scoped>\n",
       "    .dataframe tbody tr th:only-of-type {\n",
       "        vertical-align: middle;\n",
       "    }\n",
       "\n",
       "    .dataframe tbody tr th {\n",
       "        vertical-align: top;\n",
       "    }\n",
       "\n",
       "    .dataframe thead th {\n",
       "        text-align: right;\n",
       "    }\n",
       "</style>\n",
       "<table border=\"1\" class=\"dataframe\">\n",
       "  <thead>\n",
       "    <tr style=\"text-align: right;\">\n",
       "      <th></th>\n",
       "      <th>date</th>\n",
       "      <th>pkgid</th>\n",
       "      <th>action</th>\n",
       "    </tr>\n",
       "  </thead>\n",
       "  <tbody>\n",
       "    <tr>\n",
       "      <th>942</th>\n",
       "      <td>2020-02-07T15:40:07.774</td>\n",
       "      <td>210338006</td>\n",
       "      <td>updateDataPackage</td>\n",
       "    </tr>\n",
       "    <tr>\n",
       "      <th>943</th>\n",
       "      <td>2020-02-07T16:18:52.15</td>\n",
       "      <td>210338004</td>\n",
       "      <td>updateDataPackage</td>\n",
       "    </tr>\n",
       "    <tr>\n",
       "      <th>944</th>\n",
       "      <td>2020-02-07T17:30:31.664</td>\n",
       "      <td>210338002</td>\n",
       "      <td>updateDataPackage</td>\n",
       "    </tr>\n",
       "    <tr>\n",
       "      <th>945</th>\n",
       "      <td>2020-02-09T20:29:34.542</td>\n",
       "      <td>210351002</td>\n",
       "      <td>updateDataPackage</td>\n",
       "    </tr>\n",
       "    <tr>\n",
       "      <th>946</th>\n",
       "      <td>2020-02-09T20:51:57.085</td>\n",
       "      <td>210351001</td>\n",
       "      <td>updateDataPackage</td>\n",
       "    </tr>\n",
       "  </tbody>\n",
       "</table>\n",
       "</div>"
      ],
      "text/plain": [
       "                        date      pkgid             action\n",
       "942  2020-02-07T15:40:07.774  210338006  updateDataPackage\n",
       "943   2020-02-07T16:18:52.15  210338004  updateDataPackage\n",
       "944  2020-02-07T17:30:31.664  210338002  updateDataPackage\n",
       "945  2020-02-09T20:29:34.542  210351002  updateDataPackage\n",
       "946  2020-02-09T20:51:57.085  210351001  updateDataPackage"
      ]
     },
     "execution_count": 8,
     "metadata": {},
     "output_type": "execute_result"
    }
   ],
   "source": [
    "# Create a dataframe from the entire record in root\n",
    "df_old = pd.DataFrame({'date':[date.text for date in root_old.iter('date')],\n",
    "                   'pkgid':[int(ID.text) for ID in root_old.iter('identifier')],\n",
    "                   'action':[sm.text for sm in root_old.iter('serviceMethod')]}\n",
    "                   )\n",
    "\n",
    "# Create a dataframe from the entire record in root\n",
    "df = pd.DataFrame({'date':[date.text for date in root.iter('date')],\n",
    "                   'pkgid':[int(ID.text) for ID in root.iter('identifier')],\n",
    "                   'action':[sm.text for sm in root.iter('serviceMethod')]}\n",
    "                   )\n",
    "df = pd.concat([df_old,df])\n",
    "\n",
    "print(len(df))\n",
    "\n",
    "print(df.head())\n",
    "\n",
    "df.tail()"
   ]
  },
  {
   "cell_type": "code",
   "execution_count": 10,
   "metadata": {},
   "outputs": [],
   "source": [
    "# Make the index the date\n",
    "df.index = pd.to_datetime(df['date'])#, format='%Y-%b-%dT%H:%M:%S.%f')"
   ]
  },
  {
   "cell_type": "code",
   "execution_count": 11,
   "metadata": {},
   "outputs": [],
   "source": [
    "# Add columns - number of updates and creates, + extracted study id\n",
    "df['n_update'] = 0\n",
    "df['n_create'] = 0\n",
    "df['n_delete'] = 0\n",
    "df['n_tot'] = 0\n",
    "df['studyid'] = df.pkgid.astype(str).str[-6:-3] #convert to str, studyid excludes mistaken 0"
   ]
  },
  {
   "cell_type": "code",
   "execution_count": 12,
   "metadata": {},
   "outputs": [
    {
     "data": {
      "text/html": [
       "<div>\n",
       "<style scoped>\n",
       "    .dataframe tbody tr th:only-of-type {\n",
       "        vertical-align: middle;\n",
       "    }\n",
       "\n",
       "    .dataframe tbody tr th {\n",
       "        vertical-align: top;\n",
       "    }\n",
       "\n",
       "    .dataframe thead th {\n",
       "        text-align: right;\n",
       "    }\n",
       "</style>\n",
       "<table border=\"1\" class=\"dataframe\">\n",
       "  <thead>\n",
       "    <tr style=\"text-align: right;\">\n",
       "      <th></th>\n",
       "      <th>date</th>\n",
       "      <th>pkgid</th>\n",
       "      <th>action</th>\n",
       "      <th>n_update</th>\n",
       "      <th>n_create</th>\n",
       "      <th>n_delete</th>\n",
       "      <th>n_tot</th>\n",
       "      <th>studyid</th>\n",
       "    </tr>\n",
       "    <tr>\n",
       "      <th>date</th>\n",
       "      <th></th>\n",
       "      <th></th>\n",
       "      <th></th>\n",
       "      <th></th>\n",
       "      <th></th>\n",
       "      <th></th>\n",
       "      <th></th>\n",
       "      <th></th>\n",
       "    </tr>\n",
       "  </thead>\n",
       "  <tbody>\n",
       "    <tr>\n",
       "      <th>2015-04-17 14:42:05.936</th>\n",
       "      <td>2015-04-17T14:42:05.936</td>\n",
       "      <td>2100011003</td>\n",
       "      <td>createDataPackage</td>\n",
       "      <td>0</td>\n",
       "      <td>1</td>\n",
       "      <td>0</td>\n",
       "      <td>1</td>\n",
       "      <td>011</td>\n",
       "    </tr>\n",
       "    <tr>\n",
       "      <th>2015-04-17 15:43:26.172</th>\n",
       "      <td>2015-04-17T15:43:26.172</td>\n",
       "      <td>210120002</td>\n",
       "      <td>createDataPackage</td>\n",
       "      <td>0</td>\n",
       "      <td>1</td>\n",
       "      <td>0</td>\n",
       "      <td>1</td>\n",
       "      <td>120</td>\n",
       "    </tr>\n",
       "    <tr>\n",
       "      <th>2015-04-17 15:43:26.771</th>\n",
       "      <td>2015-04-17T15:43:26.771</td>\n",
       "      <td>2100392001</td>\n",
       "      <td>createDataPackage</td>\n",
       "      <td>0</td>\n",
       "      <td>1</td>\n",
       "      <td>0</td>\n",
       "      <td>1</td>\n",
       "      <td>392</td>\n",
       "    </tr>\n",
       "    <tr>\n",
       "      <th>2015-04-17 15:43:41.508</th>\n",
       "      <td>2015-04-17T15:43:41.508</td>\n",
       "      <td>2100169002</td>\n",
       "      <td>createDataPackage</td>\n",
       "      <td>0</td>\n",
       "      <td>1</td>\n",
       "      <td>0</td>\n",
       "      <td>1</td>\n",
       "      <td>169</td>\n",
       "    </tr>\n",
       "    <tr>\n",
       "      <th>2015-04-17 15:43:45.550</th>\n",
       "      <td>2015-04-17T15:43:45.55</td>\n",
       "      <td>2100010001</td>\n",
       "      <td>createDataPackage</td>\n",
       "      <td>0</td>\n",
       "      <td>1</td>\n",
       "      <td>0</td>\n",
       "      <td>1</td>\n",
       "      <td>010</td>\n",
       "    </tr>\n",
       "  </tbody>\n",
       "</table>\n",
       "</div>"
      ],
      "text/plain": [
       "                                            date       pkgid  \\\n",
       "date                                                           \n",
       "2015-04-17 14:42:05.936  2015-04-17T14:42:05.936  2100011003   \n",
       "2015-04-17 15:43:26.172  2015-04-17T15:43:26.172   210120002   \n",
       "2015-04-17 15:43:26.771  2015-04-17T15:43:26.771  2100392001   \n",
       "2015-04-17 15:43:41.508  2015-04-17T15:43:41.508  2100169002   \n",
       "2015-04-17 15:43:45.550   2015-04-17T15:43:45.55  2100010001   \n",
       "\n",
       "                                    action  n_update  n_create  n_delete  \\\n",
       "date                                                                       \n",
       "2015-04-17 14:42:05.936  createDataPackage         0         1         0   \n",
       "2015-04-17 15:43:26.172  createDataPackage         0         1         0   \n",
       "2015-04-17 15:43:26.771  createDataPackage         0         1         0   \n",
       "2015-04-17 15:43:41.508  createDataPackage         0         1         0   \n",
       "2015-04-17 15:43:45.550  createDataPackage         0         1         0   \n",
       "\n",
       "                         n_tot studyid  \n",
       "date                                    \n",
       "2015-04-17 14:42:05.936      1     011  \n",
       "2015-04-17 15:43:26.172      1     120  \n",
       "2015-04-17 15:43:26.771      1     392  \n",
       "2015-04-17 15:43:41.508      1     169  \n",
       "2015-04-17 15:43:45.550      1     010  "
      ]
     },
     "execution_count": 12,
     "metadata": {},
     "output_type": "execute_result"
    }
   ],
   "source": [
    "# Fill in number of updates or create for each record\n",
    "df.loc[df.action=='updateDataPackage','n_update'] = 1\n",
    "df.loc[df.action=='createDataPackage','n_create'] = 1\n",
    "df.loc[df.action=='deleteDataPackage','n_delete'] = 1\n",
    "# for totals, create = +1, delete = -1\n",
    "df.loc[df.action=='createDataPackage','n_tot'] = 1\n",
    "df.loc[df.action=='deleteDataPackage','n_tot'] = -1\n",
    "df.head()"
   ]
  },
  {
   "cell_type": "code",
   "execution_count": 13,
   "metadata": {},
   "outputs": [
    {
     "name": "stdout",
     "output_type": "stream",
     "text": [
      "(1225, 8)\n"
     ]
    },
    {
     "data": {
      "text/plain": [
       "date\n",
       "2018-09-04 16:19:30.652    2100001002\n",
       "2018-09-04 16:22:44.016    2100002001\n",
       "2018-09-04 16:22:59.365    2100007001\n",
       "2018-09-04 16:23:13.850    2100010001\n",
       "2018-09-04 16:23:31.433    2100011001\n",
       "2018-09-04 16:23:43.748    2100011003\n",
       "2018-09-04 16:23:53.312    2100011004\n",
       "2018-09-04 16:24:03.080    2100011005\n",
       "2018-09-04 16:24:13.741    2100086001\n",
       "2018-09-04 16:24:25.430    2100086002\n",
       "2018-09-04 16:24:34.326    2100086003\n",
       "2018-09-04 16:24:49.081    2100086004\n",
       "2018-09-04 16:24:59.973    2100086005\n",
       "2018-09-04 16:25:08.555    2100086006\n",
       "2018-09-04 16:25:17.583    2100086007\n",
       "2018-09-04 16:25:31.933    2100086008\n",
       "2018-09-04 16:25:41.114    2100086009\n",
       "2018-09-04 16:25:53.153    2100119001\n",
       "2018-09-04 16:26:01.647    2100121004\n",
       "2018-09-04 16:26:12.163    2100121005\n",
       "2018-09-04 16:26:21.306    2100126001\n",
       "2018-09-04 16:26:30.647    2100126003\n",
       "2018-09-04 16:26:40.208    2100127001\n",
       "2018-09-04 16:26:48.769    2100169001\n",
       "2018-09-04 16:26:59.328    2100169002\n",
       "2018-09-04 16:27:08.714    2100278001\n",
       "2018-09-04 16:27:18.151    2100278002\n",
       "2018-09-04 16:27:29.014    2100287001\n",
       "2018-09-04 16:27:40.239    2100288001\n",
       "2018-09-04 16:27:49.282    2100351001\n",
       "2018-09-04 16:27:58.598    2100365001\n",
       "2018-09-04 16:28:12.263    2100379001\n",
       "2018-09-04 16:28:20.514    2100379002\n",
       "2018-09-04 16:28:24.201    2100379003\n",
       "2018-09-04 16:28:33.747    2100380001\n",
       "2018-09-04 16:28:43.264    2100392001\n",
       "2018-09-04 16:28:55.872    2100409001\n",
       "2018-09-04 16:29:01.478    2100409002\n",
       "2018-11-28 13:27:18.932     210038001\n",
       "2018-11-28 13:27:32.908     210338007\n",
       "2018-11-28 13:27:44.868     210338008\n",
       "2018-11-30 08:59:47.775     210169001\n",
       "2018-11-30 08:59:59.331     210169002\n",
       "2019-06-04 11:54:10.258      21038001\n",
       "2019-09-12 09:34:13.603     210860002\n",
       "Name: pkgid, dtype: int64"
      ]
     },
     "execution_count": 13,
     "metadata": {},
     "output_type": "execute_result"
    }
   ],
   "source": [
    "# There are duplicate deletions (9 at last count)\n",
    "df_dd = df.drop_duplicates()\n",
    "n_dupdeletes = df.shape[0] - df_dd.shape[0]\n",
    "df = df_dd\n",
    "# Count deleted packages\n",
    "deleted_pkgs = df.loc[df.action=='deleteDataPackage','pkgid']\n",
    "print(df.shape)\n",
    "deleted_pkgs"
   ]
  },
  {
   "cell_type": "markdown",
   "metadata": {},
   "source": [
    "## Create daily data file"
   ]
  },
  {
   "cell_type": "code",
   "execution_count": 14,
   "metadata": {},
   "outputs": [
    {
     "data": {
      "text/html": [
       "<div>\n",
       "<style scoped>\n",
       "    .dataframe tbody tr th:only-of-type {\n",
       "        vertical-align: middle;\n",
       "    }\n",
       "\n",
       "    .dataframe tbody tr th {\n",
       "        vertical-align: top;\n",
       "    }\n",
       "\n",
       "    .dataframe thead th {\n",
       "        text-align: right;\n",
       "    }\n",
       "</style>\n",
       "<table border=\"1\" class=\"dataframe\">\n",
       "  <thead>\n",
       "    <tr style=\"text-align: right;\">\n",
       "      <th></th>\n",
       "      <th>n_update</th>\n",
       "      <th>n_create</th>\n",
       "      <th>n_tot</th>\n",
       "    </tr>\n",
       "    <tr>\n",
       "      <th>date</th>\n",
       "      <th></th>\n",
       "      <th></th>\n",
       "      <th></th>\n",
       "    </tr>\n",
       "  </thead>\n",
       "  <tbody>\n",
       "    <tr>\n",
       "      <th>2015-04-17</th>\n",
       "      <td>0</td>\n",
       "      <td>20</td>\n",
       "      <td>20</td>\n",
       "    </tr>\n",
       "    <tr>\n",
       "      <th>2015-04-18</th>\n",
       "      <td>0</td>\n",
       "      <td>1</td>\n",
       "      <td>1</td>\n",
       "    </tr>\n",
       "    <tr>\n",
       "      <th>2015-04-19</th>\n",
       "      <td>0</td>\n",
       "      <td>0</td>\n",
       "      <td>0</td>\n",
       "    </tr>\n",
       "    <tr>\n",
       "      <th>2015-04-20</th>\n",
       "      <td>0</td>\n",
       "      <td>11</td>\n",
       "      <td>11</td>\n",
       "    </tr>\n",
       "    <tr>\n",
       "      <th>2015-04-21</th>\n",
       "      <td>0</td>\n",
       "      <td>2</td>\n",
       "      <td>2</td>\n",
       "    </tr>\n",
       "  </tbody>\n",
       "</table>\n",
       "</div>"
      ],
      "text/plain": [
       "            n_update  n_create  n_tot\n",
       "date                                 \n",
       "2015-04-17         0        20     20\n",
       "2015-04-18         0         1      1\n",
       "2015-04-19         0         0      0\n",
       "2015-04-20         0        11     11\n",
       "2015-04-21         0         2      2"
      ]
     },
     "execution_count": 14,
     "metadata": {},
     "output_type": "execute_result"
    }
   ],
   "source": [
    "# Resample with sum to get the daily number of updates/creates\n",
    "dEDI = df.loc[:,['n_update', 'n_create', 'n_tot']].resample('D').sum()\n",
    "dEDI.head()"
   ]
  },
  {
   "cell_type": "markdown",
   "metadata": {},
   "source": [
    "## Activity 2016 -  Sept 2018\n"
   ]
  },
  {
   "cell_type": "code",
   "execution_count": 15,
   "metadata": {},
   "outputs": [
    {
     "data": {
      "text/html": [
       "<div>\n",
       "<style scoped>\n",
       "    .dataframe tbody tr th:only-of-type {\n",
       "        vertical-align: middle;\n",
       "    }\n",
       "\n",
       "    .dataframe tbody tr th {\n",
       "        vertical-align: top;\n",
       "    }\n",
       "\n",
       "    .dataframe thead th {\n",
       "        text-align: right;\n",
       "    }\n",
       "</style>\n",
       "<table border=\"1\" class=\"dataframe\">\n",
       "  <thead>\n",
       "    <tr style=\"text-align: right;\">\n",
       "      <th></th>\n",
       "      <th>n_update</th>\n",
       "      <th>n_create</th>\n",
       "      <th>n_tot</th>\n",
       "    </tr>\n",
       "    <tr>\n",
       "      <th>date</th>\n",
       "      <th></th>\n",
       "      <th></th>\n",
       "      <th></th>\n",
       "    </tr>\n",
       "  </thead>\n",
       "  <tbody>\n",
       "    <tr>\n",
       "      <th>2015-04-17</th>\n",
       "      <td>0</td>\n",
       "      <td>20</td>\n",
       "      <td>20</td>\n",
       "    </tr>\n",
       "    <tr>\n",
       "      <th>2015-04-18</th>\n",
       "      <td>0</td>\n",
       "      <td>1</td>\n",
       "      <td>1</td>\n",
       "    </tr>\n",
       "    <tr>\n",
       "      <th>2015-04-19</th>\n",
       "      <td>0</td>\n",
       "      <td>0</td>\n",
       "      <td>0</td>\n",
       "    </tr>\n",
       "    <tr>\n",
       "      <th>2015-04-20</th>\n",
       "      <td>0</td>\n",
       "      <td>11</td>\n",
       "      <td>11</td>\n",
       "    </tr>\n",
       "    <tr>\n",
       "      <th>2015-04-21</th>\n",
       "      <td>0</td>\n",
       "      <td>2</td>\n",
       "      <td>2</td>\n",
       "    </tr>\n",
       "  </tbody>\n",
       "</table>\n",
       "</div>"
      ],
      "text/plain": [
       "            n_update  n_create  n_tot\n",
       "date                                 \n",
       "2015-04-17         0        20     20\n",
       "2015-04-18         0         1      1\n",
       "2015-04-19         0         0      0\n",
       "2015-04-20         0        11     11\n",
       "2015-04-21         0         2      2"
      ]
     },
     "execution_count": 15,
     "metadata": {},
     "output_type": "execute_result"
    }
   ],
   "source": [
    "startdt = \"2014-01-01\"\n",
    "enddt = \"2018-09-05\"\n",
    "\n",
    "rdEDI_early = df.loc[np.logical_and(df.index > startdt, df.index < enddt), ['n_update', 'n_create', 'n_tot']].resample('D').sum()\n",
    "rdEDI_early.head()"
   ]
  },
  {
   "cell_type": "code",
   "execution_count": 16,
   "metadata": {},
   "outputs": [],
   "source": [
    "import matplotlib\n",
    "import matplotlib.pyplot as plt\n",
    "# Figure config\n",
    "font = {'family' : 'normal',\n",
    "        'weight' : 'normal',\n",
    "        'size'   : 14}\n",
    "\n",
    "matplotlib.rc('font', **font)"
   ]
  },
  {
   "cell_type": "code",
   "execution_count": 17,
   "metadata": {},
   "outputs": [],
   "source": [
    "# Get a datestamp for saving figures\n",
    "import datetime\n",
    "now = datetime.datetime.now().strftime(\"%Y%m%d\")"
   ]
  },
  {
   "cell_type": "code",
   "execution_count": 18,
   "metadata": {},
   "outputs": [
    {
     "name": "stderr",
     "output_type": "stream",
     "text": [
      "findfont: Font family ['normal'] not found. Falling back to DejaVu Sans.\n",
      "findfont: Font family ['normal'] not found. Falling back to DejaVu Sans.\n"
     ]
    },
    {
     "data": {
      "image/png": "[encoded data removed]",
      "text/plain": [
       "<Figure size 504x504 with 2 Axes>"
      ]
     },
     "metadata": {
      "needs_background": "light"
     },
     "output_type": "display_data"
    }
   ],
   "source": [
    "# All time plot:\n",
    "fig, ax = plt.subplots(nrows=2, ncols=1, figsize=(7, 7), sharex=True)\n",
    "\n",
    "ax[0].plot(rdEDI_early.index, rdEDI_early.n_update, label='Update pkg')\n",
    "ax[0].plot(rdEDI_early.index, rdEDI_early.n_create, label='Create pkg')\n",
    "ax[0].set_ylabel('JRN events')\n",
    "\n",
    "ax[1].plot(rdEDI_early.index, rdEDI_early.n_update.cumsum(), label='Update pkg')\n",
    "ax[1].plot(rdEDI_early.index, rdEDI_early.n_create.cumsum(), label='Create pkg')\n",
    "ax[1].plot(rdEDI_early.index, rdEDI_early.n_tot.cumsum(), label='Total')\n",
    "\n",
    "plt.ylabel('JRN Cumulative')\n",
    "fig.autofmt_xdate()\n",
    "plt.suptitle('JRN activity on EDI (to Sept 2018)')\n",
    "plt.legend()\n",
    "\n",
    "import os\n",
    "#fig.savefig(os.path.expanduser(\"~/GD_gmaurer.jrn.lter/IM_diagnostics/JRN_EDI_all_{0}.png\".format(now)),\n",
    "#            dpi=150)"
   ]
  },
  {
   "cell_type": "markdown",
   "metadata": {},
   "source": [
    "### Total number of packages"
   ]
  },
  {
   "cell_type": "code",
   "execution_count": 19,
   "metadata": {},
   "outputs": [
    {
     "name": "stdout",
     "output_type": "stream",
     "text": [
      "94\n"
     ]
    },
    {
     "data": {
      "text/plain": [
       "91"
      ]
     },
     "execution_count": 19,
     "metadata": {},
     "output_type": "execute_result"
    }
   ],
   "source": [
    "print(rdEDI_early.n_tot.sum())\n",
    "rdEDI_early.n_update.sum()"
   ]
  },
  {
   "cell_type": "markdown",
   "metadata": {},
   "source": [
    "## Activity since  Sept 2018\n"
   ]
  },
  {
   "cell_type": "code",
   "execution_count": 20,
   "metadata": {},
   "outputs": [
    {
     "data": {
      "text/html": [
       "<div>\n",
       "<style scoped>\n",
       "    .dataframe tbody tr th:only-of-type {\n",
       "        vertical-align: middle;\n",
       "    }\n",
       "\n",
       "    .dataframe tbody tr th {\n",
       "        vertical-align: top;\n",
       "    }\n",
       "\n",
       "    .dataframe thead th {\n",
       "        text-align: right;\n",
       "    }\n",
       "</style>\n",
       "<table border=\"1\" class=\"dataframe\">\n",
       "  <thead>\n",
       "    <tr style=\"text-align: right;\">\n",
       "      <th></th>\n",
       "      <th>n_update</th>\n",
       "      <th>n_create</th>\n",
       "      <th>n_tot</th>\n",
       "    </tr>\n",
       "    <tr>\n",
       "      <th>date</th>\n",
       "      <th></th>\n",
       "      <th></th>\n",
       "      <th></th>\n",
       "    </tr>\n",
       "  </thead>\n",
       "  <tbody>\n",
       "    <tr>\n",
       "      <th>2018-10-10</th>\n",
       "      <td>0</td>\n",
       "      <td>1</td>\n",
       "      <td>1</td>\n",
       "    </tr>\n",
       "    <tr>\n",
       "      <th>2018-10-11</th>\n",
       "      <td>0</td>\n",
       "      <td>1</td>\n",
       "      <td>1</td>\n",
       "    </tr>\n",
       "    <tr>\n",
       "      <th>2018-10-12</th>\n",
       "      <td>0</td>\n",
       "      <td>4</td>\n",
       "      <td>4</td>\n",
       "    </tr>\n",
       "    <tr>\n",
       "      <th>2018-10-13</th>\n",
       "      <td>0</td>\n",
       "      <td>0</td>\n",
       "      <td>0</td>\n",
       "    </tr>\n",
       "    <tr>\n",
       "      <th>2018-10-14</th>\n",
       "      <td>0</td>\n",
       "      <td>0</td>\n",
       "      <td>0</td>\n",
       "    </tr>\n",
       "  </tbody>\n",
       "</table>\n",
       "</div>"
      ],
      "text/plain": [
       "            n_update  n_create  n_tot\n",
       "date                                 \n",
       "2018-10-10         0         1      1\n",
       "2018-10-11         0         1      1\n",
       "2018-10-12         0         4      4\n",
       "2018-10-13         0         0      0\n",
       "2018-10-14         0         0      0"
      ]
     },
     "execution_count": 20,
     "metadata": {},
     "output_type": "execute_result"
    }
   ],
   "source": [
    "# This is after the LTER probabtion shock and after some big \n",
    "# delete operations on EDI\n",
    "rdEDI_late = df.loc[df.index > enddt,\n",
    "                         ['n_update', 'n_create', 'n_tot']].resample('D').sum()\n",
    "rdEDI_late.head()"
   ]
  },
  {
   "cell_type": "code",
   "execution_count": 21,
   "metadata": {},
   "outputs": [
    {
     "data": {
      "text/plain": [
       "<matplotlib.legend.Legend at 0x7fcda0722050>"
      ]
     },
     "execution_count": 21,
     "metadata": {},
     "output_type": "execute_result"
    },
    {
     "data": {
      "image/png": "[encoded data removed]",
      "text/plain": [
       "<Figure size 504x504 with 2 Axes>"
      ]
     },
     "metadata": {
      "needs_background": "light"
     },
     "output_type": "display_data"
    }
   ],
   "source": [
    "# Recent plot:\n",
    "fig, ax = plt.subplots(nrows=2, ncols=1, figsize=(7, 7), sharex=True)\n",
    "\n",
    "ax[0].plot(rdEDI_late.index, rdEDI_late.n_update, label='Update pkg')\n",
    "ax[0].plot(rdEDI_late.index, rdEDI_late.n_create, label='Create pkg')\n",
    "ax[0].set_ylabel('JRN events')\n",
    "\n",
    "ax[1].plot(rdEDI_late.index, rdEDI_late.n_update.cumsum(), label='Update pkg')\n",
    "ax[1].plot(rdEDI_late.index, rdEDI_late.n_create.cumsum(), label='Create pkg')\n",
    "ax[1].plot(rdEDI_late.index, rdEDI_late.n_tot.cumsum(), label='$\\Delta$ Total')\n",
    "ax[1].hlines(y=100, xmin=rdEDI_late.index.min(), xmax=rdEDI_late.index.max(), ls=':', lw=1)\n",
    "\n",
    "plt.ylabel('JRN Cumulative')\n",
    "fig.autofmt_xdate()\n",
    "plt.suptitle('JRN activity on EDI (recent)')\n",
    "plt.legend()"
   ]
  },
  {
   "cell_type": "code",
   "execution_count": 22,
   "metadata": {},
   "outputs": [
    {
     "name": "stdout",
     "output_type": "stream",
     "text": [
      "117\n"
     ]
    },
    {
     "data": {
      "text/plain": [
       "833"
      ]
     },
     "execution_count": 22,
     "metadata": {},
     "output_type": "execute_result"
    }
   ],
   "source": [
    "print(rdEDI_late.n_tot.sum())\n",
    "rdEDI_late.n_update.sum()"
   ]
  },
  {
   "cell_type": "markdown",
   "metadata": {},
   "source": [
    "### Late/early stats"
   ]
  },
  {
   "cell_type": "code",
   "execution_count": 23,
   "metadata": {},
   "outputs": [
    {
     "name": "stdout",
     "output_type": "stream",
     "text": [
      "1.2446808510638299\n",
      "9.153846153846153\n"
     ]
    }
   ],
   "source": [
    "print(rdEDI_late.n_tot.sum()/rdEDI_early.n_tot.sum())\n",
    "print(rdEDI_late.n_update.sum()/rdEDI_early.n_update.sum())"
   ]
  },
  {
   "cell_type": "markdown",
   "metadata": {},
   "source": [
    "## Activity since  Sept 2018, NOMET\n"
   ]
  },
  {
   "cell_type": "code",
   "execution_count": 24,
   "metadata": {},
   "outputs": [
    {
     "data": {
      "text/html": [
       "<div>\n",
       "<style scoped>\n",
       "    .dataframe tbody tr th:only-of-type {\n",
       "        vertical-align: middle;\n",
       "    }\n",
       "\n",
       "    .dataframe tbody tr th {\n",
       "        vertical-align: top;\n",
       "    }\n",
       "\n",
       "    .dataframe thead th {\n",
       "        text-align: right;\n",
       "    }\n",
       "</style>\n",
       "<table border=\"1\" class=\"dataframe\">\n",
       "  <thead>\n",
       "    <tr style=\"text-align: right;\">\n",
       "      <th></th>\n",
       "      <th>n_update</th>\n",
       "      <th>n_create</th>\n",
       "      <th>n_tot</th>\n",
       "    </tr>\n",
       "    <tr>\n",
       "      <th>date</th>\n",
       "      <th></th>\n",
       "      <th></th>\n",
       "      <th></th>\n",
       "    </tr>\n",
       "  </thead>\n",
       "  <tbody>\n",
       "    <tr>\n",
       "      <th>2018-10-10</th>\n",
       "      <td>0</td>\n",
       "      <td>1</td>\n",
       "      <td>1</td>\n",
       "    </tr>\n",
       "    <tr>\n",
       "      <th>2018-10-11</th>\n",
       "      <td>0</td>\n",
       "      <td>1</td>\n",
       "      <td>1</td>\n",
       "    </tr>\n",
       "    <tr>\n",
       "      <th>2018-10-12</th>\n",
       "      <td>0</td>\n",
       "      <td>4</td>\n",
       "      <td>4</td>\n",
       "    </tr>\n",
       "    <tr>\n",
       "      <th>2018-10-13</th>\n",
       "      <td>0</td>\n",
       "      <td>0</td>\n",
       "      <td>0</td>\n",
       "    </tr>\n",
       "    <tr>\n",
       "      <th>2018-10-14</th>\n",
       "      <td>0</td>\n",
       "      <td>0</td>\n",
       "      <td>0</td>\n",
       "    </tr>\n",
       "  </tbody>\n",
       "</table>\n",
       "</div>"
      ],
      "text/plain": [
       "            n_update  n_create  n_tot\n",
       "date                                 \n",
       "2018-10-10         0         1      1\n",
       "2018-10-11         0         1      1\n",
       "2018-10-12         0         4      4\n",
       "2018-10-13         0         0      0\n",
       "2018-10-14         0         0      0"
      ]
     },
     "execution_count": 24,
     "metadata": {},
     "output_type": "execute_result"
    }
   ],
   "source": [
    "# This is after the LTER probabtion shock and after some big \n",
    "# delete operations on EDI\n",
    "rdEDI_lateNM = df.loc[np.logical_and(df.index > enddt, df.studyid!='437'),\n",
    "                         ['n_update', 'n_create', 'n_tot']].resample('D').sum()\n",
    "rdEDI_lateNM.head()"
   ]
  },
  {
   "cell_type": "code",
   "execution_count": 25,
   "metadata": {},
   "outputs": [
    {
     "data": {
      "text/plain": [
       "<matplotlib.legend.Legend at 0x7fcda0750d10>"
      ]
     },
     "execution_count": 25,
     "metadata": {},
     "output_type": "execute_result"
    },
    {
     "data": {
      "image/png": "[encoded data removed]",
      "text/plain": [
       "<Figure size 504x504 with 2 Axes>"
      ]
     },
     "metadata": {
      "needs_background": "light"
     },
     "output_type": "display_data"
    }
   ],
   "source": [
    "# Recent plot:\n",
    "fig, ax = plt.subplots(nrows=2, ncols=1, figsize=(7, 7), sharex=True)\n",
    "\n",
    "ax[0].plot(rdEDI_lateNM.index, rdEDI_lateNM.n_update, label='Update pkg')\n",
    "ax[0].plot(rdEDI_lateNM.index, rdEDI_lateNM.n_create, label='Create pkg')\n",
    "ax[0].set_ylabel('JRN events')\n",
    "\n",
    "ax[1].plot(rdEDI_lateNM.index, rdEDI_lateNM.n_update.cumsum(), label='Update pkg')\n",
    "ax[1].plot(rdEDI_lateNM.index, rdEDI_lateNM.n_create.cumsum(), label='Create pkg')\n",
    "ax[1].plot(rdEDI_lateNM.index, rdEDI_lateNM.n_tot.cumsum(), label='$\\Delta$ Total')\n",
    "ax[1].hlines(y=100, xmin=rdEDI_lateNM.index.min(), xmax=rdEDI_lateNM.index.max(), ls=':', lw=1)\n",
    "\n",
    "plt.ylabel('JRN Cumulative')\n",
    "fig.autofmt_xdate()\n",
    "plt.suptitle('JRN activity on EDI (recent, excl. met)')\n",
    "plt.legend()"
   ]
  },
  {
   "cell_type": "code",
   "execution_count": 26,
   "metadata": {},
   "outputs": [
    {
     "name": "stdout",
     "output_type": "stream",
     "text": [
      "11\n"
     ]
    },
    {
     "data": {
      "text/plain": [
       "87"
      ]
     },
     "execution_count": 26,
     "metadata": {},
     "output_type": "execute_result"
    }
   ],
   "source": [
    "print(rdEDI_lateNM.n_tot.sum())\n",
    "rdEDI_lateNM.n_update.sum()"
   ]
  },
  {
   "cell_type": "markdown",
   "metadata": {},
   "source": [
    "### Late/early stats"
   ]
  },
  {
   "cell_type": "code",
   "execution_count": 27,
   "metadata": {},
   "outputs": [
    {
     "name": "stdout",
     "output_type": "stream",
     "text": [
      "0.11702127659574468\n",
      "0.9560439560439561\n"
     ]
    }
   ],
   "source": [
    "print(rdEDI_lateNM.n_tot.sum()/rdEDI_early.n_tot.sum())\n",
    "print(rdEDI_lateNM.n_update.sum()/rdEDI_early.n_update.sum())"
   ]
  },
  {
   "cell_type": "markdown",
   "metadata": {},
   "source": [
    "## New fig"
   ]
  },
  {
   "cell_type": "code",
   "execution_count": 97,
   "metadata": {},
   "outputs": [
    {
     "data": {
      "image/png": "[encoded data removed]",
      "text/plain": [
       "<Figure size 252x252 with 2 Axes>"
      ]
     },
     "metadata": {
      "needs_background": "light"
     },
     "output_type": "display_data"
    }
   ],
   "source": [
    "# Recent plot:\n",
    "# Figure config\n",
    "font = {'family' : 'normal',\n",
    "        'weight' : 'normal',\n",
    "        'size'   : 10}\n",
    "\n",
    "matplotlib.rc('font', **font)\n",
    "\n",
    "fig, ax = plt.subplots(nrows=2, ncols=1, figsize=(3.5, 3.5), sharex=True)\n",
    "\n",
    "ax[0].plot(rdEDI_late.index, rdEDI_late.n_update, label='Update pkg')\n",
    "ax[0].plot(rdEDI_late.index, rdEDI_late.n_create, label='Create pkg')\n",
    "ax[0].set_ylabel('Daily actions')\n",
    "ax[0].text(.025, .3, 'All data packages', transform=ax[0].transAxes, style='italic')\n",
    "ax[0].legend(loc=\"upper left\")\n",
    "\n",
    "ax[1].plot(rdEDI_lateNM.index, rdEDI_lateNM.n_update.cumsum())\n",
    "ax[1].plot(rdEDI_lateNM.index, rdEDI_lateNM.n_create.cumsum())\n",
    "#ax[1].plot(rdEDI_lateNM.index, rdEDI_lateNM.n_tot.cumsum(), label='$\\Delta$ Total')\n",
    "ax[1].axhline(y=63, xmin=0, xmax=1, ls=':', lw=1.5, color='k',\n",
    "             label='2-yr goal')\n",
    "ax[1].text(.025, .3, 'Signature packages', transform=ax[1].transAxes, style='italic')\n",
    "\n",
    "plt.ylabel('Cumulative actions')\n",
    "fig.autofmt_xdate()\n",
    "#plt.suptitle('JRN activity on EDI, LTER-VII')\n",
    "ax[1].legend(loc=\"upper left\", framealpha=0)\n",
    "\n",
    "plt.tight_layout()\n",
    "fig.savefig(os.path.expanduser(\n",
    "    \"~/GD_gmaurer.jrn.lter/IM_figures/JRN_EDI_2020proposal.png\".format(now)),\n",
    "            dpi=300)"
   ]
  }
 ],
 "metadata": {
  "kernelspec": {
   "display_name": "Python 3",
   "language": "python",
   "name": "python3"
  },
  "language_info": {
   "codemirror_mode": {
    "name": "ipython",
    "version": 3
   },
   "file_extension": ".py",
   "mimetype": "text/x-python",
   "name": "python",
   "nbconvert_exporter": "python",
   "pygments_lexer": "ipython3",
   "version": "3.7.9"
  }
 },
 "nbformat": 4,
 "nbformat_minor": 4
}
