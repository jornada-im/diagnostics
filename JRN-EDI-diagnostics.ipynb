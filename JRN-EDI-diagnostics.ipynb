{
 "cells": [
  {
   "cell_type": "code",
   "execution_count": 85,
   "metadata": {},
   "outputs": [],
   "source": [
    "import requests\n",
    "import edi_pyagnostics as dia\n",
    "import pandas as pd"
   ]
  },
  {
   "cell_type": "markdown",
   "metadata": {},
   "source": [
    "## Test the API (get latest version of an NPP package)"
   ]
  },
  {
   "cell_type": "code",
   "execution_count": 3,
   "metadata": {},
   "outputs": [],
   "source": [
    "# Get the version number of the newest revision on EDI\n",
    "params = (\n",
    "    ('filter', 'newest'),\n",
    "#    ('environment', 'staging')\n",
    ")\n",
    "\n",
    "response = requests.get('https://pasta.lternet.edu/package/eml/knb-lter-jrn/210011004', params=params)"
   ]
  },
  {
   "cell_type": "code",
   "execution_count": 4,
   "metadata": {},
   "outputs": [
    {
     "data": {
      "text/plain": [
       "{'Server': 'nginx/1.14.0 (Ubuntu)', 'Date': 'Fri, 06 Sep 2019 17:49:44 GMT', 'Content-Type': 'text/plain', 'Content-Length': '2', 'Connection': 'keep-alive', 'Web-Service': 'DataPackageManager-1.0'}"
      ]
     },
     "execution_count": 4,
     "metadata": {},
     "output_type": "execute_result"
    }
   ],
   "source": [
    "response.headers"
   ]
  },
  {
   "cell_type": "code",
   "execution_count": 5,
   "metadata": {},
   "outputs": [
    {
     "name": "stdout",
     "output_type": "stream",
     "text": [
      "b'81'\n"
     ]
    },
    {
     "data": {
      "text/plain": [
       "'81'"
      ]
     },
     "execution_count": 5,
     "metadata": {},
     "output_type": "execute_result"
    }
   ],
   "source": [
    "print(response.content) #This gives server response in bytes - useful for binary data\n",
    "response.text # Server response as text (more useful for xml)"
   ]
  },
  {
   "cell_type": "markdown",
   "metadata": {},
   "source": [
    "## List all changes on EDI server\n",
    "\n",
    "Since 2013-01-01, when EDI first began logging activity"
   ]
  },
  {
   "cell_type": "code",
   "execution_count": 6,
   "metadata": {},
   "outputs": [],
   "source": [
    "#curl -i -X GET \"https://pasta.lternet.edu/package/changes/eml?fromDate=2017-02-01T12:00:00&toDate=2017-02-28&scope=knb-lter-bes\"\n",
    "# This is the \"List recent changes\" call  https://pastaplus-core.readthedocs.io/en/latest/doc_tree/pasta_api/data_package_manager_api.html#list-recent-changes\n",
    "params = (\n",
    "    ('fromDate', '2013-01-01'),\n",
    "    ('toDate', None),\n",
    "    ('scope', 'knb-lter-jrn'),\n",
    "    ('environment', 'staging')\n",
    ")\n",
    "\n",
    "response = requests.get('https://pasta.lternet.edu/package/changes/eml', params=params)"
   ]
  },
  {
   "cell_type": "code",
   "execution_count": 7,
   "metadata": {},
   "outputs": [
    {
     "data": {
      "text/plain": [
       "'<dataPackageChanges>\\n  <dataPackage>\\n    <packageId>knb-lter-jrn.2100011003.37</packageId>\\n    <scop'"
      ]
     },
     "execution_count": 7,
     "metadata": {},
     "output_type": "execute_result"
    }
   ],
   "source": [
    "# Response = long XML string that can be parsed with elementtree, beautifulsoup, etc\n",
    "response.text[0:100] # now parse this with "
   ]
  },
  {
   "cell_type": "code",
   "execution_count": 54,
   "metadata": {},
   "outputs": [],
   "source": [
    "# Parse the xml into an \"ElementTree\" object called root\n",
    "import xml.etree.ElementTree as ET\n",
    "root = ET.fromstring(response.text)"
   ]
  },
  {
   "cell_type": "code",
   "execution_count": 9,
   "metadata": {},
   "outputs": [
    {
     "data": {
      "text/plain": [
       "743"
      ]
     },
     "execution_count": 9,
     "metadata": {},
     "output_type": "execute_result"
    }
   ],
   "source": [
    "# Number of elements (EDI changes) in root\n",
    "len(root)"
   ]
  },
  {
   "cell_type": "code",
   "execution_count": 43,
   "metadata": {},
   "outputs": [
    {
     "name": "stdout",
     "output_type": "stream",
     "text": [
      "<?xml version='1.0' encoding='utf8'?>\n",
      "<dataPackage>\n",
      "    <packageId>knb-lter-jrn.2100011003.37</packageId>\n",
      "    <scope>knb-lter-jrn</scope>\n",
      "    <identifier>2100011003</identifier>\n",
      "    <revision>37</revision>\n",
      "    <principal>uid=JRN,o=LTER,dc=ecoinformatics,dc=org</principal>\n",
      "    <doi>doi:10.6073/pasta/03e4d3148121878bc770b44d831663b1</doi>\n",
      "    <serviceMethod>createDataPackage</serviceMethod>\n",
      "    <date>2015-04-17T14:42:05.936</date>\n",
      "  </dataPackage>\n",
      "  \n"
     ]
    }
   ],
   "source": [
    "# Look at the first record\n",
    "# This happens to match what is found here (searching knb-lter-jrn scope): \n",
    "#\n",
    "#    https://dashboard.edirepository.org/dashboard/reports/upload_report\n",
    "\n",
    "print(ET.tostring(root[0], encoding='utf8').decode('utf8'))"
   ]
  },
  {
   "cell_type": "code",
   "execution_count": 64,
   "metadata": {},
   "outputs": [
    {
     "data": {
      "text/plain": [
       "['dataPackageChanges',\n",
       " 'dataPackage',\n",
       " 'packageId',\n",
       " 'scope',\n",
       " 'identifier',\n",
       " 'revision',\n",
       " 'principal',\n",
       " 'doi',\n",
       " 'serviceMethod',\n",
       " 'date',\n",
       " 'dataPackage',\n",
       " 'packageId',\n",
       " 'scope',\n",
       " 'identifier',\n",
       " 'revision']"
      ]
     },
     "execution_count": 64,
     "metadata": {},
     "output_type": "execute_result"
    }
   ],
   "source": [
    "# Look at first few element tags in the returned xml (they repeat)\n",
    "[elem.tag for elem in root.iter()][0:15] "
   ]
  },
  {
   "cell_type": "code",
   "execution_count": 59,
   "metadata": {},
   "outputs": [
    {
     "data": {
      "text/plain": [
       "[<Element 'dataPackage' at 0x7fd600a847c8>,\n",
       " <Element 'dataPackage' at 0x7fd6009d42c8>,\n",
       " <Element 'dataPackage' at 0x7fd6009dd458>,\n",
       " <Element 'dataPackage' at 0x7fd6009ddb38>,\n",
       " <Element 'dataPackage' at 0x7fd6009dd958>]"
      ]
     },
     "execution_count": 59,
     "metadata": {},
     "output_type": "execute_result"
    }
   ],
   "source": [
    "root[0:5]"
   ]
  },
  {
   "cell_type": "code",
   "execution_count": 62,
   "metadata": {},
   "outputs": [
    {
     "name": "stdout",
     "output_type": "stream",
     "text": [
      "createDataPackage\n",
      "createDataPackage\n",
      "createDataPackage\n",
      "createDataPackage\n",
      "createDataPackage\n"
     ]
    }
   ],
   "source": [
    "# You can iterate by tag (may depend on nesting)\n",
    "# first 5 \"serviceMethods\"\n",
    "i=0\n",
    "for sm in root.iter('serviceMethod'):\n",
    "    if i < 5: print(sm.text)\n",
    "    i=i+1"
   ]
  },
  {
   "cell_type": "code",
   "execution_count": 63,
   "metadata": {},
   "outputs": [
    {
     "name": "stdout",
     "output_type": "stream",
     "text": [
      "2100011003\n",
      "210120002\n",
      "2100392001\n",
      "2100169002\n",
      "2100010001\n"
     ]
    }
   ],
   "source": [
    "# First 5 package IDs\n",
    "i=0\n",
    "for ID in root.iter('identifier'):\n",
    "    if i < 5: print(ID.text)\n",
    "    i=i+1"
   ]
  },
  {
   "cell_type": "markdown",
   "metadata": {},
   "source": [
    "## Parse the data sent from EDI"
   ]
  },
  {
   "cell_type": "code",
   "execution_count": 77,
   "metadata": {},
   "outputs": [
    {
     "name": "stdout",
     "output_type": "stream",
     "text": [
      "                      date       pkgid             action\n",
      "0  2015-04-17T14:42:05.936  2100011003  createDataPackage\n",
      "1  2015-04-17T15:43:26.172   210120002  createDataPackage\n",
      "2  2015-04-17T15:43:26.771  2100392001  createDataPackage\n",
      "3  2015-04-17T15:43:41.508  2100169002  createDataPackage\n",
      "4   2015-04-17T15:43:45.55  2100010001  createDataPackage\n"
     ]
    },
    {
     "data": {
      "text/html": [
       "<div>\n",
       "<style scoped>\n",
       "    .dataframe tbody tr th:only-of-type {\n",
       "        vertical-align: middle;\n",
       "    }\n",
       "\n",
       "    .dataframe tbody tr th {\n",
       "        vertical-align: top;\n",
       "    }\n",
       "\n",
       "    .dataframe thead th {\n",
       "        text-align: right;\n",
       "    }\n",
       "</style>\n",
       "<table border=\"1\" class=\"dataframe\">\n",
       "  <thead>\n",
       "    <tr style=\"text-align: right;\">\n",
       "      <th></th>\n",
       "      <th>date</th>\n",
       "      <th>pkgid</th>\n",
       "      <th>action</th>\n",
       "    </tr>\n",
       "  </thead>\n",
       "  <tbody>\n",
       "    <tr>\n",
       "      <th>738</th>\n",
       "      <td>2019-09-03T18:56:28.756</td>\n",
       "      <td>210437104</td>\n",
       "      <td>updateDataPackage</td>\n",
       "    </tr>\n",
       "    <tr>\n",
       "      <th>739</th>\n",
       "      <td>2019-09-03T18:59:37.452</td>\n",
       "      <td>210437090</td>\n",
       "      <td>updateDataPackage</td>\n",
       "    </tr>\n",
       "    <tr>\n",
       "      <th>740</th>\n",
       "      <td>2019-09-03T18:59:44.077</td>\n",
       "      <td>210437105</td>\n",
       "      <td>updateDataPackage</td>\n",
       "    </tr>\n",
       "    <tr>\n",
       "      <th>741</th>\n",
       "      <td>2019-09-05T15:20:24.611</td>\n",
       "      <td>210086009</td>\n",
       "      <td>updateDataPackage</td>\n",
       "    </tr>\n",
       "    <tr>\n",
       "      <th>742</th>\n",
       "      <td>2019-09-05T15:52:12.538</td>\n",
       "      <td>210086009</td>\n",
       "      <td>updateDataPackage</td>\n",
       "    </tr>\n",
       "  </tbody>\n",
       "</table>\n",
       "</div>"
      ],
      "text/plain": [
       "                        date      pkgid             action\n",
       "738  2019-09-03T18:56:28.756  210437104  updateDataPackage\n",
       "739  2019-09-03T18:59:37.452  210437090  updateDataPackage\n",
       "740  2019-09-03T18:59:44.077  210437105  updateDataPackage\n",
       "741  2019-09-05T15:20:24.611  210086009  updateDataPackage\n",
       "742  2019-09-05T15:52:12.538  210086009  updateDataPackage"
      ]
     },
     "execution_count": 77,
     "metadata": {},
     "output_type": "execute_result"
    }
   ],
   "source": [
    "# Create a dataframe from the entire record in root\n",
    "df = pd.DataFrame({'date':[date.text for date in root.iter('date')],\n",
    "                   'pkgid':[int(ID.text) for ID in root.iter('identifier')],\n",
    "                   'action':[sm.text for sm in root.iter('serviceMethod')]}\n",
    "                   )\n",
    "print(df.head())\n",
    "\n",
    "df.tail()"
   ]
  },
  {
   "cell_type": "code",
   "execution_count": 79,
   "metadata": {},
   "outputs": [],
   "source": [
    "# Make the index the date\n",
    "df.index = pd.to_datetime(df['date'])#, format='%Y-%b-%dT%H:%M:%S.%f')"
   ]
  },
  {
   "cell_type": "code",
   "execution_count": 80,
   "metadata": {},
   "outputs": [],
   "source": [
    "# Add columns - number of updates and creates, + extracted study id\n",
    "df['n_update'] = 0\n",
    "df['n_create'] = 0\n",
    "df['n_delete'] = 0\n",
    "df['studyid'] = df.pkgid.astype(str).str[-6:-3] #convert to str, studyid excludes mistaken 0"
   ]
  },
  {
   "cell_type": "code",
   "execution_count": 81,
   "metadata": {},
   "outputs": [
    {
     "data": {
      "text/html": [
       "<div>\n",
       "<style scoped>\n",
       "    .dataframe tbody tr th:only-of-type {\n",
       "        vertical-align: middle;\n",
       "    }\n",
       "\n",
       "    .dataframe tbody tr th {\n",
       "        vertical-align: top;\n",
       "    }\n",
       "\n",
       "    .dataframe thead th {\n",
       "        text-align: right;\n",
       "    }\n",
       "</style>\n",
       "<table border=\"1\" class=\"dataframe\">\n",
       "  <thead>\n",
       "    <tr style=\"text-align: right;\">\n",
       "      <th></th>\n",
       "      <th>date</th>\n",
       "      <th>pkgid</th>\n",
       "      <th>action</th>\n",
       "      <th>n_update</th>\n",
       "      <th>n_create</th>\n",
       "      <th>n_delete</th>\n",
       "      <th>studyid</th>\n",
       "    </tr>\n",
       "    <tr>\n",
       "      <th>date</th>\n",
       "      <th></th>\n",
       "      <th></th>\n",
       "      <th></th>\n",
       "      <th></th>\n",
       "      <th></th>\n",
       "      <th></th>\n",
       "      <th></th>\n",
       "    </tr>\n",
       "  </thead>\n",
       "  <tbody>\n",
       "    <tr>\n",
       "      <th>2015-04-17 14:42:05.936</th>\n",
       "      <td>2015-04-17T14:42:05.936</td>\n",
       "      <td>2100011003</td>\n",
       "      <td>createDataPackage</td>\n",
       "      <td>0</td>\n",
       "      <td>1</td>\n",
       "      <td>0</td>\n",
       "      <td>011</td>\n",
       "    </tr>\n",
       "    <tr>\n",
       "      <th>2015-04-17 15:43:26.172</th>\n",
       "      <td>2015-04-17T15:43:26.172</td>\n",
       "      <td>210120002</td>\n",
       "      <td>createDataPackage</td>\n",
       "      <td>0</td>\n",
       "      <td>1</td>\n",
       "      <td>0</td>\n",
       "      <td>120</td>\n",
       "    </tr>\n",
       "    <tr>\n",
       "      <th>2015-04-17 15:43:26.771</th>\n",
       "      <td>2015-04-17T15:43:26.771</td>\n",
       "      <td>2100392001</td>\n",
       "      <td>createDataPackage</td>\n",
       "      <td>0</td>\n",
       "      <td>1</td>\n",
       "      <td>0</td>\n",
       "      <td>392</td>\n",
       "    </tr>\n",
       "    <tr>\n",
       "      <th>2015-04-17 15:43:41.508</th>\n",
       "      <td>2015-04-17T15:43:41.508</td>\n",
       "      <td>2100169002</td>\n",
       "      <td>createDataPackage</td>\n",
       "      <td>0</td>\n",
       "      <td>1</td>\n",
       "      <td>0</td>\n",
       "      <td>169</td>\n",
       "    </tr>\n",
       "    <tr>\n",
       "      <th>2015-04-17 15:43:45.550</th>\n",
       "      <td>2015-04-17T15:43:45.55</td>\n",
       "      <td>2100010001</td>\n",
       "      <td>createDataPackage</td>\n",
       "      <td>0</td>\n",
       "      <td>1</td>\n",
       "      <td>0</td>\n",
       "      <td>010</td>\n",
       "    </tr>\n",
       "  </tbody>\n",
       "</table>\n",
       "</div>"
      ],
      "text/plain": [
       "                                            date       pkgid  \\\n",
       "date                                                           \n",
       "2015-04-17 14:42:05.936  2015-04-17T14:42:05.936  2100011003   \n",
       "2015-04-17 15:43:26.172  2015-04-17T15:43:26.172   210120002   \n",
       "2015-04-17 15:43:26.771  2015-04-17T15:43:26.771  2100392001   \n",
       "2015-04-17 15:43:41.508  2015-04-17T15:43:41.508  2100169002   \n",
       "2015-04-17 15:43:45.550   2015-04-17T15:43:45.55  2100010001   \n",
       "\n",
       "                                    action  n_update  n_create  n_delete  \\\n",
       "date                                                                       \n",
       "2015-04-17 14:42:05.936  createDataPackage         0         1         0   \n",
       "2015-04-17 15:43:26.172  createDataPackage         0         1         0   \n",
       "2015-04-17 15:43:26.771  createDataPackage         0         1         0   \n",
       "2015-04-17 15:43:41.508  createDataPackage         0         1         0   \n",
       "2015-04-17 15:43:45.550  createDataPackage         0         1         0   \n",
       "\n",
       "                        studyid  \n",
       "date                             \n",
       "2015-04-17 14:42:05.936     011  \n",
       "2015-04-17 15:43:26.172     120  \n",
       "2015-04-17 15:43:26.771     392  \n",
       "2015-04-17 15:43:41.508     169  \n",
       "2015-04-17 15:43:45.550     010  "
      ]
     },
     "execution_count": 81,
     "metadata": {},
     "output_type": "execute_result"
    }
   ],
   "source": [
    "# Fill in number of updates or create for each record\n",
    "df.loc[df.action=='updateDataPackage','n_update'] = 1\n",
    "df.loc[df.action=='createDataPackage','n_create'] = 1\n",
    "df.loc[df.action=='deleteDataPackage','n_delete'] = 1\n",
    "df.head()"
   ]
  },
  {
   "cell_type": "code",
   "execution_count": 82,
   "metadata": {},
   "outputs": [
    {
     "data": {
      "text/html": [
       "<div>\n",
       "<style scoped>\n",
       "    .dataframe tbody tr th:only-of-type {\n",
       "        vertical-align: middle;\n",
       "    }\n",
       "\n",
       "    .dataframe tbody tr th {\n",
       "        vertical-align: top;\n",
       "    }\n",
       "\n",
       "    .dataframe thead th {\n",
       "        text-align: right;\n",
       "    }\n",
       "</style>\n",
       "<table border=\"1\" class=\"dataframe\">\n",
       "  <thead>\n",
       "    <tr style=\"text-align: right;\">\n",
       "      <th></th>\n",
       "      <th>n_update</th>\n",
       "      <th>n_create</th>\n",
       "      <th>n_delete</th>\n",
       "    </tr>\n",
       "    <tr>\n",
       "      <th>date</th>\n",
       "      <th></th>\n",
       "      <th></th>\n",
       "      <th></th>\n",
       "    </tr>\n",
       "  </thead>\n",
       "  <tbody>\n",
       "    <tr>\n",
       "      <th>2015-04-17</th>\n",
       "      <td>0</td>\n",
       "      <td>20</td>\n",
       "      <td>0</td>\n",
       "    </tr>\n",
       "    <tr>\n",
       "      <th>2015-04-18</th>\n",
       "      <td>0</td>\n",
       "      <td>1</td>\n",
       "      <td>0</td>\n",
       "    </tr>\n",
       "    <tr>\n",
       "      <th>2015-04-19</th>\n",
       "      <td>0</td>\n",
       "      <td>0</td>\n",
       "      <td>0</td>\n",
       "    </tr>\n",
       "    <tr>\n",
       "      <th>2015-04-20</th>\n",
       "      <td>0</td>\n",
       "      <td>11</td>\n",
       "      <td>0</td>\n",
       "    </tr>\n",
       "    <tr>\n",
       "      <th>2015-04-21</th>\n",
       "      <td>0</td>\n",
       "      <td>2</td>\n",
       "      <td>0</td>\n",
       "    </tr>\n",
       "  </tbody>\n",
       "</table>\n",
       "</div>"
      ],
      "text/plain": [
       "            n_update  n_create  n_delete\n",
       "date                                    \n",
       "2015-04-17         0        20         0\n",
       "2015-04-18         0         1         0\n",
       "2015-04-19         0         0         0\n",
       "2015-04-20         0        11         0\n",
       "2015-04-21         0         2         0"
      ]
     },
     "execution_count": 82,
     "metadata": {},
     "output_type": "execute_result"
    }
   ],
   "source": [
    "# Resample with sum to get the daily number of updates/creates\n",
    "dailyEDI = df.loc[:,['n_update', 'n_create', 'n_delete']].resample('D').sum()\n",
    "dailyEDI.head()"
   ]
  },
  {
   "cell_type": "markdown",
   "metadata": {},
   "source": [
    "## Plot activity since 2013\n",
    "\n",
    "With and without the met data"
   ]
  },
  {
   "cell_type": "code",
   "execution_count": 83,
   "metadata": {},
   "outputs": [
    {
     "data": {
      "text/plain": [
       "Text(0, 0.5, '# Packages')"
      ]
     },
     "execution_count": 83,
     "metadata": {},
     "output_type": "execute_result"
    },
    {
     "data": {
      "image/png": "[encoded data removed]",
      "text/plain": [
       "<Figure size 432x288 with 1 Axes>"
      ]
     },
     "metadata": {
      "needs_background": "light"
     },
     "output_type": "display_data"
    }
   ],
   "source": [
    "import matplotlib.pyplot as plt\n",
    "dailyEDI.plot()\n",
    "plt.ylabel('# Packages')"
   ]
  },
  {
   "cell_type": "code",
   "execution_count": 84,
   "metadata": {},
   "outputs": [
    {
     "data": {
      "text/plain": [
       "Text(0, 0.5, 'Cumulative Packages')"
      ]
     },
     "execution_count": 84,
     "metadata": {},
     "output_type": "execute_result"
    },
    {
     "data": {
      "image/png": "[encoded data removed]",
      "text/plain": [
       "<Figure size 432x288 with 1 Axes>"
      ]
     },
     "metadata": {
      "needs_background": "light"
     },
     "output_type": "display_data"
    }
   ],
   "source": [
    "dailyEDI.cumsum().plot()\n",
    "plt.ylabel('Cumulative Packages')"
   ]
  },
  {
   "cell_type": "code",
   "execution_count": 40,
   "metadata": {},
   "outputs": [
    {
     "data": {
      "text/html": [
       "<div>\n",
       "<style scoped>\n",
       "    .dataframe tbody tr th:only-of-type {\n",
       "        vertical-align: middle;\n",
       "    }\n",
       "\n",
       "    .dataframe tbody tr th {\n",
       "        vertical-align: top;\n",
       "    }\n",
       "\n",
       "    .dataframe thead th {\n",
       "        text-align: right;\n",
       "    }\n",
       "</style>\n",
       "<table border=\"1\" class=\"dataframe\">\n",
       "  <thead>\n",
       "    <tr style=\"text-align: right;\">\n",
       "      <th></th>\n",
       "      <th>n_update</th>\n",
       "      <th>n_create</th>\n",
       "    </tr>\n",
       "    <tr>\n",
       "      <th>date</th>\n",
       "      <th></th>\n",
       "      <th></th>\n",
       "    </tr>\n",
       "  </thead>\n",
       "  <tbody>\n",
       "    <tr>\n",
       "      <th>2015-04-17</th>\n",
       "      <td>0</td>\n",
       "      <td>20</td>\n",
       "    </tr>\n",
       "    <tr>\n",
       "      <th>2015-04-18</th>\n",
       "      <td>0</td>\n",
       "      <td>1</td>\n",
       "    </tr>\n",
       "    <tr>\n",
       "      <th>2015-04-19</th>\n",
       "      <td>0</td>\n",
       "      <td>0</td>\n",
       "    </tr>\n",
       "    <tr>\n",
       "      <th>2015-04-20</th>\n",
       "      <td>0</td>\n",
       "      <td>11</td>\n",
       "    </tr>\n",
       "    <tr>\n",
       "      <th>2015-04-21</th>\n",
       "      <td>0</td>\n",
       "      <td>2</td>\n",
       "    </tr>\n",
       "  </tbody>\n",
       "</table>\n",
       "</div>"
      ],
      "text/plain": [
       "            n_update  n_create\n",
       "date                          \n",
       "2015-04-17         0        20\n",
       "2015-04-18         0         1\n",
       "2015-04-19         0         0\n",
       "2015-04-20         0        11\n",
       "2015-04-21         0         2"
      ]
     },
     "execution_count": 40,
     "metadata": {},
     "output_type": "execute_result"
    }
   ],
   "source": [
    "dailyEDI_nomet = df.loc[df.studyid!='437',['n_update', 'n_create']].resample('D').sum()\n",
    "dailyEDI_nomet.head()"
   ]
  },
  {
   "cell_type": "code",
   "execution_count": 41,
   "metadata": {},
   "outputs": [
    {
     "data": {
      "text/plain": [
       "Text(0, 0.5, '# Packages')"
      ]
     },
     "execution_count": 41,
     "metadata": {},
     "output_type": "execute_result"
    },
    {
     "data": {
      "image/png": "[encoded data removed]",
      "text/plain": [
       "<Figure size 432x288 with 1 Axes>"
      ]
     },
     "metadata": {
      "needs_background": "light"
     },
     "output_type": "display_data"
    }
   ],
   "source": [
    "dailyEDI_nomet.plot()\n",
    "plt.ylabel('# Packages')"
   ]
  },
  {
   "cell_type": "code",
   "execution_count": 42,
   "metadata": {},
   "outputs": [
    {
     "data": {
      "text/plain": [
       "Text(0, 0.5, 'Cumulative Packages')"
      ]
     },
     "execution_count": 42,
     "metadata": {},
     "output_type": "execute_result"
    },
    {
     "data": {
      "image/png": "[encoded data removed]",
      "text/plain": [
       "<Figure size 432x288 with 1 Axes>"
      ]
     },
     "metadata": {
      "needs_background": "light"
     },
     "output_type": "display_data"
    }
   ],
   "source": [
    "dailyEDI_nomet.cumsum().plot()\n",
    "plt.ylabel('Cumulative Packages')"
   ]
  }
 ],
 "metadata": {
  "kernelspec": {
   "display_name": "Python 3",
   "language": "python",
   "name": "python3"
  },
  "language_info": {
   "codemirror_mode": {
    "name": "ipython",
    "version": 3
   },
   "file_extension": ".py",
   "mimetype": "text/x-python",
   "name": "python",
   "nbconvert_exporter": "python",
   "pygments_lexer": "ipython3",
   "version": "3.7.3"
  }
 },
 "nbformat": 4,
 "nbformat_minor": 4
}
