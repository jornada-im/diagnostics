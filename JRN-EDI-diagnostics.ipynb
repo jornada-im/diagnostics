{
 "cells": [
  {
   "cell_type": "code",
   "execution_count": 1,
   "metadata": {},
   "outputs": [],
   "source": [
    "import requests\n",
    "import edi_pyagnostics as dia\n",
    "import pandas as pd\n",
    "import numpy as np"
   ]
  },
  {
   "cell_type": "markdown",
   "metadata": {},
   "source": [
    "## Test the API (get latest version of an NPP package)"
   ]
  },
  {
   "cell_type": "code",
   "execution_count": 2,
   "metadata": {},
   "outputs": [],
   "source": [
    "# Get the version number of the newest revision on EDI\n",
    "params = (\n",
    "    ('filter', 'newest'),\n",
    "#    ('environment', 'staging')\n",
    ")\n",
    "\n",
    "response = requests.get('https://pasta.lternet.edu/package/eml/knb-lter-jrn/210011004', params=params)"
   ]
  },
  {
   "cell_type": "code",
   "execution_count": 3,
   "metadata": {},
   "outputs": [
    {
     "data": {
      "text/plain": [
       "{'Server': 'nginx/1.14.0 (Ubuntu)', 'Date': 'Mon, 19 Oct 2020 19:44:48 GMT', 'Content-Type': 'text/plain', 'Content-Length': '2', 'Connection': 'keep-alive', 'Web-Service': 'DataPackageManager-1.0'}"
      ]
     },
     "execution_count": 3,
     "metadata": {},
     "output_type": "execute_result"
    }
   ],
   "source": [
    "response.headers"
   ]
  },
  {
   "cell_type": "code",
   "execution_count": 4,
   "metadata": {},
   "outputs": [
    {
     "name": "stdout",
     "output_type": "stream",
     "text": [
      "b'82'\n"
     ]
    },
    {
     "data": {
      "text/plain": [
       "'82'"
      ]
     },
     "execution_count": 4,
     "metadata": {},
     "output_type": "execute_result"
    }
   ],
   "source": [
    "print(response.content) #This gives server response in bytes - useful for binary data\n",
    "response.text # Server response as text (more useful for xml)"
   ]
  },
  {
   "cell_type": "markdown",
   "metadata": {},
   "source": [
    "## Get all EDI changes through 2018\n",
    "\n",
    "Since 2013-01-01, when EDI first began logging activity\n",
    "\n",
    "Or 2015-04-17 - the day JRNs first packages were uploaded"
   ]
  },
  {
   "cell_type": "code",
   "execution_count": 14,
   "metadata": {},
   "outputs": [],
   "source": [
    "#curl -i -X GET \"https://pasta.lternet.edu/package/changes/eml?fromDate=2017-02-01T12:00:00&toDate=2020-01-28&scope=knb-lter-jrn\"\n",
    "# This is the \"List recent changes\" call  https://pastaplus-core.readthedocs.io/en/latest/doc_tree/pasta_api/data_package_manager_api.html#list-recent-changes\n",
    "params = (\n",
    "    ('fromDate', '2013-01-01'),\n",
    "    ('toDate', '2018-12-31'),\n",
    "    ('scope', 'knb-lter-jrn'))#,\n",
    "#    ('environment', 'production'))\n",
    "\n",
    "response = requests.get('https://pasta.lternet.edu/package/changes/eml', params=params)"
   ]
  },
  {
   "cell_type": "code",
   "execution_count": 15,
   "metadata": {},
   "outputs": [],
   "source": [
    "# Save to file\n",
    "with open('edi_requests/knb-lter-jrn_20150417-20181231.xml', 'w') as f:\n",
    "    f.write(response.text)"
   ]
  },
  {
   "cell_type": "markdown",
   "metadata": {},
   "source": [
    "## Get EDI changes for 2019\n"
   ]
  },
  {
   "cell_type": "code",
   "execution_count": 16,
   "metadata": {},
   "outputs": [],
   "source": [
    "#curl -i -X GET \"https://pasta.lternet.edu/package/changes/eml?fromDate=2017-02-01T12:00:00&toDate=2020-01-28&scope=knb-lter-jrn\"\n",
    "# This is the \"List recent changes\" call  https://pastaplus-core.readthedocs.io/en/latest/doc_tree/pasta_api/data_package_manager_api.html#list-recent-changes\n",
    "params = (\n",
    "    ('fromDate', '2019-01-01'),\n",
    "    ('toDate', '2019-12-31'),\n",
    "    ('scope', 'knb-lter-jrn'))#,\n",
    "#    ('environment', 'production'))\n",
    "\n",
    "response = requests.get('https://pasta.lternet.edu/package/changes/eml', params=params)"
   ]
  },
  {
   "cell_type": "code",
   "execution_count": 17,
   "metadata": {},
   "outputs": [],
   "source": [
    "# Save to file\n",
    "with open('edi_requests/knb-lter-jrn_20190101-20191231.xml', 'w') as f:\n",
    "    f.write(response.text)"
   ]
  },
  {
   "cell_type": "code",
   "execution_count": 17,
   "metadata": {},
   "outputs": [],
   "source": [
    "#curl -i -X GET \"https://pasta.lternet.edu/package/changes/eml?fromDate=2017-02-01T12:00:00&toDate=2020-01-28&scope=knb-lter-jrn\"\n",
    "# This is the \"List recent changes\" call  https://pastaplus-core.readthedocs.io/en/latest/doc_tree/pasta_api/data_package_manager_api.html#list-recent-changes\n",
    "params = (\n",
    "    ('fromDate', '2020-01-01'),\n",
    "    ('toDate', '2020-05-01'),\n",
    "    ('scope', 'knb-lter-jrn'))#,\n",
    "#    ('environment', 'production'))\n",
    "\n",
    "response = requests.get('https://pasta.lternet.edu/package/changes/eml', params=params)"
   ]
  },
  {
   "cell_type": "code",
   "execution_count": 18,
   "metadata": {},
   "outputs": [],
   "source": [
    "# Save to file\n",
    "with open('edi_requests/knb-lter-jrn_20200101-20200501.xml', 'w') as f:\n",
    "    f.write(response.text)"
   ]
  },
  {
   "cell_type": "markdown",
   "metadata": {},
   "source": [
    "## Get more recent changes"
   ]
  },
  {
   "cell_type": "code",
   "execution_count": 5,
   "metadata": {},
   "outputs": [],
   "source": [
    "#curl -i -X GET \"https://pasta.lternet.edu/package/changes/eml?fromDate=2017-02-01T12:00:00&toDate=2020-01-28&scope=knb-lter-jrn\"\n",
    "# This is the \"List recent changes\" call  https://pastaplus-core.readthedocs.io/en/latest/doc_tree/pasta_api/data_package_manager_api.html#list-recent-changes\n",
    "params = (\n",
    "    ('fromDate', '2020-05-02'),\n",
    "    #('toDate', '2020-05-01'),\n",
    "    ('scope', 'knb-lter-jrn'))#,\n",
    "#    ('environment', 'production'))\n",
    "\n",
    "response = requests.get('https://pasta.lternet.edu/package/changes/eml', params=params)"
   ]
  },
  {
   "cell_type": "code",
   "execution_count": 6,
   "metadata": {},
   "outputs": [
    {
     "data": {
      "text/plain": [
       "'<dataPackageChanges>\\n  <dataPackage>\\n    <packageId>knb-lter-jrn.210385003.12</packageId>\\n    <scope>knb-lter-jrn</scope>\\n    <identifier>210385003</identifier>\\n    <revision>12</revision>\\n    <principal>uid=JRN,o=EDI,dc=edirepository,dc=org</principal>\\n    <doi>doi:10.6073/pasta/d267dbfcacf70475ec1'"
      ]
     },
     "execution_count": 6,
     "metadata": {},
     "output_type": "execute_result"
    }
   ],
   "source": [
    "# Response = long XML string that can be parsed with elementtree, beautifulsoup, etc\n",
    "response.text[0:300] # now parse this with "
   ]
  },
  {
   "cell_type": "code",
   "execution_count": 7,
   "metadata": {},
   "outputs": [],
   "source": [
    "# Parse the xml into an \"ElementTree\" object called root\n",
    "import xml.etree.ElementTree as ET\n",
    "\n",
    "tree_1 = ET.parse('edi_requests/knb-lter-jrn_20150417-20181231.xml')\n",
    "root_1 = tree_1.getroot()\n",
    "\n",
    "tree_2 = ET.parse('edi_requests/knb-lter-jrn_20190101-20191231.xml')\n",
    "root_2 = tree_2.getroot()\n",
    "\n",
    "tree_3 = ET.parse('edi_requests/knb-lter-jrn_20200101-20200501.xml')\n",
    "root_3 = tree_3.getroot()\n",
    "\n",
    "root = ET.fromstring(response.text)"
   ]
  },
  {
   "cell_type": "code",
   "execution_count": 36,
   "metadata": {},
   "outputs": [
    {
     "name": "stdout",
     "output_type": "stream",
     "text": [
      "287\n",
      "815\n",
      "676\n"
     ]
    },
    {
     "data": {
      "text/plain": [
       "931"
      ]
     },
     "execution_count": 36,
     "metadata": {},
     "output_type": "execute_result"
    }
   ],
   "source": [
    "# Number of elements (EDI changes) in root\n",
    "print(len(root_1))\n",
    "print(len(root_2))\n",
    "print(len(root_3))\n",
    "len(root)"
   ]
  },
  {
   "cell_type": "code",
   "execution_count": 37,
   "metadata": {},
   "outputs": [
    {
     "name": "stdout",
     "output_type": "stream",
     "text": [
      "<?xml version='1.0' encoding='utf8'?>\n",
      "<dataPackage>\n",
      "    <packageId>knb-lter-jrn.210548058.5</packageId>\n",
      "    <scope>knb-lter-jrn</scope>\n",
      "    <identifier>210548058</identifier>\n",
      "    <revision>5</revision>\n",
      "    <principal>uid=JRN,o=EDI,dc=edirepository,dc=org</principal>\n",
      "    <doi>doi:10.6073/pasta/d90ccfb84e84af348f5e9b74ae76298b</doi>\n",
      "    <serviceMethod>updateDataPackage</serviceMethod>\n",
      "    <date>2020-06-01T23:22:58.012</date>\n",
      "  </dataPackage>\n",
      "  \n"
     ]
    }
   ],
   "source": [
    "# Look at the first record\n",
    "# This happens to match what is found here (searching knb-lter-jrn scope): \n",
    "#\n",
    "#    https://dashboard.edirepository.org/dashboard/reports/upload_report\n",
    "\n",
    "print(ET.tostring(root[33], encoding='utf8').decode('utf8'))"
   ]
  },
  {
   "cell_type": "code",
   "execution_count": 38,
   "metadata": {},
   "outputs": [
    {
     "data": {
      "text/plain": [
       "['dataPackageChanges',\n",
       " 'dataPackage',\n",
       " 'packageId',\n",
       " 'scope',\n",
       " 'identifier',\n",
       " 'revision',\n",
       " 'principal',\n",
       " 'doi',\n",
       " 'serviceMethod',\n",
       " 'date',\n",
       " 'dataPackage',\n",
       " 'packageId',\n",
       " 'scope',\n",
       " 'identifier',\n",
       " 'revision']"
      ]
     },
     "execution_count": 38,
     "metadata": {},
     "output_type": "execute_result"
    }
   ],
   "source": [
    "# Look at first few element tags in the returned xml (they repeat)\n",
    "[elem.tag for elem in root.iter()][0:15] "
   ]
  },
  {
   "cell_type": "code",
   "execution_count": 39,
   "metadata": {},
   "outputs": [
    {
     "data": {
      "text/plain": [
       "[<Element 'dataPackage' at 0x7feee1b4f7d0>,\n",
       " <Element 'dataPackage' at 0x7feee1b4fbf0>,\n",
       " <Element 'dataPackage' at 0x7feee1b4ffb0>,\n",
       " <Element 'dataPackage' at 0x7feee1b533b0>,\n",
       " <Element 'dataPackage' at 0x7feee1b53770>]"
      ]
     },
     "execution_count": 39,
     "metadata": {},
     "output_type": "execute_result"
    }
   ],
   "source": [
    "root[0:5]"
   ]
  },
  {
   "cell_type": "code",
   "execution_count": 40,
   "metadata": {},
   "outputs": [
    {
     "name": "stdout",
     "output_type": "stream",
     "text": [
      "updateDataPackage\n",
      "updateDataPackage\n",
      "updateDataPackage\n",
      "updateDataPackage\n",
      "updateDataPackage\n"
     ]
    }
   ],
   "source": [
    "# You can iterate by tag (may depend on nesting)\n",
    "# first 5 \"serviceMethods\"\n",
    "i=0\n",
    "for sm in root.iter('serviceMethod'):\n",
    "    if i < 5: print(sm.text)\n",
    "    i=i+1"
   ]
  },
  {
   "cell_type": "code",
   "execution_count": 41,
   "metadata": {},
   "outputs": [
    {
     "name": "stdout",
     "output_type": "stream",
     "text": [
      "210385003\n",
      "210385007\n",
      "210338005\n",
      "210001003\n",
      "210548016\n"
     ]
    }
   ],
   "source": [
    "# First 5 package IDs\n",
    "i=0\n",
    "for ID in root.iter('identifier'):\n",
    "    if i < 5: print(ID.text)\n",
    "    i=i+1"
   ]
  },
  {
   "cell_type": "markdown",
   "metadata": {},
   "source": [
    "## Parse the data sent from EDI"
   ]
  },
  {
   "cell_type": "code",
   "execution_count": 42,
   "metadata": {},
   "outputs": [
    {
     "name": "stdout",
     "output_type": "stream",
     "text": [
      "2709\n",
      "                      date       pkgid             action\n",
      "0  2015-04-17T14:42:05.936  2100011003  createDataPackage\n",
      "1  2015-04-17T15:43:26.172   210120002  createDataPackage\n",
      "2  2015-04-17T15:43:26.771  2100392001  createDataPackage\n",
      "3  2015-04-17T15:43:41.508  2100169002  createDataPackage\n",
      "4   2015-04-17T15:43:45.55  2100010001  createDataPackage\n"
     ]
    },
    {
     "data": {
      "text/html": [
       "<div>\n",
       "<style scoped>\n",
       "    .dataframe tbody tr th:only-of-type {\n",
       "        vertical-align: middle;\n",
       "    }\n",
       "\n",
       "    .dataframe tbody tr th {\n",
       "        vertical-align: top;\n",
       "    }\n",
       "\n",
       "    .dataframe thead th {\n",
       "        text-align: right;\n",
       "    }\n",
       "</style>\n",
       "<table border=\"1\" class=\"dataframe\">\n",
       "  <thead>\n",
       "    <tr style=\"text-align: right;\">\n",
       "      <th></th>\n",
       "      <th>date</th>\n",
       "      <th>pkgid</th>\n",
       "      <th>action</th>\n",
       "    </tr>\n",
       "  </thead>\n",
       "  <tbody>\n",
       "    <tr>\n",
       "      <th>926</th>\n",
       "      <td>2020-10-15T05:13:28.551</td>\n",
       "      <td>210437120</td>\n",
       "      <td>updateDataPackage</td>\n",
       "    </tr>\n",
       "    <tr>\n",
       "      <th>927</th>\n",
       "      <td>2020-10-17T15:06:39.373</td>\n",
       "      <td>210008002</td>\n",
       "      <td>createDataPackage</td>\n",
       "    </tr>\n",
       "    <tr>\n",
       "      <th>928</th>\n",
       "      <td>2020-10-17T15:08:01.619</td>\n",
       "      <td>210008001</td>\n",
       "      <td>updateDataPackage</td>\n",
       "    </tr>\n",
       "    <tr>\n",
       "      <th>929</th>\n",
       "      <td>2020-10-17T15:09:33.679</td>\n",
       "      <td>210386009</td>\n",
       "      <td>createDataPackage</td>\n",
       "    </tr>\n",
       "    <tr>\n",
       "      <th>930</th>\n",
       "      <td>2020-10-17T15:10:34.332</td>\n",
       "      <td>210386008</td>\n",
       "      <td>createDataPackage</td>\n",
       "    </tr>\n",
       "  </tbody>\n",
       "</table>\n",
       "</div>"
      ],
      "text/plain": [
       "                        date      pkgid             action\n",
       "926  2020-10-15T05:13:28.551  210437120  updateDataPackage\n",
       "927  2020-10-17T15:06:39.373  210008002  createDataPackage\n",
       "928  2020-10-17T15:08:01.619  210008001  updateDataPackage\n",
       "929  2020-10-17T15:09:33.679  210386009  createDataPackage\n",
       "930  2020-10-17T15:10:34.332  210386008  createDataPackage"
      ]
     },
     "execution_count": 42,
     "metadata": {},
     "output_type": "execute_result"
    }
   ],
   "source": [
    "# Create a dataframe from the entire record in root\n",
    "df_1 = pd.DataFrame({'date':[date.text for date in root_1.iter('date')],\n",
    "                   'pkgid':[int(ID.text) for ID in root_1.iter('identifier')],\n",
    "                   'action':[sm.text for sm in root_1.iter('serviceMethod')]}\n",
    "                   )\n",
    "df_2 = pd.DataFrame({'date':[date.text for date in root_2.iter('date')],\n",
    "                   'pkgid':[int(ID.text) for ID in root_2.iter('identifier')],\n",
    "                   'action':[sm.text for sm in root_2.iter('serviceMethod')]}\n",
    "                   )\n",
    "\n",
    "df_3 = pd.DataFrame({'date':[date.text for date in root_3.iter('date')],\n",
    "                   'pkgid':[int(ID.text) for ID in root_3.iter('identifier')],\n",
    "                   'action':[sm.text for sm in root_3.iter('serviceMethod')]}\n",
    "                   )\n",
    "\n",
    "df_old = pd.concat([df_1, df_2, df_3])\n",
    "\n",
    "# Create a dataframe from the entire record in root\n",
    "df = pd.DataFrame({'date':[date.text for date in root.iter('date')],\n",
    "                   'pkgid':[int(ID.text) for ID in root.iter('identifier')],\n",
    "                   'action':[sm.text for sm in root.iter('serviceMethod')]}\n",
    "                   )\n",
    "df = pd.concat([df_old,df])\n",
    "\n",
    "print(len(df))\n",
    "\n",
    "print(df.head())\n",
    "\n",
    "df.tail()"
   ]
  },
  {
   "cell_type": "code",
   "execution_count": 43,
   "metadata": {},
   "outputs": [
    {
     "data": {
      "text/plain": [
       "(2709, 3)"
      ]
     },
     "execution_count": 43,
     "metadata": {},
     "output_type": "execute_result"
    }
   ],
   "source": [
    "df.shape"
   ]
  },
  {
   "cell_type": "code",
   "execution_count": 44,
   "metadata": {},
   "outputs": [],
   "source": [
    "# Make the index the date\n",
    "df.index = pd.to_datetime(df['date'])#, format='%Y-%b-%dT%H:%M:%S.%f')"
   ]
  },
  {
   "cell_type": "code",
   "execution_count": 45,
   "metadata": {},
   "outputs": [],
   "source": [
    "# Add columns - number of updates and creates, + extracted study id\n",
    "df['n_update'] = 0\n",
    "df['n_create'] = 0\n",
    "df['n_delete'] = 0\n",
    "df['n_tot'] = 0\n",
    "df['studyid'] = df.pkgid.astype(str).str[-6:-3] #convert to str, studyid excludes mistaken 0"
   ]
  },
  {
   "cell_type": "code",
   "execution_count": 46,
   "metadata": {},
   "outputs": [
    {
     "data": {
      "text/html": [
       "<div>\n",
       "<style scoped>\n",
       "    .dataframe tbody tr th:only-of-type {\n",
       "        vertical-align: middle;\n",
       "    }\n",
       "\n",
       "    .dataframe tbody tr th {\n",
       "        vertical-align: top;\n",
       "    }\n",
       "\n",
       "    .dataframe thead th {\n",
       "        text-align: right;\n",
       "    }\n",
       "</style>\n",
       "<table border=\"1\" class=\"dataframe\">\n",
       "  <thead>\n",
       "    <tr style=\"text-align: right;\">\n",
       "      <th></th>\n",
       "      <th>date</th>\n",
       "      <th>pkgid</th>\n",
       "      <th>action</th>\n",
       "      <th>n_update</th>\n",
       "      <th>n_create</th>\n",
       "      <th>n_delete</th>\n",
       "      <th>n_tot</th>\n",
       "      <th>studyid</th>\n",
       "    </tr>\n",
       "    <tr>\n",
       "      <th>date</th>\n",
       "      <th></th>\n",
       "      <th></th>\n",
       "      <th></th>\n",
       "      <th></th>\n",
       "      <th></th>\n",
       "      <th></th>\n",
       "      <th></th>\n",
       "      <th></th>\n",
       "    </tr>\n",
       "  </thead>\n",
       "  <tbody>\n",
       "    <tr>\n",
       "      <th>2015-04-17 14:42:05.936</th>\n",
       "      <td>2015-04-17T14:42:05.936</td>\n",
       "      <td>2100011003</td>\n",
       "      <td>createDataPackage</td>\n",
       "      <td>0</td>\n",
       "      <td>1</td>\n",
       "      <td>0</td>\n",
       "      <td>1</td>\n",
       "      <td>011</td>\n",
       "    </tr>\n",
       "    <tr>\n",
       "      <th>2015-04-17 15:43:26.172</th>\n",
       "      <td>2015-04-17T15:43:26.172</td>\n",
       "      <td>210120002</td>\n",
       "      <td>createDataPackage</td>\n",
       "      <td>0</td>\n",
       "      <td>1</td>\n",
       "      <td>0</td>\n",
       "      <td>1</td>\n",
       "      <td>120</td>\n",
       "    </tr>\n",
       "    <tr>\n",
       "      <th>2015-04-17 15:43:26.771</th>\n",
       "      <td>2015-04-17T15:43:26.771</td>\n",
       "      <td>2100392001</td>\n",
       "      <td>createDataPackage</td>\n",
       "      <td>0</td>\n",
       "      <td>1</td>\n",
       "      <td>0</td>\n",
       "      <td>1</td>\n",
       "      <td>392</td>\n",
       "    </tr>\n",
       "    <tr>\n",
       "      <th>2015-04-17 15:43:41.508</th>\n",
       "      <td>2015-04-17T15:43:41.508</td>\n",
       "      <td>2100169002</td>\n",
       "      <td>createDataPackage</td>\n",
       "      <td>0</td>\n",
       "      <td>1</td>\n",
       "      <td>0</td>\n",
       "      <td>1</td>\n",
       "      <td>169</td>\n",
       "    </tr>\n",
       "    <tr>\n",
       "      <th>2015-04-17 15:43:45.550</th>\n",
       "      <td>2015-04-17T15:43:45.55</td>\n",
       "      <td>2100010001</td>\n",
       "      <td>createDataPackage</td>\n",
       "      <td>0</td>\n",
       "      <td>1</td>\n",
       "      <td>0</td>\n",
       "      <td>1</td>\n",
       "      <td>010</td>\n",
       "    </tr>\n",
       "  </tbody>\n",
       "</table>\n",
       "</div>"
      ],
      "text/plain": [
       "                                            date       pkgid  \\\n",
       "date                                                           \n",
       "2015-04-17 14:42:05.936  2015-04-17T14:42:05.936  2100011003   \n",
       "2015-04-17 15:43:26.172  2015-04-17T15:43:26.172   210120002   \n",
       "2015-04-17 15:43:26.771  2015-04-17T15:43:26.771  2100392001   \n",
       "2015-04-17 15:43:41.508  2015-04-17T15:43:41.508  2100169002   \n",
       "2015-04-17 15:43:45.550   2015-04-17T15:43:45.55  2100010001   \n",
       "\n",
       "                                    action  n_update  n_create  n_delete  \\\n",
       "date                                                                       \n",
       "2015-04-17 14:42:05.936  createDataPackage         0         1         0   \n",
       "2015-04-17 15:43:26.172  createDataPackage         0         1         0   \n",
       "2015-04-17 15:43:26.771  createDataPackage         0         1         0   \n",
       "2015-04-17 15:43:41.508  createDataPackage         0         1         0   \n",
       "2015-04-17 15:43:45.550  createDataPackage         0         1         0   \n",
       "\n",
       "                         n_tot studyid  \n",
       "date                                    \n",
       "2015-04-17 14:42:05.936      1     011  \n",
       "2015-04-17 15:43:26.172      1     120  \n",
       "2015-04-17 15:43:26.771      1     392  \n",
       "2015-04-17 15:43:41.508      1     169  \n",
       "2015-04-17 15:43:45.550      1     010  "
      ]
     },
     "execution_count": 46,
     "metadata": {},
     "output_type": "execute_result"
    }
   ],
   "source": [
    "# Fill in number of updates or create for each record\n",
    "df.loc[df.action=='updateDataPackage','n_update'] = 1\n",
    "df.loc[df.action=='createDataPackage','n_create'] = 1\n",
    "df.loc[df.action=='deleteDataPackage','n_delete'] = 1\n",
    "# for totals, create = +1, delete = -1\n",
    "df.loc[df.action=='createDataPackage','n_tot'] = 1\n",
    "df.loc[df.action=='deleteDataPackage','n_tot'] = -1\n",
    "df.head()"
   ]
  },
  {
   "cell_type": "code",
   "execution_count": 47,
   "metadata": {},
   "outputs": [
    {
     "name": "stdout",
     "output_type": "stream",
     "text": [
      "(2700, 8)\n"
     ]
    },
    {
     "data": {
      "text/plain": [
       "date\n",
       "2018-09-04 16:19:30.652    2100001002\n",
       "2018-09-04 16:22:44.016    2100002001\n",
       "2018-09-04 16:22:59.365    2100007001\n",
       "2018-09-04 16:23:13.850    2100010001\n",
       "2018-09-04 16:23:31.433    2100011001\n",
       "2018-09-04 16:23:43.748    2100011003\n",
       "2018-09-04 16:23:53.312    2100011004\n",
       "2018-09-04 16:24:03.080    2100011005\n",
       "2018-09-04 16:24:13.741    2100086001\n",
       "2018-09-04 16:24:25.430    2100086002\n",
       "2018-09-04 16:24:34.326    2100086003\n",
       "2018-09-04 16:24:49.081    2100086004\n",
       "2018-09-04 16:24:59.973    2100086005\n",
       "2018-09-04 16:25:08.555    2100086006\n",
       "2018-09-04 16:25:17.583    2100086007\n",
       "2018-09-04 16:25:31.933    2100086008\n",
       "2018-09-04 16:25:41.114    2100086009\n",
       "2018-09-04 16:25:53.153    2100119001\n",
       "2018-09-04 16:26:01.647    2100121004\n",
       "2018-09-04 16:26:12.163    2100121005\n",
       "2018-09-04 16:26:21.306    2100126001\n",
       "2018-09-04 16:26:30.647    2100126003\n",
       "2018-09-04 16:26:40.208    2100127001\n",
       "2018-09-04 16:26:48.769    2100169001\n",
       "2018-09-04 16:26:59.328    2100169002\n",
       "2018-09-04 16:27:08.714    2100278001\n",
       "2018-09-04 16:27:18.151    2100278002\n",
       "2018-09-04 16:27:29.014    2100287001\n",
       "2018-09-04 16:27:40.239    2100288001\n",
       "2018-09-04 16:27:49.282    2100351001\n",
       "2018-09-04 16:27:58.598    2100365001\n",
       "2018-09-04 16:28:12.263    2100379001\n",
       "2018-09-04 16:28:20.514    2100379002\n",
       "2018-09-04 16:28:24.201    2100379003\n",
       "2018-09-04 16:28:33.747    2100380001\n",
       "2018-09-04 16:28:43.264    2100392001\n",
       "2018-09-04 16:28:55.872    2100409001\n",
       "2018-09-04 16:29:01.478    2100409002\n",
       "2018-11-28 13:27:18.932     210038001\n",
       "2018-11-28 13:27:32.908     210338007\n",
       "2018-11-28 13:27:44.868     210338008\n",
       "2018-11-30 08:59:47.775     210169001\n",
       "2018-11-30 08:59:59.331     210169002\n",
       "2019-06-04 11:54:10.258      21038001\n",
       "2019-09-12 09:34:13.603     210860002\n",
       "Name: pkgid, dtype: int64"
      ]
     },
     "execution_count": 47,
     "metadata": {},
     "output_type": "execute_result"
    }
   ],
   "source": [
    "# There are duplicate deletions (9 at last count)\n",
    "df_dd = df.drop_duplicates()\n",
    "n_dupdeletes = df.shape[0] - df_dd.shape[0]\n",
    "df = df_dd\n",
    "# Count deleted packages\n",
    "deleted_pkgs = df.loc[df.action=='deleteDataPackage','pkgid']\n",
    "print(df.shape)\n",
    "deleted_pkgs"
   ]
  },
  {
   "cell_type": "markdown",
   "metadata": {},
   "source": [
    "## Create daily data file"
   ]
  },
  {
   "cell_type": "code",
   "execution_count": 48,
   "metadata": {},
   "outputs": [
    {
     "data": {
      "text/html": [
       "<div>\n",
       "<style scoped>\n",
       "    .dataframe tbody tr th:only-of-type {\n",
       "        vertical-align: middle;\n",
       "    }\n",
       "\n",
       "    .dataframe tbody tr th {\n",
       "        vertical-align: top;\n",
       "    }\n",
       "\n",
       "    .dataframe thead th {\n",
       "        text-align: right;\n",
       "    }\n",
       "</style>\n",
       "<table border=\"1\" class=\"dataframe\">\n",
       "  <thead>\n",
       "    <tr style=\"text-align: right;\">\n",
       "      <th></th>\n",
       "      <th>n_update</th>\n",
       "      <th>n_create</th>\n",
       "      <th>n_tot</th>\n",
       "    </tr>\n",
       "    <tr>\n",
       "      <th>date</th>\n",
       "      <th></th>\n",
       "      <th></th>\n",
       "      <th></th>\n",
       "    </tr>\n",
       "  </thead>\n",
       "  <tbody>\n",
       "    <tr>\n",
       "      <th>2015-04-17</th>\n",
       "      <td>0</td>\n",
       "      <td>20</td>\n",
       "      <td>20</td>\n",
       "    </tr>\n",
       "    <tr>\n",
       "      <th>2015-04-18</th>\n",
       "      <td>0</td>\n",
       "      <td>1</td>\n",
       "      <td>1</td>\n",
       "    </tr>\n",
       "    <tr>\n",
       "      <th>2015-04-19</th>\n",
       "      <td>0</td>\n",
       "      <td>0</td>\n",
       "      <td>0</td>\n",
       "    </tr>\n",
       "    <tr>\n",
       "      <th>2015-04-20</th>\n",
       "      <td>0</td>\n",
       "      <td>11</td>\n",
       "      <td>11</td>\n",
       "    </tr>\n",
       "    <tr>\n",
       "      <th>2015-04-21</th>\n",
       "      <td>0</td>\n",
       "      <td>2</td>\n",
       "      <td>2</td>\n",
       "    </tr>\n",
       "  </tbody>\n",
       "</table>\n",
       "</div>"
      ],
      "text/plain": [
       "            n_update  n_create  n_tot\n",
       "date                                 \n",
       "2015-04-17         0        20     20\n",
       "2015-04-18         0         1      1\n",
       "2015-04-19         0         0      0\n",
       "2015-04-20         0        11     11\n",
       "2015-04-21         0         2      2"
      ]
     },
     "execution_count": 48,
     "metadata": {},
     "output_type": "execute_result"
    }
   ],
   "source": [
    "# Resample with sum to get the daily number of updates/creates\n",
    "dEDI = df.loc[:,['n_update', 'n_create', 'n_tot']].resample('D').sum()\n",
    "dEDI.head()"
   ]
  },
  {
   "cell_type": "markdown",
   "metadata": {},
   "source": [
    "## Plot activity since 2013\n"
   ]
  },
  {
   "cell_type": "code",
   "execution_count": 49,
   "metadata": {},
   "outputs": [],
   "source": [
    "import matplotlib\n",
    "import matplotlib.pyplot as plt\n",
    "# Figure config\n",
    "font = {'family' : 'normal',\n",
    "        'weight' : 'normal',\n",
    "        'size'   : 14}\n",
    "\n",
    "matplotlib.rc('font', **font)"
   ]
  },
  {
   "cell_type": "code",
   "execution_count": 50,
   "metadata": {},
   "outputs": [],
   "source": [
    "# Get a datestamp for saving figures\n",
    "import datetime\n",
    "now = datetime.datetime.now().strftime(\"%Y%m%d\")"
   ]
  },
  {
   "cell_type": "code",
   "execution_count": 51,
   "metadata": {},
   "outputs": [
    {
     "data": {
      "image/png": "[encoded data removed]",
      "text/plain": [
       "<Figure size 504x504 with 2 Axes>"
      ]
     },
     "metadata": {
      "needs_background": "light"
     },
     "output_type": "display_data"
    }
   ],
   "source": [
    "# All time plot:\n",
    "fig, ax = plt.subplots(nrows=2, ncols=1, figsize=(7, 7), sharex=True)\n",
    "\n",
    "ax[0].plot(dEDI.index, dEDI.n_update, label='Update pkg')\n",
    "ax[0].plot(dEDI.index, dEDI.n_create, label='Create pkg')\n",
    "ax[0].set_ylabel('JRN events')\n",
    "\n",
    "ax[1].plot(dEDI.index, dEDI.n_update.cumsum(), label='Update pkg')\n",
    "ax[1].plot(dEDI.index, dEDI.n_create.cumsum(), label='Create pkg')\n",
    "ax[1].plot(dEDI.index, dEDI.n_tot.cumsum(), label='Total')\n",
    "\n",
    "plt.ylabel('JRN Cumulative')\n",
    "fig.autofmt_xdate()\n",
    "plt.suptitle('JRN activity on EDI (all time)')\n",
    "plt.legend()\n",
    "\n",
    "import os\n",
    "fig.savefig(os.path.expanduser(\"/Users/gmaurer/GD_gmaurer.jrn.lter/IM/figures/JRN_EDI_all_{0}.png\".format(now)),\n",
    "            dpi=150)"
   ]
  },
  {
   "cell_type": "markdown",
   "metadata": {},
   "source": [
    "### Total number of packages"
   ]
  },
  {
   "cell_type": "code",
   "execution_count": 52,
   "metadata": {},
   "outputs": [
    {
     "data": {
      "text/plain": [
       "333"
      ]
     },
     "execution_count": 52,
     "metadata": {},
     "output_type": "execute_result"
    }
   ],
   "source": [
    "dEDI.n_tot.sum()"
   ]
  },
  {
   "cell_type": "markdown",
   "metadata": {},
   "source": [
    "### Total number of non-met packages\n",
    "\n",
    "NPP met = 437, CSIS met = 548"
   ]
  },
  {
   "cell_type": "code",
   "execution_count": 53,
   "metadata": {},
   "outputs": [
    {
     "data": {
      "text/plain": [
       "110"
      ]
     },
     "execution_count": 53,
     "metadata": {},
     "output_type": "execute_result"
    }
   ],
   "source": [
    "nomet = np.logical_and(df.studyid!='437', df.studyid!='548')\n",
    "df.loc[nomet,['n_update', 'n_create', 'n_tot']].resample('D').sum().n_tot.sum()\n"
   ]
  },
  {
   "cell_type": "markdown",
   "metadata": {},
   "source": [
    "### Plot without met"
   ]
  },
  {
   "cell_type": "code",
   "execution_count": 54,
   "metadata": {},
   "outputs": [
    {
     "data": {
      "text/html": [
       "<div>\n",
       "<style scoped>\n",
       "    .dataframe tbody tr th:only-of-type {\n",
       "        vertical-align: middle;\n",
       "    }\n",
       "\n",
       "    .dataframe tbody tr th {\n",
       "        vertical-align: top;\n",
       "    }\n",
       "\n",
       "    .dataframe thead th {\n",
       "        text-align: right;\n",
       "    }\n",
       "</style>\n",
       "<table border=\"1\" class=\"dataframe\">\n",
       "  <thead>\n",
       "    <tr style=\"text-align: right;\">\n",
       "      <th></th>\n",
       "      <th>n_update</th>\n",
       "      <th>n_create</th>\n",
       "      <th>n_tot</th>\n",
       "    </tr>\n",
       "    <tr>\n",
       "      <th>date</th>\n",
       "      <th></th>\n",
       "      <th></th>\n",
       "      <th></th>\n",
       "    </tr>\n",
       "  </thead>\n",
       "  <tbody>\n",
       "    <tr>\n",
       "      <th>2015-04-17</th>\n",
       "      <td>0</td>\n",
       "      <td>20</td>\n",
       "      <td>20</td>\n",
       "    </tr>\n",
       "    <tr>\n",
       "      <th>2015-04-18</th>\n",
       "      <td>0</td>\n",
       "      <td>1</td>\n",
       "      <td>1</td>\n",
       "    </tr>\n",
       "    <tr>\n",
       "      <th>2015-04-19</th>\n",
       "      <td>0</td>\n",
       "      <td>0</td>\n",
       "      <td>0</td>\n",
       "    </tr>\n",
       "    <tr>\n",
       "      <th>2015-04-20</th>\n",
       "      <td>0</td>\n",
       "      <td>11</td>\n",
       "      <td>11</td>\n",
       "    </tr>\n",
       "    <tr>\n",
       "      <th>2015-04-21</th>\n",
       "      <td>0</td>\n",
       "      <td>2</td>\n",
       "      <td>2</td>\n",
       "    </tr>\n",
       "  </tbody>\n",
       "</table>\n",
       "</div>"
      ],
      "text/plain": [
       "            n_update  n_create  n_tot\n",
       "date                                 \n",
       "2015-04-17         0        20     20\n",
       "2015-04-18         0         1      1\n",
       "2015-04-19         0         0      0\n",
       "2015-04-20         0        11     11\n",
       "2015-04-21         0         2      2"
      ]
     },
     "execution_count": 54,
     "metadata": {},
     "output_type": "execute_result"
    }
   ],
   "source": [
    "# This is after the LTER probabtion shock and after some big \n",
    "# delete operations on EDI\n",
    "startdt = \"2015-04-01\"\n",
    "\n",
    "rdEDI_nomet = df.loc[np.logical_and(nomet, df.index > startdt),\n",
    "                         ['n_update', 'n_create', 'n_tot']].resample('D').sum()\n",
    "rdEDI_nomet.head()"
   ]
  },
  {
   "cell_type": "code",
   "execution_count": 55,
   "metadata": {},
   "outputs": [
    {
     "data": {
      "text/plain": [
       "<matplotlib.legend.Legend at 0x7feed0b55d90>"
      ]
     },
     "execution_count": 55,
     "metadata": {},
     "output_type": "execute_result"
    },
    {
     "data": {
      "image/png": "[encoded data removed]",
      "text/plain": [
       "<Figure size 504x504 with 2 Axes>"
      ]
     },
     "metadata": {
      "needs_background": "light"
     },
     "output_type": "display_data"
    }
   ],
   "source": [
    "# Recent plot:\n",
    "fig, ax = plt.subplots(nrows=2, ncols=1, figsize=(7, 7), sharex=True)\n",
    "\n",
    "ax[0].plot(rdEDI_nomet.index, rdEDI_nomet.n_update, label='Update pkg')\n",
    "ax[0].plot(rdEDI_nomet.index, rdEDI_nomet.n_create, label='Create pkg')\n",
    "ax[0].set_ylabel('JRN events')\n",
    "\n",
    "ax[1].plot(rdEDI_nomet.index, rdEDI_nomet.n_update.cumsum(), label='Update pkg')\n",
    "ax[1].plot(rdEDI_nomet.index, rdEDI_nomet.n_create.cumsum(), label='Create pkg')\n",
    "ax[1].plot(rdEDI_nomet.index, rdEDI_nomet.n_tot.cumsum(), label='$\\Delta$ Total')\n",
    "ax[1].hlines(y=100, xmin=rdEDI_nomet.index.min(), xmax=rdEDI_nomet.index.max(), ls=':', lw=1)\n",
    "\n",
    "plt.ylabel('JRN Cumulative')\n",
    "fig.autofmt_xdate()\n",
    "plt.suptitle('JRN activity on EDI (recent, excl. met)')\n",
    "plt.legend()"
   ]
  },
  {
   "cell_type": "markdown",
   "metadata": {},
   "source": [
    "## Plot activity since Sept 2018 (excluding Met)"
   ]
  },
  {
   "cell_type": "code",
   "execution_count": 56,
   "metadata": {},
   "outputs": [
    {
     "data": {
      "text/html": [
       "<div>\n",
       "<style scoped>\n",
       "    .dataframe tbody tr th:only-of-type {\n",
       "        vertical-align: middle;\n",
       "    }\n",
       "\n",
       "    .dataframe tbody tr th {\n",
       "        vertical-align: top;\n",
       "    }\n",
       "\n",
       "    .dataframe thead th {\n",
       "        text-align: right;\n",
       "    }\n",
       "</style>\n",
       "<table border=\"1\" class=\"dataframe\">\n",
       "  <thead>\n",
       "    <tr style=\"text-align: right;\">\n",
       "      <th></th>\n",
       "      <th>n_update</th>\n",
       "      <th>n_create</th>\n",
       "      <th>n_tot</th>\n",
       "    </tr>\n",
       "    <tr>\n",
       "      <th>date</th>\n",
       "      <th></th>\n",
       "      <th></th>\n",
       "      <th></th>\n",
       "    </tr>\n",
       "  </thead>\n",
       "  <tbody>\n",
       "    <tr>\n",
       "      <th>2018-10-10</th>\n",
       "      <td>0</td>\n",
       "      <td>1</td>\n",
       "      <td>1</td>\n",
       "    </tr>\n",
       "    <tr>\n",
       "      <th>2018-10-11</th>\n",
       "      <td>0</td>\n",
       "      <td>1</td>\n",
       "      <td>1</td>\n",
       "    </tr>\n",
       "    <tr>\n",
       "      <th>2018-10-12</th>\n",
       "      <td>0</td>\n",
       "      <td>4</td>\n",
       "      <td>4</td>\n",
       "    </tr>\n",
       "    <tr>\n",
       "      <th>2018-10-13</th>\n",
       "      <td>0</td>\n",
       "      <td>0</td>\n",
       "      <td>0</td>\n",
       "    </tr>\n",
       "    <tr>\n",
       "      <th>2018-10-14</th>\n",
       "      <td>0</td>\n",
       "      <td>0</td>\n",
       "      <td>0</td>\n",
       "    </tr>\n",
       "  </tbody>\n",
       "</table>\n",
       "</div>"
      ],
      "text/plain": [
       "            n_update  n_create  n_tot\n",
       "date                                 \n",
       "2018-10-10         0         1      1\n",
       "2018-10-11         0         1      1\n",
       "2018-10-12         0         4      4\n",
       "2018-10-13         0         0      0\n",
       "2018-10-14         0         0      0"
      ]
     },
     "execution_count": 56,
     "metadata": {},
     "output_type": "execute_result"
    }
   ],
   "source": [
    "# This is after the LTER probabtion shock and after some big \n",
    "# delete operations on EDI\n",
    "startdt = \"2018-09-05\"\n",
    "\n",
    "rdEDI_nomet = df.loc[np.logical_and(nomet, df.index > startdt),\n",
    "                         ['n_update', 'n_create', 'n_tot']].resample('D').sum()\n",
    "rdEDI_nomet.head()"
   ]
  },
  {
   "cell_type": "code",
   "execution_count": 57,
   "metadata": {},
   "outputs": [
    {
     "data": {
      "image/png": "[encoded data removed]",
      "text/plain": [
       "<Figure size 504x504 with 2 Axes>"
      ]
     },
     "metadata": {
      "needs_background": "light"
     },
     "output_type": "display_data"
    }
   ],
   "source": [
    "# Recent plot:\n",
    "fig, ax = plt.subplots(nrows=2, ncols=1, figsize=(7, 7), sharex=True)\n",
    "\n",
    "ax[0].plot(rdEDI_nomet.index, rdEDI_nomet.n_update, label='Update pkg')\n",
    "ax[0].plot(rdEDI_nomet.index, rdEDI_nomet.n_create, label='Create pkg')\n",
    "ax[0].set_ylabel('JRN events')\n",
    "\n",
    "ax[1].plot(rdEDI_nomet.index, rdEDI_nomet.n_update.cumsum(), label='Update pkg')\n",
    "ax[1].plot(rdEDI_nomet.index, rdEDI_nomet.n_create.cumsum(), label='Create pkg')\n",
    "ax[1].plot(rdEDI_nomet.index, rdEDI_nomet.n_tot.cumsum(), label='$\\Delta$ Total')\n",
    "ax[1].axhline(y=63, xmin=0, xmax=1, ls=':', lw=1.5, color='k',\n",
    "             label='Proposal goal')\n",
    "\n",
    "plt.ylabel('JRN Cumulative')\n",
    "fig.autofmt_xdate()\n",
    "plt.suptitle('JRN activity on EDI (recent, excl. met)')\n",
    "plt.legend()\n",
    "\n",
    "fig.savefig(os.path.expanduser(\n",
    "    \"/Users/gmaurer/GD_gmaurer.jrn.lter/IM/figures/JRN_EDI_recNoMet_{0}.png\".format(now)),\n",
    "            dpi=150)"
   ]
  },
  {
   "cell_type": "markdown",
   "metadata": {},
   "source": [
    "## Summary since Sept 2018 (after LTER7 probation)"
   ]
  },
  {
   "cell_type": "code",
   "execution_count": 58,
   "metadata": {},
   "outputs": [
    {
     "data": {
      "text/html": [
       "<div>\n",
       "<style scoped>\n",
       "    .dataframe tbody tr th:only-of-type {\n",
       "        vertical-align: middle;\n",
       "    }\n",
       "\n",
       "    .dataframe tbody tr th {\n",
       "        vertical-align: top;\n",
       "    }\n",
       "\n",
       "    .dataframe thead th {\n",
       "        text-align: right;\n",
       "    }\n",
       "</style>\n",
       "<table border=\"1\" class=\"dataframe\">\n",
       "  <thead>\n",
       "    <tr style=\"text-align: right;\">\n",
       "      <th></th>\n",
       "      <th>n_update</th>\n",
       "      <th>n_create</th>\n",
       "      <th>n_tot</th>\n",
       "    </tr>\n",
       "    <tr>\n",
       "      <th>date</th>\n",
       "      <th></th>\n",
       "      <th></th>\n",
       "      <th></th>\n",
       "    </tr>\n",
       "  </thead>\n",
       "  <tbody>\n",
       "    <tr>\n",
       "      <th>2018-10-31</th>\n",
       "      <td>0</td>\n",
       "      <td>6</td>\n",
       "      <td>6</td>\n",
       "    </tr>\n",
       "    <tr>\n",
       "      <th>2018-11-30</th>\n",
       "      <td>2</td>\n",
       "      <td>4</td>\n",
       "      <td>-1</td>\n",
       "    </tr>\n",
       "    <tr>\n",
       "      <th>2018-12-31</th>\n",
       "      <td>0</td>\n",
       "      <td>0</td>\n",
       "      <td>0</td>\n",
       "    </tr>\n",
       "    <tr>\n",
       "      <th>2019-01-31</th>\n",
       "      <td>0</td>\n",
       "      <td>0</td>\n",
       "      <td>0</td>\n",
       "    </tr>\n",
       "    <tr>\n",
       "      <th>2019-02-28</th>\n",
       "      <td>0</td>\n",
       "      <td>0</td>\n",
       "      <td>0</td>\n",
       "    </tr>\n",
       "    <tr>\n",
       "      <th>2019-03-31</th>\n",
       "      <td>0</td>\n",
       "      <td>0</td>\n",
       "      <td>0</td>\n",
       "    </tr>\n",
       "    <tr>\n",
       "      <th>2019-04-30</th>\n",
       "      <td>4</td>\n",
       "      <td>4</td>\n",
       "      <td>4</td>\n",
       "    </tr>\n",
       "    <tr>\n",
       "      <th>2019-05-31</th>\n",
       "      <td>0</td>\n",
       "      <td>0</td>\n",
       "      <td>0</td>\n",
       "    </tr>\n",
       "    <tr>\n",
       "      <th>2019-06-30</th>\n",
       "      <td>4</td>\n",
       "      <td>1</td>\n",
       "      <td>0</td>\n",
       "    </tr>\n",
       "    <tr>\n",
       "      <th>2019-07-31</th>\n",
       "      <td>3</td>\n",
       "      <td>0</td>\n",
       "      <td>0</td>\n",
       "    </tr>\n",
       "    <tr>\n",
       "      <th>2019-08-31</th>\n",
       "      <td>8</td>\n",
       "      <td>0</td>\n",
       "      <td>0</td>\n",
       "    </tr>\n",
       "    <tr>\n",
       "      <th>2019-09-30</th>\n",
       "      <td>15</td>\n",
       "      <td>1</td>\n",
       "      <td>0</td>\n",
       "    </tr>\n",
       "    <tr>\n",
       "      <th>2019-10-31</th>\n",
       "      <td>13</td>\n",
       "      <td>1</td>\n",
       "      <td>1</td>\n",
       "    </tr>\n",
       "    <tr>\n",
       "      <th>2019-11-30</th>\n",
       "      <td>3</td>\n",
       "      <td>1</td>\n",
       "      <td>1</td>\n",
       "    </tr>\n",
       "    <tr>\n",
       "      <th>2019-12-31</th>\n",
       "      <td>9</td>\n",
       "      <td>0</td>\n",
       "      <td>0</td>\n",
       "    </tr>\n",
       "    <tr>\n",
       "      <th>2020-01-31</th>\n",
       "      <td>13</td>\n",
       "      <td>0</td>\n",
       "      <td>0</td>\n",
       "    </tr>\n",
       "    <tr>\n",
       "      <th>2020-02-29</th>\n",
       "      <td>21</td>\n",
       "      <td>0</td>\n",
       "      <td>0</td>\n",
       "    </tr>\n",
       "    <tr>\n",
       "      <th>2020-03-31</th>\n",
       "      <td>0</td>\n",
       "      <td>0</td>\n",
       "      <td>0</td>\n",
       "    </tr>\n",
       "    <tr>\n",
       "      <th>2020-04-30</th>\n",
       "      <td>14</td>\n",
       "      <td>0</td>\n",
       "      <td>0</td>\n",
       "    </tr>\n",
       "    <tr>\n",
       "      <th>2020-05-31</th>\n",
       "      <td>2</td>\n",
       "      <td>0</td>\n",
       "      <td>0</td>\n",
       "    </tr>\n",
       "    <tr>\n",
       "      <th>2020-06-30</th>\n",
       "      <td>5</td>\n",
       "      <td>0</td>\n",
       "      <td>0</td>\n",
       "    </tr>\n",
       "    <tr>\n",
       "      <th>2020-07-31</th>\n",
       "      <td>0</td>\n",
       "      <td>0</td>\n",
       "      <td>0</td>\n",
       "    </tr>\n",
       "    <tr>\n",
       "      <th>2020-08-31</th>\n",
       "      <td>1</td>\n",
       "      <td>0</td>\n",
       "      <td>0</td>\n",
       "    </tr>\n",
       "    <tr>\n",
       "      <th>2020-09-30</th>\n",
       "      <td>2</td>\n",
       "      <td>2</td>\n",
       "      <td>2</td>\n",
       "    </tr>\n",
       "    <tr>\n",
       "      <th>2020-10-31</th>\n",
       "      <td>2</td>\n",
       "      <td>3</td>\n",
       "      <td>3</td>\n",
       "    </tr>\n",
       "  </tbody>\n",
       "</table>\n",
       "</div>"
      ],
      "text/plain": [
       "            n_update  n_create  n_tot\n",
       "date                                 \n",
       "2018-10-31         0         6      6\n",
       "2018-11-30         2         4     -1\n",
       "2018-12-31         0         0      0\n",
       "2019-01-31         0         0      0\n",
       "2019-02-28         0         0      0\n",
       "2019-03-31         0         0      0\n",
       "2019-04-30         4         4      4\n",
       "2019-05-31         0         0      0\n",
       "2019-06-30         4         1      0\n",
       "2019-07-31         3         0      0\n",
       "2019-08-31         8         0      0\n",
       "2019-09-30        15         1      0\n",
       "2019-10-31        13         1      1\n",
       "2019-11-30         3         1      1\n",
       "2019-12-31         9         0      0\n",
       "2020-01-31        13         0      0\n",
       "2020-02-29        21         0      0\n",
       "2020-03-31         0         0      0\n",
       "2020-04-30        14         0      0\n",
       "2020-05-31         2         0      0\n",
       "2020-06-30         5         0      0\n",
       "2020-07-31         0         0      0\n",
       "2020-08-31         1         0      0\n",
       "2020-09-30         2         2      2\n",
       "2020-10-31         2         3      3"
      ]
     },
     "execution_count": 58,
     "metadata": {},
     "output_type": "execute_result"
    }
   ],
   "source": [
    "# Monthly progress\n",
    "rmEDI_nomet = rdEDI_nomet.resample('M').sum()\n",
    "rmEDI_nomet"
   ]
  },
  {
   "cell_type": "code",
   "execution_count": 59,
   "metadata": {},
   "outputs": [
    {
     "data": {
      "text/plain": [
       "array([210338004, 210338002, 210351003, 210328003, 210328001, 210120001,\n",
       "       210127001, 210380001, 210288001, 210351001, 210351002, 210461001,\n",
       "       210086003, 210086008, 210002001, 210086009, 210086005, 210086004,\n",
       "       210086007, 210308004, 210228001, 210120002, 210013001, 210086002,\n",
       "       210086001, 210121005, 210121008, 210407001, 210086006, 210119001,\n",
       "       210011005, 210001002, 210011002, 210011003, 210011004, 210013002,\n",
       "       210013003, 210412001, 210012001, 210012002, 210010001, 210122001,\n",
       "       210328002, 210308001, 210308002, 210308003, 210308005, 210126003,\n",
       "       210262001, 210262004, 210262005, 210128001, 210128002, 210262008,\n",
       "       210392001, 210379001, 210379002, 210379003, 210287001, 210278002,\n",
       "       210278001, 210338006, 210425001, 210262010, 210365001, 210385001,\n",
       "       210385004, 210385005, 210385006, 210385008, 210385002, 210385003,\n",
       "       210385007, 210338005, 210001003,       100, 210001001, 210394009,\n",
       "       210395001, 210409002, 210008001])"
      ]
     },
     "execution_count": 59,
     "metadata": {},
     "output_type": "execute_result"
    }
   ],
   "source": [
    "# Unique packages updated (excluding met)\n",
    "rEDI = df.loc[df.index > startdt,]\n",
    "rEDI_nomet = np.logical_and(rEDI.studyid!='437', rEDI.studyid!='548')\n",
    "uniqueUp = rEDI.loc[np.logical_and(rEDI_nomet, rEDI.action=='updateDataPackage'),].pkgid.unique()\n",
    "#rEDI.loc[rEDI.action=='updateDataPackage',].pkgid.unique()\n",
    "uniqueUp"
   ]
  },
  {
   "cell_type": "code",
   "execution_count": 60,
   "metadata": {},
   "outputs": [
    {
     "name": "stdout",
     "output_type": "stream",
     "text": [
      "[210338005 210001003       100 210001001 210394009 210395001 210409002\n",
      " 210008001]\n",
      "[210338004 210338002 210351003 210328003 210328001 210120001 210127001\n",
      " 210380001 210288001 210351001 210351002 210461001 210086003 210086008\n",
      " 210002001 210086009 210086005 210086004 210086007 210308004 210228001\n",
      " 210120002 210013001 210086002 210086001 210121005 210121008 210407001\n",
      " 210086006 210119001 210011005 210001002 210011002 210011003 210011004\n",
      " 210013002 210013003 210412001 210012001 210012002 210010001 210122001\n",
      " 210328002 210308001 210308002 210308003 210308005 210126003 210262001\n",
      " 210262004 210262005 210128001 210128002 210262008 210392001 210379001\n",
      " 210379002 210379003 210287001 210278002 210278001 210338006 210425001\n",
      " 210262010 210365001 210548016 210548031 210548076 210548046 210548025\n",
      " 210548061 210548001 210548040 210548085 210548055 210548099 210548026\n",
      " 210548070 210548010 210548041 210548086 210548056 210548100 210548027\n",
      " 210548071 210548011 210548042 210548087 210548057 210548028 210548072\n",
      " 210548012 210548043 210548088 210548058 210548101 210548029 210548073\n",
      " 210548013 210548044 210548089 210548059 210548102 210548030 210548074\n",
      " 210548014 210548045 210548090 210548060 210548103 210548017 210548015\n",
      " 210548075 210548032 210548077 210548047 210548091 210548018 210548062\n",
      " 210548002 210548033 210548078 210548048 210548092 210548019 210548063\n",
      " 210548003 210548034 210548079 210548049 210548093 210548004 210548020\n",
      " 210548064 210548035 210548080 210548050 210548094 210548021 210548005\n",
      " 210548065 210548036 210548081 210548051 210548095 210548022 210548066\n",
      " 210548006 210548037 210548082 210548052 210548096 210548023 210548067\n",
      " 210548007 210548038 210548083 210548053 210548097 210548024 210548068\n",
      " 210548008 210548039 210548084 210548054 210548098 210548069 210548009\n",
      " 210385001 210385004 210385005 210385006 210385008 210385002 210385003\n",
      " 210385007]\n"
     ]
    }
   ],
   "source": [
    "# Unique updates since last meeting\n",
    "last_meeting = '2020-05-15'\n",
    "\n",
    "vrEDI = df.loc[df.index >= last_meeting]\n",
    "vrEDI_nomet = np.logical_and(vrEDI.studyid!='437', vrEDI.studyid!='548')\n",
    "uR = vrEDI.loc[np.logical_and(vrEDI_nomet, vrEDI.action=='updateDataPackage'),].pkgid.unique()\n",
    "# Unique updates before last meeting (to startdt)\n",
    "oEDI = df.loc[np.logical_and(df.index > startdt, df.index < last_meeting),]\n",
    "uO = oEDI.loc[np.logical_and(oEDI.studyid!='437', oEDI.action=='updateDataPackage'),].pkgid.unique()\n",
    "print(uR)\n",
    "print(uO)"
   ]
  },
  {
   "cell_type": "code",
   "execution_count": 61,
   "metadata": {},
   "outputs": [
    {
     "data": {
      "text/plain": [
       "array([210338005, 210001003,       100, 210001001, 210394009, 210395001,\n",
       "       210409002, 210008001])"
      ]
     },
     "execution_count": 61,
     "metadata": {},
     "output_type": "execute_result"
    }
   ],
   "source": [
    "uR[~np.in1d(uR, uO)]"
   ]
  },
  {
   "cell_type": "code",
   "execution_count": 62,
   "metadata": {},
   "outputs": [
    {
     "data": {
      "text/plain": [
       "array([210038001, 210338007, 210338008, 210169001, 210169002,  21038001,\n",
       "       210860002])"
      ]
     },
     "execution_count": 62,
     "metadata": {},
     "output_type": "execute_result"
    }
   ],
   "source": [
    "# Unique packages deleted\n",
    "uniqueDel = rEDI.loc[np.logical_and(rEDI_nomet, rEDI.action=='deleteDataPackage'),].pkgid.unique()\n",
    "uniqueDel"
   ]
  },
  {
   "cell_type": "code",
   "execution_count": 63,
   "metadata": {},
   "outputs": [
    {
     "data": {
      "text/plain": [
       "array([210520001, 210327001, 210338005, 210338006, 210338007, 210338008,\n",
       "       210472001, 210380001, 210128001, 210128002, 210351003, 210328003,\n",
       "       210328001, 210328002,  21038001, 210860002, 210011001,       100,\n",
       "       210394008, 210386002, 210008002, 210386009, 210386008])"
      ]
     },
     "execution_count": 63,
     "metadata": {},
     "output_type": "execute_result"
    }
   ],
   "source": [
    "# Unique packages created (See above)\n",
    "uniqueCreate = rEDI.loc[np.logical_and(rEDI_nomet, rEDI.action=='createDataPackage'),].pkgid.unique()\n",
    "uniqueCreate"
   ]
  }
 ],
 "metadata": {
  "kernelspec": {
   "display_name": "Python 3",
   "language": "python",
   "name": "python3"
  },
  "language_info": {
   "codemirror_mode": {
    "name": "ipython",
    "version": 3
   },
   "file_extension": ".py",
   "mimetype": "text/x-python",
   "name": "python",
   "nbconvert_exporter": "python",
   "pygments_lexer": "ipython3",
   "version": "3.7.9"
  }
 },
 "nbformat": 4,
 "nbformat_minor": 4
}
