{
 "cells": [
  {
   "cell_type": "code",
   "execution_count": 1,
   "metadata": {},
   "outputs": [],
   "source": [
    "import requests\n",
    "import edi_pyagnostics as dia\n",
    "import pandas as pd\n",
    "import numpy as np"
   ]
  },
  {
   "cell_type": "markdown",
   "metadata": {},
   "source": [
    "## Test the API (get latest version of an NPP package)"
   ]
  },
  {
   "cell_type": "code",
   "execution_count": 2,
   "metadata": {},
   "outputs": [],
   "source": [
    "# Get the version number of the newest revision on EDI\n",
    "params = (\n",
    "    ('filter', 'newest'),\n",
    "#    ('environment', 'staging')\n",
    ")\n",
    "\n",
    "response = requests.get('https://pasta.lternet.edu/package/eml/knb-lter-jrn/210011004', params=params)"
   ]
  },
  {
   "cell_type": "code",
   "execution_count": 3,
   "metadata": {},
   "outputs": [
    {
     "data": {
      "text/plain": [
       "{'Server': 'nginx/1.14.0 (Ubuntu)', 'Date': 'Tue, 19 Nov 2019 12:12:15 GMT', 'Content-Type': 'text/plain', 'Content-Length': '2', 'Connection': 'keep-alive', 'Web-Service': 'DataPackageManager-1.0'}"
      ]
     },
     "execution_count": 3,
     "metadata": {},
     "output_type": "execute_result"
    }
   ],
   "source": [
    "response.headers"
   ]
  },
  {
   "cell_type": "code",
   "execution_count": 4,
   "metadata": {},
   "outputs": [
    {
     "name": "stdout",
     "output_type": "stream",
     "text": [
      "b'82'\n"
     ]
    },
    {
     "data": {
      "text/plain": [
       "'82'"
      ]
     },
     "execution_count": 4,
     "metadata": {},
     "output_type": "execute_result"
    }
   ],
   "source": [
    "print(response.content) #This gives server response in bytes - useful for binary data\n",
    "response.text # Server response as text (more useful for xml)"
   ]
  },
  {
   "cell_type": "markdown",
   "metadata": {},
   "source": [
    "## List all changes on EDI server\n",
    "\n",
    "Since 2013-01-01, when EDI first began logging activity"
   ]
  },
  {
   "cell_type": "code",
   "execution_count": 5,
   "metadata": {},
   "outputs": [],
   "source": [
    "#curl -i -X GET \"https://pasta.lternet.edu/package/changes/eml?fromDate=2017-02-01T12:00:00&toDate=2017-02-28&scope=knb-lter-bes\"\n",
    "# This is the \"List recent changes\" call  https://pastaplus-core.readthedocs.io/en/latest/doc_tree/pasta_api/data_package_manager_api.html#list-recent-changes\n",
    "params = (\n",
    "    ('fromDate', '2013-01-01'),\n",
    "    ('toDate', None),\n",
    "    ('scope', 'knb-lter-jrn'),\n",
    "    ('environment', 'staging')\n",
    ")\n",
    "\n",
    "response = requests.get('https://pasta.lternet.edu/package/changes/eml', params=params)"
   ]
  },
  {
   "cell_type": "code",
   "execution_count": 6,
   "metadata": {},
   "outputs": [
    {
     "data": {
      "text/plain": [
       "'<dataPackageChanges>\\n  <dataPackage>\\n    <packageId>knb-lter-jrn.2100011003.37</packageId>\\n    <scop'"
      ]
     },
     "execution_count": 6,
     "metadata": {},
     "output_type": "execute_result"
    }
   ],
   "source": [
    "# Response = long XML string that can be parsed with elementtree, beautifulsoup, etc\n",
    "response.text[0:100] # now parse this with "
   ]
  },
  {
   "cell_type": "code",
   "execution_count": 7,
   "metadata": {},
   "outputs": [],
   "source": [
    "# Parse the xml into an \"ElementTree\" object called root\n",
    "import xml.etree.ElementTree as ET\n",
    "root = ET.fromstring(response.text)"
   ]
  },
  {
   "cell_type": "code",
   "execution_count": 8,
   "metadata": {},
   "outputs": [
    {
     "data": {
      "text/plain": [
       "987"
      ]
     },
     "execution_count": 8,
     "metadata": {},
     "output_type": "execute_result"
    }
   ],
   "source": [
    "# Number of elements (EDI changes) in root\n",
    "len(root)"
   ]
  },
  {
   "cell_type": "code",
   "execution_count": 9,
   "metadata": {},
   "outputs": [
    {
     "name": "stdout",
     "output_type": "stream",
     "text": [
      "<?xml version='1.0' encoding='utf8'?>\n",
      "<dataPackage>\n",
      "    <packageId>knb-lter-jrn.2100011003.37</packageId>\n",
      "    <scope>knb-lter-jrn</scope>\n",
      "    <identifier>2100011003</identifier>\n",
      "    <revision>37</revision>\n",
      "    <principal>uid=JRN,o=LTER,dc=ecoinformatics,dc=org</principal>\n",
      "    <doi>doi:10.6073/pasta/03e4d3148121878bc770b44d831663b1</doi>\n",
      "    <serviceMethod>createDataPackage</serviceMethod>\n",
      "    <date>2015-04-17T14:42:05.936</date>\n",
      "  </dataPackage>\n",
      "  \n"
     ]
    }
   ],
   "source": [
    "# Look at the first record\n",
    "# This happens to match what is found here (searching knb-lter-jrn scope): \n",
    "#\n",
    "#    https://dashboard.edirepository.org/dashboard/reports/upload_report\n",
    "\n",
    "print(ET.tostring(root[0], encoding='utf8').decode('utf8'))"
   ]
  },
  {
   "cell_type": "code",
   "execution_count": 10,
   "metadata": {},
   "outputs": [
    {
     "data": {
      "text/plain": [
       "['dataPackageChanges',\n",
       " 'dataPackage',\n",
       " 'packageId',\n",
       " 'scope',\n",
       " 'identifier',\n",
       " 'revision',\n",
       " 'principal',\n",
       " 'doi',\n",
       " 'serviceMethod',\n",
       " 'date',\n",
       " 'dataPackage',\n",
       " 'packageId',\n",
       " 'scope',\n",
       " 'identifier',\n",
       " 'revision']"
      ]
     },
     "execution_count": 10,
     "metadata": {},
     "output_type": "execute_result"
    }
   ],
   "source": [
    "# Look at first few element tags in the returned xml (they repeat)\n",
    "[elem.tag for elem in root.iter()][0:15] "
   ]
  },
  {
   "cell_type": "code",
   "execution_count": 11,
   "metadata": {},
   "outputs": [
    {
     "data": {
      "text/plain": [
       "[<Element 'dataPackage' at 0x7fa1e8581110>,\n",
       " <Element 'dataPackage' at 0x7fa1e8581c50>,\n",
       " <Element 'dataPackage' at 0x7fa1e8585050>,\n",
       " <Element 'dataPackage' at 0x7fa1e8585410>,\n",
       " <Element 'dataPackage' at 0x7fa1e85857d0>]"
      ]
     },
     "execution_count": 11,
     "metadata": {},
     "output_type": "execute_result"
    }
   ],
   "source": [
    "root[0:5]"
   ]
  },
  {
   "cell_type": "code",
   "execution_count": 12,
   "metadata": {},
   "outputs": [
    {
     "name": "stdout",
     "output_type": "stream",
     "text": [
      "createDataPackage\n",
      "createDataPackage\n",
      "createDataPackage\n",
      "createDataPackage\n",
      "createDataPackage\n"
     ]
    }
   ],
   "source": [
    "# You can iterate by tag (may depend on nesting)\n",
    "# first 5 \"serviceMethods\"\n",
    "i=0\n",
    "for sm in root.iter('serviceMethod'):\n",
    "    if i < 5: print(sm.text)\n",
    "    i=i+1"
   ]
  },
  {
   "cell_type": "code",
   "execution_count": 13,
   "metadata": {},
   "outputs": [
    {
     "name": "stdout",
     "output_type": "stream",
     "text": [
      "2100011003\n",
      "210120002\n",
      "2100392001\n",
      "2100169002\n",
      "2100010001\n"
     ]
    }
   ],
   "source": [
    "# First 5 package IDs\n",
    "i=0\n",
    "for ID in root.iter('identifier'):\n",
    "    if i < 5: print(ID.text)\n",
    "    i=i+1"
   ]
  },
  {
   "cell_type": "markdown",
   "metadata": {},
   "source": [
    "## Parse the data sent from EDI"
   ]
  },
  {
   "cell_type": "code",
   "execution_count": 14,
   "metadata": {},
   "outputs": [
    {
     "name": "stdout",
     "output_type": "stream",
     "text": [
      "                      date       pkgid             action\n",
      "0  2015-04-17T14:42:05.936  2100011003  createDataPackage\n",
      "1  2015-04-17T15:43:26.172   210120002  createDataPackage\n",
      "2  2015-04-17T15:43:26.771  2100392001  createDataPackage\n",
      "3  2015-04-17T15:43:41.508  2100169002  createDataPackage\n",
      "4   2015-04-17T15:43:45.55  2100010001  createDataPackage\n"
     ]
    },
    {
     "data": {
      "text/html": [
       "<div>\n",
       "<style scoped>\n",
       "    .dataframe tbody tr th:only-of-type {\n",
       "        vertical-align: middle;\n",
       "    }\n",
       "\n",
       "    .dataframe tbody tr th {\n",
       "        vertical-align: top;\n",
       "    }\n",
       "\n",
       "    .dataframe thead th {\n",
       "        text-align: right;\n",
       "    }\n",
       "</style>\n",
       "<table border=\"1\" class=\"dataframe\">\n",
       "  <thead>\n",
       "    <tr style=\"text-align: right;\">\n",
       "      <th></th>\n",
       "      <th>date</th>\n",
       "      <th>pkgid</th>\n",
       "      <th>action</th>\n",
       "    </tr>\n",
       "  </thead>\n",
       "  <tbody>\n",
       "    <tr>\n",
       "      <th>982</th>\n",
       "      <td>2019-11-05T20:07:39.294</td>\n",
       "      <td>210437090</td>\n",
       "      <td>updateDataPackage</td>\n",
       "    </tr>\n",
       "    <tr>\n",
       "      <th>983</th>\n",
       "      <td>2019-11-07T15:04:43.524</td>\n",
       "      <td>210412001</td>\n",
       "      <td>updateDataPackage</td>\n",
       "    </tr>\n",
       "    <tr>\n",
       "      <th>984</th>\n",
       "      <td>2019-11-08T14:29:46.724</td>\n",
       "      <td>210012001</td>\n",
       "      <td>updateDataPackage</td>\n",
       "    </tr>\n",
       "    <tr>\n",
       "      <th>985</th>\n",
       "      <td>2019-11-08T14:38:21.294</td>\n",
       "      <td>210012002</td>\n",
       "      <td>updateDataPackage</td>\n",
       "    </tr>\n",
       "    <tr>\n",
       "      <th>986</th>\n",
       "      <td>2019-11-18T13:33:06.403</td>\n",
       "      <td>100</td>\n",
       "      <td>createDataPackage</td>\n",
       "    </tr>\n",
       "  </tbody>\n",
       "</table>\n",
       "</div>"
      ],
      "text/plain": [
       "                        date      pkgid             action\n",
       "982  2019-11-05T20:07:39.294  210437090  updateDataPackage\n",
       "983  2019-11-07T15:04:43.524  210412001  updateDataPackage\n",
       "984  2019-11-08T14:29:46.724  210012001  updateDataPackage\n",
       "985  2019-11-08T14:38:21.294  210012002  updateDataPackage\n",
       "986  2019-11-18T13:33:06.403        100  createDataPackage"
      ]
     },
     "execution_count": 14,
     "metadata": {},
     "output_type": "execute_result"
    }
   ],
   "source": [
    "# Create a dataframe from the entire record in root\n",
    "df = pd.DataFrame({'date':[date.text for date in root.iter('date')],\n",
    "                   'pkgid':[int(ID.text) for ID in root.iter('identifier')],\n",
    "                   'action':[sm.text for sm in root.iter('serviceMethod')]}\n",
    "                   )\n",
    "print(df.head())\n",
    "\n",
    "df.tail()"
   ]
  },
  {
   "cell_type": "code",
   "execution_count": 15,
   "metadata": {},
   "outputs": [
    {
     "data": {
      "text/plain": [
       "(987, 3)"
      ]
     },
     "execution_count": 15,
     "metadata": {},
     "output_type": "execute_result"
    }
   ],
   "source": [
    "df.shape"
   ]
  },
  {
   "cell_type": "code",
   "execution_count": 16,
   "metadata": {},
   "outputs": [],
   "source": [
    "# Make the index the date\n",
    "df.index = pd.to_datetime(df['date'])#, format='%Y-%b-%dT%H:%M:%S.%f')"
   ]
  },
  {
   "cell_type": "code",
   "execution_count": 17,
   "metadata": {},
   "outputs": [],
   "source": [
    "# Add columns - number of updates and creates, + extracted study id\n",
    "df['n_update'] = 0\n",
    "df['n_create'] = 0\n",
    "df['n_delete'] = 0\n",
    "df['n_tot'] = 0\n",
    "df['studyid'] = df.pkgid.astype(str).str[-6:-3] #convert to str, studyid excludes mistaken 0"
   ]
  },
  {
   "cell_type": "code",
   "execution_count": 18,
   "metadata": {},
   "outputs": [
    {
     "data": {
      "text/html": [
       "<div>\n",
       "<style scoped>\n",
       "    .dataframe tbody tr th:only-of-type {\n",
       "        vertical-align: middle;\n",
       "    }\n",
       "\n",
       "    .dataframe tbody tr th {\n",
       "        vertical-align: top;\n",
       "    }\n",
       "\n",
       "    .dataframe thead th {\n",
       "        text-align: right;\n",
       "    }\n",
       "</style>\n",
       "<table border=\"1\" class=\"dataframe\">\n",
       "  <thead>\n",
       "    <tr style=\"text-align: right;\">\n",
       "      <th></th>\n",
       "      <th>date</th>\n",
       "      <th>pkgid</th>\n",
       "      <th>action</th>\n",
       "      <th>n_update</th>\n",
       "      <th>n_create</th>\n",
       "      <th>n_delete</th>\n",
       "      <th>n_tot</th>\n",
       "      <th>studyid</th>\n",
       "    </tr>\n",
       "    <tr>\n",
       "      <th>date</th>\n",
       "      <th></th>\n",
       "      <th></th>\n",
       "      <th></th>\n",
       "      <th></th>\n",
       "      <th></th>\n",
       "      <th></th>\n",
       "      <th></th>\n",
       "      <th></th>\n",
       "    </tr>\n",
       "  </thead>\n",
       "  <tbody>\n",
       "    <tr>\n",
       "      <th>2015-04-17 14:42:05.936</th>\n",
       "      <td>2015-04-17T14:42:05.936</td>\n",
       "      <td>2100011003</td>\n",
       "      <td>createDataPackage</td>\n",
       "      <td>0</td>\n",
       "      <td>1</td>\n",
       "      <td>0</td>\n",
       "      <td>1</td>\n",
       "      <td>011</td>\n",
       "    </tr>\n",
       "    <tr>\n",
       "      <th>2015-04-17 15:43:26.172</th>\n",
       "      <td>2015-04-17T15:43:26.172</td>\n",
       "      <td>210120002</td>\n",
       "      <td>createDataPackage</td>\n",
       "      <td>0</td>\n",
       "      <td>1</td>\n",
       "      <td>0</td>\n",
       "      <td>1</td>\n",
       "      <td>120</td>\n",
       "    </tr>\n",
       "    <tr>\n",
       "      <th>2015-04-17 15:43:26.771</th>\n",
       "      <td>2015-04-17T15:43:26.771</td>\n",
       "      <td>2100392001</td>\n",
       "      <td>createDataPackage</td>\n",
       "      <td>0</td>\n",
       "      <td>1</td>\n",
       "      <td>0</td>\n",
       "      <td>1</td>\n",
       "      <td>392</td>\n",
       "    </tr>\n",
       "    <tr>\n",
       "      <th>2015-04-17 15:43:41.508</th>\n",
       "      <td>2015-04-17T15:43:41.508</td>\n",
       "      <td>2100169002</td>\n",
       "      <td>createDataPackage</td>\n",
       "      <td>0</td>\n",
       "      <td>1</td>\n",
       "      <td>0</td>\n",
       "      <td>1</td>\n",
       "      <td>169</td>\n",
       "    </tr>\n",
       "    <tr>\n",
       "      <th>2015-04-17 15:43:45.550</th>\n",
       "      <td>2015-04-17T15:43:45.55</td>\n",
       "      <td>2100010001</td>\n",
       "      <td>createDataPackage</td>\n",
       "      <td>0</td>\n",
       "      <td>1</td>\n",
       "      <td>0</td>\n",
       "      <td>1</td>\n",
       "      <td>010</td>\n",
       "    </tr>\n",
       "  </tbody>\n",
       "</table>\n",
       "</div>"
      ],
      "text/plain": [
       "                                            date       pkgid  \\\n",
       "date                                                           \n",
       "2015-04-17 14:42:05.936  2015-04-17T14:42:05.936  2100011003   \n",
       "2015-04-17 15:43:26.172  2015-04-17T15:43:26.172   210120002   \n",
       "2015-04-17 15:43:26.771  2015-04-17T15:43:26.771  2100392001   \n",
       "2015-04-17 15:43:41.508  2015-04-17T15:43:41.508  2100169002   \n",
       "2015-04-17 15:43:45.550   2015-04-17T15:43:45.55  2100010001   \n",
       "\n",
       "                                    action  n_update  n_create  n_delete  \\\n",
       "date                                                                       \n",
       "2015-04-17 14:42:05.936  createDataPackage         0         1         0   \n",
       "2015-04-17 15:43:26.172  createDataPackage         0         1         0   \n",
       "2015-04-17 15:43:26.771  createDataPackage         0         1         0   \n",
       "2015-04-17 15:43:41.508  createDataPackage         0         1         0   \n",
       "2015-04-17 15:43:45.550  createDataPackage         0         1         0   \n",
       "\n",
       "                         n_tot studyid  \n",
       "date                                    \n",
       "2015-04-17 14:42:05.936      1     011  \n",
       "2015-04-17 15:43:26.172      1     120  \n",
       "2015-04-17 15:43:26.771      1     392  \n",
       "2015-04-17 15:43:41.508      1     169  \n",
       "2015-04-17 15:43:45.550      1     010  "
      ]
     },
     "execution_count": 18,
     "metadata": {},
     "output_type": "execute_result"
    }
   ],
   "source": [
    "# Fill in number of updates or create for each record\n",
    "df.loc[df.action=='updateDataPackage','n_update'] = 1\n",
    "df.loc[df.action=='createDataPackage','n_create'] = 1\n",
    "df.loc[df.action=='deleteDataPackage','n_delete'] = 1\n",
    "# for totals, create = +1, delete = -1\n",
    "df.loc[df.action=='createDataPackage','n_tot'] = 1\n",
    "df.loc[df.action=='deleteDataPackage','n_tot'] = -1\n",
    "df.head()"
   ]
  },
  {
   "cell_type": "code",
   "execution_count": 19,
   "metadata": {},
   "outputs": [
    {
     "name": "stdout",
     "output_type": "stream",
     "text": [
      "(978, 8)\n"
     ]
    },
    {
     "data": {
      "text/plain": [
       "date\n",
       "2018-09-04 16:19:30.652    2100001002\n",
       "2018-09-04 16:22:44.016    2100002001\n",
       "2018-09-04 16:22:59.365    2100007001\n",
       "2018-09-04 16:23:13.850    2100010001\n",
       "2018-09-04 16:23:31.433    2100011001\n",
       "2018-09-04 16:23:43.748    2100011003\n",
       "2018-09-04 16:23:53.312    2100011004\n",
       "2018-09-04 16:24:03.080    2100011005\n",
       "2018-09-04 16:24:13.741    2100086001\n",
       "2018-09-04 16:24:25.430    2100086002\n",
       "2018-09-04 16:24:34.326    2100086003\n",
       "2018-09-04 16:24:49.081    2100086004\n",
       "2018-09-04 16:24:59.973    2100086005\n",
       "2018-09-04 16:25:08.555    2100086006\n",
       "2018-09-04 16:25:17.583    2100086007\n",
       "2018-09-04 16:25:31.933    2100086008\n",
       "2018-09-04 16:25:41.114    2100086009\n",
       "2018-09-04 16:25:53.153    2100119001\n",
       "2018-09-04 16:26:01.647    2100121004\n",
       "2018-09-04 16:26:12.163    2100121005\n",
       "2018-09-04 16:26:21.306    2100126001\n",
       "2018-09-04 16:26:30.647    2100126003\n",
       "2018-09-04 16:26:40.208    2100127001\n",
       "2018-09-04 16:26:48.769    2100169001\n",
       "2018-09-04 16:26:59.328    2100169002\n",
       "2018-09-04 16:27:08.714    2100278001\n",
       "2018-09-04 16:27:18.151    2100278002\n",
       "2018-09-04 16:27:29.014    2100287001\n",
       "2018-09-04 16:27:40.239    2100288001\n",
       "2018-09-04 16:27:49.282    2100351001\n",
       "2018-09-04 16:27:58.598    2100365001\n",
       "2018-09-04 16:28:12.263    2100379001\n",
       "2018-09-04 16:28:20.514    2100379002\n",
       "2018-09-04 16:28:24.201    2100379003\n",
       "2018-09-04 16:28:33.747    2100380001\n",
       "2018-09-04 16:28:43.264    2100392001\n",
       "2018-09-04 16:28:55.872    2100409001\n",
       "2018-09-04 16:29:01.478    2100409002\n",
       "2018-11-28 13:27:18.932     210038001\n",
       "2018-11-28 13:27:32.908     210338007\n",
       "2018-11-28 13:27:44.868     210338008\n",
       "2018-11-30 08:59:47.775     210169001\n",
       "2018-11-30 08:59:59.331     210169002\n",
       "2019-06-04 11:54:10.258      21038001\n",
       "2019-09-12 09:34:13.603     210860002\n",
       "Name: pkgid, dtype: int64"
      ]
     },
     "execution_count": 19,
     "metadata": {},
     "output_type": "execute_result"
    }
   ],
   "source": [
    "# There are duplicate deletions (9 at last count)\n",
    "df_dd = df.drop_duplicates()\n",
    "n_dupdeletes = df.shape[0] - df_dd.shape[0]\n",
    "df = df_dd\n",
    "# Count deleted packages\n",
    "deleted_pkgs = df.loc[df.action=='deleteDataPackage','pkgid']\n",
    "print(df.shape)\n",
    "deleted_pkgs"
   ]
  },
  {
   "cell_type": "markdown",
   "metadata": {},
   "source": [
    "## Create daily data file"
   ]
  },
  {
   "cell_type": "code",
   "execution_count": 20,
   "metadata": {},
   "outputs": [
    {
     "data": {
      "text/html": [
       "<div>\n",
       "<style scoped>\n",
       "    .dataframe tbody tr th:only-of-type {\n",
       "        vertical-align: middle;\n",
       "    }\n",
       "\n",
       "    .dataframe tbody tr th {\n",
       "        vertical-align: top;\n",
       "    }\n",
       "\n",
       "    .dataframe thead th {\n",
       "        text-align: right;\n",
       "    }\n",
       "</style>\n",
       "<table border=\"1\" class=\"dataframe\">\n",
       "  <thead>\n",
       "    <tr style=\"text-align: right;\">\n",
       "      <th></th>\n",
       "      <th>n_update</th>\n",
       "      <th>n_create</th>\n",
       "      <th>n_tot</th>\n",
       "    </tr>\n",
       "    <tr>\n",
       "      <th>date</th>\n",
       "      <th></th>\n",
       "      <th></th>\n",
       "      <th></th>\n",
       "    </tr>\n",
       "  </thead>\n",
       "  <tbody>\n",
       "    <tr>\n",
       "      <th>2015-04-17</th>\n",
       "      <td>0</td>\n",
       "      <td>20</td>\n",
       "      <td>20</td>\n",
       "    </tr>\n",
       "    <tr>\n",
       "      <th>2015-04-18</th>\n",
       "      <td>0</td>\n",
       "      <td>1</td>\n",
       "      <td>1</td>\n",
       "    </tr>\n",
       "    <tr>\n",
       "      <th>2015-04-19</th>\n",
       "      <td>0</td>\n",
       "      <td>0</td>\n",
       "      <td>0</td>\n",
       "    </tr>\n",
       "    <tr>\n",
       "      <th>2015-04-20</th>\n",
       "      <td>0</td>\n",
       "      <td>11</td>\n",
       "      <td>11</td>\n",
       "    </tr>\n",
       "    <tr>\n",
       "      <th>2015-04-21</th>\n",
       "      <td>0</td>\n",
       "      <td>2</td>\n",
       "      <td>2</td>\n",
       "    </tr>\n",
       "  </tbody>\n",
       "</table>\n",
       "</div>"
      ],
      "text/plain": [
       "            n_update  n_create  n_tot\n",
       "date                                 \n",
       "2015-04-17         0        20     20\n",
       "2015-04-18         0         1      1\n",
       "2015-04-19         0         0      0\n",
       "2015-04-20         0        11     11\n",
       "2015-04-21         0         2      2"
      ]
     },
     "execution_count": 20,
     "metadata": {},
     "output_type": "execute_result"
    }
   ],
   "source": [
    "# Resample with sum to get the daily number of updates/creates\n",
    "dEDI = df.loc[:,['n_update', 'n_create', 'n_tot']].resample('D').sum()\n",
    "dEDI.head()"
   ]
  },
  {
   "cell_type": "markdown",
   "metadata": {},
   "source": [
    "## Plot activity since 2013\n"
   ]
  },
  {
   "cell_type": "code",
   "execution_count": 39,
   "metadata": {},
   "outputs": [],
   "source": [
    "import matplotlib\n",
    "import matplotlib.pyplot as plt\n",
    "# Figure config\n",
    "font = {'family' : 'normal',\n",
    "        'weight' : 'normal',\n",
    "        'size'   : 14}\n",
    "\n",
    "matplotlib.rc('font', **font)"
   ]
  },
  {
   "cell_type": "code",
   "execution_count": 22,
   "metadata": {},
   "outputs": [],
   "source": [
    "# Get a datestamp for saving figures\n",
    "import datetime\n",
    "now = datetime.datetime.now().strftime(\"%Y%m%d\")"
   ]
  },
  {
   "cell_type": "code",
   "execution_count": 40,
   "metadata": {},
   "outputs": [
    {
     "name": "stderr",
     "output_type": "stream",
     "text": [
      "findfont: Font family ['normal'] not found. Falling back to DejaVu Sans.\n",
      "findfont: Font family ['normal'] not found. Falling back to DejaVu Sans.\n"
     ]
    },
    {
     "data": {
      "image/png": "[encoded data removed]",
      "text/plain": [
       "<Figure size 504x504 with 2 Axes>"
      ]
     },
     "metadata": {
      "needs_background": "light"
     },
     "output_type": "display_data"
    }
   ],
   "source": [
    "# All time plot:\n",
    "fig, ax = plt.subplots(nrows=2, ncols=1, figsize=(7, 7), sharex=True)\n",
    "\n",
    "ax[0].plot(dEDI.index, dEDI.n_update, label='Update pkg')\n",
    "ax[0].plot(dEDI.index, dEDI.n_create, label='Create pkg')\n",
    "ax[0].set_ylabel('JRN events')\n",
    "\n",
    "ax[1].plot(dEDI.index, dEDI.n_update.cumsum(), label='Update pkg')\n",
    "ax[1].plot(dEDI.index, dEDI.n_create.cumsum(), label='Create pkg')\n",
    "ax[1].plot(dEDI.index, dEDI.n_tot.cumsum(), label='Total')\n",
    "\n",
    "plt.ylabel('JRN Cumulative')\n",
    "fig.autofmt_xdate()\n",
    "plt.suptitle('JRN activity on EDI (all time)')\n",
    "plt.legend()\n",
    "\n",
    "import os\n",
    "fig.savefig(os.path.expanduser(\"~/Dropbox/JornadaIM/IM_diagnostic_figs/JRN_EDI_all_{0}.png\".format(now)),\n",
    "            dpi=150)"
   ]
  },
  {
   "cell_type": "markdown",
   "metadata": {},
   "source": [
    "### Total number of packages"
   ]
  },
  {
   "cell_type": "code",
   "execution_count": 27,
   "metadata": {},
   "outputs": [
    {
     "data": {
      "text/plain": [
       "211"
      ]
     },
     "execution_count": 27,
     "metadata": {},
     "output_type": "execute_result"
    }
   ],
   "source": [
    "dEDI.n_tot.sum()"
   ]
  },
  {
   "cell_type": "markdown",
   "metadata": {},
   "source": [
    "### Total number of non-met packages"
   ]
  },
  {
   "cell_type": "code",
   "execution_count": 28,
   "metadata": {},
   "outputs": [
    {
     "data": {
      "text/plain": [
       "105"
      ]
     },
     "execution_count": 28,
     "metadata": {},
     "output_type": "execute_result"
    }
   ],
   "source": [
    "df.loc[df.studyid!='437',['n_update', 'n_create', 'n_tot']].resample('D').sum().n_tot.sum()\n"
   ]
  },
  {
   "cell_type": "markdown",
   "metadata": {},
   "source": [
    "## Plot activity since Sept 2018 (excluding Met)"
   ]
  },
  {
   "cell_type": "code",
   "execution_count": 41,
   "metadata": {},
   "outputs": [
    {
     "data": {
      "text/html": [
       "<div>\n",
       "<style scoped>\n",
       "    .dataframe tbody tr th:only-of-type {\n",
       "        vertical-align: middle;\n",
       "    }\n",
       "\n",
       "    .dataframe tbody tr th {\n",
       "        vertical-align: top;\n",
       "    }\n",
       "\n",
       "    .dataframe thead th {\n",
       "        text-align: right;\n",
       "    }\n",
       "</style>\n",
       "<table border=\"1\" class=\"dataframe\">\n",
       "  <thead>\n",
       "    <tr style=\"text-align: right;\">\n",
       "      <th></th>\n",
       "      <th>n_update</th>\n",
       "      <th>n_create</th>\n",
       "      <th>n_tot</th>\n",
       "    </tr>\n",
       "    <tr>\n",
       "      <th>date</th>\n",
       "      <th></th>\n",
       "      <th></th>\n",
       "      <th></th>\n",
       "    </tr>\n",
       "  </thead>\n",
       "  <tbody>\n",
       "    <tr>\n",
       "      <th>2018-10-10</th>\n",
       "      <td>0</td>\n",
       "      <td>1</td>\n",
       "      <td>1</td>\n",
       "    </tr>\n",
       "    <tr>\n",
       "      <th>2018-10-11</th>\n",
       "      <td>0</td>\n",
       "      <td>1</td>\n",
       "      <td>1</td>\n",
       "    </tr>\n",
       "    <tr>\n",
       "      <th>2018-10-12</th>\n",
       "      <td>0</td>\n",
       "      <td>4</td>\n",
       "      <td>4</td>\n",
       "    </tr>\n",
       "    <tr>\n",
       "      <th>2018-10-13</th>\n",
       "      <td>0</td>\n",
       "      <td>0</td>\n",
       "      <td>0</td>\n",
       "    </tr>\n",
       "    <tr>\n",
       "      <th>2018-10-14</th>\n",
       "      <td>0</td>\n",
       "      <td>0</td>\n",
       "      <td>0</td>\n",
       "    </tr>\n",
       "  </tbody>\n",
       "</table>\n",
       "</div>"
      ],
      "text/plain": [
       "            n_update  n_create  n_tot\n",
       "date                                 \n",
       "2018-10-10         0         1      1\n",
       "2018-10-11         0         1      1\n",
       "2018-10-12         0         4      4\n",
       "2018-10-13         0         0      0\n",
       "2018-10-14         0         0      0"
      ]
     },
     "execution_count": 41,
     "metadata": {},
     "output_type": "execute_result"
    }
   ],
   "source": [
    "# This is after the LTER probabtion shock and after some big \n",
    "# delete operations on EDI\n",
    "startdt = \"2018-09-05\"\n",
    "\n",
    "rdEDI_nomet = df.loc[np.logical_and(df.studyid!='437',\n",
    "                                        df.index > startdt),\n",
    "                         ['n_update', 'n_create', 'n_tot']].resample('D').sum()\n",
    "rdEDI_nomet.head()"
   ]
  },
  {
   "cell_type": "code",
   "execution_count": 42,
   "metadata": {},
   "outputs": [
    {
     "data": {
      "image/png": "[encoded data removed]",
      "text/plain": [
       "<Figure size 504x504 with 2 Axes>"
      ]
     },
     "metadata": {
      "needs_background": "light"
     },
     "output_type": "display_data"
    }
   ],
   "source": [
    "# Recent plot:\n",
    "fig, ax = plt.subplots(nrows=2, ncols=1, figsize=(7, 7), sharex=True)\n",
    "\n",
    "ax[0].plot(rdEDI_nomet.index, rdEDI_nomet.n_update, label='Update pkg')\n",
    "ax[0].plot(rdEDI_nomet.index, rdEDI_nomet.n_create, label='Create pkg')\n",
    "ax[0].set_ylabel('JRN events')\n",
    "\n",
    "ax[1].plot(rdEDI_nomet.index, rdEDI_nomet.n_update.cumsum(), label='Update pkg')\n",
    "ax[1].plot(rdEDI_nomet.index, rdEDI_nomet.n_create.cumsum(), label='Create pkg')\n",
    "ax[1].plot(rdEDI_nomet.index, rdEDI_nomet.n_tot.cumsum(), label='$\\Delta$ Total')\n",
    "\n",
    "plt.ylabel('JRN Cumulative')\n",
    "fig.autofmt_xdate()\n",
    "plt.suptitle('JRN activity on EDI (recent, excl. met)')\n",
    "plt.legend()\n",
    "\n",
    "fig.savefig(os.path.expanduser(\n",
    "    \"~/Dropbox/JornadaIM/IM_diagnostic_figs/JRN_EDI_recNoMet_{0}.png\".format(now)),\n",
    "            dpi=150)"
   ]
  },
  {
   "cell_type": "markdown",
   "metadata": {},
   "source": [
    "## Summary since Sept 2018 (after LTER7 probation)"
   ]
  },
  {
   "cell_type": "code",
   "execution_count": 31,
   "metadata": {},
   "outputs": [
    {
     "data": {
      "text/html": [
       "<div>\n",
       "<style scoped>\n",
       "    .dataframe tbody tr th:only-of-type {\n",
       "        vertical-align: middle;\n",
       "    }\n",
       "\n",
       "    .dataframe tbody tr th {\n",
       "        vertical-align: top;\n",
       "    }\n",
       "\n",
       "    .dataframe thead th {\n",
       "        text-align: right;\n",
       "    }\n",
       "</style>\n",
       "<table border=\"1\" class=\"dataframe\">\n",
       "  <thead>\n",
       "    <tr style=\"text-align: right;\">\n",
       "      <th></th>\n",
       "      <th>n_update</th>\n",
       "      <th>n_create</th>\n",
       "      <th>n_tot</th>\n",
       "    </tr>\n",
       "    <tr>\n",
       "      <th>date</th>\n",
       "      <th></th>\n",
       "      <th></th>\n",
       "      <th></th>\n",
       "    </tr>\n",
       "  </thead>\n",
       "  <tbody>\n",
       "    <tr>\n",
       "      <th>2018-10-31</th>\n",
       "      <td>0</td>\n",
       "      <td>6</td>\n",
       "      <td>6</td>\n",
       "    </tr>\n",
       "    <tr>\n",
       "      <th>2018-11-30</th>\n",
       "      <td>2</td>\n",
       "      <td>4</td>\n",
       "      <td>-1</td>\n",
       "    </tr>\n",
       "    <tr>\n",
       "      <th>2018-12-31</th>\n",
       "      <td>0</td>\n",
       "      <td>0</td>\n",
       "      <td>0</td>\n",
       "    </tr>\n",
       "    <tr>\n",
       "      <th>2019-01-31</th>\n",
       "      <td>0</td>\n",
       "      <td>0</td>\n",
       "      <td>0</td>\n",
       "    </tr>\n",
       "    <tr>\n",
       "      <th>2019-02-28</th>\n",
       "      <td>0</td>\n",
       "      <td>0</td>\n",
       "      <td>0</td>\n",
       "    </tr>\n",
       "    <tr>\n",
       "      <th>2019-03-31</th>\n",
       "      <td>0</td>\n",
       "      <td>0</td>\n",
       "      <td>0</td>\n",
       "    </tr>\n",
       "    <tr>\n",
       "      <th>2019-04-30</th>\n",
       "      <td>4</td>\n",
       "      <td>4</td>\n",
       "      <td>4</td>\n",
       "    </tr>\n",
       "    <tr>\n",
       "      <th>2019-05-31</th>\n",
       "      <td>0</td>\n",
       "      <td>0</td>\n",
       "      <td>0</td>\n",
       "    </tr>\n",
       "    <tr>\n",
       "      <th>2019-06-30</th>\n",
       "      <td>4</td>\n",
       "      <td>1</td>\n",
       "      <td>0</td>\n",
       "    </tr>\n",
       "    <tr>\n",
       "      <th>2019-07-31</th>\n",
       "      <td>3</td>\n",
       "      <td>0</td>\n",
       "      <td>0</td>\n",
       "    </tr>\n",
       "    <tr>\n",
       "      <th>2019-08-31</th>\n",
       "      <td>8</td>\n",
       "      <td>0</td>\n",
       "      <td>0</td>\n",
       "    </tr>\n",
       "    <tr>\n",
       "      <th>2019-09-30</th>\n",
       "      <td>15</td>\n",
       "      <td>1</td>\n",
       "      <td>0</td>\n",
       "    </tr>\n",
       "    <tr>\n",
       "      <th>2019-10-31</th>\n",
       "      <td>13</td>\n",
       "      <td>1</td>\n",
       "      <td>1</td>\n",
       "    </tr>\n",
       "    <tr>\n",
       "      <th>2019-11-30</th>\n",
       "      <td>3</td>\n",
       "      <td>1</td>\n",
       "      <td>1</td>\n",
       "    </tr>\n",
       "  </tbody>\n",
       "</table>\n",
       "</div>"
      ],
      "text/plain": [
       "            n_update  n_create  n_tot\n",
       "date                                 \n",
       "2018-10-31         0         6      6\n",
       "2018-11-30         2         4     -1\n",
       "2018-12-31         0         0      0\n",
       "2019-01-31         0         0      0\n",
       "2019-02-28         0         0      0\n",
       "2019-03-31         0         0      0\n",
       "2019-04-30         4         4      4\n",
       "2019-05-31         0         0      0\n",
       "2019-06-30         4         1      0\n",
       "2019-07-31         3         0      0\n",
       "2019-08-31         8         0      0\n",
       "2019-09-30        15         1      0\n",
       "2019-10-31        13         1      1\n",
       "2019-11-30         3         1      1"
      ]
     },
     "execution_count": 31,
     "metadata": {},
     "output_type": "execute_result"
    }
   ],
   "source": [
    "# Monthly progress\n",
    "rmEDI_nomet = rdEDI_nomet.resample('M').sum()\n",
    "rmEDI_nomet"
   ]
  },
  {
   "cell_type": "code",
   "execution_count": 32,
   "metadata": {},
   "outputs": [
    {
     "data": {
      "text/plain": [
       "array([210338004, 210338002, 210351003, 210328003, 210328001, 210120001,\n",
       "       210127001, 210380001, 210288001, 210351001, 210351002, 210461001,\n",
       "       210086003, 210086008, 210002001, 210086009, 210086005, 210086004,\n",
       "       210086007, 210308004, 210228001, 210120002, 210013001, 210086002,\n",
       "       210086001, 210121005, 210121008, 210407001, 210086006, 210119001,\n",
       "       210011005, 210001002, 210011002, 210011003, 210011004, 210013002,\n",
       "       210013003, 210412001, 210012001, 210012002])"
      ]
     },
     "execution_count": 32,
     "metadata": {},
     "output_type": "execute_result"
    }
   ],
   "source": [
    "# Unique packages updated (excluding met)\n",
    "rEDI = df.loc[df.index > startdt,]\n",
    "uniqueUp = rEDI.loc[np.logical_and(rEDI.studyid!='437', rEDI.action=='updateDataPackage'),].pkgid.unique()\n",
    "#rEDI.loc[rEDI.action=='updateDataPackage',].pkgid.unique()\n",
    "uniqueUp"
   ]
  },
  {
   "cell_type": "code",
   "execution_count": 44,
   "metadata": {},
   "outputs": [
    {
     "name": "stdout",
     "output_type": "stream",
     "text": [
      "[210013002 210013003 210412001 210012001 210012002]\n",
      "[210338004 210338002 210351003 210328003 210328001 210120001 210127001\n",
      " 210380001 210288001 210351001 210351002 210461001 210086003 210086008\n",
      " 210002001 210086009 210086005 210086004 210086007 210308004 210228001\n",
      " 210120002 210013001 210086002 210086001 210121005 210121008 210407001\n",
      " 210086006 210119001 210011005 210001002 210011002 210011003 210011004]\n"
     ]
    }
   ],
   "source": [
    "# Unique updates since last meeting\n",
    "last_meeting = '2019-10-18'\n",
    "\n",
    "vrEDI = df.loc[df.index >= last_meeting]\n",
    "uR = vrEDI.loc[np.logical_and(vrEDI.studyid!='437', vrEDI.action=='updateDataPackage'),].pkgid.unique()\n",
    "# Unique updates before last meeting (to startdt)\n",
    "oEDI = df.loc[np.logical_and(df.index > startdt, df.index < last_meeting),]\n",
    "uO = oEDI.loc[np.logical_and(oEDI.studyid!='437', oEDI.action=='updateDataPackage'),].pkgid.unique()\n",
    "print(uR)\n",
    "print(uO)"
   ]
  },
  {
   "cell_type": "code",
   "execution_count": 34,
   "metadata": {},
   "outputs": [
    {
     "data": {
      "text/plain": [
       "array([210086005, 210086004, 210086007, 210308004, 210228001, 210120002,\n",
       "       210013001, 210086002, 210086001, 210121005, 210121008, 210407001,\n",
       "       210086006, 210119001, 210011005, 210001002, 210011002, 210011003,\n",
       "       210011004, 210013002, 210013003, 210412001, 210012001, 210012002])"
      ]
     },
     "execution_count": 34,
     "metadata": {},
     "output_type": "execute_result"
    }
   ],
   "source": [
    "uR[~np.in1d(uR, uO)]"
   ]
  },
  {
   "cell_type": "code",
   "execution_count": 35,
   "metadata": {},
   "outputs": [
    {
     "data": {
      "text/plain": [
       "array([210038001, 210338007, 210338008, 210169001, 210169002,  21038001,\n",
       "       210860002])"
      ]
     },
     "execution_count": 35,
     "metadata": {},
     "output_type": "execute_result"
    }
   ],
   "source": [
    "# Unique packages deleted\n",
    "uniqueDel = rEDI.loc[np.logical_and(rEDI.studyid!='437', rEDI.action=='deleteDataPackage'),].pkgid.unique()\n",
    "uniqueDel"
   ]
  },
  {
   "cell_type": "code",
   "execution_count": 36,
   "metadata": {},
   "outputs": [
    {
     "data": {
      "text/plain": [
       "array([210520001, 210327001, 210338005, 210338006, 210338007, 210338008,\n",
       "       210472001, 210380001, 210128001, 210128002, 210351003, 210328003,\n",
       "       210328001, 210328002,  21038001, 210860002, 210011001,       100])"
      ]
     },
     "execution_count": 36,
     "metadata": {},
     "output_type": "execute_result"
    }
   ],
   "source": [
    "# Unique packages created (See above)\n",
    "uniqueCreate = rEDI.loc[np.logical_and(rEDI.studyid!='437', rEDI.action=='createDataPackage'),].pkgid.unique()\n",
    "uniqueCreate"
   ]
  }
 ],
 "metadata": {
  "kernelspec": {
   "display_name": "Python 3",
   "language": "python",
   "name": "python3"
  },
  "language_info": {
   "codemirror_mode": {
    "name": "ipython",
    "version": 3
   },
   "file_extension": ".py",
   "mimetype": "text/x-python",
   "name": "python",
   "nbconvert_exporter": "python",
   "pygments_lexer": "ipython3",
   "version": "3.7.5"
  }
 },
 "nbformat": 4,
 "nbformat_minor": 4
}
