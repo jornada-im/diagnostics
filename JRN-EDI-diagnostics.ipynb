{
 "cells": [
  {
   "cell_type": "code",
   "execution_count": 1,
   "metadata": {},
   "outputs": [],
   "source": [
    "import requests\n",
    "import sys\n",
    "sys.path.append('/home/greg/GitHub/')\n",
    "import pyEDIutils.changes as dia\n",
    "import pandas as pd\n",
    "import numpy as np"
   ]
  },
  {
   "cell_type": "markdown",
   "metadata": {},
   "source": [
    "## Archive Late 2020 request"
   ]
  },
  {
   "cell_type": "code",
   "execution_count": 3,
   "metadata": {},
   "outputs": [],
   "source": [
    "#curl -i -X GET \"https://pasta.lternet.edu/package/changes/eml?fromDate=2017-02-01T12:00:00&toDate=2020-01-28&scope=knb-lter-jrn\"\n",
    "# This is the \"List recent changes\" call  https://pastaplus-core.readthedocs.io/en/latest/doc_tree/pasta_api/data_package_manager_api.html#list-recent-changes\n",
    "params = (\n",
    "    ('fromDate', '2021-06-02'),\n",
    "    ('toDate', '2022-01-01'),\n",
    "    ('scope', 'knb-lter-jrn'))#,\n",
    "#    ('environment', 'production'))\n",
    "\n",
    "response = requests.get('https://pasta.lternet.edu/package/changes/eml', params=params)"
   ]
  },
  {
   "cell_type": "code",
   "execution_count": 4,
   "metadata": {},
   "outputs": [],
   "source": [
    "# Save to file\n",
    "with open('edi_requests/knb-lter-jrn_20210602-20220101.xml', 'w') as f:\n",
    "    f.write(response.text)"
   ]
  },
  {
   "cell_type": "markdown",
   "metadata": {},
   "source": [
    "## Create diagnostic dataset"
   ]
  },
  {
   "cell_type": "code",
   "execution_count": 2,
   "metadata": {},
   "outputs": [
    {
     "name": "stdout",
     "output_type": "stream",
     "text": [
      "Requesting PASTA changes for knb-lter-jrn from 2022-01-02 to None\n",
      "https://pasta.lternet.edu/package/changes/eml?fromDate=2022-01-02&toDate=2022-03-30&scope=knb-lter-jrn\n",
      "0 duplicate records were removed.\n"
     ]
    }
   ],
   "source": [
    "# Request changes from Jan 2022 to ...\n",
    "new = dia.request_changes('2022-01-02')"
   ]
  },
  {
   "cell_type": "code",
   "execution_count": 3,
   "metadata": {},
   "outputs": [
    {
     "name": "stdout",
     "output_type": "stream",
     "text": [
      "Reading archived PASTA request knb-lter-jrn_20150417-20181231.xml\n",
      "Reading archived PASTA request knb-lter-jrn_20190101-20191231.xml\n",
      "Reading archived PASTA request knb-lter-jrn_20200101-20200601.xml\n",
      "Reading archived PASTA request knb-lter-jrn_20200602-20201201.xml\n",
      "Reading archived PASTA request knb-lter-jrn_20201202-20210601.xml\n",
      "Reading archived PASTA request knb-lter-jrn_20210602-20220101.xml\n",
      "9 duplicate records were removed.\n"
     ]
    }
   ],
   "source": [
    "# Load archives\n",
    "old = dia.archived_changes()"
   ]
  },
  {
   "cell_type": "code",
   "execution_count": 4,
   "metadata": {},
   "outputs": [
    {
     "data": {
      "text/plain": [
       "(5852, 3)"
      ]
     },
     "execution_count": 4,
     "metadata": {},
     "output_type": "execute_result"
    }
   ],
   "source": [
    "# Put old and new together\n",
    "df = pd.concat([old, new])\n",
    "df.shape"
   ]
  },
  {
   "cell_type": "code",
   "execution_count": 5,
   "metadata": {},
   "outputs": [
    {
     "data": {
      "text/html": [
       "<div>\n",
       "<style scoped>\n",
       "    .dataframe tbody tr th:only-of-type {\n",
       "        vertical-align: middle;\n",
       "    }\n",
       "\n",
       "    .dataframe tbody tr th {\n",
       "        vertical-align: top;\n",
       "    }\n",
       "\n",
       "    .dataframe thead th {\n",
       "        text-align: right;\n",
       "    }\n",
       "</style>\n",
       "<table border=\"1\" class=\"dataframe\">\n",
       "  <thead>\n",
       "    <tr style=\"text-align: right;\">\n",
       "      <th></th>\n",
       "      <th>date</th>\n",
       "      <th>pkgid</th>\n",
       "      <th>action</th>\n",
       "    </tr>\n",
       "  </thead>\n",
       "  <tbody>\n",
       "    <tr>\n",
       "      <th>666</th>\n",
       "      <td>2022-03-20T12:45:08.06</td>\n",
       "      <td>210398001</td>\n",
       "      <td>createDataPackage</td>\n",
       "    </tr>\n",
       "    <tr>\n",
       "      <th>667</th>\n",
       "      <td>2022-03-20T12:45:57.257</td>\n",
       "      <td>210398002</td>\n",
       "      <td>createDataPackage</td>\n",
       "    </tr>\n",
       "    <tr>\n",
       "      <th>668</th>\n",
       "      <td>2022-03-20T13:02:22.092</td>\n",
       "      <td>210398001</td>\n",
       "      <td>updateDataPackage</td>\n",
       "    </tr>\n",
       "    <tr>\n",
       "      <th>669</th>\n",
       "      <td>2022-03-20T13:03:09.753</td>\n",
       "      <td>210398002</td>\n",
       "      <td>updateDataPackage</td>\n",
       "    </tr>\n",
       "    <tr>\n",
       "      <th>670</th>\n",
       "      <td>2022-03-22T14:50:08.413</td>\n",
       "      <td>200021001</td>\n",
       "      <td>updateDataPackage</td>\n",
       "    </tr>\n",
       "  </tbody>\n",
       "</table>\n",
       "</div>"
      ],
      "text/plain": [
       "                        date      pkgid             action\n",
       "666   2022-03-20T12:45:08.06  210398001  createDataPackage\n",
       "667  2022-03-20T12:45:57.257  210398002  createDataPackage\n",
       "668  2022-03-20T13:02:22.092  210398001  updateDataPackage\n",
       "669  2022-03-20T13:03:09.753  210398002  updateDataPackage\n",
       "670  2022-03-22T14:50:08.413  200021001  updateDataPackage"
      ]
     },
     "execution_count": 5,
     "metadata": {},
     "output_type": "execute_result"
    }
   ],
   "source": [
    "df.tail()"
   ]
  },
  {
   "cell_type": "code",
   "execution_count": 6,
   "metadata": {},
   "outputs": [
    {
     "data": {
      "text/html": [
       "<div>\n",
       "<style scoped>\n",
       "    .dataframe tbody tr th:only-of-type {\n",
       "        vertical-align: middle;\n",
       "    }\n",
       "\n",
       "    .dataframe tbody tr th {\n",
       "        vertical-align: top;\n",
       "    }\n",
       "\n",
       "    .dataframe thead th {\n",
       "        text-align: right;\n",
       "    }\n",
       "</style>\n",
       "<table border=\"1\" class=\"dataframe\">\n",
       "  <thead>\n",
       "    <tr style=\"text-align: right;\">\n",
       "      <th></th>\n",
       "      <th>date</th>\n",
       "      <th>pkgid</th>\n",
       "      <th>action</th>\n",
       "      <th>n_update</th>\n",
       "      <th>n_create</th>\n",
       "      <th>n_delete</th>\n",
       "      <th>n_tot</th>\n",
       "      <th>studyid</th>\n",
       "    </tr>\n",
       "  </thead>\n",
       "  <tbody>\n",
       "    <tr>\n",
       "      <th>0</th>\n",
       "      <td>2015-04-17T14:42:05.936</td>\n",
       "      <td>2100011003</td>\n",
       "      <td>createDataPackage</td>\n",
       "      <td>0</td>\n",
       "      <td>1</td>\n",
       "      <td>0</td>\n",
       "      <td>1</td>\n",
       "      <td>011</td>\n",
       "    </tr>\n",
       "    <tr>\n",
       "      <th>1</th>\n",
       "      <td>2015-04-17T15:43:26.172</td>\n",
       "      <td>210120002</td>\n",
       "      <td>createDataPackage</td>\n",
       "      <td>0</td>\n",
       "      <td>1</td>\n",
       "      <td>0</td>\n",
       "      <td>1</td>\n",
       "      <td>120</td>\n",
       "    </tr>\n",
       "    <tr>\n",
       "      <th>2</th>\n",
       "      <td>2015-04-17T15:43:26.771</td>\n",
       "      <td>2100392001</td>\n",
       "      <td>createDataPackage</td>\n",
       "      <td>0</td>\n",
       "      <td>1</td>\n",
       "      <td>0</td>\n",
       "      <td>1</td>\n",
       "      <td>392</td>\n",
       "    </tr>\n",
       "    <tr>\n",
       "      <th>3</th>\n",
       "      <td>2015-04-17T15:43:41.508</td>\n",
       "      <td>2100169002</td>\n",
       "      <td>createDataPackage</td>\n",
       "      <td>0</td>\n",
       "      <td>1</td>\n",
       "      <td>0</td>\n",
       "      <td>1</td>\n",
       "      <td>169</td>\n",
       "    </tr>\n",
       "    <tr>\n",
       "      <th>4</th>\n",
       "      <td>2015-04-17T15:43:45.55</td>\n",
       "      <td>2100010001</td>\n",
       "      <td>createDataPackage</td>\n",
       "      <td>0</td>\n",
       "      <td>1</td>\n",
       "      <td>0</td>\n",
       "      <td>1</td>\n",
       "      <td>010</td>\n",
       "    </tr>\n",
       "  </tbody>\n",
       "</table>\n",
       "</div>"
      ],
      "text/plain": [
       "                      date       pkgid             action  n_update  n_create  \\\n",
       "0  2015-04-17T14:42:05.936  2100011003  createDataPackage         0         1   \n",
       "1  2015-04-17T15:43:26.172   210120002  createDataPackage         0         1   \n",
       "2  2015-04-17T15:43:26.771  2100392001  createDataPackage         0         1   \n",
       "3  2015-04-17T15:43:41.508  2100169002  createDataPackage         0         1   \n",
       "4   2015-04-17T15:43:45.55  2100010001  createDataPackage         0         1   \n",
       "\n",
       "   n_delete  n_tot studyid  \n",
       "0         0      1     011  \n",
       "1         0      1     120  \n",
       "2         0      1     392  \n",
       "3         0      1     169  \n",
       "4         0      1     010  "
      ]
     },
     "execution_count": 6,
     "metadata": {},
     "output_type": "execute_result"
    }
   ],
   "source": [
    "# Add method count columns\n",
    "df = dia.get_counts(df)\n",
    "df.head()"
   ]
  },
  {
   "cell_type": "code",
   "execution_count": 7,
   "metadata": {},
   "outputs": [
    {
     "name": "stdout",
     "output_type": "stream",
     "text": [
      "223    2100001002\n",
      "224    2100002001\n",
      "225    2100007001\n",
      "227    2100010001\n",
      "228    2100011001\n",
      "229    2100011003\n",
      "230    2100011004\n",
      "232    2100011005\n",
      "233    2100086001\n",
      "234    2100086002\n",
      "235    2100086003\n",
      "236    2100086004\n",
      "237    2100086005\n",
      "238    2100086006\n",
      "239    2100086007\n",
      "240    2100086008\n",
      "241    2100086009\n",
      "242    2100119001\n",
      "243    2100121004\n",
      "244    2100121005\n",
      "245    2100126001\n",
      "246    2100126003\n",
      "247    2100127001\n",
      "249    2100169001\n",
      "250    2100169002\n",
      "251    2100278001\n",
      "252    2100278002\n",
      "254    2100287001\n",
      "255    2100288001\n",
      "257    2100351001\n",
      "260    2100365001\n",
      "261    2100379001\n",
      "262    2100379002\n",
      "263    2100379003\n",
      "264    2100380001\n",
      "265    2100392001\n",
      "266    2100409001\n",
      "267    2100409002\n",
      "276     210038001\n",
      "277     210338007\n",
      "278     210338008\n",
      "281     210169001\n",
      "283     210169002\n",
      "12       21038001\n",
      "456     210860002\n",
      "Name: pkgid, dtype: int64\n"
     ]
    }
   ],
   "source": [
    "# Count deleted packages\n",
    "deleted_pkgs = df.loc[df.action=='deleteDataPackage','pkgid']\n",
    "print(deleted_pkgs)"
   ]
  },
  {
   "cell_type": "markdown",
   "metadata": {},
   "source": [
    "## Create daily data file"
   ]
  },
  {
   "cell_type": "code",
   "execution_count": 8,
   "metadata": {},
   "outputs": [
    {
     "data": {
      "text/html": [
       "<div>\n",
       "<style scoped>\n",
       "    .dataframe tbody tr th:only-of-type {\n",
       "        vertical-align: middle;\n",
       "    }\n",
       "\n",
       "    .dataframe tbody tr th {\n",
       "        vertical-align: top;\n",
       "    }\n",
       "\n",
       "    .dataframe thead th {\n",
       "        text-align: right;\n",
       "    }\n",
       "</style>\n",
       "<table border=\"1\" class=\"dataframe\">\n",
       "  <thead>\n",
       "    <tr style=\"text-align: right;\">\n",
       "      <th></th>\n",
       "      <th>n_update</th>\n",
       "      <th>n_create</th>\n",
       "      <th>n_tot</th>\n",
       "    </tr>\n",
       "    <tr>\n",
       "      <th>date</th>\n",
       "      <th></th>\n",
       "      <th></th>\n",
       "      <th></th>\n",
       "    </tr>\n",
       "  </thead>\n",
       "  <tbody>\n",
       "    <tr>\n",
       "      <th>2015-04-17</th>\n",
       "      <td>0</td>\n",
       "      <td>20</td>\n",
       "      <td>20</td>\n",
       "    </tr>\n",
       "    <tr>\n",
       "      <th>2015-04-18</th>\n",
       "      <td>0</td>\n",
       "      <td>1</td>\n",
       "      <td>1</td>\n",
       "    </tr>\n",
       "    <tr>\n",
       "      <th>2015-04-19</th>\n",
       "      <td>0</td>\n",
       "      <td>0</td>\n",
       "      <td>0</td>\n",
       "    </tr>\n",
       "    <tr>\n",
       "      <th>2015-04-20</th>\n",
       "      <td>0</td>\n",
       "      <td>11</td>\n",
       "      <td>11</td>\n",
       "    </tr>\n",
       "    <tr>\n",
       "      <th>2015-04-21</th>\n",
       "      <td>0</td>\n",
       "      <td>2</td>\n",
       "      <td>2</td>\n",
       "    </tr>\n",
       "  </tbody>\n",
       "</table>\n",
       "</div>"
      ],
      "text/plain": [
       "            n_update  n_create  n_tot\n",
       "date                                 \n",
       "2015-04-17         0        20     20\n",
       "2015-04-18         0         1      1\n",
       "2015-04-19         0         0      0\n",
       "2015-04-20         0        11     11\n",
       "2015-04-21         0         2      2"
      ]
     },
     "execution_count": 8,
     "metadata": {},
     "output_type": "execute_result"
    }
   ],
   "source": [
    "# Sum to daily methods\n",
    "daily = dia.counts_to_daily(df)\n",
    "daily.head()"
   ]
  },
  {
   "cell_type": "markdown",
   "metadata": {},
   "source": [
    "## Plot activity since 2013\n"
   ]
  },
  {
   "cell_type": "code",
   "execution_count": 9,
   "metadata": {},
   "outputs": [],
   "source": [
    "import matplotlib\n",
    "import matplotlib.pyplot as plt\n",
    "# Figure config\n",
    "font = {'family' : 'normal',\n",
    "        'weight' : 'normal',\n",
    "        'size'   : 14}\n",
    "\n",
    "matplotlib.rc('font', **font)"
   ]
  },
  {
   "cell_type": "code",
   "execution_count": 10,
   "metadata": {},
   "outputs": [],
   "source": [
    "# Get a datestamp for saving figures\n",
    "import datetime\n",
    "now = datetime.datetime.now().strftime(\"%Y%m%d\")"
   ]
  },
  {
   "cell_type": "code",
   "execution_count": 11,
   "metadata": {},
   "outputs": [
    {
     "name": "stderr",
     "output_type": "stream",
     "text": [
      "findfont: Font family ['normal'] not found. Falling back to DejaVu Sans.\n",
      "findfont: Font family ['normal'] not found. Falling back to DejaVu Sans.\n"
     ]
    },
    {
     "data": {
      "image/png": "[encoded data removed]",
      "text/plain": [
       "<Figure size 504x504 with 2 Axes>"
      ]
     },
     "metadata": {
      "needs_background": "light"
     },
     "output_type": "display_data"
    }
   ],
   "source": [
    "# All time plot:\n",
    "fig, ax = plt.subplots(nrows=2, ncols=1, figsize=(7, 7), sharex=True)\n",
    "\n",
    "ax[0].plot(daily.index, daily.n_update, label='Update pkg')\n",
    "ax[0].plot(daily.index, daily.n_create, label='Create pkg')\n",
    "ax[0].set_ylabel('JRN events')\n",
    "\n",
    "ax[1].plot(daily.index, daily.n_update.cumsum(), label='Update pkg')\n",
    "ax[1].plot(daily.index, daily.n_create.cumsum(), label='Create pkg')\n",
    "ax[1].plot(daily.index, daily.n_tot.cumsum(), label='Total')\n",
    "\n",
    "plt.ylabel('JRN Cumulative')\n",
    "fig.autofmt_xdate()\n",
    "plt.suptitle('JRN activity on EDI (all time)')\n",
    "plt.legend()\n",
    "\n",
    "import os\n",
    "fig.savefig(os.path.expanduser(\"~/data/GD_gmaurer@nmsu/IM/figures/JRN_EDI_all_{0}.png\".format(now)),\n",
    "            dpi=150)"
   ]
  },
  {
   "cell_type": "markdown",
   "metadata": {},
   "source": [
    "### Total number of packages"
   ]
  },
  {
   "cell_type": "code",
   "execution_count": 12,
   "metadata": {},
   "outputs": [
    {
     "data": {
      "text/plain": [
       "351"
      ]
     },
     "execution_count": 12,
     "metadata": {},
     "output_type": "execute_result"
    }
   ],
   "source": [
    "daily.n_tot.sum()"
   ]
  },
  {
   "cell_type": "markdown",
   "metadata": {},
   "source": [
    "### Total number of non-met packages\n",
    "\n",
    "NPP met = 437, CSIS met = 548"
   ]
  },
  {
   "cell_type": "code",
   "execution_count": 13,
   "metadata": {},
   "outputs": [
    {
     "data": {
      "text/plain": [
       "128"
      ]
     },
     "execution_count": 13,
     "metadata": {},
     "output_type": "execute_result"
    }
   ],
   "source": [
    "df.index = pd.to_datetime(df.date)\n",
    "nomet = np.logical_and(df.studyid!='437', df.studyid!='548')\n",
    "df.loc[nomet,['n_update', 'n_create', 'n_tot']].resample('D').sum().n_tot.sum()\n"
   ]
  },
  {
   "cell_type": "markdown",
   "metadata": {},
   "source": [
    "### All changes excluding met"
   ]
  },
  {
   "cell_type": "code",
   "execution_count": 20,
   "metadata": {},
   "outputs": [
    {
     "name": "stdout",
     "output_type": "stream",
     "text": [
      "            n_update  n_create  n_tot\n",
      "date                                 \n",
      "2015-04-17         0        20     20\n",
      "2015-04-18         0         1      1\n",
      "2015-04-19         0         0      0\n",
      "2015-04-20         0        11     11\n",
      "2015-04-21         0         2      2\n"
     ]
    },
    {
     "data": {
      "text/html": [
       "<div>\n",
       "<style scoped>\n",
       "    .dataframe tbody tr th:only-of-type {\n",
       "        vertical-align: middle;\n",
       "    }\n",
       "\n",
       "    .dataframe tbody tr th {\n",
       "        vertical-align: top;\n",
       "    }\n",
       "\n",
       "    .dataframe thead th {\n",
       "        text-align: right;\n",
       "    }\n",
       "</style>\n",
       "<table border=\"1\" class=\"dataframe\">\n",
       "  <thead>\n",
       "    <tr style=\"text-align: right;\">\n",
       "      <th></th>\n",
       "      <th>n_update</th>\n",
       "      <th>n_create</th>\n",
       "      <th>n_tot</th>\n",
       "    </tr>\n",
       "    <tr>\n",
       "      <th>date</th>\n",
       "      <th></th>\n",
       "      <th></th>\n",
       "      <th></th>\n",
       "    </tr>\n",
       "  </thead>\n",
       "  <tbody>\n",
       "    <tr>\n",
       "      <th>2022-03-18</th>\n",
       "      <td>0</td>\n",
       "      <td>0</td>\n",
       "      <td>0</td>\n",
       "    </tr>\n",
       "    <tr>\n",
       "      <th>2022-03-19</th>\n",
       "      <td>0</td>\n",
       "      <td>0</td>\n",
       "      <td>0</td>\n",
       "    </tr>\n",
       "    <tr>\n",
       "      <th>2022-03-20</th>\n",
       "      <td>2</td>\n",
       "      <td>2</td>\n",
       "      <td>2</td>\n",
       "    </tr>\n",
       "    <tr>\n",
       "      <th>2022-03-21</th>\n",
       "      <td>0</td>\n",
       "      <td>0</td>\n",
       "      <td>0</td>\n",
       "    </tr>\n",
       "    <tr>\n",
       "      <th>2022-03-22</th>\n",
       "      <td>1</td>\n",
       "      <td>0</td>\n",
       "      <td>0</td>\n",
       "    </tr>\n",
       "  </tbody>\n",
       "</table>\n",
       "</div>"
      ],
      "text/plain": [
       "            n_update  n_create  n_tot\n",
       "date                                 \n",
       "2022-03-18         0         0      0\n",
       "2022-03-19         0         0      0\n",
       "2022-03-20         2         2      2\n",
       "2022-03-21         0         0      0\n",
       "2022-03-22         1         0      0"
      ]
     },
     "execution_count": 24,
     "metadata": {},
     "output_type": "execute_result"
    }
   ],
   "source": [
    "daily_nomet = dia.counts_to_daily(df.loc[nomet,:])\n",
    "daily_nomet.head()\n",
    "daily_noment.tail()"
   ]
  },
  {
   "cell_type": "code",
   "execution_count": 15,
   "metadata": {},
   "outputs": [
    {
     "data": {
      "text/plain": [
       "<matplotlib.legend.Legend at 0x7f9686dbfca0>"
      ]
     },
     "execution_count": 15,
     "metadata": {},
     "output_type": "execute_result"
    },
    {
     "data": {
      "image/png": "[encoded data removed]",
      "text/plain": [
       "<Figure size 504x504 with 2 Axes>"
      ]
     },
     "metadata": {
      "needs_background": "light"
     },
     "output_type": "display_data"
    }
   ],
   "source": [
    "# Recent plot:\n",
    "fig, ax = plt.subplots(nrows=2, ncols=1, figsize=(7, 7), sharex=True)\n",
    "\n",
    "ax[0].plot(daily_nomet.index, daily_nomet.n_update, label='Update pkg')\n",
    "ax[0].plot(daily_nomet.index, daily_nomet.n_create, label='Create pkg')\n",
    "ax[0].set_ylabel('JRN events')\n",
    "\n",
    "ax[1].plot(daily_nomet.index, daily_nomet.n_update.cumsum(), label='Update pkg')\n",
    "ax[1].plot(daily_nomet.index, daily_nomet.n_create.cumsum(), label='Create pkg')\n",
    "ax[1].plot(daily_nomet.index, daily_nomet.n_tot.cumsum(), label='$\\Delta$ Total')\n",
    "ax[1].hlines(y=100, xmin=daily_nomet.index.min(), xmax=daily_nomet.index.max(), ls=':', lw=1)\n",
    "\n",
    "plt.ylabel('JRN Cumulative')\n",
    "fig.autofmt_xdate()\n",
    "plt.suptitle('JRN activity on EDI (all time, excl. met)')\n",
    "plt.legend()"
   ]
  },
  {
   "cell_type": "markdown",
   "metadata": {},
   "source": [
    "## Plot activity since Sept2018 (excluding Met)"
   ]
  },
  {
   "cell_type": "code",
   "execution_count": 27,
   "metadata": {},
   "outputs": [
    {
     "data": {
      "text/html": [
       "<div>\n",
       "<style scoped>\n",
       "    .dataframe tbody tr th:only-of-type {\n",
       "        vertical-align: middle;\n",
       "    }\n",
       "\n",
       "    .dataframe tbody tr th {\n",
       "        vertical-align: top;\n",
       "    }\n",
       "\n",
       "    .dataframe thead th {\n",
       "        text-align: right;\n",
       "    }\n",
       "</style>\n",
       "<table border=\"1\" class=\"dataframe\">\n",
       "  <thead>\n",
       "    <tr style=\"text-align: right;\">\n",
       "      <th></th>\n",
       "      <th>n_update</th>\n",
       "      <th>n_create</th>\n",
       "      <th>n_tot</th>\n",
       "    </tr>\n",
       "    <tr>\n",
       "      <th>date</th>\n",
       "      <th></th>\n",
       "      <th></th>\n",
       "      <th></th>\n",
       "    </tr>\n",
       "  </thead>\n",
       "  <tbody>\n",
       "    <tr>\n",
       "      <th>2018-10-10</th>\n",
       "      <td>0</td>\n",
       "      <td>1</td>\n",
       "      <td>1</td>\n",
       "    </tr>\n",
       "    <tr>\n",
       "      <th>2018-10-11</th>\n",
       "      <td>0</td>\n",
       "      <td>1</td>\n",
       "      <td>1</td>\n",
       "    </tr>\n",
       "    <tr>\n",
       "      <th>2018-10-12</th>\n",
       "      <td>0</td>\n",
       "      <td>4</td>\n",
       "      <td>4</td>\n",
       "    </tr>\n",
       "    <tr>\n",
       "      <th>2018-10-13</th>\n",
       "      <td>0</td>\n",
       "      <td>0</td>\n",
       "      <td>0</td>\n",
       "    </tr>\n",
       "    <tr>\n",
       "      <th>2018-10-14</th>\n",
       "      <td>0</td>\n",
       "      <td>0</td>\n",
       "      <td>0</td>\n",
       "    </tr>\n",
       "  </tbody>\n",
       "</table>\n",
       "</div>"
      ],
      "text/plain": [
       "            n_update  n_create  n_tot\n",
       "date                                 \n",
       "2018-10-10         0         1      1\n",
       "2018-10-11         0         1      1\n",
       "2018-10-12         0         4      4\n",
       "2018-10-13         0         0      0\n",
       "2018-10-14         0         0      0"
      ]
     },
     "execution_count": 27,
     "metadata": {},
     "output_type": "execute_result"
    }
   ],
   "source": [
    "# This is after the LTER probabtion shock and after some big \n",
    "# delete operations on EDI\n",
    "startdt = \"2018-09-05\"\n",
    "daily_r_nomet = dia.counts_to_daily(df.loc[np.logical_and(nomet, df.index > startdt),:])\n",
    "daily_r_nomet.head()"
   ]
  },
  {
   "cell_type": "code",
   "execution_count": 28,
   "metadata": {},
   "outputs": [
    {
     "data": {
      "image/png": "[encoded data removed]",
      "text/plain": [
       "<Figure size 504x504 with 2 Axes>"
      ]
     },
     "metadata": {
      "needs_background": "light"
     },
     "output_type": "display_data"
    }
   ],
   "source": [
    "# Recent plot:\n",
    "fig, ax = plt.subplots(nrows=2, ncols=1, figsize=(7, 7), sharex=True)\n",
    "\n",
    "ax[0].plot(daily_r_nomet.index, daily_r_nomet.n_update, label='Update pkg')\n",
    "ax[0].plot(daily_r_nomet.index, daily_r_nomet.n_create, label='Create pkg')\n",
    "ax[0].set_ylabel('JRN events')\n",
    "\n",
    "ax[1].plot(daily_r_nomet.index, daily_r_nomet.n_update.cumsum(), label='Update pkg')\n",
    "ax[1].plot(daily_r_nomet.index, daily_r_nomet.n_create.cumsum(), label='Create pkg')\n",
    "ax[1].plot(daily_r_nomet.index, daily_r_nomet.n_tot.cumsum(), label='$\\Delta$ Total')\n",
    "#ax[1].axhline(y=63, xmin=0, xmax=1, ls=':', lw=1.5, color='k',\n",
    "#             label='Proposal goal')\n",
    "\n",
    "plt.ylabel('JRN Cumulative')\n",
    "fig.autofmt_xdate()\n",
    "plt.suptitle('JRN activity on EDI (recent, excl. met)')\n",
    "plt.legend()\n",
    "\n",
    "fig.savefig(os.path.expanduser(\n",
    "    \"~/data/GD_gmaurer@nmsu/IM/figures/JRN_EDI_recNoMet_{0}.png\".format(now)),\n",
    "            dpi=150)"
   ]
  },
  {
   "cell_type": "markdown",
   "metadata": {},
   "source": [
    "## Summary since Sept 2018 (after LTER7 probation)"
   ]
  },
  {
   "cell_type": "code",
   "execution_count": 19,
   "metadata": {},
   "outputs": [
    {
     "data": {
      "text/html": [
       "<div>\n",
       "<style scoped>\n",
       "    .dataframe tbody tr th:only-of-type {\n",
       "        vertical-align: middle;\n",
       "    }\n",
       "\n",
       "    .dataframe tbody tr th {\n",
       "        vertical-align: top;\n",
       "    }\n",
       "\n",
       "    .dataframe thead th {\n",
       "        text-align: right;\n",
       "    }\n",
       "</style>\n",
       "<table border=\"1\" class=\"dataframe\">\n",
       "  <thead>\n",
       "    <tr style=\"text-align: right;\">\n",
       "      <th></th>\n",
       "      <th>n_update</th>\n",
       "      <th>n_create</th>\n",
       "      <th>n_tot</th>\n",
       "    </tr>\n",
       "    <tr>\n",
       "      <th>date</th>\n",
       "      <th></th>\n",
       "      <th></th>\n",
       "      <th></th>\n",
       "    </tr>\n",
       "  </thead>\n",
       "  <tbody>\n",
       "    <tr>\n",
       "      <th>2019-04-30</th>\n",
       "      <td>4</td>\n",
       "      <td>4</td>\n",
       "      <td>4</td>\n",
       "    </tr>\n",
       "    <tr>\n",
       "      <th>2019-05-31</th>\n",
       "      <td>0</td>\n",
       "      <td>0</td>\n",
       "      <td>0</td>\n",
       "    </tr>\n",
       "    <tr>\n",
       "      <th>2019-06-30</th>\n",
       "      <td>4</td>\n",
       "      <td>1</td>\n",
       "      <td>0</td>\n",
       "    </tr>\n",
       "    <tr>\n",
       "      <th>2019-07-31</th>\n",
       "      <td>3</td>\n",
       "      <td>0</td>\n",
       "      <td>0</td>\n",
       "    </tr>\n",
       "    <tr>\n",
       "      <th>2019-08-31</th>\n",
       "      <td>8</td>\n",
       "      <td>0</td>\n",
       "      <td>0</td>\n",
       "    </tr>\n",
       "    <tr>\n",
       "      <th>2019-09-30</th>\n",
       "      <td>15</td>\n",
       "      <td>1</td>\n",
       "      <td>0</td>\n",
       "    </tr>\n",
       "    <tr>\n",
       "      <th>2019-10-31</th>\n",
       "      <td>13</td>\n",
       "      <td>1</td>\n",
       "      <td>1</td>\n",
       "    </tr>\n",
       "    <tr>\n",
       "      <th>2019-11-30</th>\n",
       "      <td>3</td>\n",
       "      <td>1</td>\n",
       "      <td>1</td>\n",
       "    </tr>\n",
       "    <tr>\n",
       "      <th>2019-12-31</th>\n",
       "      <td>9</td>\n",
       "      <td>0</td>\n",
       "      <td>0</td>\n",
       "    </tr>\n",
       "    <tr>\n",
       "      <th>2020-01-31</th>\n",
       "      <td>13</td>\n",
       "      <td>0</td>\n",
       "      <td>0</td>\n",
       "    </tr>\n",
       "    <tr>\n",
       "      <th>2020-02-29</th>\n",
       "      <td>21</td>\n",
       "      <td>0</td>\n",
       "      <td>0</td>\n",
       "    </tr>\n",
       "    <tr>\n",
       "      <th>2020-03-31</th>\n",
       "      <td>0</td>\n",
       "      <td>0</td>\n",
       "      <td>0</td>\n",
       "    </tr>\n",
       "    <tr>\n",
       "      <th>2020-04-30</th>\n",
       "      <td>14</td>\n",
       "      <td>0</td>\n",
       "      <td>0</td>\n",
       "    </tr>\n",
       "    <tr>\n",
       "      <th>2020-05-31</th>\n",
       "      <td>2</td>\n",
       "      <td>2</td>\n",
       "      <td>2</td>\n",
       "    </tr>\n",
       "    <tr>\n",
       "      <th>2020-06-30</th>\n",
       "      <td>3</td>\n",
       "      <td>0</td>\n",
       "      <td>0</td>\n",
       "    </tr>\n",
       "    <tr>\n",
       "      <th>2020-07-31</th>\n",
       "      <td>0</td>\n",
       "      <td>0</td>\n",
       "      <td>0</td>\n",
       "    </tr>\n",
       "    <tr>\n",
       "      <th>2020-08-31</th>\n",
       "      <td>1</td>\n",
       "      <td>0</td>\n",
       "      <td>0</td>\n",
       "    </tr>\n",
       "    <tr>\n",
       "      <th>2020-09-30</th>\n",
       "      <td>2</td>\n",
       "      <td>2</td>\n",
       "      <td>2</td>\n",
       "    </tr>\n",
       "    <tr>\n",
       "      <th>2020-10-31</th>\n",
       "      <td>2</td>\n",
       "      <td>3</td>\n",
       "      <td>3</td>\n",
       "    </tr>\n",
       "    <tr>\n",
       "      <th>2020-11-30</th>\n",
       "      <td>3</td>\n",
       "      <td>2</td>\n",
       "      <td>2</td>\n",
       "    </tr>\n",
       "    <tr>\n",
       "      <th>2020-12-31</th>\n",
       "      <td>1</td>\n",
       "      <td>1</td>\n",
       "      <td>1</td>\n",
       "    </tr>\n",
       "    <tr>\n",
       "      <th>2021-01-31</th>\n",
       "      <td>0</td>\n",
       "      <td>1</td>\n",
       "      <td>1</td>\n",
       "    </tr>\n",
       "    <tr>\n",
       "      <th>2021-02-28</th>\n",
       "      <td>2</td>\n",
       "      <td>1</td>\n",
       "      <td>1</td>\n",
       "    </tr>\n",
       "    <tr>\n",
       "      <th>2021-03-31</th>\n",
       "      <td>0</td>\n",
       "      <td>0</td>\n",
       "      <td>0</td>\n",
       "    </tr>\n",
       "    <tr>\n",
       "      <th>2021-04-30</th>\n",
       "      <td>0</td>\n",
       "      <td>0</td>\n",
       "      <td>0</td>\n",
       "    </tr>\n",
       "    <tr>\n",
       "      <th>2021-05-31</th>\n",
       "      <td>0</td>\n",
       "      <td>1</td>\n",
       "      <td>1</td>\n",
       "    </tr>\n",
       "    <tr>\n",
       "      <th>2021-06-30</th>\n",
       "      <td>0</td>\n",
       "      <td>0</td>\n",
       "      <td>0</td>\n",
       "    </tr>\n",
       "    <tr>\n",
       "      <th>2021-07-31</th>\n",
       "      <td>0</td>\n",
       "      <td>1</td>\n",
       "      <td>1</td>\n",
       "    </tr>\n",
       "    <tr>\n",
       "      <th>2021-08-31</th>\n",
       "      <td>0</td>\n",
       "      <td>2</td>\n",
       "      <td>2</td>\n",
       "    </tr>\n",
       "    <tr>\n",
       "      <th>2021-09-30</th>\n",
       "      <td>0</td>\n",
       "      <td>0</td>\n",
       "      <td>0</td>\n",
       "    </tr>\n",
       "    <tr>\n",
       "      <th>2021-10-31</th>\n",
       "      <td>2</td>\n",
       "      <td>2</td>\n",
       "      <td>2</td>\n",
       "    </tr>\n",
       "    <tr>\n",
       "      <th>2021-11-30</th>\n",
       "      <td>2</td>\n",
       "      <td>2</td>\n",
       "      <td>2</td>\n",
       "    </tr>\n",
       "    <tr>\n",
       "      <th>2021-12-31</th>\n",
       "      <td>16</td>\n",
       "      <td>0</td>\n",
       "      <td>0</td>\n",
       "    </tr>\n",
       "    <tr>\n",
       "      <th>2022-01-31</th>\n",
       "      <td>2</td>\n",
       "      <td>0</td>\n",
       "      <td>0</td>\n",
       "    </tr>\n",
       "    <tr>\n",
       "      <th>2022-02-28</th>\n",
       "      <td>5</td>\n",
       "      <td>0</td>\n",
       "      <td>0</td>\n",
       "    </tr>\n",
       "    <tr>\n",
       "      <th>2022-03-31</th>\n",
       "      <td>7</td>\n",
       "      <td>3</td>\n",
       "      <td>3</td>\n",
       "    </tr>\n",
       "  </tbody>\n",
       "</table>\n",
       "</div>"
      ],
      "text/plain": [
       "            n_update  n_create  n_tot\n",
       "date                                 \n",
       "2019-04-30         4         4      4\n",
       "2019-05-31         0         0      0\n",
       "2019-06-30         4         1      0\n",
       "2019-07-31         3         0      0\n",
       "2019-08-31         8         0      0\n",
       "2019-09-30        15         1      0\n",
       "2019-10-31        13         1      1\n",
       "2019-11-30         3         1      1\n",
       "2019-12-31         9         0      0\n",
       "2020-01-31        13         0      0\n",
       "2020-02-29        21         0      0\n",
       "2020-03-31         0         0      0\n",
       "2020-04-30        14         0      0\n",
       "2020-05-31         2         2      2\n",
       "2020-06-30         3         0      0\n",
       "2020-07-31         0         0      0\n",
       "2020-08-31         1         0      0\n",
       "2020-09-30         2         2      2\n",
       "2020-10-31         2         3      3\n",
       "2020-11-30         3         2      2\n",
       "2020-12-31         1         1      1\n",
       "2021-01-31         0         1      1\n",
       "2021-02-28         2         1      1\n",
       "2021-03-31         0         0      0\n",
       "2021-04-30         0         0      0\n",
       "2021-05-31         0         1      1\n",
       "2021-06-30         0         0      0\n",
       "2021-07-31         0         1      1\n",
       "2021-08-31         0         2      2\n",
       "2021-09-30         0         0      0\n",
       "2021-10-31         2         2      2\n",
       "2021-11-30         2         2      2\n",
       "2021-12-31        16         0      0\n",
       "2022-01-31         2         0      0\n",
       "2022-02-28         5         0      0\n",
       "2022-03-31         7         3      3"
      ]
     },
     "execution_count": 19,
     "metadata": {},
     "output_type": "execute_result"
    }
   ],
   "source": [
    "# Monthly progress\n",
    "monthly_r_nomet = daily_r_nomet.resample('M').sum()\n",
    "monthly_r_nomet"
   ]
  },
  {
   "cell_type": "code",
   "execution_count": null,
   "metadata": {},
   "outputs": [
    {
     "data": {
      "text/plain": [
       "array([210351003, 210328003, 210328001, 210120001, 210127001, 210380001,\n",
       "       210288001, 210351001, 210351002, 210461001, 210086003, 210086008,\n",
       "       210002001, 210086009, 210086005, 210086004, 210086007, 210308004,\n",
       "       210228001, 210120002, 210013001, 210086002, 210086001, 210121005,\n",
       "       210121008, 210407001, 210086006, 210119001, 210011005, 210001002,\n",
       "       210011002, 210011003, 210011004, 210013002, 210013003, 210412001,\n",
       "       210012001, 210012002, 210010001, 210122001, 210328002, 210308001,\n",
       "       210308002, 210308003, 210308005, 210126003, 210262001, 210262004,\n",
       "       210262005, 210128001, 210128002, 210262008, 210392001, 210379001,\n",
       "       210379002, 210379003, 210287001, 210278002, 210278001, 210338006,\n",
       "       210338004, 210338002, 210425001, 210262010, 210365001, 210385001,\n",
       "       210385004, 210385005, 210385006, 210385008, 210385002, 210385003,\n",
       "       210385007,       100, 210001001, 210394009, 210395001, 210409002,\n",
       "       210008001, 210007001, 210008002, 210015001, 210351004, 210126001,\n",
       "       200021001, 210015002, 210015003, 210121001, 210368001, 210368002,\n",
       "       210368003, 210368004, 210121006, 210370001, 210370002, 210301001,\n",
       "       210301002, 210409001, 210389001, 210389002, 200045001, 210408005,\n",
       "       210398001, 210398002])"
      ]
     },
     "execution_count": 22,
     "metadata": {},
     "output_type": "execute_result"
    }
   ],
   "source": [
    "# Unique packages updated (excluding met)\n",
    "recent = df.loc[df.index > startdt,]\n",
    "recent_nomet = np.logical_and(recent.studyid!='437', recent.studyid!='548')\n",
    "uniqueUp = recent.loc[np.logical_and(recent_nomet, recent.action=='updateDataPackage'),].pkgid.unique()\n",
    "#rEDI.loc[rEDI.action=='updateDataPackage',].pkgid.unique()\n",
    "uniqueUp"
   ]
  },
  {
   "cell_type": "code",
   "execution_count": null,
   "metadata": {},
   "outputs": [
    {
     "name": "stdout",
     "output_type": "stream",
     "text": [
      "[210380001 210351004 210126001 200021001 210015002 210015003 210015001\n",
      " 210121001 210368001 210368002 210368003 210368004 210121006 210370001\n",
      " 210370002 210301001 210301002 210409001 210389001 210389002 210011004\n",
      " 210011002 200045001 210408005 210398001 210398002]\n",
      "[210351003 210328003 210328001 210120001 210127001 210380001 210288001\n",
      " 210351001 210351002 210461001 210086003 210086008 210002001 210086009\n",
      " 210086005 210086004 210086007 210308004 210228001 210120002 210013001\n",
      " 210086002 210086001 210121005 210121008 210407001 210086006 210119001\n",
      " 210011005 210001002 210011002 210011003 210011004 210013002 210013003\n",
      " 210412001 210012001 210012002 210010001 210122001 210328002 210308001\n",
      " 210308002 210308003 210308005 210126003 210262001 210262004 210262005\n",
      " 210128001 210128002 210262008 210392001 210379001 210379002 210379003\n",
      " 210287001 210278002 210278001 210338006 210338004 210338002 210425001\n",
      " 210262010 210365001 210548016 210548031 210548076 210548046 210548025\n",
      " 210548061 210548001 210548040 210548085 210548055 210548099 210548026\n",
      " 210548070 210548010 210548041 210548086 210548056 210548100 210548027\n",
      " 210548071 210548011 210548042 210548087 210548057 210548028 210548072\n",
      " 210548012 210548043 210548088 210548058 210548101 210548029 210548073\n",
      " 210548013 210548044 210548089 210548059 210548102 210548030 210548074\n",
      " 210548014 210548045 210548090 210548060 210548103 210548017 210548015\n",
      " 210548075 210548032 210548077 210548047 210548091 210548018 210548062\n",
      " 210548002 210548033 210548078 210548048 210548092 210548019 210548063\n",
      " 210548003 210548034 210548079 210548049 210548093 210548004 210548020\n",
      " 210548064 210548035 210548080 210548050 210548094 210548021 210548005\n",
      " 210548065 210548036 210548081 210548051 210548095 210548022 210548066\n",
      " 210548006 210548037 210548082 210548052 210548096 210548023 210548067\n",
      " 210548007 210548038 210548083 210548053 210548097 210548024 210548068\n",
      " 210548008 210548039 210548084 210548054 210548098 210548069 210548009\n",
      " 210385001 210385004 210385005 210385006 210385008 210385002 210385003\n",
      " 210385007       100 210001001 210394009 210395001 210409002 210008001\n",
      " 210007001 210008002 210015001]\n"
     ]
    }
   ],
   "source": [
    "# Unique updates since last meeting\n",
    "last_meeting = '2021-01-01'\n",
    "\n",
    "vrecent = df.loc[df.index >= last_meeting]\n",
    "vrecent_nomet = np.logical_and(vrecent.studyid!='437', vrecent.studyid!='548')\n",
    "uR = vrecent.loc[np.logical_and(vrecent_nomet, vrecent.action=='updateDataPackage'),].pkgid.unique()\n",
    "# Unique updates before last meeting (to startdt)\n",
    "oEDI = df.loc[np.logical_and(df.index > startdt, df.index < last_meeting),]\n",
    "uO = oEDI.loc[np.logical_and(oEDI.studyid!='437', oEDI.action=='updateDataPackage'),].pkgid.unique()\n",
    "print(uR)\n",
    "print(uO)"
   ]
  },
  {
   "cell_type": "code",
   "execution_count": 29,
   "metadata": {},
   "outputs": [
    {
     "data": {
      "text/plain": [
       "array([210351004, 210126001, 200021001, 210015002, 210015003, 210121001,\n",
       "       210368001, 210368002, 210368003, 210368004, 210121006, 210370001,\n",
       "       210370002, 210301001, 210301002, 210409001])"
      ]
     },
     "execution_count": 29,
     "metadata": {},
     "output_type": "execute_result"
    }
   ],
   "source": [
    "uR[~np.in1d(uR, uO)]"
   ]
  },
  {
   "cell_type": "code",
   "execution_count": 26,
   "metadata": {},
   "outputs": [
    {
     "data": {
      "text/plain": [
       "array([210038001, 210338007, 210338008, 210169001, 210169002,  21038001,\n",
       "       210860002])"
      ]
     },
     "execution_count": 26,
     "metadata": {},
     "output_type": "execute_result"
    }
   ],
   "source": [
    "# Unique packages deleted\n",
    "uniqueDel = recent.loc[np.logical_and(recent_nomet, recent.action=='deleteDataPackage'),].pkgid.unique()\n",
    "uniqueDel"
   ]
  },
  {
   "cell_type": "code",
   "execution_count": 27,
   "metadata": {},
   "outputs": [
    {
     "data": {
      "text/plain": [
       "array([210520001, 210327001, 210338005, 210338006, 210338007, 210338008,\n",
       "       210472001, 210380001, 210128001, 210128002, 210351003, 210328003,\n",
       "       210328001, 210328002,  21038001, 210860002, 210011001,       100,\n",
       "       210420001, 210420002, 210394008, 210386002, 210008002, 210386009,\n",
       "       210386008, 210386011, 210493001, 210313001, 210408005, 210351004,\n",
       "       210228002,       101, 210389001, 210389002, 200021001, 200022001,\n",
       "       210500001, 210469001])"
      ]
     },
     "execution_count": 27,
     "metadata": {},
     "output_type": "execute_result"
    }
   ],
   "source": [
    "# Unique packages created (See above)\n",
    "uniqueCreate = recent.loc[np.logical_and(recent_nomet, recent.action=='createDataPackage'),].pkgid.unique()\n",
    "uniqueCreate"
   ]
  }
 ],
 "metadata": {
  "kernelspec": {
   "display_name": "Python 3 (ipykernel)",
   "language": "python",
   "name": "python3"
  },
  "language_info": {
   "codemirror_mode": {
    "name": "ipython",
    "version": 3
   },
   "file_extension": ".py",
   "mimetype": "text/x-python",
   "name": "python",
   "nbconvert_exporter": "python",
   "pygments_lexer": "ipython3",
   "version": "3.9.11"
  }
 },
 "nbformat": 4,
 "nbformat_minor": 4
}
